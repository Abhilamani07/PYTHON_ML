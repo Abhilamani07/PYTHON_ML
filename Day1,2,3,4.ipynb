{
  "nbformat": 4,
  "nbformat_minor": 0,
  "metadata": {
    "colab": {
      "provenance": [],
      "collapsed_sections": [
        "GsmdYzc8GGm9",
        "n_zTaPfhH4ct",
        "znohTriqIgVt",
        "lHiZ8UGDJsk5",
        "LGGxylvAKHx-",
        "HCdldJwyKmdd",
        "JdN3Muy0NTt1",
        "QX0iLvjZOe6u",
        "Pk1GOcn7gMUU",
        "rW7RlNi_iIcF",
        "gVtn_Hrljytu",
        "mfclLms6mN9W",
        "ghCzCSScncbF",
        "lczq2i_kpXLe",
        "eNxzOshJsvRg",
        "A12t6WCPubmu",
        "RxhCZHO-2lap",
        "26wnQls7-_sv",
        "2FnTwlhb_aWI",
        "ynnKM_Ff_6w5",
        "nKVbeOgJA2t4",
        "y_mIsnbsCQPK",
        "cUE59fKQDPyg",
        "Bj7bFpu0E0m5",
        "699xnc9eFLJg",
        "ouZdGVv7D12l",
        "knyHEsjtE1yv",
        "GnJXXczFGCc-",
        "S-pbTgMzGWNN",
        "z4V8VwpzG4Cl",
        "R2KU8vApHr3V",
        "BSMLo1BbJbO9",
        "8X2xXrGXKONt",
        "RadANfkoKm0N",
        "TauN3KGqLbUO",
        "WRafzTdTNXXN",
        "PIZZfHnTQRNd",
        "e9oP91nnRG-3",
        "EDXFfrVbSkuV",
        "5pYHdq14UMZF",
        "oZy26EFDWs8t",
        "G3fGVcKaXQgu",
        "MTF4srOAYFxA",
        "JpOZKBw0Y-eX",
        "cdw9RvhOulF1",
        "YGPbwQuszXxu",
        "qWWc43TV1Btw",
        "udQUz1vX2Vgl",
        "uM6iL-3W4Pr2",
        "8HtCgoq47J6o",
        "f76EloV29Ek1",
        "H8f3Idga-znV",
        "NzFtFvaHBkw-",
        "s2RRRuOUDMKV",
        "gxQCU0MjDdos",
        "DcCSivldDmIm",
        "aR2CkSzCGve-",
        "_iyTxydrHPOt",
        "fpzeFBwxHoRf",
        "vh9PgoE6IRPE",
        "_jcjRDcXSRo7",
        "AKjpfiWmTJ9z",
        "Obe4abu2UTBT",
        "IaIQv5W9U--T",
        "dgXyx04HVjZd",
        "8PjCRmU-WFlr",
        "6Tz2vlHRWgr-",
        "r7RvsD9yXJ58"
      ]
    },
    "kernelspec": {
      "name": "python3",
      "display_name": "Python 3"
    },
    "language_info": {
      "name": "python"
    }
  },
  "cells": [
    {
      "cell_type": "code",
      "execution_count": null,
      "metadata": {
        "colab": {
          "base_uri": "https://localhost:8080/"
        },
        "id": "iAODXbkcxah4",
        "outputId": "39c4143c-359a-49ca-d27f-433ec68fcfb1"
      },
      "outputs": [
        {
          "output_type": "stream",
          "name": "stdout",
          "text": [
            "my name is : abhi my degree is: bca\n"
          ]
        }
      ],
      "source": [
        "\n",
        "name=\"abhi\"\n",
        "degree=\"bca\"\n",
        "print(\"my name is :\",name ,\"my degree is:\",degree)"
      ]
    },
    {
      "cell_type": "markdown",
      "source": [],
      "metadata": {
        "id": "MD0nJrVtSI3F"
      }
    },
    {
      "cell_type": "code",
      "source": [
        "print(f\"my name is {name} and my degree is {degree}\")"
      ],
      "metadata": {
        "colab": {
          "base_uri": "https://localhost:8080/"
        },
        "id": "8jpHyC4l-j_F",
        "outputId": "f836520d-f692-47c1-8158-e08f938630ca"
      },
      "execution_count": null,
      "outputs": [
        {
          "output_type": "stream",
          "name": "stdout",
          "text": [
            "my name is abhi and my degree is bca\n"
          ]
        }
      ]
    },
    {
      "cell_type": "markdown",
      "source": [
        "#Basic syntax rules:\n",
        "\n",
        "to print someting and declaring and assigning value to variable"
      ],
      "metadata": {
        "id": "GsmdYzc8GGm9"
      }
    },
    {
      "cell_type": "code",
      "source": [
        "print(\"hello everyone!\")\n",
        "x=5\n",
        "y=10.5"
      ],
      "metadata": {
        "colab": {
          "base_uri": "https://localhost:8080/"
        },
        "id": "5JFcPd1MGaz1",
        "outputId": "c702427d-120e-44a8-cc6f-d3ee246ae0a3"
      },
      "execution_count": null,
      "outputs": [
        {
          "output_type": "stream",
          "name": "stdout",
          "text": [
            "hello everyone!\n"
          ]
        }
      ]
    },
    {
      "cell_type": "markdown",
      "source": [
        "#python case sensitive:\n",
        "Differntiate variable by case sensitive(uppercase and lowercase char)"
      ],
      "metadata": {
        "id": "n_zTaPfhH4ct"
      }
    },
    {
      "cell_type": "code",
      "source": [
        "Name=\"abhi\"\n",
        "name=\"arya\"\n",
        "print(name,Name)"
      ],
      "metadata": {
        "colab": {
          "base_uri": "https://localhost:8080/"
        },
        "id": "6Cbz0XlEINos",
        "outputId": "958cdd1c-dd51-4071-870f-edc2c0ca7dc7"
      },
      "execution_count": null,
      "outputs": [
        {
          "output_type": "stream",
          "name": "stdout",
          "text": [
            "arya abhi\n"
          ]
        }
      ]
    },
    {
      "cell_type": "markdown",
      "source": [
        "#indentation:\n",
        "In python indentation are used for structuring the code"
      ],
      "metadata": {
        "id": "znohTriqIgVt"
      }
    },
    {
      "cell_type": "code",
      "source": [
        "if x>0:\n",
        "  print(\"x is greater\")\n",
        "  print(\"this is inside the if block\")"
      ],
      "metadata": {
        "colab": {
          "base_uri": "https://localhost:8080/"
        },
        "id": "SOStfawGIzl9",
        "outputId": "165b86e7-e853-44a8-c619-0fb4244bd0f0"
      },
      "execution_count": null,
      "outputs": [
        {
          "output_type": "stream",
          "name": "stdout",
          "text": [
            "x is greater\n",
            "this is inside the if block\n"
          ]
        }
      ]
    },
    {
      "cell_type": "markdown",
      "source": [
        "#variables and Data types:\n",
        "\n"
      ],
      "metadata": {
        "id": "PT5vSLURJEue"
      }
    },
    {
      "cell_type": "markdown",
      "source": [
        "#Numeric Types:\n",
        "1 int 2.float 3.complex\n"
      ],
      "metadata": {
        "id": "lHiZ8UGDJsk5"
      }
    },
    {
      "cell_type": "code",
      "source": [
        "age = 25\n",
        "marks = 95.07\n",
        "complex_num = 3 + 4j\n"
      ],
      "metadata": {
        "id": "l3fTulFvJ60s"
      },
      "execution_count": null,
      "outputs": []
    },
    {
      "cell_type": "markdown",
      "source": [
        "#String Types\n"
      ],
      "metadata": {
        "id": "LGGxylvAKHx-"
      }
    },
    {
      "cell_type": "code",
      "source": [
        "name=\"abhi\"\n",
        "message='hello everyone'\n",
        "multipleline=\"\"\"hi hello\n",
        "this is multiple line\"\"\"\n"
      ],
      "metadata": {
        "id": "hCl-vhptKT48"
      },
      "execution_count": null,
      "outputs": []
    },
    {
      "cell_type": "markdown",
      "source": [
        "#Boolean Type:"
      ],
      "metadata": {
        "id": "HCdldJwyKmdd"
      }
    },
    {
      "cell_type": "code",
      "source": [
        "is_active=True\n",
        "is_fininshed=False"
      ],
      "metadata": {
        "id": "vVSQkt4ENJ5E"
      },
      "execution_count": null,
      "outputs": []
    },
    {
      "cell_type": "markdown",
      "source": [
        "#Type checking:\n",
        "checking which type of variable it is\n"
      ],
      "metadata": {
        "id": "JdN3Muy0NTt1"
      }
    },
    {
      "cell_type": "code",
      "source": [
        "\n",
        "print(type(age))\n",
        "print(type(marks))\n",
        "print(type(name))"
      ],
      "metadata": {
        "colab": {
          "base_uri": "https://localhost:8080/"
        },
        "id": "Q8nqGmGHNkDl",
        "outputId": "38a2ac28-46a9-4b0a-d672-24f4953934c4"
      },
      "execution_count": null,
      "outputs": [
        {
          "output_type": "stream",
          "name": "stdout",
          "text": [
            "<class 'int'>\n",
            "<class 'float'>\n",
            "<class 'str'>\n"
          ]
        }
      ]
    },
    {
      "cell_type": "markdown",
      "source": [
        "#Type Conversion:\n",
        "\n",
        "converting one datatype to another datatype"
      ],
      "metadata": {
        "id": "QX0iLvjZOe6u"
      }
    },
    {
      "cell_type": "code",
      "source": [
        "str_number=\"123\"\n",
        "int_number=int(str_number)\n",
        "float_number=float(str_number)\n",
        "\n",
        "print(f\"original:{str_number} (type:{type(str_number)})\")\n",
        "print(f\"Integer:{int_number} (type:{type(int_number)})\")\n",
        "print(f\"Float:{float_number} (type:{type(float_number)})\")"
      ],
      "metadata": {
        "colab": {
          "base_uri": "https://localhost:8080/"
        },
        "id": "hz4T_Z5-OpPk",
        "outputId": "06985566-8a9c-4830-8e7a-e8610e4591b4"
      },
      "execution_count": null,
      "outputs": [
        {
          "output_type": "stream",
          "name": "stdout",
          "text": [
            "original:123 (type:<class 'str'>)\n",
            "Integer:123 (type:<class 'int'>)\n",
            "Float:123.0 (type:<class 'float'>)\n"
          ]
        }
      ]
    },
    {
      "cell_type": "markdown",
      "source": [
        "#Hands-on exercise:\n",
        "\n",
        "exercise 1: Personal IOnformation\n",
        "\n"
      ],
      "metadata": {
        "id": "uNf61VAdPcCl"
      }
    },
    {
      "cell_type": "markdown",
      "source": [
        "##create variable for personal information"
      ],
      "metadata": {
        "id": "Pk1GOcn7gMUU"
      }
    },
    {
      "cell_type": "code",
      "source": [
        "name=\"Abhi\"\n",
        "age=20\n",
        "degree=\"Bca\"\n",
        "ph_no=9113215204\n",
        "height=7.0\n"
      ],
      "metadata": {
        "id": "t-DsvCuxgN3s"
      },
      "execution_count": null,
      "outputs": []
    },
    {
      "cell_type": "markdown",
      "source": [
        "#Print formatted information:\n"
      ],
      "metadata": {
        "id": "rW7RlNi_iIcF"
      }
    },
    {
      "cell_type": "code",
      "source": [
        "print(f\"My name is {name} i am {age} years old studying in {degree}\")\n",
        "print(f\"height is :{height}\")"
      ],
      "metadata": {
        "colab": {
          "base_uri": "https://localhost:8080/"
        },
        "id": "Wu9_Qy63iSSF",
        "outputId": "711b6794-b958-415a-9094-952952a7c529"
      },
      "execution_count": null,
      "outputs": [
        {
          "output_type": "stream",
          "name": "stdout",
          "text": [
            "My name is Abhi i am 20 years old studying in Bca\n",
            "height is :7.0\n"
          ]
        }
      ]
    },
    {
      "cell_type": "markdown",
      "source": [
        "#Type conversions:\n"
      ],
      "metadata": {
        "id": "gVtn_Hrljytu"
      }
    },
    {
      "cell_type": "code",
      "source": [
        "age_str=str(age)\n",
        "height_int=int(height)\n",
        "print(f\"age as string:{age_str}\")\n",
        "print(f\"height as integer:{height_int}\")"
      ],
      "metadata": {
        "colab": {
          "base_uri": "https://localhost:8080/"
        },
        "id": "3YpJ2P-PkQrl",
        "outputId": "0aff740b-f75f-4bc5-dd45-f6eec6fd9a42"
      },
      "execution_count": null,
      "outputs": [
        {
          "output_type": "stream",
          "name": "stdout",
          "text": [
            "age as string:20\n",
            "height as integer:7\n"
          ]
        }
      ]
    },
    {
      "cell_type": "markdown",
      "source": [
        "#Operators and basic Operations:\n"
      ],
      "metadata": {
        "id": "-JJH8SNHkcGd"
      }
    },
    {
      "cell_type": "markdown",
      "source": [
        "#Arithmetic operators:\n"
      ],
      "metadata": {
        "id": "mfclLms6mN9W"
      }
    },
    {
      "cell_type": "code",
      "source": [
        "a=10\n",
        "b=3\n",
        "print(\"add:\",a+b)\n",
        "print(\"sub:\",a-b)\n",
        "print(\"mult:\",a*b)\n",
        "print(\"Div:\",a/b)\n",
        "print(\"modules:\",a%b)\n",
        "print(\"floor div:\",a//b)\n",
        "print(\"Exponent:\",a**b)"
      ],
      "metadata": {
        "colab": {
          "base_uri": "https://localhost:8080/"
        },
        "id": "W8V83CxqmZ69",
        "outputId": "650e94a2-5cb5-4317-b441-1993211cc25a"
      },
      "execution_count": null,
      "outputs": [
        {
          "output_type": "stream",
          "name": "stdout",
          "text": [
            "add: 13\n",
            "sub: 7\n",
            "mult: 30\n",
            "Div: 3.3333333333333335\n",
            "modules: 1\n",
            "floor div: 3\n",
            "Exponent: 1000\n"
          ]
        }
      ]
    },
    {
      "cell_type": "markdown",
      "source": [
        "#Order of operations(PEMDAS)\n",
        "- P-Parenthesis\n",
        "- E-Exponents\n",
        "- M-Multification\n",
        "- D-Division\n",
        "- A-Addition\n",
        "- S-Substraction\n",
        "\n",
        "\n"
      ],
      "metadata": {
        "id": "ghCzCSScncbF"
      }
    },
    {
      "cell_type": "code",
      "source": [
        "result= 2+3*4**2-1\n",
        "print(result)"
      ],
      "metadata": {
        "colab": {
          "base_uri": "https://localhost:8080/"
        },
        "id": "qL6hixGto0EG",
        "outputId": "41163de5-eacf-4379-f6d6-2292acb805ac"
      },
      "execution_count": null,
      "outputs": [
        {
          "output_type": "stream",
          "name": "stdout",
          "text": [
            "49\n"
          ]
        }
      ]
    },
    {
      "cell_type": "markdown",
      "source": [
        "#Relation operators (or) Comparision:\n"
      ],
      "metadata": {
        "id": "lczq2i_kpXLe"
      }
    },
    {
      "cell_type": "code",
      "source": [
        "a=10\n",
        "b=5\n",
        "print(f\"EqualTo: {a} == {b} {a==b}\")\n",
        "print(f\"NotEqualTo: {a} != {b} {a!=b}\")\n",
        "print(f\"greaterThen :{a} > {b} : {a>b}\")\n",
        "print(f\"LessThen: {a} < {b} : {a<b}\")\n",
        "print(f\"greaterThenOrEqualTo: {a} >= {b} : {a>=b}\")\n",
        "print(f\"LessThenOrEqualTo: {a} <= {b} : {a<=b}\")\n"
      ],
      "metadata": {
        "colab": {
          "base_uri": "https://localhost:8080/"
        },
        "id": "vEIiAbdPqzVN",
        "outputId": "c34bbf6a-53e7-43e5-9264-c33c4734e1b8"
      },
      "execution_count": null,
      "outputs": [
        {
          "output_type": "stream",
          "name": "stdout",
          "text": [
            "EqualTo: 10 == 5 False\n",
            "NotEqualTo: 10 != 5 True\n",
            "greaterThen :10 > 5 : True\n",
            "LessThen: 10 < 5 : False\n",
            "greaterThenOrEqualTo: 10 >= 5 : True\n",
            "LessThenOrEqualTo: 10 <= 5 : False\n"
          ]
        }
      ]
    },
    {
      "cell_type": "markdown",
      "source": [
        "#String operation"
      ],
      "metadata": {
        "id": "eNxzOshJsvRg"
      }
    },
    {
      "cell_type": "code",
      "source": [
        "name1=\"Alice\"\n",
        "name2=\"Bob\"\n",
        "print(name1>name2)"
      ],
      "metadata": {
        "colab": {
          "base_uri": "https://localhost:8080/"
        },
        "id": "5_V58KpRtC_-",
        "outputId": "51fa802e-ff39-4de3-8482-718383894d16"
      },
      "execution_count": null,
      "outputs": [
        {
          "output_type": "stream",
          "name": "stdout",
          "text": [
            "False\n"
          ]
        }
      ]
    },
    {
      "cell_type": "markdown",
      "source": [
        "#Logical operators:\n"
      ],
      "metadata": {
        "id": "A12t6WCPubmu"
      }
    },
    {
      "cell_type": "code",
      "source": [
        "p=True\n",
        "q=False\n",
        "print(p and q)\n",
        "print(p or q)\n",
        "print(not p)"
      ],
      "metadata": {
        "colab": {
          "base_uri": "https://localhost:8080/"
        },
        "id": "1XC-1qf2utr2",
        "outputId": "01ec0b8b-d472-4ab0-c425-3264d44283d5"
      },
      "execution_count": null,
      "outputs": [
        {
          "output_type": "stream",
          "name": "stdout",
          "text": [
            "False\n",
            "True\n",
            "False\n"
          ]
        }
      ]
    },
    {
      "cell_type": "code",
      "source": [
        "#Practiocal example\n",
        "\n",
        "age=20\n",
        "has_license=True\n",
        "can_drive=age>=18 and has_license\n",
        "print(f\"Eligible for driving:{can_drive} \")"
      ],
      "metadata": {
        "colab": {
          "base_uri": "https://localhost:8080/"
        },
        "id": "kCl_uk_xwtGv",
        "outputId": "b6b76656-d196-4714-c3fd-3d6f94a90c25"
      },
      "execution_count": null,
      "outputs": [
        {
          "output_type": "stream",
          "name": "stdout",
          "text": [
            "Eligible for driving:True \n"
          ]
        }
      ]
    },
    {
      "cell_type": "markdown",
      "source": [
        "#loan prg\n",
        "# loan certificate\n",
        " min_age=18\n",
        " annual_income=30000\n",
        " credit_score=720"
      ],
      "metadata": {
        "id": "RxhCZHO-2lap"
      }
    },
    {
      "cell_type": "code",
      "source": [
        "#loan eligible prg\n",
        "age=25\n",
        "annual_income=50000\n",
        "credit_score=720\n",
        "has_condition=True\n",
        "\n",
        "if(age>=18 and annual_income>=30000 and credit_score>=650):\n",
        "  print(\"Eligible for loan\")\n",
        "else:\n",
        "  print(\"Not eligible for loan\")"
      ],
      "metadata": {
        "colab": {
          "base_uri": "https://localhost:8080/"
        },
        "id": "kJy4DR1zy343",
        "outputId": "33010717-fa66-49c8-b2e1-7f8e0eebdd03"
      },
      "execution_count": null,
      "outputs": [
        {
          "output_type": "stream",
          "name": "stdout",
          "text": [
            "Not eligible for loan\n"
          ]
        }
      ]
    },
    {
      "cell_type": "markdown",
      "source": [
        "#Data Structure:\n"
      ],
      "metadata": {
        "id": "KnIWo82c4xG5"
      }
    },
    {
      "cell_type": "markdown",
      "source": [
        "##List\n"
      ],
      "metadata": {
        "id": "4VwBLwKz-8YX"
      }
    },
    {
      "cell_type": "markdown",
      "source": [
        "###Creating list"
      ],
      "metadata": {
        "id": "26wnQls7-_sv"
      }
    },
    {
      "cell_type": "code",
      "source": [
        "fruits=[\"apple\",\"banana\",\"orange\",\"grape\"]\n",
        "numbers=[10,20,30,40,50]\n",
        "mixed_data=[1,\"hello\",2.3,True]\n"
      ],
      "metadata": {
        "id": "FH5V0Btx_DwP"
      },
      "execution_count": null,
      "outputs": []
    },
    {
      "cell_type": "markdown",
      "source": [
        "#List indexing(0-based)\n"
      ],
      "metadata": {
        "id": "2FnTwlhb_aWI"
      }
    },
    {
      "cell_type": "code",
      "source": [
        "print(f\"first fruit:{fruits[0]}\")\n",
        "print(f\"last fruit:{fruits[-1]}\")\n",
        "print(f\"second to last fruit:{fruits[-2]}\")\n"
      ],
      "metadata": {
        "colab": {
          "base_uri": "https://localhost:8080/"
        },
        "id": "cJn_bd9H_jLZ",
        "outputId": "8eec3c7f-a989-4a8f-a408-91cc04441316"
      },
      "execution_count": null,
      "outputs": [
        {
          "output_type": "stream",
          "name": "stdout",
          "text": [
            "first fruit:apple\n",
            "last fruit:grape\n",
            "second to last fruit:orange\n"
          ]
        }
      ]
    },
    {
      "cell_type": "markdown",
      "source": [
        "#list slicing\n"
      ],
      "metadata": {
        "id": "ynnKM_Ff_6w5"
      }
    },
    {
      "cell_type": "code",
      "source": [
        "print(f\"First 2 fruits:{fruits[0:2]}\")\n",
        "print(f\"last 2 fruits:{fruits[-2:]}\")\n",
        "print(f\"All except fruits:{fruits[1:]}\")"
      ],
      "metadata": {
        "colab": {
          "base_uri": "https://localhost:8080/"
        },
        "id": "myYsDRta_-LI",
        "outputId": "1e5f88a3-923c-4e91-bd24-58a03ac587d9"
      },
      "execution_count": null,
      "outputs": [
        {
          "output_type": "stream",
          "name": "stdout",
          "text": [
            "First 2 fruits:['apple', 'banana']\n",
            "last 2 fruits:['orange', 'grape']\n",
            "All except fruits:['banana', 'orange', 'grape']\n"
          ]
        }
      ]
    },
    {
      "cell_type": "markdown",
      "source": [
        "#List methods"
      ],
      "metadata": {
        "id": "nKVbeOgJA2t4"
      }
    },
    {
      "cell_type": "markdown",
      "source": [
        "append is used to add something at end but insert method is used to add something as per the user requirment\n"
      ],
      "metadata": {
        "id": "pbzQ1G_h9srR"
      }
    },
    {
      "cell_type": "code",
      "source": [
        "fruits.append(\"Kiwi\")#add to end\n",
        "fruits.insert(1,\"Strawberry\")#insert at index\n",
        "removed=fruits.pop()#remove last\n",
        "print(f\"Updated list: {fruits}\")\n",
        "print(f\"Removed: {removed}\")"
      ],
      "metadata": {
        "colab": {
          "base_uri": "https://localhost:8080/"
        },
        "id": "VVXJAkEGBNUg",
        "outputId": "01d0d75e-0428-43e5-8a5f-5d9c94373b5f"
      },
      "execution_count": null,
      "outputs": [
        {
          "output_type": "stream",
          "name": "stdout",
          "text": [
            "Updated list: ['apple', 'Strawberry', 'Strawberry', 'Strawberry', 'banana', 'orange', 'grape']\n",
            "Removed: Kiwi\n"
          ]
        }
      ]
    },
    {
      "cell_type": "markdown",
      "source": [
        "#List operations\n"
      ],
      "metadata": {
        "id": "y_mIsnbsCQPK"
      }
    },
    {
      "cell_type": "code",
      "source": [
        "print(f\"Lenght:{len(fruits)}\")\n",
        "print(f\"Containers 'apple':{'apple' in fruits}\" )  //membership\n",
        "print(f\"Index of banana': {fruits.index('banana')}\")"
      ],
      "metadata": {
        "colab": {
          "base_uri": "https://localhost:8080/"
        },
        "id": "9dN6Ek52BO3A",
        "outputId": "76cd2807-3a68-4a0d-f95d-3500a4470ee9"
      },
      "execution_count": null,
      "outputs": [
        {
          "output_type": "stream",
          "name": "stdout",
          "text": [
            "Lenght:7\n",
            "Containers 'apple':True\n",
            "Index of ;banana': 4\n"
          ]
        }
      ]
    },
    {
      "cell_type": "markdown",
      "source": [
        "#Tuples\n"
      ],
      "metadata": {
        "id": "wmUKKfecDArY"
      }
    },
    {
      "cell_type": "markdown",
      "source": [
        "#Tuples are inmutable(not change):\n"
      ],
      "metadata": {
        "id": "cUE59fKQDPyg"
      }
    },
    {
      "cell_type": "code",
      "source": [
        "coordinates=(10,20)\n",
        "rgb_color=(255,125,0)\n",
        "person_info=(\"Alice\",25,\"Engineer\",True)"
      ],
      "metadata": {
        "id": "C1IkX5L9DUwQ"
      },
      "execution_count": null,
      "outputs": []
    },
    {
      "cell_type": "markdown",
      "source": [
        "#Tuple unpacking"
      ],
      "metadata": {
        "id": "Bj7bFpu0E0m5"
      }
    },
    {
      "cell_type": "code",
      "source": [
        "x,y=coordinates\n",
        "print(f\"X: {x}, Y: {y}\")"
      ],
      "metadata": {
        "colab": {
          "base_uri": "https://localhost:8080/"
        },
        "id": "lWZkezXjE6XA",
        "outputId": "67204d61-1944-4dff-fc8e-343ff190995b"
      },
      "execution_count": null,
      "outputs": [
        {
          "output_type": "stream",
          "name": "stdout",
          "text": [
            "X: 10, Y: 20\n"
          ]
        }
      ]
    },
    {
      "cell_type": "markdown",
      "source": [
        "#Tuple methods\n"
      ],
      "metadata": {
        "id": "699xnc9eFLJg"
      }
    },
    {
      "cell_type": "code",
      "source": [
        "print(f\"Count of 25: {person_info.count(25)}\")\n",
        "print(f\"Index of 'Engineer': {person_info.index('Engineer')}\")"
      ],
      "metadata": {
        "colab": {
          "base_uri": "https://localhost:8080/"
        },
        "id": "yoUepww2FOm4",
        "outputId": "cab3ce16-6aed-43cb-fd95-a9404c86b526"
      },
      "execution_count": null,
      "outputs": [
        {
          "output_type": "stream",
          "name": "stdout",
          "text": [
            "Count of 25: 1\n",
            "Index of 'Engineer': 2\n"
          ]
        }
      ]
    },
    {
      "cell_type": "markdown",
      "source": [
        "#Why use Tuples?\n",
        "- Immutable(safe for dictionary keys)\n",
        "- Slightly faster than lists\n",
        "- Good for fixed collections"
      ],
      "metadata": {
        "id": "hzvOSGFGF4Fx"
      }
    },
    {
      "cell_type": "markdown",
      "source": [
        "#Dictionary\n"
      ],
      "metadata": {
        "id": "E82WPGWEDpEG"
      }
    },
    {
      "cell_type": "markdown",
      "source": [
        "##Dictionary creation\n"
      ],
      "metadata": {
        "id": "ouZdGVv7D12l"
      }
    },
    {
      "cell_type": "code",
      "source": [
        "person={\"name\":\"Abhi\",\"age\":20,\"profession\":\"Software Engineer\",\"salary\":100000}\n"
      ],
      "metadata": {
        "id": "zhj0VJ5EDszN"
      },
      "execution_count": null,
      "outputs": []
    },
    {
      "cell_type": "markdown",
      "source": [
        "#Accessing values"
      ],
      "metadata": {
        "id": "knyHEsjtE1yv"
      }
    },
    {
      "cell_type": "code",
      "source": [
        "print(person['name'])\n",
        "print(person.get('age', 'unknown'))\n",
        "print(person.get('height', 'unknown'))"
      ],
      "metadata": {
        "colab": {
          "base_uri": "https://localhost:8080/"
        },
        "id": "1g7aScxyE0sG",
        "outputId": "7e491b48-ab3f-473a-f072-f9931844dbf1"
      },
      "execution_count": null,
      "outputs": [
        {
          "output_type": "stream",
          "name": "stdout",
          "text": [
            "Abhi\n",
            "20\n",
            "unknown\n"
          ]
        }
      ]
    },
    {
      "cell_type": "markdown",
      "source": [
        "#Dictionary methods"
      ],
      "metadata": {
        "id": "GnJXXczFGCc-"
      }
    },
    {
      "cell_type": "code",
      "source": [
        "print(person.keys())\n",
        "print(person.values())\n",
        "print(person.items())"
      ],
      "metadata": {
        "colab": {
          "base_uri": "https://localhost:8080/"
        },
        "id": "DPRgnHPqGGK1",
        "outputId": "f5b07f76-7761-4bf4-95ce-c109b071eee7"
      },
      "execution_count": null,
      "outputs": [
        {
          "output_type": "stream",
          "name": "stdout",
          "text": [
            "dict_keys(['name', 'age', 'profession', 'salary'])\n",
            "dict_values(['Abhi', 20, 'Software Engineer', 100000])\n",
            "dict_items([('name', 'Abhi'), ('age', 20), ('profession', 'Software Engineer'), ('salary', 100000)])\n"
          ]
        }
      ]
    },
    {
      "cell_type": "markdown",
      "source": [
        "#Adding/updating"
      ],
      "metadata": {
        "id": "S-pbTgMzGWNN"
      }
    },
    {
      "cell_type": "code",
      "source": [
        "person[\"location\"]=\"USA\"\n",
        "person[\"salary\"]=80000"
      ],
      "metadata": {
        "id": "lo4oo_XGGbDV"
      },
      "execution_count": null,
      "outputs": []
    },
    {
      "cell_type": "markdown",
      "source": [
        "#Practical use case:Inventory management"
      ],
      "metadata": {
        "id": "z4V8VwpzG4Cl"
      }
    },
    {
      "cell_type": "code",
      "source": [
        "inventory={\"laptop\":{\"quantity\":50,\"price\":999},\"phones\":{\"quantity\":100,\"price\":5000},\"tablets\":{\"quantity\":30,\"price\":399.99}}\n"
      ],
      "metadata": {
        "id": "b5IbOqYoHBBN"
      },
      "execution_count": null,
      "outputs": []
    },
    {
      "cell_type": "markdown",
      "source": [
        "#Nested access"
      ],
      "metadata": {
        "id": "R2KU8vApHr3V"
      }
    },
    {
      "cell_type": "code",
      "source": [
        "print(inventory['laptop']['price'])\n",
        "print(inventory['phones']['quantity'])\n",
        "print(inventory['tablets']['quantity'])"
      ],
      "metadata": {
        "colab": {
          "base_uri": "https://localhost:8080/"
        },
        "id": "mDelykQ3HvFd",
        "outputId": "c6820b86-5550-49e6-e659-ea4d1f4c3582"
      },
      "execution_count": null,
      "outputs": [
        {
          "output_type": "stream",
          "name": "stdout",
          "text": [
            "999\n",
            "100\n",
            "30\n"
          ]
        }
      ]
    },
    {
      "cell_type": "markdown",
      "source": [
        "#Sets"
      ],
      "metadata": {
        "id": "l40_hQMWIvT9"
      }
    },
    {
      "cell_type": "markdown",
      "source": [
        "#Sets contain unique elements\n"
      ],
      "metadata": {
        "id": "BSMLo1BbJbO9"
      }
    },
    {
      "cell_type": "code",
      "source": [
        "colors={\"red\",\"red\",\"green\",\"blue\"} #removes duplicate\n",
        "print(colors)"
      ],
      "metadata": {
        "colab": {
          "base_uri": "https://localhost:8080/"
        },
        "id": "Kr-PbwjsJUxV",
        "outputId": "88dc2e88-14f7-4dec-d9d3-39588b007635"
      },
      "execution_count": null,
      "outputs": [
        {
          "output_type": "stream",
          "name": "stdout",
          "text": [
            "{'red', 'green', 'blue'}\n"
          ]
        }
      ]
    },
    {
      "cell_type": "markdown",
      "source": [
        "#set operation"
      ],
      "metadata": {
        "id": "8X2xXrGXKONt"
      }
    },
    {
      "cell_type": "code",
      "source": [
        "n1={\"python\",\"java\",\"sql\",\"react\"}\n",
        "n2={\"java\",\"sql\",\"Spring\",\"C++\"}"
      ],
      "metadata": {
        "id": "yKP3fne-KRdl"
      },
      "execution_count": null,
      "outputs": []
    },
    {
      "cell_type": "markdown",
      "source": [
        "#common operations"
      ],
      "metadata": {
        "id": "RadANfkoKm0N"
      }
    },
    {
      "cell_type": "code",
      "source": [
        "print(n1.union(n2)) #add\n",
        "print(n1.intersection(n2)) #writeen common elements on both sets\n",
        "print(n1.difference(n2)) # writtens elements that are present in set1 and not in set2"
      ],
      "metadata": {
        "colab": {
          "base_uri": "https://localhost:8080/"
        },
        "id": "cT-IqTxTKkl1",
        "outputId": "3c35a59c-ce58-4fcf-9609-c48d31aad80d"
      },
      "execution_count": null,
      "outputs": [
        {
          "output_type": "stream",
          "name": "stdout",
          "text": [
            "{'C++', 'Spring', 'sql', 'java', 'python', 'react'}\n",
            "{'sql', 'java'}\n",
            "{'react', 'python'}\n"
          ]
        }
      ]
    },
    {
      "cell_type": "markdown",
      "source": [
        "#Adding to Sets"
      ],
      "metadata": {
        "id": "TauN3KGqLbUO"
      }
    },
    {
      "cell_type": "code",
      "source": [
        "colors.add(\"yellow\")# to add single element\n",
        "colors.update([\"purple\",\"orange\"])#to add multiple elements\n",
        "print(colors)"
      ],
      "metadata": {
        "colab": {
          "base_uri": "https://localhost:8080/"
        },
        "id": "YlTWZ0f3Le0V",
        "outputId": "4628345f-efb2-4876-e330-e145f7c4965b"
      },
      "execution_count": null,
      "outputs": [
        {
          "output_type": "stream",
          "name": "stdout",
          "text": [
            "{'red', 'orange', 'green', 'yellow', 'purple', 'blue'}\n"
          ]
        }
      ]
    },
    {
      "cell_type": "markdown",
      "source": [
        "#Control Flow"
      ],
      "metadata": {
        "id": "0wiLg7EnMaal"
      }
    },
    {
      "cell_type": "markdown",
      "source": [
        "##Conditional Statements"
      ],
      "metadata": {
        "id": "ClSKU10RMiAN"
      }
    },
    {
      "cell_type": "markdown",
      "source": [
        "###Basic if-else"
      ],
      "metadata": {
        "id": "WRafzTdTNXXN"
      }
    },
    {
      "cell_type": "code",
      "source": [
        "def get_grade(score):\n",
        "  if score>=90:\n",
        "    return \"A\"\n",
        "  elif score>=80:\n",
        "    return \"B\"\n",
        "  elif score>=70:\n",
        "    return \"C\"\n",
        "  elif score>=60:\n",
        "    return \"D\"\n",
        "  else:\n",
        "    return\"F\"\n",
        "\n"
      ],
      "metadata": {
        "id": "Z8fJR81tNvH1"
      },
      "execution_count": null,
      "outputs": []
    },
    {
      "cell_type": "markdown",
      "source": [
        "#Test the function\n"
      ],
      "metadata": {
        "id": "PIZZfHnTQRNd"
      }
    },
    {
      "cell_type": "code",
      "source": [
        "test_scores=[95,83,72,65,58]\n",
        "for score in test_scores:\n",
        "  grade=get_grade(score)\n",
        "  print(f\"score{score}: grade {grade}\")"
      ],
      "metadata": {
        "colab": {
          "base_uri": "https://localhost:8080/"
        },
        "id": "6EbIIIp8QUbN",
        "outputId": "b1029e0e-802d-4b8b-f90c-4af0656d24f2"
      },
      "execution_count": null,
      "outputs": [
        {
          "output_type": "stream",
          "name": "stdout",
          "text": [
            "score95: grade A\n",
            "score83: grade B\n",
            "score72: grade C\n",
            "score65: grade D\n",
            "score58: grade F\n"
          ]
        }
      ]
    },
    {
      "cell_type": "markdown",
      "source": [
        "#Nested condition"
      ],
      "metadata": {
        "id": "e9oP91nnRG-3"
      }
    },
    {
      "cell_type": "code",
      "source": [
        "def get_shipping_cost(weight,distance):\n",
        "  base_cost=5.0\n",
        "\n",
        "  if weight<=1:\n",
        "    weight_cost=2.0\n",
        "  elif weight<=5:\n",
        "    weight_cost=5.0\n",
        "  else:\n",
        "    weight_cost=10.0\n",
        "\n",
        "  if distance<=100:\n",
        "    distance_cost=1.0\n",
        "  elif distance<=500:\n",
        "    distance_cost=3.0\n",
        "  else:\n",
        "    distance_cost=7.0\n",
        "  return base_cost+weight_cost+distance_cost\n"
      ],
      "metadata": {
        "id": "WvZhpGBLRKcV"
      },
      "execution_count": null,
      "outputs": []
    },
    {
      "cell_type": "markdown",
      "source": [
        "#Test shipping costs\n",
        "\n"
      ],
      "metadata": {
        "id": "EDXFfrVbSkuV"
      }
    },
    {
      "cell_type": "code",
      "source": [
        "print(f\"light,close:${get_shipping_cost(0.5,50)}\")\n",
        "print(f\"Heavy,far:${get_shipping_cost(10,800)}\")"
      ],
      "metadata": {
        "colab": {
          "base_uri": "https://localhost:8080/"
        },
        "id": "HjWKaog-SscN",
        "outputId": "c39f03b6-2b6f-4f7b-fb98-ad2041a970df"
      },
      "execution_count": null,
      "outputs": [
        {
          "output_type": "stream",
          "name": "stdout",
          "text": [
            "light,close:$8.0\n",
            "Heavy,far:$22.0\n"
          ]
        }
      ]
    },
    {
      "cell_type": "markdown",
      "source": [
        "#Loops for Loops"
      ],
      "metadata": {
        "id": "5pYHdq14UMZF"
      }
    },
    {
      "cell_type": "markdown",
      "source": [
        "##Basic for loop\n"
      ],
      "metadata": {
        "id": "ZXWooJo_UQpW"
      }
    },
    {
      "cell_type": "code",
      "source": [
        "fruits=[\"apple\",\"banana\",\"orange\",\"grapes\"]\n",
        "for fruit in fruits:\n",
        "  print(f\"I like {fruit}\")"
      ],
      "metadata": {
        "colab": {
          "base_uri": "https://localhost:8080/"
        },
        "id": "qGDQTunaWT5u",
        "outputId": "054d83f2-1dd6-4720-ed2c-2ade05504e67"
      },
      "execution_count": null,
      "outputs": [
        {
          "output_type": "stream",
          "name": "stdout",
          "text": [
            "I like apple\n",
            "I like banana\n",
            "I like orange\n",
            "I like grapes\n"
          ]
        }
      ]
    },
    {
      "cell_type": "markdown",
      "source": [
        "#loop with enumerate(get index)\n"
      ],
      "metadata": {
        "id": "oZy26EFDWs8t"
      }
    },
    {
      "cell_type": "code",
      "source": [
        "for i, fruit in enumerate(fruits):\n",
        "  print(f\"{i+1}.{fruit}\")# (or) print(i+1,fruit)\n"
      ],
      "metadata": {
        "colab": {
          "base_uri": "https://localhost:8080/"
        },
        "id": "rbYiQcOHW0en",
        "outputId": "c772b60b-2864-47f8-9795-2112217439c9"
      },
      "execution_count": null,
      "outputs": [
        {
          "output_type": "stream",
          "name": "stdout",
          "text": [
            "1.apple\n",
            "2.banana\n",
            "3.orange\n",
            "4.grapes\n"
          ]
        }
      ]
    },
    {
      "cell_type": "markdown",
      "source": [
        "#Loop with range"
      ],
      "metadata": {
        "id": "G3fGVcKaXQgu"
      }
    },
    {
      "cell_type": "code",
      "source": [
        "for day in range(1,8):\n",
        "  print(day)"
      ],
      "metadata": {
        "colab": {
          "base_uri": "https://localhost:8080/"
        },
        "id": "ncDTdxavX601",
        "outputId": "4fdaa819-32f3-40e1-d6b5-f2bc5969c9e2"
      },
      "execution_count": null,
      "outputs": [
        {
          "output_type": "stream",
          "name": "stdout",
          "text": [
            "1\n",
            "2\n",
            "3\n",
            "4\n",
            "5\n",
            "6\n",
            "7\n"
          ]
        }
      ]
    },
    {
      "cell_type": "markdown",
      "source": [
        "#Nested loops-Creating multiplication table\n"
      ],
      "metadata": {
        "id": "MTF4srOAYFxA"
      }
    },
    {
      "cell_type": "code",
      "source": [
        "print(\"Multiplicatiopn Table:\")\n",
        "for i in range(1,6):\n",
        "  for j in range(1,6):\n",
        "    product=i*j\n",
        "    print(f\"{i} * {j} = {product:2d}\",end=\" \")\n",
        "    print() #toprint in line line"
      ],
      "metadata": {
        "colab": {
          "base_uri": "https://localhost:8080/"
        },
        "id": "5YrIZl04YNFN",
        "outputId": "35450f99-dfba-4bc4-f468-84b869439ff5"
      },
      "execution_count": null,
      "outputs": [
        {
          "output_type": "stream",
          "name": "stdout",
          "text": [
            "Multiplicatiopn Table:\n",
            "1 * 1 =  1 \n",
            "1 * 2 =  2 \n",
            "1 * 3 =  3 \n",
            "1 * 4 =  4 \n",
            "1 * 5 =  5 \n",
            "2 * 1 =  2 \n",
            "2 * 2 =  4 \n",
            "2 * 3 =  6 \n",
            "2 * 4 =  8 \n",
            "2 * 5 = 10 \n",
            "3 * 1 =  3 \n",
            "3 * 2 =  6 \n",
            "3 * 3 =  9 \n",
            "3 * 4 = 12 \n",
            "3 * 5 = 15 \n",
            "4 * 1 =  4 \n",
            "4 * 2 =  8 \n",
            "4 * 3 = 12 \n",
            "4 * 4 = 16 \n",
            "4 * 5 = 20 \n",
            "5 * 1 =  5 \n",
            "5 * 2 = 10 \n",
            "5 * 3 = 15 \n",
            "5 * 4 = 20 \n",
            "5 * 5 = 25 \n"
          ]
        }
      ]
    },
    {
      "cell_type": "markdown",
      "source": [
        "#Processing data with loops"
      ],
      "metadata": {
        "id": "JpOZKBw0Y-eX"
      }
    },
    {
      "cell_type": "code",
      "source": [
        "sales_data=[{\"product\":\"laptop\",\"price\":999,\"quantity\":5},{\"product\":\"phone\",\"price\":599,\"quantity\":10},{\"product\":\"tablet\",\"price\":399,\"quantity\":8}]\n",
        "total_revenue=0\n",
        "for item in sales_data:\n",
        "  item_revenue=item[\"price\"]*item[\"quantity\"]\n",
        "  total_revenue+=item_revenue\n",
        "  print(f\"{item['product']}:${item_revenue}\")\n",
        "print(f\"Total Revenue:${total_revenue}\")"
      ],
      "metadata": {
        "colab": {
          "base_uri": "https://localhost:8080/"
        },
        "id": "ruzCSuPXZLU5",
        "outputId": "9620db1b-573d-479f-f9dd-1f13e12a7cef"
      },
      "execution_count": null,
      "outputs": [
        {
          "output_type": "stream",
          "name": "stdout",
          "text": [
            "laptop:$4995\n",
            "phone:$5990\n",
            "tablet:$3192\n",
            "Total Revenue:$14177\n"
          ]
        }
      ]
    },
    {
      "cell_type": "markdown",
      "source": [
        "#Loop with Loop"
      ],
      "metadata": {
        "id": "n6WjrtYauglg"
      }
    },
    {
      "cell_type": "markdown",
      "source": [
        "#while loop for user input simulation"
      ],
      "metadata": {
        "id": "cdw9RvhOulF1"
      }
    },
    {
      "cell_type": "code",
      "source": [
        "def simple_guessing_game():\n",
        "  target=7\n",
        "  guess=0\n",
        "  attempts=0\n",
        "  print(\"Guess the number bt 1 and 10\")\n",
        "  while guess !=target:\n",
        "    #simulate user inpout\n",
        "    import random\n",
        "    guess=random.randint(1,10)\n",
        "    attempts+=1\n",
        "\n",
        "    if guess <target:\n",
        "      print(f\"Guess{attempts}: {guess}- Too low!\")\n",
        "    elif guess > target:\n",
        "      print(f\"Guess{attempts}: {guess}- Too high!\")\n",
        "    else:\n",
        "      print(f\"Guess{attempts}: {guess}- correct\")\n",
        "\n",
        "    if attempts>10:\n",
        "      print(\"max attempts reached!\")\n",
        "      break\n",
        "\n",
        "  print(f\"Game finished in{attempts} attempts\")\n",
        "simple_guessing_game()"
      ],
      "metadata": {
        "colab": {
          "base_uri": "https://localhost:8080/"
        },
        "id": "LLIRGfOmuzp1",
        "outputId": "5ce84132-e806-4fb7-d9f8-851e61aedd98"
      },
      "execution_count": null,
      "outputs": [
        {
          "output_type": "stream",
          "name": "stdout",
          "text": [
            "Guess the number bt 1 and 10\n",
            "Guess1: 3- Too low!\n",
            "Guess2: 4- Too low!\n",
            "Guess3: 5- Too low!\n",
            "Guess4: 5- Too low!\n",
            "Guess5: 5- Too low!\n",
            "Guess6: 1- Too low!\n",
            "Guess7: 6- Too low!\n",
            "Guess8: 2- Too low!\n",
            "Guess9: 6- Too low!\n",
            "Guess10: 1- Too low!\n",
            "Guess11: 1- Too low!\n",
            "max attempts reached!\n",
            "Game finished in11 attempts\n"
          ]
        }
      ]
    },
    {
      "cell_type": "code",
      "source": [],
      "metadata": {
        "id": "Nf-SIUOjvEdG"
      },
      "execution_count": null,
      "outputs": []
    },
    {
      "cell_type": "markdown",
      "source": [
        "#while loop for processing"
      ],
      "metadata": {
        "id": "YGPbwQuszXxu"
      }
    },
    {
      "cell_type": "code",
      "source": [
        "def process_queue():\n",
        "  queue=[\"task1\",\"task2\",\"task3\",\"task4\"]\n",
        "\n",
        "  while queue:\n",
        "    current_task=queue.pop(0)#removes first item\n",
        "    print(f\"processing : {current_task}\")\n",
        "    print(f\"Remaining tasks: {len(queue)}\")\n",
        "  print(\"All tasks completed\")\n",
        "process_queue()\n"
      ],
      "metadata": {
        "colab": {
          "base_uri": "https://localhost:8080/"
        },
        "id": "YlbyCELCzbxG",
        "outputId": "bc908395-d4c7-472d-9d45-44d32b03bd2f"
      },
      "execution_count": null,
      "outputs": [
        {
          "output_type": "stream",
          "name": "stdout",
          "text": [
            "processing : task1\n",
            "Remaining tasks: 3\n",
            "processing : task2\n",
            "Remaining tasks: 2\n",
            "processing : task3\n",
            "Remaining tasks: 1\n",
            "processing : task4\n",
            "Remaining tasks: 0\n",
            "All tasks completed\n"
          ]
        }
      ]
    },
    {
      "cell_type": "markdown",
      "source": [
        "#Functions\n"
      ],
      "metadata": {
        "id": "qWWc43TV1Btw"
      }
    },
    {
      "cell_type": "markdown",
      "source": [
        "##Function basic"
      ],
      "metadata": {
        "id": "WXNVuI1Y1Exe"
      }
    },
    {
      "cell_type": "markdown",
      "source": [
        "###Basic function declaration"
      ],
      "metadata": {
        "id": "jikqxcyx1LDN"
      }
    },
    {
      "cell_type": "code",
      "source": [
        "def greet(name):\n",
        "  return f\"Hello,{name}!\""
      ],
      "metadata": {
        "id": "WTbSWhUl1Qjm"
      },
      "execution_count": null,
      "outputs": []
    },
    {
      "cell_type": "markdown",
      "source": [
        "##Function call"
      ],
      "metadata": {
        "id": "yOqucfUf1cRV"
      }
    },
    {
      "cell_type": "code",
      "source": [
        "message=greet(\"Python programming\")\n",
        "print(message)"
      ],
      "metadata": {
        "colab": {
          "base_uri": "https://localhost:8080/"
        },
        "id": "mo8p12Wr1fEl",
        "outputId": "b45931eb-7c81-4e0c-9a88-825039d8d008"
      },
      "execution_count": null,
      "outputs": [
        {
          "output_type": "stream",
          "name": "stdout",
          "text": [
            "Hello,Python programming!\n"
          ]
        }
      ]
    },
    {
      "cell_type": "markdown",
      "source": [
        "##Function with multiple parameters\n",
        "\n",
        "\n"
      ],
      "metadata": {
        "id": "YUwbORmR19aF"
      }
    },
    {
      "cell_type": "code",
      "source": [
        "def calculate_area(length,width):\n",
        "  area=length*width\n",
        "  return area"
      ],
      "metadata": {
        "id": "GcTBjy9L2Kou"
      },
      "execution_count": null,
      "outputs": []
    },
    {
      "cell_type": "markdown",
      "source": [
        "##Test the function"
      ],
      "metadata": {
        "id": "udQUz1vX2Vgl"
      }
    },
    {
      "cell_type": "code",
      "source": [
        "room_area=calculate_area(12,10)\n",
        "print(f\"Room area :{room_area} square feet\")"
      ],
      "metadata": {
        "colab": {
          "base_uri": "https://localhost:8080/"
        },
        "id": "4v1AJFnL2Yat",
        "outputId": "9a039c38-1e08-4cbe-c8a2-0ae281abab59"
      },
      "execution_count": null,
      "outputs": [
        {
          "output_type": "stream",
          "name": "stdout",
          "text": [
            "Room area :120 square feet\n"
          ]
        }
      ]
    },
    {
      "cell_type": "markdown",
      "source": [
        "##Function with default parameters"
      ],
      "metadata": {
        "id": "MiMkzO4i2-G1"
      }
    },
    {
      "cell_type": "code",
      "source": [
        "def create_user_profile(name,age=18,location=\"unknown\",active=True):\n",
        "  return {\n",
        "      \"name\":name,\n",
        "      \"age\":age,\n",
        "      \"locatiob\":location,\n",
        "      \"active\":active\n",
        "  }\n"
      ],
      "metadata": {
        "id": "kkOeqW6s3aHm"
      },
      "execution_count": null,
      "outputs": []
    },
    {
      "cell_type": "markdown",
      "source": [
        "#Different ways to call"
      ],
      "metadata": {
        "id": "uM6iL-3W4Pr2"
      }
    },
    {
      "cell_type": "code",
      "source": [
        "profile1=create_user_profile(\"Alice\")#use default\n",
        "profile2=create_user_profile(\"Bob\",25)#override age\n",
        "profile3=create_user_profile(\"Charlie\",location=\"USA\",age=30)#named parameters\n",
        "\n",
        "print(\"1\",profile1)\n",
        "print(\"2\",profile2)\n",
        "print(\"3\",profile3)"
      ],
      "metadata": {
        "colab": {
          "base_uri": "https://localhost:8080/"
        },
        "id": "xQHyxYTl4ZGl",
        "outputId": "0d4c964f-2ca9-4a60-d4f7-900598eb8ed5"
      },
      "execution_count": null,
      "outputs": [
        {
          "output_type": "stream",
          "name": "stdout",
          "text": [
            "1 {'name': 'Alice', 'age': 18, 'locatiob': 'unknown', 'active': True}\n",
            "2 {'name': 'Bob', 'age': 25, 'locatiob': 'unknown', 'active': True}\n",
            "3 {'name': 'Charlie', 'age': 30, 'locatiob': 'USA', 'active': True}\n"
          ]
        }
      ]
    },
    {
      "cell_type": "markdown",
      "source": [
        "#funtion returning multiple values"
      ],
      "metadata": {
        "id": "8HtCgoq47J6o"
      }
    },
    {
      "cell_type": "code",
      "source": [
        "\n",
        "def abhi(text):\n",
        "  words=text.split()\n",
        "  word_count=len(words)\n",
        "  char_count=len(text)\n",
        "  char_count_no_spaces=len(text.replace(\" \",\" \"))\n",
        "  return word_count,char_count,char_count_no_spaces\n"
      ],
      "metadata": {
        "id": "6csLlSWE7n72"
      },
      "execution_count": null,
      "outputs": []
    },
    {
      "cell_type": "markdown",
      "source": [
        "#Test with sample text"
      ],
      "metadata": {
        "id": "f76EloV29Ek1"
      }
    },
    {
      "cell_type": "code",
      "source": [
        "sample_text=\"Python is a powerful programming language\"\n",
        "words,chars,chars_no_space=abhi(sample_text)\n",
        "print(f\"Text: '{sample_text}'\")\n",
        "print(f\"Word count:{words}\")\n",
        "print(f\"Character (no space):{chars_no_space}\")\n"
      ],
      "metadata": {
        "colab": {
          "base_uri": "https://localhost:8080/"
        },
        "id": "VfVwi_eM9JN9",
        "outputId": "26d84566-c3e0-4b9d-947c-82a0ab2e6535"
      },
      "execution_count": null,
      "outputs": [
        {
          "output_type": "stream",
          "name": "stdout",
          "text": [
            "Text: 'Python is a powerful programming language'\n",
            "Word count:6\n",
            "Character (no space):41\n"
          ]
        }
      ]
    },
    {
      "cell_type": "markdown",
      "source": [
        "#Variable-length arguments"
      ],
      "metadata": {
        "id": "H8f3Idga-znV"
      }
    },
    {
      "cell_type": "code",
      "source": [
        "def calculate_average(*numbers):\n",
        "  if not numbers:\n",
        "    return 0\n",
        "  return sum(numbers)/len(numbers)\n"
      ],
      "metadata": {
        "id": "T571sbNb_Yis"
      },
      "execution_count": null,
      "outputs": []
    },
    {
      "cell_type": "markdown",
      "source": [
        "##Test with different numbers of arguments"
      ],
      "metadata": {
        "id": "oR9xkgk8_s2G"
      }
    },
    {
      "cell_type": "code",
      "source": [
        "avg1=calculate_average(10,20,30)\n",
        "avg2=calculate_average(5,15,25,35,45)\n",
        "avg3=calculate_average(100)\n",
        "\n",
        "print(f\"Average of 10,20,30:{avg1}\")\n",
        "print(f\"Average of 5,15,25,35,45:{avg2}\")\n",
        "print(f\"Average of 100:{avg3}\")"
      ],
      "metadata": {
        "colab": {
          "base_uri": "https://localhost:8080/"
        },
        "id": "WhPlsOXDAi8N",
        "outputId": "33ef51fd-671c-4ebe-f390-92c7eaa28130"
      },
      "execution_count": null,
      "outputs": [
        {
          "output_type": "stream",
          "name": "stdout",
          "text": [
            "Average of 10,20,30:20.0\n",
            "Average of 5,15,25,35,45:25.0\n",
            "Average of 100:100.0\n"
          ]
        }
      ]
    },
    {
      "cell_type": "markdown",
      "source": [
        "#Keyword arguments"
      ],
      "metadata": {
        "id": "NzFtFvaHBkw-"
      }
    },
    {
      "cell_type": "code",
      "source": [
        "def create_report(**data):\n",
        "  print(\"==REPORT==\")\n",
        "\n",
        "  for key, value in data.items():\n",
        "    print(f\"{key.replace('_',' ').title()}:{value}\")\n",
        "\n",
        "  print(\"=============\")\n",
        "\n",
        "create_report(\n",
        "    title=\"Monthly sales report\",\n",
        "    date=\"2024-01-01\",\n",
        "    total_sales=15000,\n",
        "    new_customers=25,\n",
        "    returning_customers=159\n",
        "    )"
      ],
      "metadata": {
        "colab": {
          "base_uri": "https://localhost:8080/"
        },
        "id": "EqwAT10mBott",
        "outputId": "1899c36a-5441-46cc-9216-f64492c51473"
      },
      "execution_count": null,
      "outputs": [
        {
          "output_type": "stream",
          "name": "stdout",
          "text": [
            "==REPORT==\n",
            "Title:Monthly sales report\n",
            "Date:2024-01-01\n",
            "Total Sales:15000\n",
            "New Customers:25\n",
            "Returning Customers:159\n",
            "=============\n"
          ]
        }
      ]
    },
    {
      "cell_type": "markdown",
      "source": [
        "#Lambda Function"
      ],
      "metadata": {
        "id": "s2RRRuOUDMKV"
      }
    },
    {
      "cell_type": "markdown",
      "source": [
        "##Lambda function(anonymous functions)\n"
      ],
      "metadata": {
        "id": "qXFLGiO3DP6Q"
      }
    },
    {
      "cell_type": "markdown",
      "source": [
        "#Regular function"
      ],
      "metadata": {
        "id": "gxQCU0MjDdos"
      }
    },
    {
      "cell_type": "code",
      "source": [
        "def square(x):\n",
        "  return x**2\n"
      ],
      "metadata": {
        "id": "_SVRgDtHDgfs"
      },
      "execution_count": null,
      "outputs": []
    },
    {
      "cell_type": "markdown",
      "source": [
        "#Lambda equivalent\n",
        "\n",
        "\n"
      ],
      "metadata": {
        "id": "DcCSivldDmIm"
      }
    },
    {
      "cell_type": "code",
      "source": [
        "square_lambda=lambda x:x**2\n",
        "print(f\"Regular function: {square(5)}\")\n",
        "print(f\"lambda function: {square_lambda(5)}\")"
      ],
      "metadata": {
        "colab": {
          "base_uri": "https://localhost:8080/"
        },
        "id": "MAe_9J4vFLpk",
        "outputId": "fe58d5ae-c5a2-43ff-d6ab-5a5440f746a4"
      },
      "execution_count": null,
      "outputs": [
        {
          "output_type": "stream",
          "name": "stdout",
          "text": [
            "Regular function: 25\n",
            "lambda function: 25\n"
          ]
        }
      ]
    },
    {
      "cell_type": "markdown",
      "source": [
        "#lambda with multiple arguments"
      ],
      "metadata": {
        "id": "aR2CkSzCGve-"
      }
    },
    {
      "cell_type": "code",
      "source": [
        "multiply=lambda x,y:x*y\n",
        "print(f\"Multiply : {multiply(3,4)}\")"
      ],
      "metadata": {
        "colab": {
          "base_uri": "https://localhost:8080/"
        },
        "id": "1wq_1S-cG0_N",
        "outputId": "6ad56e16-3c2a-42f4-d201-e0a1c4345578"
      },
      "execution_count": null,
      "outputs": [
        {
          "output_type": "stream",
          "name": "stdout",
          "text": [
            "Multiply : 12\n"
          ]
        }
      ]
    },
    {
      "cell_type": "markdown",
      "source": [
        "#Lambda with built-in function"
      ],
      "metadata": {
        "id": "_iyTxydrHPOt"
      }
    },
    {
      "cell_type": "code",
      "source": [
        "numberts=[1,2,3,4,5]\n",
        "squared=list(map(lambda x:x**2,numberts))\n",
        "print(f\"squared numbers: {squared}\")\n"
      ],
      "metadata": {
        "colab": {
          "base_uri": "https://localhost:8080/"
        },
        "id": "FpW2gbl_HUCm",
        "outputId": "a48b70fb-ce83-492e-c999-fe5508b72e77"
      },
      "execution_count": null,
      "outputs": [
        {
          "output_type": "stream",
          "name": "stdout",
          "text": [
            "squared numbers: [1, 4, 9, 16, 25]\n"
          ]
        }
      ]
    },
    {
      "cell_type": "markdown",
      "source": [
        "#Filtering with lambda"
      ],
      "metadata": {
        "id": "fpzeFBwxHoRf"
      }
    },
    {
      "cell_type": "code",
      "source": [
        "ages=[16,21,35,12,45,18,67]\n",
        "adults=list(filter(lambda age:age>=18,ages))\n",
        "print(f\"Adult ages: {adults}\")"
      ],
      "metadata": {
        "colab": {
          "base_uri": "https://localhost:8080/"
        },
        "id": "_pYBKTpAHsud",
        "outputId": "e9874dfa-d3b9-4707-8251-8b0acc0d1ec1"
      },
      "execution_count": null,
      "outputs": [
        {
          "output_type": "stream",
          "name": "stdout",
          "text": [
            "Adult ages: [21, 35, 45, 18, 67]\n"
          ]
        }
      ]
    },
    {
      "cell_type": "markdown",
      "source": [
        "#Sorting with lambda"
      ],
      "metadata": {
        "id": "vh9PgoE6IRPE"
      }
    },
    {
      "cell_type": "code",
      "source": [
        "people=[{\"name\":\"Alice\",\"age\":30},\n",
        "        {\"name\":\"Bob\",\"age\":35},\n",
        "      {\"name\":\"Charlie\",\"age\":25}]\n",
        "sorted_people=sorted(people,key=lambda person: person[\"age\"])\n",
        "print(\"people sorted by age\")\n",
        "for person in sorted_people:\n",
        "  print(f\"{person['name']}: {person['age']}\")"
      ],
      "metadata": {
        "colab": {
          "base_uri": "https://localhost:8080/"
        },
        "id": "tIeAkhs0ItAf",
        "outputId": "73fc466f-381d-4854-ce6c-e188218c4444"
      },
      "execution_count": null,
      "outputs": [
        {
          "output_type": "stream",
          "name": "stdout",
          "text": [
            "people sorted by age\n",
            "Charlie: 25\n",
            "Alice: 30\n",
            "Bob: 35\n"
          ]
        }
      ]
    },
    {
      "cell_type": "markdown",
      "source": [
        "#day 3\n"
      ],
      "metadata": {
        "id": "On-ehQrRSMHD"
      }
    },
    {
      "cell_type": "markdown",
      "source": [
        "#numpy"
      ],
      "metadata": {
        "id": "LpfNO_RdSPjj"
      }
    },
    {
      "cell_type": "markdown",
      "source": [
        "##creating array using numpy\n"
      ],
      "metadata": {
        "id": "_jcjRDcXSRo7"
      }
    },
    {
      "cell_type": "code",
      "source": [
        "import numpy as np\n",
        "a=np.array([1,2,3,4,5])\n",
        "b=np.arange(1,6)   #it is like range function\n",
        "c=np.zeros((2,3))  #2x3 matrics of zeros- all value in 0\n",
        "d=np.ones((3,2))   #3x2 matrics of ones--all values in 1\n",
        "\n",
        "print(a)\n",
        "print(b)\n",
        "print(c)\n",
        "print(d)\n"
      ],
      "metadata": {
        "colab": {
          "base_uri": "https://localhost:8080/"
        },
        "id": "JA-TjfXASW1j",
        "outputId": "6d8fdb52-d69f-4eb9-c727-d0ffebb14890"
      },
      "execution_count": null,
      "outputs": [
        {
          "output_type": "stream",
          "name": "stdout",
          "text": [
            "[1 2 3 4 5]\n",
            "[1 2 3 4 5]\n",
            "[[0. 0. 0.]\n",
            " [0. 0. 0.]]\n",
            "[[1. 1.]\n",
            " [1. 1.]\n",
            " [1. 1.]]\n"
          ]
        }
      ]
    },
    {
      "cell_type": "markdown",
      "source": [
        "##indexing and slicing\n"
      ],
      "metadata": {
        "id": "AKjpfiWmTJ9z"
      }
    },
    {
      "cell_type": "code",
      "source": [
        "print(\"first element of a:\",a[0])\n",
        "print(\"last 2 elements of a:\",a[-2:])"
      ],
      "metadata": {
        "colab": {
          "base_uri": "https://localhost:8080/"
        },
        "id": "xo--msmkUClL",
        "outputId": "a680e843-5068-4d7f-aeba-088c3d6f7bc3"
      },
      "execution_count": null,
      "outputs": [
        {
          "output_type": "stream",
          "name": "stdout",
          "text": [
            "first element of a: 1\n",
            "last 2 elements of a: [4 5]\n"
          ]
        }
      ]
    },
    {
      "cell_type": "markdown",
      "source": [
        "##Basic arithmetic operations"
      ],
      "metadata": {
        "id": "Obe4abu2UTBT"
      }
    },
    {
      "cell_type": "code",
      "source": [
        "print(\"a+2:\",a+2) #it adds 2 to all the elements in a[1,2,3,4,5]\n",
        "print(f\"a*3: {a*3}\") # (or) print(a*3) -- it multiples all the elements in a with 3"
      ],
      "metadata": {
        "colab": {
          "base_uri": "https://localhost:8080/"
        },
        "id": "tjjWPVtQUXjb",
        "outputId": "de22f936-24e0-4660-ac71-ff423933baf1"
      },
      "execution_count": null,
      "outputs": [
        {
          "output_type": "stream",
          "name": "stdout",
          "text": [
            "a+2: [3 4 5 6 7]\n",
            "a*3: [ 3  6  9 12 15]\n"
          ]
        }
      ]
    },
    {
      "cell_type": "markdown",
      "source": [
        "##Basic statistics"
      ],
      "metadata": {
        "id": "IaIQv5W9U--T"
      }
    },
    {
      "cell_type": "code",
      "source": [
        "print(\"square of a:\",np.square(a))#it returns  the square of a elements\n",
        "print(\"mean of a:\",np.mean(a))  #it returns  the mean of a elements\n",
        "print(\"standarad deivation:\",np.std(a))"
      ],
      "metadata": {
        "colab": {
          "base_uri": "https://localhost:8080/"
        },
        "id": "uo97dEVLVDZb",
        "outputId": "a9aea6d6-f6a6-45c3-f5f9-e4ff630c676f"
      },
      "execution_count": null,
      "outputs": [
        {
          "output_type": "stream",
          "name": "stdout",
          "text": [
            "square of a: [ 1  4  9 16 25]\n",
            "mean of a: 3.0\n",
            "standarad deivation: 1.4142135623730951\n"
          ]
        }
      ]
    },
    {
      "cell_type": "markdown",
      "source": [
        "##Reshaping arrays"
      ],
      "metadata": {
        "id": "dgXyx04HVjZd"
      }
    },
    {
      "cell_type": "code",
      "source": [
        "mat=np.arange(1,10).reshape((3,3)) #it return the elements in matric forn 3 x3\n",
        "print(\"reshaped 3x3:\")\n",
        "mat"
      ],
      "metadata": {
        "colab": {
          "base_uri": "https://localhost:8080/"
        },
        "id": "LOAgE61uVnhD",
        "outputId": "b0cf55f4-c697-4a33-f9cc-5848cebb8243"
      },
      "execution_count": null,
      "outputs": [
        {
          "output_type": "stream",
          "name": "stdout",
          "text": [
            "reshaped 3x3:\n"
          ]
        },
        {
          "output_type": "execute_result",
          "data": {
            "text/plain": [
              "array([[1, 2, 3],\n",
              "       [4, 5, 6],\n",
              "       [7, 8, 9]])"
            ]
          },
          "metadata": {},
          "execution_count": 10
        }
      ]
    },
    {
      "cell_type": "markdown",
      "source": [
        "##Transpose"
      ],
      "metadata": {
        "id": "8PjCRmU-WFlr"
      }
    },
    {
      "cell_type": "code",
      "source": [
        "print(\"transpose\")\n",
        "mat.T"
      ],
      "metadata": {
        "colab": {
          "base_uri": "https://localhost:8080/"
        },
        "id": "KKO4aSmxWIxb",
        "outputId": "13d6c0f4-4cf5-475a-af4b-6381490cf462"
      },
      "execution_count": null,
      "outputs": [
        {
          "output_type": "stream",
          "name": "stdout",
          "text": [
            "transpose\n"
          ]
        },
        {
          "output_type": "execute_result",
          "data": {
            "text/plain": [
              "array([[1, 4, 7],\n",
              "       [2, 5, 8],\n",
              "       [3, 6, 9]])"
            ]
          },
          "metadata": {},
          "execution_count": 12
        }
      ]
    },
    {
      "cell_type": "markdown",
      "source": [
        "##Boolean indexing"
      ],
      "metadata": {
        "id": "6Tz2vlHRWgr-"
      }
    },
    {
      "cell_type": "code",
      "source": [
        "print(\"Elements >5:\",mat[mat>5]) #it returns the elemnts omly  grteater then 5 in mat array"
      ],
      "metadata": {
        "colab": {
          "base_uri": "https://localhost:8080/"
        },
        "id": "mXMsjjNvWjwT",
        "outputId": "fccf9cca-3f95-4909-f6d6-784637c43610"
      },
      "execution_count": null,
      "outputs": [
        {
          "output_type": "stream",
          "name": "stdout",
          "text": [
            "Elements >5: [6 7 8 9]\n"
          ]
        }
      ]
    },
    {
      "cell_type": "markdown",
      "source": [
        "#🐼:Pandas:Data handling made easy(tables form)"
      ],
      "metadata": {
        "id": "r7RvsD9yXJ58"
      }
    },
    {
      "cell_type": "markdown",
      "source": [
        "##CREATE DATA FRAME MANUALY"
      ],
      "metadata": {
        "id": "Si5COqN5XrHc"
      }
    },
    {
      "cell_type": "code",
      "source": [
        "import pandas as pd\n",
        "\n",
        "data={'NAME': ['Abhi','Sudee','Kiran','charlie','David'],\n",
        "      'AGE': [25,30,35,40,22],\n",
        "      'DEPARTMENT': ['Sales','Engineering','HR','Engineering','Sales'],\n",
        "      'SALARY': [50000,80000,40000,90000,45000]}\n",
        "df=pd.DataFrame(data)#D and F should be in capital\n",
        "df"
      ],
      "metadata": {
        "colab": {
          "base_uri": "https://localhost:8080/",
          "height": 206
        },
        "id": "yT9ZkTVgXqad",
        "outputId": "96b83fd0-a008-4dc5-b015-8e34fd352964"
      },
      "execution_count": null,
      "outputs": [
        {
          "output_type": "execute_result",
          "data": {
            "text/plain": [
              "      NAME  AGE   DEPARTMENT  SALARY\n",
              "0     Abhi   25        Sales   50000\n",
              "1    Sudee   30  Engineering   80000\n",
              "2    Kiran   35           HR   40000\n",
              "3  charlie   40  Engineering   90000\n",
              "4    David   22        Sales   45000"
            ],
            "text/html": [
              "\n",
              "  <div id=\"df-51d655b9-7cb9-4e44-91b1-365b6692cf4b\" class=\"colab-df-container\">\n",
              "    <div>\n",
              "<style scoped>\n",
              "    .dataframe tbody tr th:only-of-type {\n",
              "        vertical-align: middle;\n",
              "    }\n",
              "\n",
              "    .dataframe tbody tr th {\n",
              "        vertical-align: top;\n",
              "    }\n",
              "\n",
              "    .dataframe thead th {\n",
              "        text-align: right;\n",
              "    }\n",
              "</style>\n",
              "<table border=\"1\" class=\"dataframe\">\n",
              "  <thead>\n",
              "    <tr style=\"text-align: right;\">\n",
              "      <th></th>\n",
              "      <th>NAME</th>\n",
              "      <th>AGE</th>\n",
              "      <th>DEPARTMENT</th>\n",
              "      <th>SALARY</th>\n",
              "    </tr>\n",
              "  </thead>\n",
              "  <tbody>\n",
              "    <tr>\n",
              "      <th>0</th>\n",
              "      <td>Abhi</td>\n",
              "      <td>25</td>\n",
              "      <td>Sales</td>\n",
              "      <td>50000</td>\n",
              "    </tr>\n",
              "    <tr>\n",
              "      <th>1</th>\n",
              "      <td>Sudee</td>\n",
              "      <td>30</td>\n",
              "      <td>Engineering</td>\n",
              "      <td>80000</td>\n",
              "    </tr>\n",
              "    <tr>\n",
              "      <th>2</th>\n",
              "      <td>Kiran</td>\n",
              "      <td>35</td>\n",
              "      <td>HR</td>\n",
              "      <td>40000</td>\n",
              "    </tr>\n",
              "    <tr>\n",
              "      <th>3</th>\n",
              "      <td>charlie</td>\n",
              "      <td>40</td>\n",
              "      <td>Engineering</td>\n",
              "      <td>90000</td>\n",
              "    </tr>\n",
              "    <tr>\n",
              "      <th>4</th>\n",
              "      <td>David</td>\n",
              "      <td>22</td>\n",
              "      <td>Sales</td>\n",
              "      <td>45000</td>\n",
              "    </tr>\n",
              "  </tbody>\n",
              "</table>\n",
              "</div>\n",
              "    <div class=\"colab-df-buttons\">\n",
              "\n",
              "  <div class=\"colab-df-container\">\n",
              "    <button class=\"colab-df-convert\" onclick=\"convertToInteractive('df-51d655b9-7cb9-4e44-91b1-365b6692cf4b')\"\n",
              "            title=\"Convert this dataframe to an interactive table.\"\n",
              "            style=\"display:none;\">\n",
              "\n",
              "  <svg xmlns=\"http://www.w3.org/2000/svg\" height=\"24px\" viewBox=\"0 -960 960 960\">\n",
              "    <path d=\"M120-120v-720h720v720H120Zm60-500h600v-160H180v160Zm220 220h160v-160H400v160Zm0 220h160v-160H400v160ZM180-400h160v-160H180v160Zm440 0h160v-160H620v160ZM180-180h160v-160H180v160Zm440 0h160v-160H620v160Z\"/>\n",
              "  </svg>\n",
              "    </button>\n",
              "\n",
              "  <style>\n",
              "    .colab-df-container {\n",
              "      display:flex;\n",
              "      gap: 12px;\n",
              "    }\n",
              "\n",
              "    .colab-df-convert {\n",
              "      background-color: #E8F0FE;\n",
              "      border: none;\n",
              "      border-radius: 50%;\n",
              "      cursor: pointer;\n",
              "      display: none;\n",
              "      fill: #1967D2;\n",
              "      height: 32px;\n",
              "      padding: 0 0 0 0;\n",
              "      width: 32px;\n",
              "    }\n",
              "\n",
              "    .colab-df-convert:hover {\n",
              "      background-color: #E2EBFA;\n",
              "      box-shadow: 0px 1px 2px rgba(60, 64, 67, 0.3), 0px 1px 3px 1px rgba(60, 64, 67, 0.15);\n",
              "      fill: #174EA6;\n",
              "    }\n",
              "\n",
              "    .colab-df-buttons div {\n",
              "      margin-bottom: 4px;\n",
              "    }\n",
              "\n",
              "    [theme=dark] .colab-df-convert {\n",
              "      background-color: #3B4455;\n",
              "      fill: #D2E3FC;\n",
              "    }\n",
              "\n",
              "    [theme=dark] .colab-df-convert:hover {\n",
              "      background-color: #434B5C;\n",
              "      box-shadow: 0px 1px 3px 1px rgba(0, 0, 0, 0.15);\n",
              "      filter: drop-shadow(0px 1px 2px rgba(0, 0, 0, 0.3));\n",
              "      fill: #FFFFFF;\n",
              "    }\n",
              "  </style>\n",
              "\n",
              "    <script>\n",
              "      const buttonEl =\n",
              "        document.querySelector('#df-51d655b9-7cb9-4e44-91b1-365b6692cf4b button.colab-df-convert');\n",
              "      buttonEl.style.display =\n",
              "        google.colab.kernel.accessAllowed ? 'block' : 'none';\n",
              "\n",
              "      async function convertToInteractive(key) {\n",
              "        const element = document.querySelector('#df-51d655b9-7cb9-4e44-91b1-365b6692cf4b');\n",
              "        const dataTable =\n",
              "          await google.colab.kernel.invokeFunction('convertToInteractive',\n",
              "                                                    [key], {});\n",
              "        if (!dataTable) return;\n",
              "\n",
              "        const docLinkHtml = 'Like what you see? Visit the ' +\n",
              "          '<a target=\"_blank\" href=https://colab.research.google.com/notebooks/data_table.ipynb>data table notebook</a>'\n",
              "          + ' to learn more about interactive tables.';\n",
              "        element.innerHTML = '';\n",
              "        dataTable['output_type'] = 'display_data';\n",
              "        await google.colab.output.renderOutput(dataTable, element);\n",
              "        const docLink = document.createElement('div');\n",
              "        docLink.innerHTML = docLinkHtml;\n",
              "        element.appendChild(docLink);\n",
              "      }\n",
              "    </script>\n",
              "  </div>\n",
              "\n",
              "\n",
              "    <div id=\"df-5fd621dd-8675-4339-88ed-f660f969dd97\">\n",
              "      <button class=\"colab-df-quickchart\" onclick=\"quickchart('df-5fd621dd-8675-4339-88ed-f660f969dd97')\"\n",
              "                title=\"Suggest charts\"\n",
              "                style=\"display:none;\">\n",
              "\n",
              "<svg xmlns=\"http://www.w3.org/2000/svg\" height=\"24px\"viewBox=\"0 0 24 24\"\n",
              "     width=\"24px\">\n",
              "    <g>\n",
              "        <path d=\"M19 3H5c-1.1 0-2 .9-2 2v14c0 1.1.9 2 2 2h14c1.1 0 2-.9 2-2V5c0-1.1-.9-2-2-2zM9 17H7v-7h2v7zm4 0h-2V7h2v10zm4 0h-2v-4h2v4z\"/>\n",
              "    </g>\n",
              "</svg>\n",
              "      </button>\n",
              "\n",
              "<style>\n",
              "  .colab-df-quickchart {\n",
              "      --bg-color: #E8F0FE;\n",
              "      --fill-color: #1967D2;\n",
              "      --hover-bg-color: #E2EBFA;\n",
              "      --hover-fill-color: #174EA6;\n",
              "      --disabled-fill-color: #AAA;\n",
              "      --disabled-bg-color: #DDD;\n",
              "  }\n",
              "\n",
              "  [theme=dark] .colab-df-quickchart {\n",
              "      --bg-color: #3B4455;\n",
              "      --fill-color: #D2E3FC;\n",
              "      --hover-bg-color: #434B5C;\n",
              "      --hover-fill-color: #FFFFFF;\n",
              "      --disabled-bg-color: #3B4455;\n",
              "      --disabled-fill-color: #666;\n",
              "  }\n",
              "\n",
              "  .colab-df-quickchart {\n",
              "    background-color: var(--bg-color);\n",
              "    border: none;\n",
              "    border-radius: 50%;\n",
              "    cursor: pointer;\n",
              "    display: none;\n",
              "    fill: var(--fill-color);\n",
              "    height: 32px;\n",
              "    padding: 0;\n",
              "    width: 32px;\n",
              "  }\n",
              "\n",
              "  .colab-df-quickchart:hover {\n",
              "    background-color: var(--hover-bg-color);\n",
              "    box-shadow: 0 1px 2px rgba(60, 64, 67, 0.3), 0 1px 3px 1px rgba(60, 64, 67, 0.15);\n",
              "    fill: var(--button-hover-fill-color);\n",
              "  }\n",
              "\n",
              "  .colab-df-quickchart-complete:disabled,\n",
              "  .colab-df-quickchart-complete:disabled:hover {\n",
              "    background-color: var(--disabled-bg-color);\n",
              "    fill: var(--disabled-fill-color);\n",
              "    box-shadow: none;\n",
              "  }\n",
              "\n",
              "  .colab-df-spinner {\n",
              "    border: 2px solid var(--fill-color);\n",
              "    border-color: transparent;\n",
              "    border-bottom-color: var(--fill-color);\n",
              "    animation:\n",
              "      spin 1s steps(1) infinite;\n",
              "  }\n",
              "\n",
              "  @keyframes spin {\n",
              "    0% {\n",
              "      border-color: transparent;\n",
              "      border-bottom-color: var(--fill-color);\n",
              "      border-left-color: var(--fill-color);\n",
              "    }\n",
              "    20% {\n",
              "      border-color: transparent;\n",
              "      border-left-color: var(--fill-color);\n",
              "      border-top-color: var(--fill-color);\n",
              "    }\n",
              "    30% {\n",
              "      border-color: transparent;\n",
              "      border-left-color: var(--fill-color);\n",
              "      border-top-color: var(--fill-color);\n",
              "      border-right-color: var(--fill-color);\n",
              "    }\n",
              "    40% {\n",
              "      border-color: transparent;\n",
              "      border-right-color: var(--fill-color);\n",
              "      border-top-color: var(--fill-color);\n",
              "    }\n",
              "    60% {\n",
              "      border-color: transparent;\n",
              "      border-right-color: var(--fill-color);\n",
              "    }\n",
              "    80% {\n",
              "      border-color: transparent;\n",
              "      border-right-color: var(--fill-color);\n",
              "      border-bottom-color: var(--fill-color);\n",
              "    }\n",
              "    90% {\n",
              "      border-color: transparent;\n",
              "      border-bottom-color: var(--fill-color);\n",
              "    }\n",
              "  }\n",
              "</style>\n",
              "\n",
              "      <script>\n",
              "        async function quickchart(key) {\n",
              "          const quickchartButtonEl =\n",
              "            document.querySelector('#' + key + ' button');\n",
              "          quickchartButtonEl.disabled = true;  // To prevent multiple clicks.\n",
              "          quickchartButtonEl.classList.add('colab-df-spinner');\n",
              "          try {\n",
              "            const charts = await google.colab.kernel.invokeFunction(\n",
              "                'suggestCharts', [key], {});\n",
              "          } catch (error) {\n",
              "            console.error('Error during call to suggestCharts:', error);\n",
              "          }\n",
              "          quickchartButtonEl.classList.remove('colab-df-spinner');\n",
              "          quickchartButtonEl.classList.add('colab-df-quickchart-complete');\n",
              "        }\n",
              "        (() => {\n",
              "          let quickchartButtonEl =\n",
              "            document.querySelector('#df-5fd621dd-8675-4339-88ed-f660f969dd97 button');\n",
              "          quickchartButtonEl.style.display =\n",
              "            google.colab.kernel.accessAllowed ? 'block' : 'none';\n",
              "        })();\n",
              "      </script>\n",
              "    </div>\n",
              "\n",
              "  <div id=\"id_7c39378f-ff46-4959-b051-9cb01161ee07\">\n",
              "    <style>\n",
              "      .colab-df-generate {\n",
              "        background-color: #E8F0FE;\n",
              "        border: none;\n",
              "        border-radius: 50%;\n",
              "        cursor: pointer;\n",
              "        display: none;\n",
              "        fill: #1967D2;\n",
              "        height: 32px;\n",
              "        padding: 0 0 0 0;\n",
              "        width: 32px;\n",
              "      }\n",
              "\n",
              "      .colab-df-generate:hover {\n",
              "        background-color: #E2EBFA;\n",
              "        box-shadow: 0px 1px 2px rgba(60, 64, 67, 0.3), 0px 1px 3px 1px rgba(60, 64, 67, 0.15);\n",
              "        fill: #174EA6;\n",
              "      }\n",
              "\n",
              "      [theme=dark] .colab-df-generate {\n",
              "        background-color: #3B4455;\n",
              "        fill: #D2E3FC;\n",
              "      }\n",
              "\n",
              "      [theme=dark] .colab-df-generate:hover {\n",
              "        background-color: #434B5C;\n",
              "        box-shadow: 0px 1px 3px 1px rgba(0, 0, 0, 0.15);\n",
              "        filter: drop-shadow(0px 1px 2px rgba(0, 0, 0, 0.3));\n",
              "        fill: #FFFFFF;\n",
              "      }\n",
              "    </style>\n",
              "    <button class=\"colab-df-generate\" onclick=\"generateWithVariable('df')\"\n",
              "            title=\"Generate code using this dataframe.\"\n",
              "            style=\"display:none;\">\n",
              "\n",
              "  <svg xmlns=\"http://www.w3.org/2000/svg\" height=\"24px\"viewBox=\"0 0 24 24\"\n",
              "       width=\"24px\">\n",
              "    <path d=\"M7,19H8.4L18.45,9,17,7.55,7,17.6ZM5,21V16.75L18.45,3.32a2,2,0,0,1,2.83,0l1.4,1.43a1.91,1.91,0,0,1,.58,1.4,1.91,1.91,0,0,1-.58,1.4L9.25,21ZM18.45,9,17,7.55Zm-12,3A5.31,5.31,0,0,0,4.9,8.1,5.31,5.31,0,0,0,1,6.5,5.31,5.31,0,0,0,4.9,4.9,5.31,5.31,0,0,0,6.5,1,5.31,5.31,0,0,0,8.1,4.9,5.31,5.31,0,0,0,12,6.5,5.46,5.46,0,0,0,6.5,12Z\"/>\n",
              "  </svg>\n",
              "    </button>\n",
              "    <script>\n",
              "      (() => {\n",
              "      const buttonEl =\n",
              "        document.querySelector('#id_7c39378f-ff46-4959-b051-9cb01161ee07 button.colab-df-generate');\n",
              "      buttonEl.style.display =\n",
              "        google.colab.kernel.accessAllowed ? 'block' : 'none';\n",
              "\n",
              "      buttonEl.onclick = () => {\n",
              "        google.colab.notebook.generateWithVariable('df');\n",
              "      }\n",
              "      })();\n",
              "    </script>\n",
              "  </div>\n",
              "\n",
              "    </div>\n",
              "  </div>\n"
            ],
            "application/vnd.google.colaboratory.intrinsic+json": {
              "type": "dataframe",
              "variable_name": "df",
              "summary": "{\n  \"name\": \"df\",\n  \"rows\": 5,\n  \"fields\": [\n    {\n      \"column\": \"NAME\",\n      \"properties\": {\n        \"dtype\": \"string\",\n        \"num_unique_values\": 5,\n        \"samples\": [\n          \"Sudee\",\n          \"David\",\n          \"Kiran\"\n        ],\n        \"semantic_type\": \"\",\n        \"description\": \"\"\n      }\n    },\n    {\n      \"column\": \"AGE\",\n      \"properties\": {\n        \"dtype\": \"number\",\n        \"std\": 7,\n        \"min\": 22,\n        \"max\": 40,\n        \"num_unique_values\": 5,\n        \"samples\": [\n          30,\n          22,\n          35\n        ],\n        \"semantic_type\": \"\",\n        \"description\": \"\"\n      }\n    },\n    {\n      \"column\": \"DEPARTMENT\",\n      \"properties\": {\n        \"dtype\": \"string\",\n        \"num_unique_values\": 3,\n        \"samples\": [\n          \"Sales\",\n          \"Engineering\",\n          \"HR\"\n        ],\n        \"semantic_type\": \"\",\n        \"description\": \"\"\n      }\n    },\n    {\n      \"column\": \"SALARY\",\n      \"properties\": {\n        \"dtype\": \"number\",\n        \"std\": 22472,\n        \"min\": 40000,\n        \"max\": 90000,\n        \"num_unique_values\": 5,\n        \"samples\": [\n          80000,\n          45000,\n          40000\n        ],\n        \"semantic_type\": \"\",\n        \"description\": \"\"\n      }\n    }\n  ]\n}"
            }
          },
          "metadata": {},
          "execution_count": 3
        }
      ]
    },
    {
      "cell_type": "markdown",
      "source": [
        "##Basic operations"
      ],
      "metadata": {
        "id": "Y6vs2Yul1tE4"
      }
    },
    {
      "cell_type": "code",
      "source": [
        "print(\"First 3 rows:\")\n",
        "df.head(3)#it prints startin 3 rows of data"
      ],
      "metadata": {
        "colab": {
          "base_uri": "https://localhost:8080/",
          "height": 161
        },
        "id": "PA9t3uTC1_5Q",
        "outputId": "b1ff6be6-f5f7-4ad6-d4d5-77fefeefd2c0"
      },
      "execution_count": null,
      "outputs": [
        {
          "output_type": "stream",
          "name": "stdout",
          "text": [
            "First 3 rows:\n"
          ]
        },
        {
          "output_type": "execute_result",
          "data": {
            "text/plain": [
              "    NAME  AGE   DEPARTMENT  SALARY\n",
              "0   Abhi   25        Sales   50000\n",
              "1  Sudee   30  Engineering   80000\n",
              "2  Kiran   35           HR   40000"
            ],
            "text/html": [
              "\n",
              "  <div id=\"df-7a2417a5-f2ad-4b19-a7b9-5adf74d04cdd\" class=\"colab-df-container\">\n",
              "    <div>\n",
              "<style scoped>\n",
              "    .dataframe tbody tr th:only-of-type {\n",
              "        vertical-align: middle;\n",
              "    }\n",
              "\n",
              "    .dataframe tbody tr th {\n",
              "        vertical-align: top;\n",
              "    }\n",
              "\n",
              "    .dataframe thead th {\n",
              "        text-align: right;\n",
              "    }\n",
              "</style>\n",
              "<table border=\"1\" class=\"dataframe\">\n",
              "  <thead>\n",
              "    <tr style=\"text-align: right;\">\n",
              "      <th></th>\n",
              "      <th>NAME</th>\n",
              "      <th>AGE</th>\n",
              "      <th>DEPARTMENT</th>\n",
              "      <th>SALARY</th>\n",
              "    </tr>\n",
              "  </thead>\n",
              "  <tbody>\n",
              "    <tr>\n",
              "      <th>0</th>\n",
              "      <td>Abhi</td>\n",
              "      <td>25</td>\n",
              "      <td>Sales</td>\n",
              "      <td>50000</td>\n",
              "    </tr>\n",
              "    <tr>\n",
              "      <th>1</th>\n",
              "      <td>Sudee</td>\n",
              "      <td>30</td>\n",
              "      <td>Engineering</td>\n",
              "      <td>80000</td>\n",
              "    </tr>\n",
              "    <tr>\n",
              "      <th>2</th>\n",
              "      <td>Kiran</td>\n",
              "      <td>35</td>\n",
              "      <td>HR</td>\n",
              "      <td>40000</td>\n",
              "    </tr>\n",
              "  </tbody>\n",
              "</table>\n",
              "</div>\n",
              "    <div class=\"colab-df-buttons\">\n",
              "\n",
              "  <div class=\"colab-df-container\">\n",
              "    <button class=\"colab-df-convert\" onclick=\"convertToInteractive('df-7a2417a5-f2ad-4b19-a7b9-5adf74d04cdd')\"\n",
              "            title=\"Convert this dataframe to an interactive table.\"\n",
              "            style=\"display:none;\">\n",
              "\n",
              "  <svg xmlns=\"http://www.w3.org/2000/svg\" height=\"24px\" viewBox=\"0 -960 960 960\">\n",
              "    <path d=\"M120-120v-720h720v720H120Zm60-500h600v-160H180v160Zm220 220h160v-160H400v160Zm0 220h160v-160H400v160ZM180-400h160v-160H180v160Zm440 0h160v-160H620v160ZM180-180h160v-160H180v160Zm440 0h160v-160H620v160Z\"/>\n",
              "  </svg>\n",
              "    </button>\n",
              "\n",
              "  <style>\n",
              "    .colab-df-container {\n",
              "      display:flex;\n",
              "      gap: 12px;\n",
              "    }\n",
              "\n",
              "    .colab-df-convert {\n",
              "      background-color: #E8F0FE;\n",
              "      border: none;\n",
              "      border-radius: 50%;\n",
              "      cursor: pointer;\n",
              "      display: none;\n",
              "      fill: #1967D2;\n",
              "      height: 32px;\n",
              "      padding: 0 0 0 0;\n",
              "      width: 32px;\n",
              "    }\n",
              "\n",
              "    .colab-df-convert:hover {\n",
              "      background-color: #E2EBFA;\n",
              "      box-shadow: 0px 1px 2px rgba(60, 64, 67, 0.3), 0px 1px 3px 1px rgba(60, 64, 67, 0.15);\n",
              "      fill: #174EA6;\n",
              "    }\n",
              "\n",
              "    .colab-df-buttons div {\n",
              "      margin-bottom: 4px;\n",
              "    }\n",
              "\n",
              "    [theme=dark] .colab-df-convert {\n",
              "      background-color: #3B4455;\n",
              "      fill: #D2E3FC;\n",
              "    }\n",
              "\n",
              "    [theme=dark] .colab-df-convert:hover {\n",
              "      background-color: #434B5C;\n",
              "      box-shadow: 0px 1px 3px 1px rgba(0, 0, 0, 0.15);\n",
              "      filter: drop-shadow(0px 1px 2px rgba(0, 0, 0, 0.3));\n",
              "      fill: #FFFFFF;\n",
              "    }\n",
              "  </style>\n",
              "\n",
              "    <script>\n",
              "      const buttonEl =\n",
              "        document.querySelector('#df-7a2417a5-f2ad-4b19-a7b9-5adf74d04cdd button.colab-df-convert');\n",
              "      buttonEl.style.display =\n",
              "        google.colab.kernel.accessAllowed ? 'block' : 'none';\n",
              "\n",
              "      async function convertToInteractive(key) {\n",
              "        const element = document.querySelector('#df-7a2417a5-f2ad-4b19-a7b9-5adf74d04cdd');\n",
              "        const dataTable =\n",
              "          await google.colab.kernel.invokeFunction('convertToInteractive',\n",
              "                                                    [key], {});\n",
              "        if (!dataTable) return;\n",
              "\n",
              "        const docLinkHtml = 'Like what you see? Visit the ' +\n",
              "          '<a target=\"_blank\" href=https://colab.research.google.com/notebooks/data_table.ipynb>data table notebook</a>'\n",
              "          + ' to learn more about interactive tables.';\n",
              "        element.innerHTML = '';\n",
              "        dataTable['output_type'] = 'display_data';\n",
              "        await google.colab.output.renderOutput(dataTable, element);\n",
              "        const docLink = document.createElement('div');\n",
              "        docLink.innerHTML = docLinkHtml;\n",
              "        element.appendChild(docLink);\n",
              "      }\n",
              "    </script>\n",
              "  </div>\n",
              "\n",
              "\n",
              "    <div id=\"df-4e394d91-6014-4a21-be09-f8a2b7f6fe23\">\n",
              "      <button class=\"colab-df-quickchart\" onclick=\"quickchart('df-4e394d91-6014-4a21-be09-f8a2b7f6fe23')\"\n",
              "                title=\"Suggest charts\"\n",
              "                style=\"display:none;\">\n",
              "\n",
              "<svg xmlns=\"http://www.w3.org/2000/svg\" height=\"24px\"viewBox=\"0 0 24 24\"\n",
              "     width=\"24px\">\n",
              "    <g>\n",
              "        <path d=\"M19 3H5c-1.1 0-2 .9-2 2v14c0 1.1.9 2 2 2h14c1.1 0 2-.9 2-2V5c0-1.1-.9-2-2-2zM9 17H7v-7h2v7zm4 0h-2V7h2v10zm4 0h-2v-4h2v4z\"/>\n",
              "    </g>\n",
              "</svg>\n",
              "      </button>\n",
              "\n",
              "<style>\n",
              "  .colab-df-quickchart {\n",
              "      --bg-color: #E8F0FE;\n",
              "      --fill-color: #1967D2;\n",
              "      --hover-bg-color: #E2EBFA;\n",
              "      --hover-fill-color: #174EA6;\n",
              "      --disabled-fill-color: #AAA;\n",
              "      --disabled-bg-color: #DDD;\n",
              "  }\n",
              "\n",
              "  [theme=dark] .colab-df-quickchart {\n",
              "      --bg-color: #3B4455;\n",
              "      --fill-color: #D2E3FC;\n",
              "      --hover-bg-color: #434B5C;\n",
              "      --hover-fill-color: #FFFFFF;\n",
              "      --disabled-bg-color: #3B4455;\n",
              "      --disabled-fill-color: #666;\n",
              "  }\n",
              "\n",
              "  .colab-df-quickchart {\n",
              "    background-color: var(--bg-color);\n",
              "    border: none;\n",
              "    border-radius: 50%;\n",
              "    cursor: pointer;\n",
              "    display: none;\n",
              "    fill: var(--fill-color);\n",
              "    height: 32px;\n",
              "    padding: 0;\n",
              "    width: 32px;\n",
              "  }\n",
              "\n",
              "  .colab-df-quickchart:hover {\n",
              "    background-color: var(--hover-bg-color);\n",
              "    box-shadow: 0 1px 2px rgba(60, 64, 67, 0.3), 0 1px 3px 1px rgba(60, 64, 67, 0.15);\n",
              "    fill: var(--button-hover-fill-color);\n",
              "  }\n",
              "\n",
              "  .colab-df-quickchart-complete:disabled,\n",
              "  .colab-df-quickchart-complete:disabled:hover {\n",
              "    background-color: var(--disabled-bg-color);\n",
              "    fill: var(--disabled-fill-color);\n",
              "    box-shadow: none;\n",
              "  }\n",
              "\n",
              "  .colab-df-spinner {\n",
              "    border: 2px solid var(--fill-color);\n",
              "    border-color: transparent;\n",
              "    border-bottom-color: var(--fill-color);\n",
              "    animation:\n",
              "      spin 1s steps(1) infinite;\n",
              "  }\n",
              "\n",
              "  @keyframes spin {\n",
              "    0% {\n",
              "      border-color: transparent;\n",
              "      border-bottom-color: var(--fill-color);\n",
              "      border-left-color: var(--fill-color);\n",
              "    }\n",
              "    20% {\n",
              "      border-color: transparent;\n",
              "      border-left-color: var(--fill-color);\n",
              "      border-top-color: var(--fill-color);\n",
              "    }\n",
              "    30% {\n",
              "      border-color: transparent;\n",
              "      border-left-color: var(--fill-color);\n",
              "      border-top-color: var(--fill-color);\n",
              "      border-right-color: var(--fill-color);\n",
              "    }\n",
              "    40% {\n",
              "      border-color: transparent;\n",
              "      border-right-color: var(--fill-color);\n",
              "      border-top-color: var(--fill-color);\n",
              "    }\n",
              "    60% {\n",
              "      border-color: transparent;\n",
              "      border-right-color: var(--fill-color);\n",
              "    }\n",
              "    80% {\n",
              "      border-color: transparent;\n",
              "      border-right-color: var(--fill-color);\n",
              "      border-bottom-color: var(--fill-color);\n",
              "    }\n",
              "    90% {\n",
              "      border-color: transparent;\n",
              "      border-bottom-color: var(--fill-color);\n",
              "    }\n",
              "  }\n",
              "</style>\n",
              "\n",
              "      <script>\n",
              "        async function quickchart(key) {\n",
              "          const quickchartButtonEl =\n",
              "            document.querySelector('#' + key + ' button');\n",
              "          quickchartButtonEl.disabled = true;  // To prevent multiple clicks.\n",
              "          quickchartButtonEl.classList.add('colab-df-spinner');\n",
              "          try {\n",
              "            const charts = await google.colab.kernel.invokeFunction(\n",
              "                'suggestCharts', [key], {});\n",
              "          } catch (error) {\n",
              "            console.error('Error during call to suggestCharts:', error);\n",
              "          }\n",
              "          quickchartButtonEl.classList.remove('colab-df-spinner');\n",
              "          quickchartButtonEl.classList.add('colab-df-quickchart-complete');\n",
              "        }\n",
              "        (() => {\n",
              "          let quickchartButtonEl =\n",
              "            document.querySelector('#df-4e394d91-6014-4a21-be09-f8a2b7f6fe23 button');\n",
              "          quickchartButtonEl.style.display =\n",
              "            google.colab.kernel.accessAllowed ? 'block' : 'none';\n",
              "        })();\n",
              "      </script>\n",
              "    </div>\n",
              "\n",
              "    </div>\n",
              "  </div>\n"
            ],
            "application/vnd.google.colaboratory.intrinsic+json": {
              "type": "dataframe",
              "variable_name": "df",
              "summary": "{\n  \"name\": \"df\",\n  \"rows\": 5,\n  \"fields\": [\n    {\n      \"column\": \"NAME\",\n      \"properties\": {\n        \"dtype\": \"string\",\n        \"num_unique_values\": 5,\n        \"samples\": [\n          \"Sudee\",\n          \"David\",\n          \"Kiran\"\n        ],\n        \"semantic_type\": \"\",\n        \"description\": \"\"\n      }\n    },\n    {\n      \"column\": \"AGE\",\n      \"properties\": {\n        \"dtype\": \"number\",\n        \"std\": 7,\n        \"min\": 22,\n        \"max\": 40,\n        \"num_unique_values\": 5,\n        \"samples\": [\n          30,\n          22,\n          35\n        ],\n        \"semantic_type\": \"\",\n        \"description\": \"\"\n      }\n    },\n    {\n      \"column\": \"DEPARTMENT\",\n      \"properties\": {\n        \"dtype\": \"string\",\n        \"num_unique_values\": 3,\n        \"samples\": [\n          \"Sales\",\n          \"Engineering\",\n          \"HR\"\n        ],\n        \"semantic_type\": \"\",\n        \"description\": \"\"\n      }\n    },\n    {\n      \"column\": \"SALARY\",\n      \"properties\": {\n        \"dtype\": \"number\",\n        \"std\": 22472,\n        \"min\": 40000,\n        \"max\": 90000,\n        \"num_unique_values\": 5,\n        \"samples\": [\n          80000,\n          45000,\n          40000\n        ],\n        \"semantic_type\": \"\",\n        \"description\": \"\"\n      }\n    }\n  ]\n}"
            }
          },
          "metadata": {},
          "execution_count": 5
        }
      ]
    },
    {
      "cell_type": "code",
      "source": [
        "print(\"First 3 rows:\")\n",
        "df.tail(3)"
      ],
      "metadata": {
        "colab": {
          "base_uri": "https://localhost:8080/",
          "height": 161
        },
        "id": "YdJCvteI2QTZ",
        "outputId": "d3f3db30-2e12-42a3-86c3-2a209fce59b3"
      },
      "execution_count": null,
      "outputs": [
        {
          "output_type": "stream",
          "name": "stdout",
          "text": [
            "First 3 rows:\n"
          ]
        },
        {
          "output_type": "execute_result",
          "data": {
            "text/plain": [
              "      NAME  AGE   DEPARTMENT  SALARY\n",
              "2    Kiran   35           HR   40000\n",
              "3  charlie   40  Engineering   90000\n",
              "4    David   22        Sales   45000"
            ],
            "text/html": [
              "\n",
              "  <div id=\"df-44802fed-b9dd-4fb8-bd1f-4d7a77c6ca05\" class=\"colab-df-container\">\n",
              "    <div>\n",
              "<style scoped>\n",
              "    .dataframe tbody tr th:only-of-type {\n",
              "        vertical-align: middle;\n",
              "    }\n",
              "\n",
              "    .dataframe tbody tr th {\n",
              "        vertical-align: top;\n",
              "    }\n",
              "\n",
              "    .dataframe thead th {\n",
              "        text-align: right;\n",
              "    }\n",
              "</style>\n",
              "<table border=\"1\" class=\"dataframe\">\n",
              "  <thead>\n",
              "    <tr style=\"text-align: right;\">\n",
              "      <th></th>\n",
              "      <th>NAME</th>\n",
              "      <th>AGE</th>\n",
              "      <th>DEPARTMENT</th>\n",
              "      <th>SALARY</th>\n",
              "    </tr>\n",
              "  </thead>\n",
              "  <tbody>\n",
              "    <tr>\n",
              "      <th>2</th>\n",
              "      <td>Kiran</td>\n",
              "      <td>35</td>\n",
              "      <td>HR</td>\n",
              "      <td>40000</td>\n",
              "    </tr>\n",
              "    <tr>\n",
              "      <th>3</th>\n",
              "      <td>charlie</td>\n",
              "      <td>40</td>\n",
              "      <td>Engineering</td>\n",
              "      <td>90000</td>\n",
              "    </tr>\n",
              "    <tr>\n",
              "      <th>4</th>\n",
              "      <td>David</td>\n",
              "      <td>22</td>\n",
              "      <td>Sales</td>\n",
              "      <td>45000</td>\n",
              "    </tr>\n",
              "  </tbody>\n",
              "</table>\n",
              "</div>\n",
              "    <div class=\"colab-df-buttons\">\n",
              "\n",
              "  <div class=\"colab-df-container\">\n",
              "    <button class=\"colab-df-convert\" onclick=\"convertToInteractive('df-44802fed-b9dd-4fb8-bd1f-4d7a77c6ca05')\"\n",
              "            title=\"Convert this dataframe to an interactive table.\"\n",
              "            style=\"display:none;\">\n",
              "\n",
              "  <svg xmlns=\"http://www.w3.org/2000/svg\" height=\"24px\" viewBox=\"0 -960 960 960\">\n",
              "    <path d=\"M120-120v-720h720v720H120Zm60-500h600v-160H180v160Zm220 220h160v-160H400v160Zm0 220h160v-160H400v160ZM180-400h160v-160H180v160Zm440 0h160v-160H620v160ZM180-180h160v-160H180v160Zm440 0h160v-160H620v160Z\"/>\n",
              "  </svg>\n",
              "    </button>\n",
              "\n",
              "  <style>\n",
              "    .colab-df-container {\n",
              "      display:flex;\n",
              "      gap: 12px;\n",
              "    }\n",
              "\n",
              "    .colab-df-convert {\n",
              "      background-color: #E8F0FE;\n",
              "      border: none;\n",
              "      border-radius: 50%;\n",
              "      cursor: pointer;\n",
              "      display: none;\n",
              "      fill: #1967D2;\n",
              "      height: 32px;\n",
              "      padding: 0 0 0 0;\n",
              "      width: 32px;\n",
              "    }\n",
              "\n",
              "    .colab-df-convert:hover {\n",
              "      background-color: #E2EBFA;\n",
              "      box-shadow: 0px 1px 2px rgba(60, 64, 67, 0.3), 0px 1px 3px 1px rgba(60, 64, 67, 0.15);\n",
              "      fill: #174EA6;\n",
              "    }\n",
              "\n",
              "    .colab-df-buttons div {\n",
              "      margin-bottom: 4px;\n",
              "    }\n",
              "\n",
              "    [theme=dark] .colab-df-convert {\n",
              "      background-color: #3B4455;\n",
              "      fill: #D2E3FC;\n",
              "    }\n",
              "\n",
              "    [theme=dark] .colab-df-convert:hover {\n",
              "      background-color: #434B5C;\n",
              "      box-shadow: 0px 1px 3px 1px rgba(0, 0, 0, 0.15);\n",
              "      filter: drop-shadow(0px 1px 2px rgba(0, 0, 0, 0.3));\n",
              "      fill: #FFFFFF;\n",
              "    }\n",
              "  </style>\n",
              "\n",
              "    <script>\n",
              "      const buttonEl =\n",
              "        document.querySelector('#df-44802fed-b9dd-4fb8-bd1f-4d7a77c6ca05 button.colab-df-convert');\n",
              "      buttonEl.style.display =\n",
              "        google.colab.kernel.accessAllowed ? 'block' : 'none';\n",
              "\n",
              "      async function convertToInteractive(key) {\n",
              "        const element = document.querySelector('#df-44802fed-b9dd-4fb8-bd1f-4d7a77c6ca05');\n",
              "        const dataTable =\n",
              "          await google.colab.kernel.invokeFunction('convertToInteractive',\n",
              "                                                    [key], {});\n",
              "        if (!dataTable) return;\n",
              "\n",
              "        const docLinkHtml = 'Like what you see? Visit the ' +\n",
              "          '<a target=\"_blank\" href=https://colab.research.google.com/notebooks/data_table.ipynb>data table notebook</a>'\n",
              "          + ' to learn more about interactive tables.';\n",
              "        element.innerHTML = '';\n",
              "        dataTable['output_type'] = 'display_data';\n",
              "        await google.colab.output.renderOutput(dataTable, element);\n",
              "        const docLink = document.createElement('div');\n",
              "        docLink.innerHTML = docLinkHtml;\n",
              "        element.appendChild(docLink);\n",
              "      }\n",
              "    </script>\n",
              "  </div>\n",
              "\n",
              "\n",
              "    <div id=\"df-ac38b67b-a139-472b-ae5d-6482aa84fe36\">\n",
              "      <button class=\"colab-df-quickchart\" onclick=\"quickchart('df-ac38b67b-a139-472b-ae5d-6482aa84fe36')\"\n",
              "                title=\"Suggest charts\"\n",
              "                style=\"display:none;\">\n",
              "\n",
              "<svg xmlns=\"http://www.w3.org/2000/svg\" height=\"24px\"viewBox=\"0 0 24 24\"\n",
              "     width=\"24px\">\n",
              "    <g>\n",
              "        <path d=\"M19 3H5c-1.1 0-2 .9-2 2v14c0 1.1.9 2 2 2h14c1.1 0 2-.9 2-2V5c0-1.1-.9-2-2-2zM9 17H7v-7h2v7zm4 0h-2V7h2v10zm4 0h-2v-4h2v4z\"/>\n",
              "    </g>\n",
              "</svg>\n",
              "      </button>\n",
              "\n",
              "<style>\n",
              "  .colab-df-quickchart {\n",
              "      --bg-color: #E8F0FE;\n",
              "      --fill-color: #1967D2;\n",
              "      --hover-bg-color: #E2EBFA;\n",
              "      --hover-fill-color: #174EA6;\n",
              "      --disabled-fill-color: #AAA;\n",
              "      --disabled-bg-color: #DDD;\n",
              "  }\n",
              "\n",
              "  [theme=dark] .colab-df-quickchart {\n",
              "      --bg-color: #3B4455;\n",
              "      --fill-color: #D2E3FC;\n",
              "      --hover-bg-color: #434B5C;\n",
              "      --hover-fill-color: #FFFFFF;\n",
              "      --disabled-bg-color: #3B4455;\n",
              "      --disabled-fill-color: #666;\n",
              "  }\n",
              "\n",
              "  .colab-df-quickchart {\n",
              "    background-color: var(--bg-color);\n",
              "    border: none;\n",
              "    border-radius: 50%;\n",
              "    cursor: pointer;\n",
              "    display: none;\n",
              "    fill: var(--fill-color);\n",
              "    height: 32px;\n",
              "    padding: 0;\n",
              "    width: 32px;\n",
              "  }\n",
              "\n",
              "  .colab-df-quickchart:hover {\n",
              "    background-color: var(--hover-bg-color);\n",
              "    box-shadow: 0 1px 2px rgba(60, 64, 67, 0.3), 0 1px 3px 1px rgba(60, 64, 67, 0.15);\n",
              "    fill: var(--button-hover-fill-color);\n",
              "  }\n",
              "\n",
              "  .colab-df-quickchart-complete:disabled,\n",
              "  .colab-df-quickchart-complete:disabled:hover {\n",
              "    background-color: var(--disabled-bg-color);\n",
              "    fill: var(--disabled-fill-color);\n",
              "    box-shadow: none;\n",
              "  }\n",
              "\n",
              "  .colab-df-spinner {\n",
              "    border: 2px solid var(--fill-color);\n",
              "    border-color: transparent;\n",
              "    border-bottom-color: var(--fill-color);\n",
              "    animation:\n",
              "      spin 1s steps(1) infinite;\n",
              "  }\n",
              "\n",
              "  @keyframes spin {\n",
              "    0% {\n",
              "      border-color: transparent;\n",
              "      border-bottom-color: var(--fill-color);\n",
              "      border-left-color: var(--fill-color);\n",
              "    }\n",
              "    20% {\n",
              "      border-color: transparent;\n",
              "      border-left-color: var(--fill-color);\n",
              "      border-top-color: var(--fill-color);\n",
              "    }\n",
              "    30% {\n",
              "      border-color: transparent;\n",
              "      border-left-color: var(--fill-color);\n",
              "      border-top-color: var(--fill-color);\n",
              "      border-right-color: var(--fill-color);\n",
              "    }\n",
              "    40% {\n",
              "      border-color: transparent;\n",
              "      border-right-color: var(--fill-color);\n",
              "      border-top-color: var(--fill-color);\n",
              "    }\n",
              "    60% {\n",
              "      border-color: transparent;\n",
              "      border-right-color: var(--fill-color);\n",
              "    }\n",
              "    80% {\n",
              "      border-color: transparent;\n",
              "      border-right-color: var(--fill-color);\n",
              "      border-bottom-color: var(--fill-color);\n",
              "    }\n",
              "    90% {\n",
              "      border-color: transparent;\n",
              "      border-bottom-color: var(--fill-color);\n",
              "    }\n",
              "  }\n",
              "</style>\n",
              "\n",
              "      <script>\n",
              "        async function quickchart(key) {\n",
              "          const quickchartButtonEl =\n",
              "            document.querySelector('#' + key + ' button');\n",
              "          quickchartButtonEl.disabled = true;  // To prevent multiple clicks.\n",
              "          quickchartButtonEl.classList.add('colab-df-spinner');\n",
              "          try {\n",
              "            const charts = await google.colab.kernel.invokeFunction(\n",
              "                'suggestCharts', [key], {});\n",
              "          } catch (error) {\n",
              "            console.error('Error during call to suggestCharts:', error);\n",
              "          }\n",
              "          quickchartButtonEl.classList.remove('colab-df-spinner');\n",
              "          quickchartButtonEl.classList.add('colab-df-quickchart-complete');\n",
              "        }\n",
              "        (() => {\n",
              "          let quickchartButtonEl =\n",
              "            document.querySelector('#df-ac38b67b-a139-472b-ae5d-6482aa84fe36 button');\n",
              "          quickchartButtonEl.style.display =\n",
              "            google.colab.kernel.accessAllowed ? 'block' : 'none';\n",
              "        })();\n",
              "      </script>\n",
              "    </div>\n",
              "\n",
              "    </div>\n",
              "  </div>\n"
            ],
            "application/vnd.google.colaboratory.intrinsic+json": {
              "type": "dataframe",
              "summary": "{\n  \"name\": \"df\",\n  \"rows\": 3,\n  \"fields\": [\n    {\n      \"column\": \"NAME\",\n      \"properties\": {\n        \"dtype\": \"string\",\n        \"num_unique_values\": 3,\n        \"samples\": [\n          \"Kiran\",\n          \"charlie\",\n          \"David\"\n        ],\n        \"semantic_type\": \"\",\n        \"description\": \"\"\n      }\n    },\n    {\n      \"column\": \"AGE\",\n      \"properties\": {\n        \"dtype\": \"number\",\n        \"std\": 9,\n        \"min\": 22,\n        \"max\": 40,\n        \"num_unique_values\": 3,\n        \"samples\": [\n          35,\n          40,\n          22\n        ],\n        \"semantic_type\": \"\",\n        \"description\": \"\"\n      }\n    },\n    {\n      \"column\": \"DEPARTMENT\",\n      \"properties\": {\n        \"dtype\": \"string\",\n        \"num_unique_values\": 3,\n        \"samples\": [\n          \"HR\",\n          \"Engineering\",\n          \"Sales\"\n        ],\n        \"semantic_type\": \"\",\n        \"description\": \"\"\n      }\n    },\n    {\n      \"column\": \"SALARY\",\n      \"properties\": {\n        \"dtype\": \"number\",\n        \"std\": 27537,\n        \"min\": 40000,\n        \"max\": 90000,\n        \"num_unique_values\": 3,\n        \"samples\": [\n          40000,\n          90000,\n          45000\n        ],\n        \"semantic_type\": \"\",\n        \"description\": \"\"\n      }\n    }\n  ]\n}"
            }
          },
          "metadata": {},
          "execution_count": 6
        }
      ]
    },
    {
      "cell_type": "code",
      "source": [
        "print(\"Column names:\")\n",
        "df.columns#it returns columns name"
      ],
      "metadata": {
        "colab": {
          "base_uri": "https://localhost:8080/"
        },
        "id": "8ZMyDl6o2Zvh",
        "outputId": "f5c73676-464f-4cf4-f2b6-ea5b4e80bfbc"
      },
      "execution_count": null,
      "outputs": [
        {
          "output_type": "stream",
          "name": "stdout",
          "text": [
            "Column names:\n"
          ]
        },
        {
          "output_type": "execute_result",
          "data": {
            "text/plain": [
              "Index(['NAME', 'AGE', 'DEPARTMENT', 'SALARY'], dtype='object')"
            ]
          },
          "metadata": {},
          "execution_count": 7
        }
      ]
    },
    {
      "cell_type": "code",
      "source": [
        "print(\"Data types:\")\n",
        "df.dtypes"
      ],
      "metadata": {
        "colab": {
          "base_uri": "https://localhost:8080/",
          "height": 227
        },
        "id": "g0MXmw272rbB",
        "outputId": "bf93ff1e-1209-4edb-8ad8-e4722b051f24"
      },
      "execution_count": null,
      "outputs": [
        {
          "output_type": "stream",
          "name": "stdout",
          "text": [
            "Data types:\n"
          ]
        },
        {
          "output_type": "execute_result",
          "data": {
            "text/plain": [
              "NAME          object\n",
              "AGE            int64\n",
              "DEPARTMENT    object\n",
              "SALARY         int64\n",
              "dtype: object"
            ],
            "text/html": [
              "<div>\n",
              "<style scoped>\n",
              "    .dataframe tbody tr th:only-of-type {\n",
              "        vertical-align: middle;\n",
              "    }\n",
              "\n",
              "    .dataframe tbody tr th {\n",
              "        vertical-align: top;\n",
              "    }\n",
              "\n",
              "    .dataframe thead th {\n",
              "        text-align: right;\n",
              "    }\n",
              "</style>\n",
              "<table border=\"1\" class=\"dataframe\">\n",
              "  <thead>\n",
              "    <tr style=\"text-align: right;\">\n",
              "      <th></th>\n",
              "      <th>0</th>\n",
              "    </tr>\n",
              "  </thead>\n",
              "  <tbody>\n",
              "    <tr>\n",
              "      <th>NAME</th>\n",
              "      <td>object</td>\n",
              "    </tr>\n",
              "    <tr>\n",
              "      <th>AGE</th>\n",
              "      <td>int64</td>\n",
              "    </tr>\n",
              "    <tr>\n",
              "      <th>DEPARTMENT</th>\n",
              "      <td>object</td>\n",
              "    </tr>\n",
              "    <tr>\n",
              "      <th>SALARY</th>\n",
              "      <td>int64</td>\n",
              "    </tr>\n",
              "  </tbody>\n",
              "</table>\n",
              "</div><br><label><b>dtype:</b> object</label>"
            ]
          },
          "metadata": {},
          "execution_count": 8
        }
      ]
    },
    {
      "cell_type": "code",
      "source": [
        "print(\"Describe numerical columns:\")\n",
        "df.describe()"
      ],
      "metadata": {
        "colab": {
          "base_uri": "https://localhost:8080/",
          "height": 790
        },
        "id": "W5hxpRas21nZ",
        "outputId": "c2e9c545-fa61-406d-98be-07c20bde87bb"
      },
      "execution_count": null,
      "outputs": [
        {
          "output_type": "stream",
          "name": "stdout",
          "text": [
            "Describe numerical columns:\n"
          ]
        },
        {
          "output_type": "execute_result",
          "data": {
            "text/plain": [
              "             AGE        SALARY\n",
              "count   5.000000      5.000000\n",
              "mean   30.400000  61000.000000\n",
              "std     7.300685  22472.205054\n",
              "min    22.000000  40000.000000\n",
              "25%    25.000000  45000.000000\n",
              "50%    30.000000  50000.000000\n",
              "75%    35.000000  80000.000000\n",
              "max    40.000000  90000.000000"
            ],
            "text/html": [
              "\n",
              "  <div id=\"df-609c244c-61f3-4972-ba5d-1470780b094d\" class=\"colab-df-container\">\n",
              "    <div>\n",
              "<style scoped>\n",
              "    .dataframe tbody tr th:only-of-type {\n",
              "        vertical-align: middle;\n",
              "    }\n",
              "\n",
              "    .dataframe tbody tr th {\n",
              "        vertical-align: top;\n",
              "    }\n",
              "\n",
              "    .dataframe thead th {\n",
              "        text-align: right;\n",
              "    }\n",
              "</style>\n",
              "<table border=\"1\" class=\"dataframe\">\n",
              "  <thead>\n",
              "    <tr style=\"text-align: right;\">\n",
              "      <th></th>\n",
              "      <th>AGE</th>\n",
              "      <th>SALARY</th>\n",
              "    </tr>\n",
              "  </thead>\n",
              "  <tbody>\n",
              "    <tr>\n",
              "      <th>count</th>\n",
              "      <td>5.000000</td>\n",
              "      <td>5.000000</td>\n",
              "    </tr>\n",
              "    <tr>\n",
              "      <th>mean</th>\n",
              "      <td>30.400000</td>\n",
              "      <td>61000.000000</td>\n",
              "    </tr>\n",
              "    <tr>\n",
              "      <th>std</th>\n",
              "      <td>7.300685</td>\n",
              "      <td>22472.205054</td>\n",
              "    </tr>\n",
              "    <tr>\n",
              "      <th>min</th>\n",
              "      <td>22.000000</td>\n",
              "      <td>40000.000000</td>\n",
              "    </tr>\n",
              "    <tr>\n",
              "      <th>25%</th>\n",
              "      <td>25.000000</td>\n",
              "      <td>45000.000000</td>\n",
              "    </tr>\n",
              "    <tr>\n",
              "      <th>50%</th>\n",
              "      <td>30.000000</td>\n",
              "      <td>50000.000000</td>\n",
              "    </tr>\n",
              "    <tr>\n",
              "      <th>75%</th>\n",
              "      <td>35.000000</td>\n",
              "      <td>80000.000000</td>\n",
              "    </tr>\n",
              "    <tr>\n",
              "      <th>max</th>\n",
              "      <td>40.000000</td>\n",
              "      <td>90000.000000</td>\n",
              "    </tr>\n",
              "  </tbody>\n",
              "</table>\n",
              "</div>\n",
              "    <div class=\"colab-df-buttons\">\n",
              "\n",
              "  <div class=\"colab-df-container\">\n",
              "    <button class=\"colab-df-convert\" onclick=\"convertToInteractive('df-609c244c-61f3-4972-ba5d-1470780b094d')\"\n",
              "            title=\"Convert this dataframe to an interactive table.\"\n",
              "            style=\"display:none;\">\n",
              "\n",
              "  <svg xmlns=\"http://www.w3.org/2000/svg\" height=\"24px\" viewBox=\"0 -960 960 960\">\n",
              "    <path d=\"M120-120v-720h720v720H120Zm60-500h600v-160H180v160Zm220 220h160v-160H400v160Zm0 220h160v-160H400v160ZM180-400h160v-160H180v160Zm440 0h160v-160H620v160ZM180-180h160v-160H180v160Zm440 0h160v-160H620v160Z\"/>\n",
              "  </svg>\n",
              "    </button>\n",
              "\n",
              "  <style>\n",
              "    .colab-df-container {\n",
              "      display:flex;\n",
              "      gap: 12px;\n",
              "    }\n",
              "\n",
              "    .colab-df-convert {\n",
              "      background-color: #E8F0FE;\n",
              "      border: none;\n",
              "      border-radius: 50%;\n",
              "      cursor: pointer;\n",
              "      display: none;\n",
              "      fill: #1967D2;\n",
              "      height: 32px;\n",
              "      padding: 0 0 0 0;\n",
              "      width: 32px;\n",
              "    }\n",
              "\n",
              "    .colab-df-convert:hover {\n",
              "      background-color: #E2EBFA;\n",
              "      box-shadow: 0px 1px 2px rgba(60, 64, 67, 0.3), 0px 1px 3px 1px rgba(60, 64, 67, 0.15);\n",
              "      fill: #174EA6;\n",
              "    }\n",
              "\n",
              "    .colab-df-buttons div {\n",
              "      margin-bottom: 4px;\n",
              "    }\n",
              "\n",
              "    [theme=dark] .colab-df-convert {\n",
              "      background-color: #3B4455;\n",
              "      fill: #D2E3FC;\n",
              "    }\n",
              "\n",
              "    [theme=dark] .colab-df-convert:hover {\n",
              "      background-color: #434B5C;\n",
              "      box-shadow: 0px 1px 3px 1px rgba(0, 0, 0, 0.15);\n",
              "      filter: drop-shadow(0px 1px 2px rgba(0, 0, 0, 0.3));\n",
              "      fill: #FFFFFF;\n",
              "    }\n",
              "  </style>\n",
              "\n",
              "    <script>\n",
              "      const buttonEl =\n",
              "        document.querySelector('#df-609c244c-61f3-4972-ba5d-1470780b094d button.colab-df-convert');\n",
              "      buttonEl.style.display =\n",
              "        google.colab.kernel.accessAllowed ? 'block' : 'none';\n",
              "\n",
              "      async function convertToInteractive(key) {\n",
              "        const element = document.querySelector('#df-609c244c-61f3-4972-ba5d-1470780b094d');\n",
              "        const dataTable =\n",
              "          await google.colab.kernel.invokeFunction('convertToInteractive',\n",
              "                                                    [key], {});\n",
              "        if (!dataTable) return;\n",
              "\n",
              "        const docLinkHtml = 'Like what you see? Visit the ' +\n",
              "          '<a target=\"_blank\" href=https://colab.research.google.com/notebooks/data_table.ipynb>data table notebook</a>'\n",
              "          + ' to learn more about interactive tables.';\n",
              "        element.innerHTML = '';\n",
              "        dataTable['output_type'] = 'display_data';\n",
              "        await google.colab.output.renderOutput(dataTable, element);\n",
              "        const docLink = document.createElement('div');\n",
              "        docLink.innerHTML = docLinkHtml;\n",
              "        element.appendChild(docLink);\n",
              "      }\n",
              "    </script>\n",
              "  </div>\n",
              "\n",
              "\n",
              "    <div id=\"df-72e9346c-704a-4a23-841d-456ca20e574f\">\n",
              "      <button class=\"colab-df-quickchart\" onclick=\"quickchart('df-72e9346c-704a-4a23-841d-456ca20e574f')\"\n",
              "                title=\"Suggest charts\"\n",
              "                style=\"display:none;\">\n",
              "\n",
              "<svg xmlns=\"http://www.w3.org/2000/svg\" height=\"24px\"viewBox=\"0 0 24 24\"\n",
              "     width=\"24px\">\n",
              "    <g>\n",
              "        <path d=\"M19 3H5c-1.1 0-2 .9-2 2v14c0 1.1.9 2 2 2h14c1.1 0 2-.9 2-2V5c0-1.1-.9-2-2-2zM9 17H7v-7h2v7zm4 0h-2V7h2v10zm4 0h-2v-4h2v4z\"/>\n",
              "    </g>\n",
              "</svg>\n",
              "      </button>\n",
              "\n",
              "<style>\n",
              "  .colab-df-quickchart {\n",
              "      --bg-color: #E8F0FE;\n",
              "      --fill-color: #1967D2;\n",
              "      --hover-bg-color: #E2EBFA;\n",
              "      --hover-fill-color: #174EA6;\n",
              "      --disabled-fill-color: #AAA;\n",
              "      --disabled-bg-color: #DDD;\n",
              "  }\n",
              "\n",
              "  [theme=dark] .colab-df-quickchart {\n",
              "      --bg-color: #3B4455;\n",
              "      --fill-color: #D2E3FC;\n",
              "      --hover-bg-color: #434B5C;\n",
              "      --hover-fill-color: #FFFFFF;\n",
              "      --disabled-bg-color: #3B4455;\n",
              "      --disabled-fill-color: #666;\n",
              "  }\n",
              "\n",
              "  .colab-df-quickchart {\n",
              "    background-color: var(--bg-color);\n",
              "    border: none;\n",
              "    border-radius: 50%;\n",
              "    cursor: pointer;\n",
              "    display: none;\n",
              "    fill: var(--fill-color);\n",
              "    height: 32px;\n",
              "    padding: 0;\n",
              "    width: 32px;\n",
              "  }\n",
              "\n",
              "  .colab-df-quickchart:hover {\n",
              "    background-color: var(--hover-bg-color);\n",
              "    box-shadow: 0 1px 2px rgba(60, 64, 67, 0.3), 0 1px 3px 1px rgba(60, 64, 67, 0.15);\n",
              "    fill: var(--button-hover-fill-color);\n",
              "  }\n",
              "\n",
              "  .colab-df-quickchart-complete:disabled,\n",
              "  .colab-df-quickchart-complete:disabled:hover {\n",
              "    background-color: var(--disabled-bg-color);\n",
              "    fill: var(--disabled-fill-color);\n",
              "    box-shadow: none;\n",
              "  }\n",
              "\n",
              "  .colab-df-spinner {\n",
              "    border: 2px solid var(--fill-color);\n",
              "    border-color: transparent;\n",
              "    border-bottom-color: var(--fill-color);\n",
              "    animation:\n",
              "      spin 1s steps(1) infinite;\n",
              "  }\n",
              "\n",
              "  @keyframes spin {\n",
              "    0% {\n",
              "      border-color: transparent;\n",
              "      border-bottom-color: var(--fill-color);\n",
              "      border-left-color: var(--fill-color);\n",
              "    }\n",
              "    20% {\n",
              "      border-color: transparent;\n",
              "      border-left-color: var(--fill-color);\n",
              "      border-top-color: var(--fill-color);\n",
              "    }\n",
              "    30% {\n",
              "      border-color: transparent;\n",
              "      border-left-color: var(--fill-color);\n",
              "      border-top-color: var(--fill-color);\n",
              "      border-right-color: var(--fill-color);\n",
              "    }\n",
              "    40% {\n",
              "      border-color: transparent;\n",
              "      border-right-color: var(--fill-color);\n",
              "      border-top-color: var(--fill-color);\n",
              "    }\n",
              "    60% {\n",
              "      border-color: transparent;\n",
              "      border-right-color: var(--fill-color);\n",
              "    }\n",
              "    80% {\n",
              "      border-color: transparent;\n",
              "      border-right-color: var(--fill-color);\n",
              "      border-bottom-color: var(--fill-color);\n",
              "    }\n",
              "    90% {\n",
              "      border-color: transparent;\n",
              "      border-bottom-color: var(--fill-color);\n",
              "    }\n",
              "  }\n",
              "</style>\n",
              "\n",
              "      <script>\n",
              "        async function quickchart(key) {\n",
              "          const quickchartButtonEl =\n",
              "            document.querySelector('#' + key + ' button');\n",
              "          quickchartButtonEl.disabled = true;  // To prevent multiple clicks.\n",
              "          quickchartButtonEl.classList.add('colab-df-spinner');\n",
              "          try {\n",
              "            const charts = await google.colab.kernel.invokeFunction(\n",
              "                'suggestCharts', [key], {});\n",
              "          } catch (error) {\n",
              "            console.error('Error during call to suggestCharts:', error);\n",
              "          }\n",
              "          quickchartButtonEl.classList.remove('colab-df-spinner');\n",
              "          quickchartButtonEl.classList.add('colab-df-quickchart-complete');\n",
              "        }\n",
              "        (() => {\n",
              "          let quickchartButtonEl =\n",
              "            document.querySelector('#df-72e9346c-704a-4a23-841d-456ca20e574f button');\n",
              "          quickchartButtonEl.style.display =\n",
              "            google.colab.kernel.accessAllowed ? 'block' : 'none';\n",
              "        })();\n",
              "      </script>\n",
              "    </div>\n",
              "\n",
              "    </div>\n",
              "  </div>\n"
            ],
            "application/vnd.google.colaboratory.intrinsic+json": {
              "type": "dataframe",
              "summary": "{\n  \"name\": \"df\",\n  \"rows\": 8,\n  \"fields\": [\n    {\n      \"column\": \"AGE\",\n      \"properties\": {\n        \"dtype\": \"number\",\n        \"std\": 12.523779737900671,\n        \"min\": 5.0,\n        \"max\": 40.0,\n        \"num_unique_values\": 8,\n        \"samples\": [\n          30.4,\n          30.0,\n          5.0\n        ],\n        \"semantic_type\": \"\",\n        \"description\": \"\"\n      }\n    },\n    {\n      \"column\": \"SALARY\",\n      \"properties\": {\n        \"dtype\": \"number\",\n        \"std\": 29244.49317919367,\n        \"min\": 5.0,\n        \"max\": 90000.0,\n        \"num_unique_values\": 8,\n        \"samples\": [\n          61000.0,\n          50000.0,\n          5.0\n        ],\n        \"semantic_type\": \"\",\n        \"description\": \"\"\n      }\n    }\n  ]\n}"
            }
          },
          "metadata": {},
          "execution_count": 10
        },
        {
          "output_type": "display_data",
          "data": {
            "text/plain": [
              "<google.colab._quickchart_helpers.SectionTitle at 0x7fec1fc81c10>"
            ],
            "text/html": [
              "<h4 class=\"colab-quickchart-section-title\">Distributions</h4>\n",
              "<style>\n",
              "  .colab-quickchart-section-title {\n",
              "      clear: both;\n",
              "  }\n",
              "</style>"
            ]
          },
          "metadata": {}
        },
        {
          "output_type": "display_data",
          "data": {
            "text/plain": [
              "from matplotlib import pyplot as plt\n",
              "_df_0['AGE'].plot(kind='hist', bins=20, title='AGE')\n",
              "plt.gca().spines[['top', 'right',]].set_visible(False)"
            ],
            "text/html": [
              "      <div class=\"colab-quickchart-chart-with-code\" id=\"chart-6a902ba6-5757-450f-bea5-3de8837f32a4\">\n",
              "        <img style=\"width: 180px;\" src=\"data:image/png;base64,iVBORw0KGgoAAAANSUhEUgAAAjEAAAGrCAYAAAAxesZMAAAAOnRFWHRTb2Z0d2FyZQBNYXRwbG90\n",
              "bGliIHZlcnNpb24zLjEwLjAsIGh0dHBzOi8vbWF0cGxvdGxpYi5vcmcvlHJYcgAAAAlwSFlzAAAP\n",
              "YQAAD2EBqD+naQAAJeFJREFUeJzt3X9U1vX9//HHJbRLS8D8waAQmCJU/gCugkO6WZ4zF+uHGtrJ\n",
              "li1RflhrrkPnaBzzU7oa7qxcrB0GTsYyO5opFdNTTWc/YDnRHK10mZiXgIG0lkDOiB/v7x9+u07X\n",
              "BPRivLl4yf12zvscr/f7zft6vq+urnM/1/WGy2FZliUAAADDDPH3AAAAAL1BxAAAACMRMQAAwEhE\n",
              "DAAAMBIRAwAAjETEAAAAIxExAADASEQMAAAwEhEDAACMRMQAAAAjETEABpSSkhI5HA49/PDD52yr\n",
              "qKjQ7NmzFRoaquHDhysyMlK33nqrXnnlFc8+jz32mAICAjR8+HCv5YEHHujP0wDQD4gYAANKQUGB\n",
              "Ro0apT/84Q9qbW31rN+4caNmzpwpl8ulAwcOqKWlRf/85z+VnZ2tbdu2eR3j+uuv1xdffOG1/Pa3\n",
              "v+3vUwFgMyIGwICxb98+7d+/Xxs3blRTU5NefPFFSdLp06f105/+VMuXL9ejjz6qiIgIORwOXXbZ\n",
              "Zbrtttu0YcMGP08OwB+IGAADRkFBgRISEpSamqrbb79dBQUFkqS//vWvOnXqlBYsWODnCQEMJEQM\n",
              "gAHh888/1wsvvKCsrCxJUlZWlvbs2aP33ntPn376qSTpyiuv9Oy/Y8cOjRgxQiEhIRo6dKiOHz/u\n",
              "2fa3v/1NI0aM8FpKSkr694QA2I6IATAgfH1B79133y1JmjFjhmJiYlRQUKAxY8ZIkurq6jz733LL\n",
              "LTp16pTeffddtba2yrIsz7aUlBSdOnXKa0lPT+/fEwJgOyIGgN9ZlqXCwkJ99dVXio2NVVhYmMLD\n",
              "w1VXV6fnn39eKSkpCgkJ0fPPP+/vUQEMIIH+HgAAdu7cqSNHjmj37t26+uqrPetbWlqUmJioZ599\n",
              "Vvn5+VqyZIkCAgKUnp6uK6+8Uq2traqoqPDj5AD8iYgB4He/+93v9P3vf18zZszwWh8WFqaMjAz9\n",
              "7ne/06FDhxQdHa0nn3xS+fn5OnPmjEaPHq1JkybplVdeUVRUlOfn9uzZo+HDh3sda8aMGfrTn/7U\n",
              "L+cDoH84rG9+kAwAAGAIrokBAABGImIAAICRiBgAAGAkIgYAABiJiAEAAEYiYgAAgJGIGAAAYKSL\n",
              "PmLy8/P9PQIAALDBRR8x3/xmWwAAcPG46CMGAABcnIgYAABgJCIGAAAYiYgBAABGImIAAICRiBgA\n",
              "AGAkIgYAABiJiAEAAEYiYgAAgJGIGAAAYCQiBgAAGImIAQAARrItYr788kvNmTNHsbGxio+P18yZ\n",
              "M1VdXd3lvtu3b9dVV12lCRMmKC0tTc3NzRe0DQAADF62vhOTlZWlw4cP67333tPs2bOVkZFxzj5f\n",
              "fPGFFi9erJdffllHjhzRFVdcoZ///Ofn3QYAAAY32yJm6NChuvnmm+VwOCRJKSkpcrvd5+z36quv\n",
              "KjExUVdddZUk6f7779emTZvOu60rra2tam5u9lo6Ojr6+MwAAMBAENhfd5Sfn6/Zs2efs76mpkZR\n",
              "UVGe29HR0aqvr1d7e3uP2wIDzx09Ly9Pq1at8lqXkpLSh2cBAINP9MM7bDu2e80tth0bF79+ubD3\n",
              "F7/4haqrq5WXl2fr/eTm5qqpqclrSU5OtvU+AQCAf9geMU8++aRKS0v16quv6tJLLz1ne2RkpI4f\n",
              "P+657Xa7FR4ersDAwB63dcXpdCo4ONhrCQgI6PuTAgAAfmdrxKxdu1abNm3Szp07NWLEiC73SU1N\n",
              "1YEDB/Thhx9KkgoKCjR//vzzbgMAAIObbdfE1NXV6aGHHtK4ceM0Y8YMSWffKdm7d6/+7//+T1dc\n",
              "cYWWLFmioKAgrV+/XnPmzFF7e7smTZqkZ599VpJ63AYAAAY3h2VZlr+HsFNOTo7Wrl3r7zEAwFhc\n",
              "2IuBir/YCwAAjETEAAAAIxExAADASEQMAAAwEhEDAACMRMQAAAAjETEAAMBIRAwAADASEQMAAIxE\n",
              "xAAAACMRMQAAwEhEDAAAMBIRAwAAjETEAAAAIxExAADASEQMAAAwEhEDAACMRMQAAAAjETEAAMBI\n",
              "RAwAADASEQMAAIxExAAAACMRMQAAwEhEDAAAMBIRAwAAjETEAAAAIxExAADASEQMAAAwEhEDAACM\n",
              "RMQAAAAjETEAAMBIRAwAADASEQMAAIxExAAAACMRMQAAwEi2RszSpUsVHR0th8OhqqqqLvcpKSlR\n",
              "QkKCZxk9erTS0tIkSW63WwEBAV7bjx49aufIAADAEIF2HnzevHlatmyZvvvd73a7T3p6utLT0z23\n",
              "J02apLvvvttzOygoqNsAAgAAg5etETN9+nSf9t+7d68aGxs1a9asXt1fa2urWltbvdZ1dHT06lgA\n",
              "AGBgG1DXxBQXF+uee+7RJZdc4ll3+vRpJSUlyeVyafXq1T1GSV5enkJCQryWysrK/hgdAAD0swET\n",
              "MadPn9bmzZu1ePFiz7rw8HCdOHFC+/bt065du1ReXq6nnnqq22Pk5uaqqanJa0lOTu6P8QEAQD8b\n",
              "MBHz4osvauLEibrmmms865xOp0JDQyVJI0eO1KJFi1ReXt7tMZxOp4KDg72WgIAA22cHAAD9b8BE\n",
              "THFxsde7MJLU2NiotrY2SWevdyktLVViYqI/xgMAAAOMrRGTnZ2tiIgI1dXV6aabblJMTIwkKSMj\n",
              "Q2VlZZ79Dh8+rKqqKt15551eP19RUaHExETFx8fL5XIpLCxMK1assHNkAABgCIdlWZa/h7BTTk6O\n",
              "1q5d6+8xAMBY0Q/vsO3Y7jW32HZsXPwGzMdJAAAAviBiAACAkYgYAABgJCIGAAAYiYgBAABGImIA\n",
              "AICRiBgAAGAkIgYAABiJiAEAAEYiYgAAgJGIGAAAYCQiBgAAGImIAQAARiJiAACAkYgYAABgJCIG\n",
              "AAAYiYgBAABGImIAAICRiBgAAGAkIgYAABiJiAEAAEYiYgAAgJGIGAAAYCQiBgAAGImIAQAARiJi\n",
              "AACAkYgYAABgJCIGAAAYiYgBAABGImIAAICRiBgAAGAkIgYAABiJiAEAAEYiYgAAgJGIGAAAYCRb\n",
              "I2bp0qWKjo6Ww+FQVVVVl/u8+eabGjZsmBISEjzLmTNnPNuLi4s1YcIEjR8/XpmZmWpra7NzZAAA\n",
              "YAhbI2bevHmqqKhQVFRUj/vFxcWpqqrKswwbNkySdOzYMa1cuVLl5eWqrq7WyZMntW7dOjtHBgAA\n",
              "hrA1YqZPn66IiIhe//zWrVs1a9YshYWFyeFwaMmSJdq0aVO3+7e2tqq5udlr6ejo6PX9AwCAgWtA\n",
              "XBNz9OhRuVwuJSUlqaCgwLO+pqbG612c6Oho1dTUdHucvLw8hYSEeC2VlZW2zg4AAPzD7xHjcrlU\n",
              "V1enAwcO6KWXXlJhYaG2bNnSq2Pl5uaqqanJa0lOTu7jiQEAwEDg94gJDg5WSEiIJCkiIkJ33XWX\n",
              "ysvLJUmRkZE6fvy4Z1+3263IyMhuj+V0OhUcHOy1BAQE2HsCAADAL/weMfX19ers7JQktbS0aPv2\n",
              "7UpMTJQkzZ07V2VlZWpoaJBlWSosLNT8+fP9OS4AABggbI2Y7OxsRUREqK6uTjfddJNiYmIkSRkZ\n",
              "GSorK5Mkbdu2TZMnT1Z8fLxSUlI0c+ZMpaenS5LGjRunVatWadq0aYqJidGYMWOUnZ1t58gAAMAQ\n",
              "DsuyLH8PYaecnBytXbvW32MAgLGiH95h27Hda26x7di4+Pn94yQAAIDeIGIAAICRiBgAAGAkIgYA\n",
              "ABiJiAEAAEYiYgAAgJGIGAAAYCQiBgAAGImIAQAARiJiAACAkYgYAABgJCIGAAAYiYgBAABGImIA\n",
              "AICRiBgAAGAkIgYAABiJiAEAAEYiYgAAgJGIGAAAYCQiBgAAGImIAQAARiJiAACAkYgYAABgJCIG\n",
              "AAAYiYgBAABGImIAAICRiBgAAGAkIgYAABiJiAEAAEYiYgAAgJGIGAAAYCQiBgAAGImIAQAARiJi\n",
              "AACAkYgYAABgJFsjZunSpYqOjpbD4VBVVVWX++zevVvJycm65pprNHHiRC1btkydnZ2SJLfbrYCA\n",
              "ACUkJHiWo0eP2jkyAAAwhK0RM2/ePFVUVCgqKqrbfS6//HJt3rxZhw4d0rvvvqt33nlHGzZs8GwP\n",
              "CgpSVVWVZxk/frydIwMAAEME2nnw6dOnn3efxMREz7+HDh2qhIQEud3uXt1fa2urWltbvdZ1dHT0\n",
              "6lgAAGBgG1DXxDQ0NGjr1q269dZbPetOnz6tpKQkuVwurV69uscoycvLU0hIiNdSWVnZH6MDAIB+\n",
              "NmAiprm5WbfddpuWLVum6667TpIUHh6uEydOaN++fdq1a5fKy8v11FNPdXuM3NxcNTU1eS3Jycn9\n",
              "dQoAAKAfDYiIaWlpUWpqqmbPnq2cnBzPeqfTqdDQUEnSyJEjtWjRIpWXl3d7HKfTqeDgYK8lICDA\n",
              "9vkBAED/83vEfPHFF0pNTVVqaqoeeeQRr22NjY1qa2uTdPZ6l9LSUq9raAAAwOBla8RkZ2crIiJC\n",
              "dXV1uummmxQTEyNJysjIUFlZmSQpPz9flZWVKi0t9fwa9RNPPCFJqqioUGJiouLj4+VyuRQWFqYV\n",
              "K1bYOTIAADCEw7Isy99D2CknJ0dr16719xgAYKzoh3fYdmz3mltsOzYufn7/OAkAAKA3iBgAAGAk\n",
              "IgYAABiJiAEAAEbyOWJef/11O+YAAADwic8Rs3r1asXFxSk/P1/Nzc12zAQAAHBePkfMX//6V23e\n",
              "vFkffPCBYmNjdf/99+vQoUN2zAYAANCtXl0Tk5iYqN///vd67bXXtH37dk2ZMkUzZ87U+++/39fz\n",
              "AQAAdKlXEbNr1y7Nnj1baWlp+slPfqKGhgZlZ2fr9ttv7+v5AAAAuhTo6w9cffXVGj16tJYuXaq0\n",
              "tDTPFyzOmzdPxcXFfT4gAABAV3yOmI0bN+raa6/tcturr776Pw8EAABwIXz+OOndd9/Vv//9b8/t\n",
              "zz77TL///e/7dCgAAIDz8TliCgoKNHLkSM/tUaNGqaCgoE+HAgAAOB+fI6arL73u6Ojok2EAAAAu\n",
              "lM8REx4eri1btnhuv/DCCwoPD+/ToQAAAM7H5wt7n376ac2ePVvLli2TJF166aV65ZVX+nwwAACA\n",
              "nvgcMVdddZUOHTqkw4cPS5Li4uI8v2YNAADQX3yOGElyOBwaMWKE2tvbdeLECUlSZGRknw4GAADQ\n",
              "E58j5o9//KOWLl2qSy65REOGnL2kxuFwqLGxsc+HAwAA6I7PEfPzn/9c+/btU1xcnB3zAAAAXBCf\n",
              "fztp9OjRBAwAAPA7nyNmzpw5evrpp9XY2Kjm5mbPAgAA0J98/jhpxYoVkqScnBw5HA5ZliWHw8Ef\n",
              "vAMAAP3K54jp7Oy0Yw4AAACf+PxxknT2SyCfe+45SdKpU6dUX1/fp0MBAACcT6++AHLRokV67LHH\n",
              "JJ39Fusf/ehHfT0XAABAj3yOmHXr1ulvf/ubgoODJUnjx4/Xp59+2ueDAQAA9MTniHE6nRo2bJjX\n",
              "usDAXv3hXwAAgF7zOWLGjBmjjz76SA6HQ9LZv+DLVw4AAID+1qtvsb7rrrv04YcfauzYsQoODtb2\n",
              "7dvtmA0AAKBbPkdMTEyM9u7dq8OHD8uyLL7FGgAA+IXPEVNTUyNJuuyyyySJb7EGAAB+4XPEXHvt\n",
              "tZ6/1Pvll1/qP//5j0aNGsW3WAMAgH7lc8T8969Tl5aW6r333uuzgQAAAC5Er/5i7zelpaVpx44d\n",
              "fTELAADABfM5Yr75zdWff/65XnvttW6/xXrp0qWKjo6Ww+FQVVVVt8csLi7WhAkTNH78eGVmZqqt\n",
              "re2CtgEAgMHL54gZMWKELr/8co0YMUKhoaHKycnRb37zmy73nTdvnioqKhQVFdXt8Y4dO6aVK1eq\n",
              "vLxc1dXVOnnypNatW3febQAAYHDzOWI6OzvV0dGhzs5OtbW16dChQ0pNTe1y3+nTpysiIqLH423d\n",
              "ulWzZs1SWFiYHA6HlixZok2bNp13W1daW1u93ilqbm5WR0eHr6cIAAAM4PfvC6ipqfF6pyY6Otrz\n",
              "a9w9betKXl6eVq1a5bUuJSWljyf+/7M8bN51QO41t/h7BAxCdv6/Ytdz2sSZ0X/sen7Y+dwwceYL\n",
              "4fM7MUOGDFFAQMA5y9fr/Sk3N1dNTU1eS3Jysl9nAgAA9vD5nZjVq1frzJkzuu+++yRJhYWFGjZs\n",
              "mB588MFeDRAZGamjR496brvdbs8fzutpW1ecTqecTqfXOn+HFQAAsIfP78S89NJLeuKJJxQREaGI\n",
              "iAg9/vjjKi0t1WWXXeb5K76+mDt3rsrKytTQ0CDLslRYWKj58+efdxsAABjcfI6YlpYWr7/O29jY\n",
              "qJaWli73zc7OVkREhOrq6nTTTTcpJiZGkpSRkaGysjJJ0rhx47Rq1SpNmzZNMTExGjNmjLKzs8+7\n",
              "DQAADG4+f5z00EMPKT4+XjfffLMk6bXXXtNjjz3W5b5FRUVdrl+/fr3X7czMTGVmZna5b0/bAADA\n",
              "4OVzxGRnZ2vatGl64403JEk5OTmaOHFinw8GAADQk179ivWoUaM0efJk3XjjjWpvb9dXX32lb33r\n",
              "W309GwAAQLd8viZm69atSklJUXp6uiTp4MGDmjNnTl/PBQAA0COfIyYvL08HDhzQiBEjJEnx8fE6\n",
              "fvx4X88FAADQI58jJiAgQKNGjfJax0dJAACgv/kcMUFBQTp58qQcDock6S9/+YtGjhzZ54MBAAD0\n",
              "xOcLe3/5y1/qhz/8oT7++GN997vf1bFjx7Rjh3nfIwQAAMzmU8R8/Q3Wb7zxht555x1ZlqWpU6d6\n",
              "ro8BAADoLz5FzJAhQ5SVlaX33ntPP/zhD+2aCQAA4Lx8viZmwoQJqq6utmMWAACAC+bzNTH//ve/\n",
              "lZCQoKlTp2r48OGe9aWlpX06GAAAQE8uOGKysrK0bt063XvvvZo1a5Yuv/xyO+cCAADo0QVHzP79\n",
              "+yVJ9957r1wulw4cOGDbUAAAAOfj8zUxkmRZVl/PAQAA4JMLfifmzJkzev/992VZlr788kvPv782\n",
              "ZcoUWwYEAADoik8RM2vWLM/tb/7b4XDo448/7tvJAAAAenDBEeN2u20cAwAAwDe9uiYGAADA34gY\n",
              "AABgJCIGAAAYiYgBAABGImIAAICRiBgAAGAkIgYAABiJiAEAAEYiYgAAgJGIGAAAYCQiBgAAGImI\n",
              "AQAARiJiAACAkYgYAABgJCIGAAAYiYgBAABGImIAAICRiBgAAGAkWyPmyJEjmjp1qmJjY5WUlKSD\n",
              "Bw+es09JSYkSEhI8y+jRo5WWliZJcrvdCggI8Np+9OhRO0cGAACGCLTz4NnZ2crKytLChQu1detW\n",
              "LVy4UPv27fPaJz09Xenp6Z7bkyZN0t133+25HRQUpKqqKjvHBAAABrLtnZjGxkbt379fCxYskCTN\n",
              "nTtXtbW1qq6u7vZn9u7dq8bGRs2aNatX99na2qrm5mavpaOjo1fHAgAAA5ttEVNbW6vw8HAFBp59\n",
              "s8fhcCgyMlI1NTXd/kxxcbHuueceXXLJJZ51p0+fVlJSklwul1avXt1jlOTl5SkkJMRrqays7LuT\n",
              "AgAAA8aAubD39OnT2rx5sxYvXuxZFx4erhMnTmjfvn3atWuXysvL9dRTT3V7jNzcXDU1NXktycnJ\n",
              "/TE+AADoZ7ZFzNixY1VfX6/29nZJkmVZqqmpUWRkZJf7v/jii5o4caKuueYazzqn06nQ0FBJ0siR\n",
              "I7Vo0SKVl5d3e59Op1PBwcFeS0BAQB+eFQAAGChsi5jQ0FC5XC5t3LhRkrRt2zZFREQoJiamy/2L\n",
              "i4u93oWRzl5X09bWJuns9S6lpaVKTEy0a2QAAGAQWz9OKioqUlFRkWJjY7VmzRqVlJRIkjIyMlRW\n",
              "VubZ7/Dhw6qqqtKdd97p9fMVFRVKTExUfHy8XC6XwsLCtGLFCjtHBgAAhrD1V6zj4uK0Z8+ec9av\n",
              "X7/+nP1aWlrO2S8tLc3zN2MAAAC+acBc2AsAAOALIgYAABiJiAEAAEYiYgAAgJGIGAAAYCQiBgAA\n",
              "GImIAQAARiJiAACAkYgYAABgJCIGAAAYiYgBAABGImIAAICRiBgAAGAkIgYAABiJiAEAAEYiYgAA\n",
              "gJGIGAAAYCQiBgAAGImIAQAARiJiAACAkYgYAABgJCIGAAAYiYgBAABGImIAAICRiBgAAGAkIgYA\n",
              "ABiJiAEAAEYiYgAAgJGIGAAAYCQiBgAAGImIAQAARiJiAACAkYgYAABgJCIGAAAYiYgBAABGsjVi\n",
              "jhw5oqlTpyo2NlZJSUk6ePDgOfu8+eabGjZsmBISEjzLmTNnPNuLi4s1YcIEjR8/XpmZmWpra7Nz\n",
              "ZAAAYAhbIyY7O1tZWVn66KOPtHz5ci1cuLDL/eLi4lRVVeVZhg0bJkk6duyYVq5cqfLyclVXV+vk\n",
              "yZNat26dnSMDAABD2BYxjY2N2r9/vxYsWCBJmjt3rmpra1VdXX3Bx9i6datmzZqlsLAwORwOLVmy\n",
              "RJs2bep2/9bWVjU3N3stHR0d//O5AACAgce2iKmtrVV4eLgCAwMlSQ6HQ5GRkaqpqTln36NHj8rl\n",
              "cikpKUkFBQWe9TU1NYqKivLcjo6O7vLnv5aXl6eQkBCvpbKysg/PCgAADBR+v7DX5XKprq5OBw4c\n",
              "0EsvvaTCwkJt2bKlV8fKzc1VU1OT15KcnNzHEwMAgIHAtogZO3as6uvr1d7eLkmyLEs1NTWKjIz0\n",
              "2i84OFghISGSpIiICN11110qLy+XJEVGRur48eOefd1u9zk//01Op1PBwcFeS0BAQF+fGgAAGABs\n",
              "i5jQ0FC5XC5t3LhRkrRt2zZFREQoJibGa7/6+np1dnZKklpaWrR9+3YlJiZKOnsdTVlZmRoaGmRZ\n",
              "lgoLCzV//ny7RgYAAAax9eOkoqIiFRUVKTY2VmvWrFFJSYkkKSMjQ2VlZZLOxs3kyZMVHx+vlJQU\n",
              "zZw5U+np6ZKkcePGadWqVZo2bZpiYmI0ZswYZWdn2zkyAAAwRKCdB4+Li9OePXvOWb9+/XrPvx94\n",
              "4AE98MAD3R4jMzNTmZmZtswHAADM5fcLewEAAHqDiAEAAEYiYgAAgJGIGAAAYCQiBgAAGImIAQAA\n",
              "RiJiAACAkYgYAABgJCIGAAAYiYgBAABGImIAAICRiBgAAGAkIgYAABiJiAEAAEYiYgAAgJGIGAAA\n",
              "YCQiBgAAGImIAQAARiJiAACAkYgYAABgJCIGAAAYiYgBAABGImIAAICRiBgAAGAkIgYAABiJiAEA\n",
              "AEYiYgAAgJGIGAAAYCQiBgAAGImIAQAARiJiAACAkYgYAABgJCIGAAAYiYgBAABGImIAAICRbI2Y\n",
              "I0eOaOrUqYqNjVVSUpIOHjx4zj67d+9WcnKyrrnmGk2cOFHLli1TZ2enJMntdisgIEAJCQme5ejR\n",
              "o3aODAAADGFrxGRnZysrK0sfffSRli9froULF56zz+WXX67Nmzfr0KFDevfdd/XOO+9ow4YNnu1B\n",
              "QUGqqqryLOPHj7dzZAAAYAjbIqaxsVH79+/XggULJElz585VbW2tqqurvfZLTEzUuHHjJElDhw5V\n",
              "QkKC3G53r+6ztbVVzc3NXktHR8f/dB4AAGBgsi1iamtrFR4ersDAQEmSw+FQZGSkampquv2ZhoYG\n",
              "bd26Vbfeeqtn3enTp5WUlCSXy6XVq1f3GCV5eXkKCQnxWiorK/vupAAAwIAxYC7sbW5u1m233aZl\n",
              "y5bpuuuukySFh4frxIkT2rdvn3bt2qXy8nI99dRT3R4jNzdXTU1NXktycnJ/nQIAAOhHtkXM2LFj\n",
              "VV9fr/b2dkmSZVmqqalRZGTkOfu2tLQoNTVVs2fPVk5Ojme90+lUaGioJGnkyJFatGiRysvLu71P\n",
              "p9Op4OBgryUgIKCPzwwAAAwEtkVMaGioXC6XNm7cKEnatm2bIiIiFBMT47XfF198odTUVKWmpuqR\n",
              "Rx7x2tbY2Ki2tjZJZ693KS0tVWJiol0jAwAAg9j6cVJRUZGKiooUGxurNWvWqKSkRJKUkZGhsrIy\n",
              "SVJ+fr4qKytVWlrq+TXqJ554QpJUUVGhxMRExcfHy+VyKSwsTCtWrLBzZAAAYIhAOw8eFxenPXv2\n",
              "nLN+/fr1nn+vWLGi2zBJS0tTWlqabfMBAABzDZgLewEAAHxBxAAAACMRMQAAwEhEDAAAMBIRAwAA\n",
              "jETEAAAAIxExAADASEQMAAAwEhEDAACMRMQAAAAjETEAAMBIRAwAADASEQMAAIxExAAAACMRMQAA\n",
              "wEhEDAAAMBIRAwAAjETEAAAAIxExAADASEQMAAAwEhEDAACMRMQAAAAjETEAAMBIRAwAADASEQMA\n",
              "AIxExAAAACMRMQAAwEhEDAAAMBIRAwAAjETEAAAAIxExAADASEQMAAAwEhEDAACMRMQAAAAjETEA\n",
              "AMBItkbMkSNHNHXqVMXGxiopKUkHDx7scr/i4mJNmDBB48ePV2Zmptra2i5oGwAAGLxsjZjs7Gxl\n",
              "ZWXpo48+0vLly7Vw4cJz9jl27JhWrlyp8vJyVVdX6+TJk1q3bt15twEAgMHNtohpbGzU/v37tWDB\n",
              "AknS3LlzVVtbq+rqaq/9tm7dqlmzZiksLEwOh0NLlizRpk2bzrutK62trWpubvZaOjo67DpFAADg\n",
              "R4F2Hbi2tlbh4eEKDDx7Fw6HQ5GRkaqpqVFMTIxnv5qaGkVFRXluR0dHq6am5rzbupKXl6dVq1Z5\n",
              "rbvqqquUk5PTJ+f0tY6ODoVXVio5OVkBAQF9emw75eT8pc+O1dHRoUoDH4O+MtjPX7rwxyDNxhn6\n",
              "8jn9TRcyc2+fA3bNbKeuHo+++n/A5Mejr18H7Hws7Pj/sKOjQ9df/7htr4NRUVH62c9+1uM+tkWM\n",
              "P+Tm5p4TLE6nU06ns0/vp7m5WSEhIXr99dcVHBzcp8c2xWB/DAb7+Us8Bpz/4D5/icdgIJy/bREz\n",
              "duxY1dfXq729XYGBgbIsSzU1NYqMjPTaLzIyUkePHvXcdrvdnn162tYVO4IFAAAMTLZdExMaGiqX\n",
              "y6WNGzdKkrZt26aIiAivj5Kks9fKlJWVqaGhQZZlqbCwUPPnzz/vNgAAMLjZ+ttJRUVFKioqUmxs\n",
              "rNasWaOSkhJJUkZGhsrKyiRJ48aN06pVqzRt2jTFxMRozJgxys7OPu82AAAwuNl6TUxcXJz27Nlz\n",
              "zvr169d73c7MzFRmZmaXx+hpm784nU49+uijg/qjq8H+GAz285d4DDj/wX3+Eo/BQDh/h2VZlt/u\n",
              "HQAAoJf42gEAAGAkIgYAABiJiAEAAEYiYgAAgJGImF6Ijo5WXFycEhISlJCQoBdeeMHfI9lq6dKl\n",
              "io6OlsPhUFVVlWf9hX5Luem6O//B8jz48ssvNWfOHMXGxio+Pl4zZ870fAdaY2OjUlNTNWHCBE2a\n",
              "NElvv/22n6e1R0+PwY033qjvfOc7nufBr3/9az9Pa48f/OAHmjJlihISEvS9731Pf//73yUNntcB\n",
              "qfvHYLC8FnytpKREDodDL7/8siQ/vw5Y8FlUVJT197//3d9j9Ju33nrLqq2tPee8Z8yYYZWUlFiW\n",
              "ZVkvvviidd111/lnQJt1d/6D5Xlw5swZa8eOHVZnZ6dlWZb1zDPPWDfccINlWZaVnp5uPfroo5Zl\n",
              "WVZlZaV15ZVXWl999ZWfJrVPT4/BDTfcYL300kv+G66ffP75555/l5aWWlOmTLEsa/C8DlhW94/B\n",
              "YHktsCzLOnbsmHX99ddbKSkpnue9P18HeCcG5zV9+nRFRER4rbvQbym/GHR1/oPJ0KFDdfPNN8vh\n",
              "cEiSUlJS5Ha7JUlbtmzRkiVLJElJSUm64oor9NZbb/lrVNv09BgMFiNGjPD8u6mpSQ6HY1C9Dkhd\n",
              "PwaDSWdnpzIyMvTMM894/W0Yf74OEDG99OMf/1iTJ0/W4sWL9emnn/p7nH7X07eUDyaD8XmQn5+v\n",
              "2bNn67PPPlNbW5vCwsI82873TfMXi68fg689/PDDmjx5su688059/PHHfpzMXj/+8Y81duxYrVy5\n",
              "Us8999ygfB3478fgm+sv9teCtWvXatq0abr22ms96/z9OkDE9MLbb7+tf/zjHzpw4IBGjx6te++9\n",
              "198jwQ8G4/PgF7/4haqrq5WXl+fvUfzmvx+D5557Th9++KH+8Y9/6Hvf+55uvfVWP09onw0bNqi2\n",
              "tlaPP/64li9f7u9x/KKrx2AwvBZ88MEH2rZtmx555BF/j+KtXz60uoh98skn1vDhw/09Rr/45ue+\n",
              "J0+etIKCgqy2tjbLsiyrs7PT+va3v20dOXLEjxPaq6fPvQfD8+BXv/qVde2113pdF3DppZda9fX1\n",
              "nttJSUnWzp07/TBd/+jqMfhvTqfT+te//tV/Q/nJ0KFDrYaGhkH3OvBNQ4cOPee/9cX6WlBQUGCF\n",
              "hYVZUVFRVlRUlOV0Oq0xY8ZYBQUFfn0d4J0YH50+fVqnTp3y3N60aZMSExP9N5CfXOi3lF+sBtvz\n",
              "YO3atdq0aZN27tzpdV3AHXfcocLCQknSvn37dOLECd1www1+mtJeXT0G7e3tOnnypGefbdu26dvf\n",
              "/rZGjRrlpyntcerUKX3yySee2y+//LJGjRo1qF4HunsMhg4dOiheC+677z7V19fL7XbL7XYrJSVF\n",
              "69at03333efX1wG+O8lHH3/8sebOnauOjg5ZlqVx48YpPz9f0dHR/h7NNtnZ2dqxY4caGho0atQo\n",
              "BQUFqbq6WocPH9bChQv12WefKTg4WCUlJZo8ebK/x+1zXZ3/n//850HzPKirq9PYsWM1btw4BQUF\n",
              "STr7xW979+7VyZMndc899+jYsWP61re+pd/+9reaMWOGnyfue909Brt379YNN9yg1tZWDRkyRKNH\n",
              "j9batWsVHx/v54n71vHjx3XHHXfozJkzGjJkiMaMGaMnn3xSCQkJg+Z1oLvHIDg4eNC8FnzTjTfe\n",
              "qAcffFBz5szx6+sAEQMAAIzEx0kAAMBIRAwAADASEQMAAIxExAAAACMRMQAAwEhEDAAAMBIRAwAA\n",
              "jETEAAAAIxExAADASEQMAAAw0v8DoEtlA19Vl6QAAAAASUVORK5CYII=\n",
              "\">\n",
              "      </div>\n",
              "      <script type=\"text/javascript\">\n",
              "        (() => {\n",
              "          const chartElement = document.getElementById(\"chart-6a902ba6-5757-450f-bea5-3de8837f32a4\");\n",
              "          async function getCodeForChartHandler(event) {\n",
              "            const chartCodeResponse =  await google.colab.kernel.invokeFunction(\n",
              "                'getCodeForChart', [\"chart-6a902ba6-5757-450f-bea5-3de8837f32a4\"], {});\n",
              "            const responseJson = chartCodeResponse.data['application/json'];\n",
              "            await google.colab.notebook.addCell(responseJson.code, 'code');\n",
              "          }\n",
              "          chartElement.onclick = getCodeForChartHandler;\n",
              "        })();\n",
              "      </script>\n",
              "      <style>\n",
              "        .colab-quickchart-chart-with-code  {\n",
              "            display: block;\n",
              "            float: left;\n",
              "            border: 1px solid transparent;\n",
              "        }\n",
              "\n",
              "        .colab-quickchart-chart-with-code:hover {\n",
              "            cursor: pointer;\n",
              "            border: 1px solid #aaa;\n",
              "        }\n",
              "      </style>"
            ]
          },
          "metadata": {}
        },
        {
          "output_type": "display_data",
          "data": {
            "text/plain": [
              "from matplotlib import pyplot as plt\n",
              "_df_1['SALARY'].plot(kind='hist', bins=20, title='SALARY')\n",
              "plt.gca().spines[['top', 'right',]].set_visible(False)"
            ],
            "text/html": [
              "      <div class=\"colab-quickchart-chart-with-code\" id=\"chart-69bdec5f-23a3-49fb-875c-d87b79891d8a\">\n",
              "        <img style=\"width: 180px;\" src=\"data:image/png;base64,iVBORw0KGgoAAAANSUhEUgAAAioAAAGrCAYAAADuNLxTAAAAOnRFWHRTb2Z0d2FyZQBNYXRwbG90\n",
              "bGliIHZlcnNpb24zLjEwLjAsIGh0dHBzOi8vbWF0cGxvdGxpYi5vcmcvlHJYcgAAAAlwSFlzAAAP\n",
              "YQAAD2EBqD+naQAAIEZJREFUeJzt3X1wVOXd//HPktgtAiEQwATCGiEPgkhCkEgDRdAyAj8FCk6r\n",
              "FkpQkmC16NCOiNQRrBU6U1upFhIIRi31AUm0KVEcFWpB0RCeCSIJEDZKIApKQCGQ5Pr9wXRv9w7h\n",
              "ZsOe5Aq8XzM7Q85eOflult15z+7JHpcxxggAAMBCbVp6AAAAgMYQKgAAwFqECgAAsBahAgAArEWo\n",
              "AAAAaxEqAADAWoQKAACwFqECAACsRagAAABrESoAAMBahAqAi7J//37ddddd6t69u9q3b6/u3btr\n",
              "zJgxqqys9Fs3ZcoUuVwurV69usE+YmJilJOTc96fU19fr169eunKK6/U119/7XddeXm5XC6X2rVr\n",
              "p/bt26tLly669dZbtX37dtXU1GjAgAF64IEH/L7nzJkzSklJUUZGRhNvOYDmQKgAuChjxoxRhw4d\n",
              "tHPnTp04cUJbtmzRz3/+c7lcLt+aI0eOaMWKFYqIiNCiRYua9HPefvtteb1eud1u5ebmnnPNtm3b\n",
              "dOLECe3du1fh4eEaN26c3G63Xn31Vb344otatWqVb+1jjz2mb7/9VgsXLmzSPACaB6ECoMmOHDmi\n",
              "3bt3a/r06ercubMk6aqrrtKUKVMUGRnpW/f888+rXbt2Wrx4sQoLC+X1egP+WYsWLdKoUaN0zz33\n",
              "KCsrS+c7n2rHjh01efJklZeX66uvvlJCQoKeffZZTZ06VZWVlVq7dq2ee+45vfbaa2rbtm3gNxxA\n",
              "syFUADRZRESErr/+emVmZio3N1fbt29XfX293xpjjLKysjR58mRNmDBBUVFRysrKCujn7N+/X6tX\n",
              "r1Z6errS09NVWlqqd999t9H1R48e1QsvvKDIyEh16tRJkpSWlqZbb71Vd911lyZPnqynn35a/fr1\n",
              "C/xGA2hWhAqAi7J27VqNHj1aixcvVkpKirp06aLf/va3qqmpkSS988472rdvn9LT0xUSEqJ77rlH\n",
              "y5Yt0+nTpy/4Z2RnZysyMlK33Xabrr32Wv34xz/W4sWLG6xLTk5WWFiYIiIitGXLFhUUFCgkJMR3\n",
              "/eLFi7V3714NGDBAmZmZF3/jATiOUAFwUSIiIvTEE0+oqKhIx44d0/PPP6+lS5dq/vz5ks6+ZTNk\n",
              "yBD17dtXknTvvffqq6++Ul5e3gXtv6amRs8//7ymTp3qi4709HT961//0ueff+63dvPmzaqurlZJ\n",
              "SYkkaceOHX7Xd+jQQb1791ZiYuJF3WYAzYdQARA0brdb48eP109+8hNt3rxZXq9XhYWF2rJliyIj\n",
              "IxUZGakbb7xRki74oNrXX39dX375pf72t7/59jFz5kzV1dUpOzv7nN/Tt29fZWVlacaMGTp48GDQ\n",
              "bh+A5keoAGiyr7/+Wo888ojvz4Dr6ur0/vvva+3atRo2bJiysrLUpUsX7d69W1u3bvVdVqxYofXr\n",
              "1/u94lFbW6tTp075XYwxWrRokcaMGaNPP/3U9/07duzQzJkzlZOTozNnzpxztpEjR+qGG27Q448/\n",
              "3ly/DgAOcJnzHToPAOfx7bff6sEHH9S6det08OBBhYSEKDo6WpMnT9ZDDz0kj8ejGTNmaM6cOQ2+\n",
              "d8CAARo8eLAWL16smJgYHThwoMGarVu3KikpSevXr9eQIUP8rjt06JBiYmL04osv6sYbb9Q111yj\n",
              "0tJSxcbG+tasW7dOI0aM0I4dO9SnTx9J0vDhwzV06FA9+eSTQf5tAHACoQIAAKzFWz8AAMBahAoA\n",
              "ALAWoQIAAKxFqAAAAGsRKgAAwFqECgAAsBahAgAArHVJhMrChQtbegQAAOCASyJUzvWJlgAAoPW7\n",
              "JEIFAABcmggVAABgLUIFAABYi1ABAADWIlQAAIC1CBUAAGAtQgUAAFiLUAEAANYiVAAAgLUIFQAA\n",
              "YC1CBQAAWItQAQAA1nI0VGbMmKGYmBi5XC5t3bq10XXLli1TXFycevfurfT0dJ05c8bJsQAAQCvh\n",
              "aKjccccdWr9+va6++upG1+zfv1+PPfaY1q1bp7KyMh0+fFhLlixxciwAANBKOBoqw4YNU3R09HnX\n",
              "rFy5UmPHjlVkZKRcLpemT5+uV155pdH1NTU1qq6u9rvU1dUFe3QAAGCB0JYewOv1+r3iEhMTI6/X\n",
              "2+j6+fPna968eX7bBg8e7MhsMY8UOrJfSSpf8P8c23dr5NTvmt+zPyf/TzvFqfuwNT6+W+PMrVVr\n",
              "fE5qjTNfiFZ3MO3s2bN17Ngxv0tKSkpLjwUAABzQ4q+oeDwe7d271/d1eXm5PB5Po+vdbrfcbrff\n",
              "tpCQEMfmAwAALafFX1GZOHGiCgoKdOjQIRljlJWVpTvvvLOlxwIAABZwNFQyMzMVHR2tzz//XLfe\n",
              "eqtiY2MlSdOmTVNBQYEkqVevXpo3b56GDBmi2NhYde3aVZmZmU6OBQAAWglH3/rJzs4+5/acnBy/\n",
              "r9PT05Wenu7kKAAAoBVq8bd+AAAAGkOoAAAAaxEqAADAWoQKAACwFqECAACsRagAAABrESoAAMBa\n",
              "hAoAALAWoQIAAKxFqAAAAGsRKgAAwFqECgAAsBahAgAArEWoAAAAaxEqAADAWoQKAACwFqECAACs\n",
              "RagAAABrESoAAMBahAoAALAWoQIAAKxFqAAAAGsRKgAAwFqECgAAsBahAgAArEWoAAAAaxEqAADA\n",
              "WoQKAACwFqECAACsRagAAABrESoAAMBahAoAALAWoQIAAKxFqAAAAGsRKgAAwFqECgAAsBahAgAA\n",
              "rEWoAAAAaxEqAADAWoQKAACwFqECAACsRagAAABrESoAAMBahAoAALAWoQIAAKxFqAAAAGsRKgAA\n",
              "wFqECgAAsBahAgAArEWoAAAAaxEqAADAWoQKAACwFqECAACsRagAAABrESoAAMBahAoAALAWoQIA\n",
              "AKxFqAAAAGsRKgAAwFqECgAAsBahAgAArOVoqJSWlio1NVXx8fEaNGiQSkpKGqypr6/XzJkz1bdv\n",
              "X/Xv318jRoxQWVmZk2MBAIBWwtFQyczMVEZGhvbs2aNZs2YpLS2twZqCggJ9+OGH2rZtm7Zv365b\n",
              "brlFjz76qJNjAQCAVsKxUKmqqlJxcbEmTZokSZo4caIqKioavFricrlUU1OjU6dOyRij6upqRUdH\n",
              "OzUWAABoRUKd2nFFRYWioqIUGnr2R7hcLnk8Hnm9XsXGxvrW3X777Vq7dq0iIyPVoUMH9ejRQx98\n",
              "8EGj+62pqVFNTY3ftrq6OmduBAAAaFEtfjBtcXGxdu7cqS+++EIHDx7ULbfcounTpze6fv78+erY\n",
              "saPfpaioqBknBgAAzcWxUOnZs6cqKytVW1srSTLGyOv1yuPx+K176aWXdPPNNys8PFxt2rTRlClT\n",
              "tHbt2kb3O3v2bB07dszvkpKS4tTNAAAALcixUOnWrZuSk5O1fPlySVJeXp6io6P93vaRpF69emnN\n",
              "mjU6ffq0JGnVqlXq169fo/t1u90KCwvzu4SEhDh1MwAAQAty7BgVScrOzlZaWpqeeuophYWFKTc3\n",
              "V5I0bdo0jR07VmPHjtX999+vTz/9VImJibriiisUGRmprKwsJ8cCAACthKOhkpCQoA0bNjTYnpOT\n",
              "4/u32+3W0qVLnRwDAAC0Ui1+MC0AAEBjCBUAAGAtQgUAAFiLUAEAANYiVAAAgLUIFQAAYC1CBQAA\n",
              "WItQAQAA1iJUAACAtQgVAABgLUIFAABYi1ABAADWIlQAAIC1CBUAAGAtQgUAAFiLUAEAANYiVAAA\n",
              "gLUIFQAAYC1CBQAAWItQAQAA1iJUAACAtQgVAABgLUIFAABYi1ABAADWIlQAAIC1CBUAAGAtQgUA\n",
              "AFiLUAEAANYiVAAAgLUIFQAAYC1CBQAAWItQAQAA1iJUAACAtQgVAABgLUIFAABYi1ABAADWIlQA\n",
              "AIC1CBUAAGAtQgUAAFiLUAEAANYiVAAAgLUIFQAAYC1CBQAAWItQAQAA1iJUAACAtQgVAABgLUIF\n",
              "AABYi1ABAADWIlQAAIC1CBUAAGAtQgUAAFiLUAEAANYiVAAAgLUIFQAAYC1CBQAAWItQAQAA1iJU\n",
              "AACAtQgVAABgLUIFAABYi1ABAADWIlQAAIC1CBUAAGAtR0OltLRUqampio+P16BBg1RSUnLOdTt2\n",
              "7NDw4cPVp08f9enTR/n5+U6OBQAAWolQJ3eemZmpjIwMpaWlaeXKlUpLS9PGjRv91nz33XcaN26c\n",
              "XnrpJQ0dOlR1dXU6evSok2MBAIBWwrFXVKqqqlRcXKxJkyZJkiZOnKiKigqVlZX5rXv55Zc1ePBg\n",
              "DR06VJIUEhKirl27NrrfmpoaVVdX+13q6uqcuhkAAKAFORYqFRUVioqKUmjo2RdtXC6XPB6PvF6v\n",
              "37pdu3bJ7XbrtttuU1JSkn75y1/qyy+/bHS/8+fPV8eOHf0uRUVFTt0MAADQggIOlXfeeSeoA9TW\n",
              "1uq9995Tdna2tmzZoh49eui+++5rdP3s2bN17Ngxv0tKSkpQZwIAAHYIOFSeeOIJJSQkaOHChaqu\n",
              "rm50Xc+ePVVZWana2lpJkjFGXq9XHo/Hb53H49GIESPUo0cPuVwuTZo0SR9//HGj+3W73QoLC/O7\n",
              "hISEBHozAABAKxBwqHz44Yd69dVXtXPnTsXHx+tXv/qVdu3a1WBdt27dlJycrOXLl0uS8vLyFB0d\n",
              "rdjYWL91P/vZz7Rx40Zf9Lz11ltKTExsym0BAACXmCYdozJgwAAtXbpUq1ev1qpVq9S/f3+NHDlS\n",
              "O3bs8FuXnZ2t7OxsxcfHa8GCBcrNzZUkTZs2TQUFBZLOvqLy6KOPKjU1Vf3799eaNWuUlZV1kTcL\n",
              "AABcCpr058nvvfeenn32We3YsUP333+/7r33Xv373//WT3/6U7+/6klISNCGDRsafH9OTo7f15Mn\n",
              "T9bkyZObMgoAALiEBRwqffr0UZcuXTRjxgxNmDDBd3zIHXfcoWXLlgV9QAAAcPkKOFSWL1+ugQMH\n",
              "nvO6t99++6IHAgAA+K+Aj1HZtGmT3yfHHjlyREuXLg3qUAAAAFITQmXRokXq3Lmz7+uIiAgtWrQo\n",
              "qEMBAABITQgVY0yDbXyEPQAAcELAoRIVFaUVK1b4vn7ttdcUFRUV1KEAAACkJhxM+8wzz2jcuHF6\n",
              "+OGHJUlXXnml/vnPfwZ9MAAAgIBD5dprr9WuXbv02WefSTr7WSl8hD0AAHBCkz7wzeVyKTw8XLW1\n",
              "tfriiy8kqcE5fAAAAC5WwKHywgsvaMaMGbriiivUps3ZQ1xcLpeqqqqCPhwAALi8BRwqv//977Vx\n",
              "40YlJCQ4MQ8AAIBPwH/106VLFyIFAAA0i4BDZfz48XrmmWdUVVWl6upq3wUAACDYAn7rZ86cOZKk\n",
              "mTNnyuVyyRgjl8vFh74BAICgCzhU6uvrnZgDAACggYDf+pHOnpjw73//uyTpm2++UWVlZVCHAgAA\n",
              "kJp4UsJ77rlHc+fOlXT27Ml33313sOcCAAAIPFSWLFmijz/+WGFhYZKk3r1768svvwz6YAAAAAGH\n",
              "itvtVtu2bf22hYY26QNuAQAAzivgUOnatav27Nkjl8sl6ewn1fLx+QAAwAlNOnvyXXfdpd27d6tn\n",
              "z54KCwvTqlWrnJgNAABc5gIOldjYWH3yySf67LPPZIzh7MkAAMAxAYeK1+uVJLVr106SOHsyAABw\n",
              "TMChMnDgQN8n0p46dUrfffedIiIiOHsyAAAIuoBD5X//KXJ+fr62bdsWtIEAAAD+q0mfTPt9EyZM\n",
              "UGFhYTBmAQAA8BPwKyrfP1NyXV2dPvnkE86eDAAAHBFwqISHh/uOUQkJCVFcXJz++te/OjEbAAC4\n",
              "zHH2ZAAAYK2LPkYFAADAKQG/otKmTRvfx+d/nzFGLpdLdXV1QRkMAAAg4FB54okndPLkSd13332S\n",
              "pKysLLVt21YPPfRQsGcDAACXuYBD5Y033tCmTZt8Xz/55JMaOHCg5syZE9TBAAAAAj5G5fjx436f\n",
              "QltVVaXjx48HdSgAAACpCa+o/OY3v1FiYqLGjBkjSVq9erXmzp0b7LkAAAACD5XMzEwNGTJEa9eu\n",
              "lSTNnDlT1113XdAHAwAACDhUJCkiIkLXX3+9hg8frtraWp0+fVo/+MEPgj0bAAC4zAV8jMrKlSs1\n",
              "ePBgTZ06VZJUUlKi8ePHB3suAACAwENl/vz52rx5s8LDwyVJiYmJOnDgQLDnAgAACDxUQkJCFBER\n",
              "4beNt30AAIATAg6VDh066PDhw75Pp33//ffVuXPnoA8GAAAQ8MG0f/zjHzV69Gjt27dPQ4cO1f79\n",
              "+1VYWOjEbAAA4DIXUKjU19errq5Oa9eu1UcffSRjjFJTU33HqwAAAARTQKHSpk0bZWRkaNu2bRo9\n",
              "erRTMwEAAEhqwjEqcXFxKisrc2IWAAAAPwEfo3L06FElJSUpNTVV7du3923Pz88P6mAAAAAXHCoZ\n",
              "GRlasmSJpkyZorFjx6pTp05OzgUAAHDhoVJcXCxJmjJlipKTk7V582bHhgIAAJCacIyKJBljgj0H\n",
              "AABAAxf8isrJkye1Y8cOGWN06tQp37//q3///o4MCAAALl8BhcrYsWN9X3//3y6XS/v27QvuZAAA\n",
              "4LJ3waFSXl7u4BgAAAANNekYFQAAgOZAqAAAAGsRKgAAwFqECgAAsBahAgAArEWoAAAAaxEqAADA\n",
              "WoQKAACwFqECAACs5WiolJaWKjU1VfHx8Ro0aJBKSkoaXWuM0c0336zw8HAnRwIAAK2Io6GSmZmp\n",
              "jIwM7dmzR7NmzVJaWlqja//yl7+od+/eTo4DAABaGcdCpaqqSsXFxZo0aZIkaeLEiaqoqFBZWVmD\n",
              "tSUlJXrzzTf1yCOP/J/7rampUXV1td+lrq4u6PMDAICW51ioVFRUKCoqSqGhZ8976HK55PF45PV6\n",
              "/dadOXNG6enpys7OVkhIyP+53/nz56tjx45+l6KiIkduAwAAaFktfjDtvHnzNGHCBPXp0+eC1s+e\n",
              "PVvHjh3zu6SkpDg8JQAAaAmhTu24Z8+eqqysVG1trUJDQ2WMkdfrlcfj8Vv3wQcfyOv16rnnnlNt\n",
              "ba2qq6sVExOjjRs3qmvXrg3263a75Xa7/bZdyCsxAACg9XHsFZVu3bopOTlZy5cvlyTl5eUpOjpa\n",
              "sbGxfuvWrVunAwcOqLy8XOvXr1dYWJjKy8vPGSkAAODy4uhbP9nZ2crOzlZ8fLwWLFig3NxcSdK0\n",
              "adNUUFDg5I8GAACXAMfe+pGkhIQEbdiwocH2nJycc66PiYnRN9984+RIAACgFWnxg2kBAAAaQ6gA\n",
              "AABrESoAAMBahAoAALAWoQIAAKxFqAAAAGsRKgAAwFqECgAAsBahAgAArEWoAAAAaxEqAADAWoQK\n",
              "AACwFqECAACsRagAAABrESoAAMBahAoAALAWoQIAAKxFqAAAAGsRKgAAwFqECgAAsBahAgAArEWo\n",
              "AAAAaxEqAADAWoQKAACwFqECAACsRagAAABrESoAAMBahAoAALAWoQIAAKxFqAAAAGsRKgAAwFqE\n",
              "CgAAsBahAgAArEWoAAAAaxEqAADAWoQKAACwFqECAACsRagAAABrESoAAMBahAoAALAWoQIAAKxF\n",
              "qAAAAGsRKgAAwFqECgAAsBahAgAArEWoAAAAaxEqAADAWoQKAACwFqECAACsRagAAABrESoAAMBa\n",
              "hAoAALAWoQIAAKxFqAAAAGsRKgAAwFqECgAAsBahAgAArEWoAAAAaxEqAADAWoQKAACwFqECAACs\n",
              "RagAAABrORoqpaWlSk1NVXx8vAYNGqSSkpIGa9asWaOUlBT17dtX1113nR5++GHV19c7ORYAAGgl\n",
              "HA2VzMxMZWRkaM+ePZo1a5bS0tIarOnUqZNeffVV7dq1S5s2bdJHH32kl156ycmxAABAK+FYqFRV\n",
              "Vam4uFiTJk2SJE2cOFEVFRUqKyvzWzdgwAD16tVLkvTDH/5QSUlJKi8vb3S/NTU1qq6u9rvU1dU5\n",
              "dTMAAEALcixUKioqFBUVpdDQUEmSy+WSx+OR1+tt9HsOHTqklStX6rbbbmt0zfz589WxY0e/S1FR\n",
              "UdDnBwAALc+ag2mrq6t1++236+GHH9YNN9zQ6LrZs2fr2LFjfpeUlJRmnBQAADSXUKd23LNnT1VW\n",
              "Vqq2tlahoaEyxsjr9crj8TRYe/z4cY0aNUrjxo3TzJkzz7tft9stt9vtty0kJCSoswMAADs49opK\n",
              "t27dlJycrOXLl0uS8vLyFB0drdjYWL91J06c0KhRozRq1Cj97ne/c2ocAADQCjn61k92drays7MV\n",
              "Hx+vBQsWKDc3V5I0bdo0FRQUSJIWLlyooqIi5efnKykpSUlJSfrDH/7g5FgAAKCVcOytH0lKSEjQ\n",
              "hg0bGmzPycnx/XvOnDmaM2eOk2MAAIBWypqDaQEAAP43QgUAAFiLUAEAANYiVAAAgLUIFQAAYC1C\n",
              "BQAAWItQAQAA1iJUAACAtQgVAABgLUIFAABYi1ABAADWIlQAAIC1CBUAAGAtQgUAAFiLUAEAANYi\n",
              "VAAAgLUIFQAAYC1CBQAAWItQAQAA1iJUAACAtQgVAABgLUIFAABYi1ABAADWIlQAAIC1CBUAAGAt\n",
              "QgUAAFiLUAEAANYiVAAAgLUIFQAAYC1CBQAAWItQAQAA1iJUAACAtQgVAABgLUIFAABYi1ABAADW\n",
              "IlQAAIC1CBUAAGAtQgUAAFiLUAEAANYiVAAAgLUIFQAAYC1CBQAAWItQAQAA1iJUAACAtQgVAABg\n",
              "LUIFAABYi1ABAADWIlQAAIC1CBUAAGAtQgUAAFiLUAEAANYiVAAAgLUIFQAAYC1CBQAAWItQAQAA\n",
              "1iJUAACAtQgVAABgLUIFAABYi1ABAADWIlQAAIC1CBUAAGAtR0OltLRUqampio+P16BBg1RSUnLO\n",
              "dcuWLVNcXJx69+6t9PR0nTlzxsmxAABAK+FoqGRmZiojI0N79uzRrFmzlJaW1mDN/v379dhjj2nd\n",
              "unUqKyvT4cOHtWTJEifHAgAArYRjoVJVVaXi4mJNmjRJkjRx4kRVVFSorKzMb93KlSs1duxYRUZG\n",
              "yuVyafr06XrllVca3W9NTY2qq6v9LnV1dU7dDAAA0IJcxhjjxI43bdqku+++W5999plvW0pKihYs\n",
              "WKCbb77Zt+3Xv/61unfvrtmzZ0uSdu3apVGjRsnr9Z5zv3PnztW8efP8tl177bUaPXp0UOevq6tT\n",
              "UVGRUlJSFBISEtR9o2m4T+zC/WEX7g+7cH9cmKuvvloPPvjgedeENtMsQTN79mzNnDnTb5vb7Zbb\n",
              "7Q7qz6murlbHjh31zjvvKCwsLKj7RtNwn9iF+8Mu3B924f4IHsdCpWfPnqqsrFRtba1CQ0NljJHX\n",
              "65XH4/Fb5/F4tHfvXt/X5eXlDdZ8nxNRAgAA7OTYMSrdunVTcnKyli9fLknKy8tTdHS0YmNj/dZN\n",
              "nDhRBQUFOnTokIwxysrK0p133unUWAAAoBVx9K9+srOzlZ2drfj4eC1YsEC5ubmSpGnTpqmgoECS\n",
              "1KtXL82bN09DhgxRbGysunbtqszMTCfHAgAArYSjx6gkJCRow4YNDbbn5OT4fZ2enq709HQnRwmY\n",
              "2+3W448/zttMFuE+sQv3h124P+zC/RE8jv3VDwAAwMXiI/QBAIC1CBUAAGAtQgUAAFiLUAEAANYi\n",
              "VBpxoWd+xoU7deqUxo8fr/j4eCUmJmrkyJG+cz9VVVVp1KhRiouLU79+/fSf//zH931OXAd/ubm5\n",
              "crlcevPNNyVxf7SUmpoaPfDAA4qLi9P111/vO1fa+Z6PnLgOZ7311ltKTk5WUlKS+vXrpxdffFES\n",
              "j49mZ3BOI0aMMLm5ucYYY15//XVzww03tOxAl4CTJ0+awsJCU19fb4wx5tlnnzU33XSTMcaYqVOn\n",
              "mscff9wYY0xRUZHp0aOHOX36tGPX4X/s37/f/OhHPzKDBw82b7zxhjGG+6OlPPTQQ+aBBx7wPUYq\n",
              "KyuNMed/PnLiOhhTX19vOnXqZLZt22aMOfs4cbvdprq6msdHMyNUzuHw4cOmQ4cO5syZM8aYs/9h\n",
              "r7rqKlNaWtrCk11aNm7caK6++mpjjDHt2rXzPSkbY8ygQYPMu+++69h1OKuurs7ccsstpri42Nx0\n",
              "002+UOH+aH4nTpwwHTp0MMeOHfPbfr7nIyeuw1n19fWmc+fO5oMPPjDGGLNt2zbTvXt3U1NTw+Oj\n",
              "mbW6kxI2h4qKCkVFRSk09Oyvx+VyyePxyOv1NjgFAJpu4cKFGjdunI4cOaIzZ84oMjLSd11MTIy8\n",
              "Xq8j1+F//PnPf9aQIUM0cOBA3zbuj5axd+9ede7cWU899ZTee+89tW3bVnPnzlV4eHijz0cdO3YM\n",
              "+nU8x53lcrn02muvacKECWrXrp2+/vpr5efn6/jx4zw+mhmhghbx1FNPqaysTO+//75OnjzZ0uNc\n",
              "lnbu3Km8vDzeC7dEbW2tDhw4oL59+2rBggXasmWLRo4cqcLCwpYe7bJUW1urJ598Uvn5+Ro2bJg2\n",
              "btyosWPHauvWrS092mWHg2nP4ftnfpbU6Jmf0TR/+tOflJ+fr7fffltXXnmlIiIiFBoaqkOHDvnW\n",
              "/Pcs2k5ch7PWrVun8vJyxcXFKSYmRh9//LEyMjK0YsUK7o8W4PF41KZNG/3iF7+QJA0YMEDXXHON\n",
              "Dhw40Ojz0fmeq5p6Hc7aunWrDh48qGHDhkmSBg0apOjoaG3fvp3HR3Nr0TeeLHbTTTf5HWg2cODA\n",
              "lh3oEvH000+b5ORkc/ToUb/tU6ZM8TuQrHv37r4DyZy4Dg19/xgV7o+WMXLkSFNYWGiMMWbfvn0m\n",
              "IiLCfP755+d9PnLiOhhz6NAh0759e7Nr1y5jjDGlpaWmU6dO5sCBAzw+mhmh0ojdu3ebwYMHm7i4\n",
              "ODNw4ECzffv2lh6p1auoqDCSTK9evUxiYqJJTEw0KSkpxpizTwojR440sbGxpm/fvmbNmjW+73Pi\n",
              "OjT0/VDh/mgZe/fuNcOHDzf9+vUz/fv3NytXrjTGnP/5yInrcNbLL7/suy/69etn/vGPfxhjeHw0\n",
              "N05KCAAArMUxKgAAwFqECgAAsBahAgAArEWoAAAAaxEqAADAWoQKAACwFqECAACsRagAAABrESoA\n",
              "AMBahAoAALDW/wdU008/1AQ5FQAAAABJRU5ErkJggg==\n",
              "\">\n",
              "      </div>\n",
              "      <script type=\"text/javascript\">\n",
              "        (() => {\n",
              "          const chartElement = document.getElementById(\"chart-69bdec5f-23a3-49fb-875c-d87b79891d8a\");\n",
              "          async function getCodeForChartHandler(event) {\n",
              "            const chartCodeResponse =  await google.colab.kernel.invokeFunction(\n",
              "                'getCodeForChart', [\"chart-69bdec5f-23a3-49fb-875c-d87b79891d8a\"], {});\n",
              "            const responseJson = chartCodeResponse.data['application/json'];\n",
              "            await google.colab.notebook.addCell(responseJson.code, 'code');\n",
              "          }\n",
              "          chartElement.onclick = getCodeForChartHandler;\n",
              "        })();\n",
              "      </script>\n",
              "      <style>\n",
              "        .colab-quickchart-chart-with-code  {\n",
              "            display: block;\n",
              "            float: left;\n",
              "            border: 1px solid transparent;\n",
              "        }\n",
              "\n",
              "        .colab-quickchart-chart-with-code:hover {\n",
              "            cursor: pointer;\n",
              "            border: 1px solid #aaa;\n",
              "        }\n",
              "      </style>"
            ]
          },
          "metadata": {}
        },
        {
          "output_type": "display_data",
          "data": {
            "text/plain": [
              "<google.colab._quickchart_helpers.SectionTitle at 0x7fec1fc8a3d0>"
            ],
            "text/html": [
              "<h4 class=\"colab-quickchart-section-title\">2-d distributions</h4>\n",
              "<style>\n",
              "  .colab-quickchart-section-title {\n",
              "      clear: both;\n",
              "  }\n",
              "</style>"
            ]
          },
          "metadata": {}
        },
        {
          "output_type": "display_data",
          "data": {
            "text/plain": [
              "from matplotlib import pyplot as plt\n",
              "_df_2.plot(kind='scatter', x='AGE', y='SALARY', s=32, alpha=.8)\n",
              "plt.gca().spines[['top', 'right',]].set_visible(False)"
            ],
            "text/html": [
              "      <div class=\"colab-quickchart-chart-with-code\" id=\"chart-95dc8806-0195-4a31-8152-52b2e666b632\">\n",
              "        <img style=\"width: 180px;\" src=\"data:image/png;base64,iVBORw0KGgoAAAANSUhEUgAAAjwAAAGkCAYAAAA10v8pAAAAOnRFWHRTb2Z0d2FyZQBNYXRwbG90\n",
              "bGliIHZlcnNpb24zLjEwLjAsIGh0dHBzOi8vbWF0cGxvdGxpYi5vcmcvlHJYcgAAAAlwSFlzAAAP\n",
              "YQAAD2EBqD+naQAAJV5JREFUeJzt3X9wFPd9//HX6Vbak3USIQgQDkgyQcq0FrbAFhZ4bKApHnB/\n",
              "QOyhngHh4LEH8NROPbgdoLWTcZIxydSVy8B4XGyqJpZhTApxfhBwSNJCE4PAUygRdUGy9QMD+sVP\n",
              "SZFWt3f7/YNE38gWjrBvb+Fzz8fMzaDbk/TeQ6ye7O7dhjzP8wQAAGCwjKAHAAAA8BvBAwAAjEfw\n",
              "AAAA4xE8AADAeAQPAAAwHsEDAACMR/AAAADjETwAAMB4BM9vbdiwIegRAACATwie32ppaQl6BAAA\n",
              "4BOCBwAAGI/gAQAAxiN4AACA8QgeAABgPIIHAAAYj+ABAADGI3gAAIDxCB4AAGA8ggcAABiP4AEA\n",
              "AMYjeAAAgK/6Y3F19Tjqj8UDm8EK7DsDAACjdXY7qj3YrD317eqLxZWdGdaCsgJVzSxSftRO6Szs\n",
              "4QEAAEnX2e3oyW1H9Hpdq3odV1ZGSL2Oq9q6Fj2x9Yi6epyUzkPwAACApKs92KzGjm6NjdoanZOl\n",
              "HNvS6JwsjY3aauzoVu2BlpTOQ/AAAICk6o/Ftae+XRErLCs8NDWscIZsK6zdx9tSek4PwQMAAJKq\n",
              "x3HVF4sryxo+M2wrQ30DcfU4bspmIngAAEBSRW1L2ZlhDbiJYZc7bkLZWWFF7dS9dorgAQAASRXJ\n",
              "DGt+2Xj1u3G58aHR48YTcty4FtxaoEhmOGUz8bJ0AACQdMtmFquu6YIaO7plW2HZVoYc90rslIzL\n",
              "VdXMopTOwx4eAACQdPlRW5uWTFPVXUWKRiy5CU/RiKWqu4q0ccm0lL8PD3t4AACAL/Kjtp6aV6pV\n",
              "cz6vHsdV1LZSehjr9xE8AADAV5HMcGCh8zsc0gIAAMYjeAAAgPEIHgAAYDyCBwAAGI/gAQAAxiN4\n",
              "AACA8QgeAABgPIIHAAAYj+ABAADGI3gAAIDxCB4AAGA8ggcAABiP4AEAAMYjeAAAgPEIHgAAYDyC\n",
              "BwAAGI/gAQAAxiN4AACA8QgeAABgPIIHAAAYj+ABAADGI3gAAIDxCB4AAGA8ggcAABiP4AEAAMYj\n",
              "eAAA8FF/LK6uHkf9sXjQo6Q1K+gBAAAwUWe3o9qDzdpT366+WFzZmWEtKCtQ1cwi5UftoMdLO77u\n",
              "4fnJT36i6dOnq7y8XGVlZfrOd74jSero6ND8+fNVUlKisrIy7d+/f/Bz/FgGAEAqdXY7enLbEb1e\n",
              "16pex5WVEVKv46q2rkVPbD2irh4n6BHTjm/B43meqqqq9G//9m86evSofvzjH2vlypXq7u7W2rVr\n",
              "VVlZqYaGBtXU1GjJkiWKxWKS5MsyAABSqfZgsxo7ujU2amt0TpZybEujc7I0NmqrsaNbtQdagh4x\n",
              "7fi6hycUCunixYuSpMuXL2vMmDGybVvbt2/XqlWrJEkVFRW6+eabtW/fPknyZdmHOY6jy5cvD7nF\n",
              "4xxbBQB8ev2xuPbUtytihWWFh/6atcIZsq2wdh9v45yeFPPtHJ5QKKQ33nhDDzzwgHJycnThwgXt\n",
              "3LlT3d3disViKigoGHxscXGxWltbde7cuaQvG8769ev13HPPDbmvsrIyWasOAEhjPY6rvlhcWdbw\n",
              "+xRsK0N9A3H1OK4imeEUT5e+fNvD47quvvnNb2rnzp1qaWnRz3/+cy1btkyu6/r1LUds3bp1unTp\n",
              "0pDbjBkzgh4LAGCAqG0pOzOsATcx7HLHTSg7K6yozeuGUsm34Dl69KjOnDmje++9V9KVw0wTJ07U\n",
              "sWPHZFmW2traBh/b3NyswsJCjRkzJunLhmPbtvLy8obcwmEqGwDw6UUyw5pfNl79blxufGj0uPGE\n",
              "HDeuBbcWsHcnxXwLnkmTJuns2bN69913JUmNjY1677339IUvfEGLFy/Wyy+/LEk6fPiwTp8+rdmz\n",
              "Z0uSL8sAAEilZTOLNWVcrjp7HJ3vHVCv4+p874A6exyVjMtV1cyioEdMO77tTxs/frw2b96sv/qr\n",
              "v1JGRoYSiYQ2bdqkwsJCffvb39ayZctUUlKirKws1dbWKjMzU5J8WQYAQCrlR21tWjJNtQdatPt4\n",
              "m/oG4opGLC2+dSLvwxOQkOd5XtBDXA9Wr16t6urqoMcAABimP3blBOWobXEYK0CcMQUAgI8imWFC\n",
              "5zrAtbQAAIDxCB4AAGA8ggcAABiP4AEAAMYjeAAAgPEIHgAAYDyCBwAAGI/gAQAAxiN4AACA8Qge\n",
              "AABgPIIHAAAYj+ABAADGI3gAAIDxCB4AAGA8ggcAABiP4AEAAMYjeAAAgPEIHgAAYDyCBwAAGI/g\n",
              "AQAAxiN4AACA8QgeAABgPIIHAAAYj+ABAADGI3gAAIDxCB4AAGA8ggcAABiP4AEAAMYjeAAAgPEI\n",
              "HgAAYDyCBwAAGI/gAQAAxiN4AACA8QgeAABgPIIHAAAYj+ABAADGI3gAAIDxCB4AAGA8ggcAABiP\n",
              "4AEAAMYjeAAAgPEIHgAAYDyCBwAAGI/gAQAAxiN4AACA8QgeAABgPIIHAAAYj+ABAADGI3gAAIDx\n",
              "CB4AAGA8ggcAABiP4AEAAMYjeAAAgPEIHgAAYDyCBwAAGI/gAQAAxiN4AACA8QgeAABgPIIHAAAY\n",
              "j+ABAKRcfyyurh5H/bF40KMgTVhBDwAASB+d3Y5qDzZrT327+mJxZWeGtaCsQFUzi5QftYMeDwZj\n",
              "Dw8AICU6ux09ue2IXq9rVa/jysoIqddxVVvXoie2HlFXjxP0iDAYwQMASInag81q7OjW2Kit0TlZ\n",
              "yrEtjc7J0tiorcaObtUeaAl6RBiM4AEA+K4/Ftee+nZFrLCs8NBfPVY4Q7YV1u7jbZzTA98QPAAA\n",
              "3/U4rvpicWVZw//asa0M9Q3E1eO4KZ4M6cLX4HEcR0888YRKSko0depUVVVVSZIaGho0a9YslZaW\n",
              "qqKiQsePHx/8HD+WAQCCFbUtZWeGNeAmhl3uuAllZ4UVtXktDfzha/CsXbtWoVBIJ0+e1K9//Wu9\n",
              "8MILkqSVK1dqxYoVOnnypNasWaPly5cPfo4fywAAwYpkhjW/bLz63bjc+NDoceMJOW5cC24tUCQz\n",
              "HNCEMF3I8zzPjy/c29urCRMm6IMPPlBeXt7g/R0dHZoyZYrOnz8vy7LkeZ4mTJigX/7yl8rLy0v6\n",
              "silTpnxkNsdx5DhDXw3w7LPPasOGDX48FQAASV09jp7YekSNHd2yrbBsK0OOeyV2SsblauOSabw0\n",
              "Hb7xbQ/Pe++9p89+9rN6/vnndeedd+qee+7Rz3/+c506dUoTJkyQZV3ZbRkKhVRYWKjW1lZflg1n\n",
              "/fr1GjVq1JDboUOH/HoqAACS8qO2Ni2Zpqq7ihSNWHITnqIRS1V3FRE78J1vB0td11VLS4v++I//\n",
              "WN/61rd05MgRzZs3T7t27fLrW47YunXrtHr16iH3PfvsswFNAwDpIz9q66l5pVo15/PqcVxFbYvD\n",
              "WEgJ34KnsLBQGRkZWrp0qSRp2rRpuuWWW9TS0qKzZ8/Kdd3Bw0+tra0qLCxUXl5e0pcNx7Zt2fbQ\n",
              "/0mEw/yDA4BUiWSGCR2klG+HtPLz8/XFL35Rb731liSpqalJTU1NuvvuuzV9+nTV1tZKknbs2KGJ\n",
              "EydqypQpGjduXNKXAQAA+HbSsiS9//77evTRR9XV1aWMjAx99atf1YMPPqgTJ05o+fLlOnfunPLy\n",
              "8lRTU6OpU6dKki/LRmL16tWqrq5O/pMAAAAC52vw3EgIHgAAzMU7LQMAAOMRPAAAwHgEDwAAMB7B\n",
              "AwAAjEfwAAAA4xE8AADAeAQPAAAwHsEDAACMR/AAAADjETwAAMB4BA8AADAewQMAAIxH8AAAAOMR\n",
              "PAAAwHgEDwAAMB7BAwAAjEfwAAAA4xE8AADAeAQPAAAwHsEDAACMR/AAAADjETwAAMB4BA8AADAe\n",
              "wQMAAIxH8AAAAOMRPAAAwHgEDwDAV/2xuLp6HPXH4kGPgjRmBT0AAMBMnd2Oag82a099u/picWVn\n",
              "hrWgrEBVM4uUH7WDHg9phj08AICk6+x29OS2I3q9rlW9jisrI6Rex1VtXYue2HpEXT1O0CMizRA8\n",
              "AICkqz3YrMaObo2N2hqdk6Uc29LonCyNjdpq7OhW7YGWoEdEmiF4AABJ1R+La099uyJWWFZ46K8Z\n",
              "K5wh2wpr9/E2zulBSo04eL7yla/IcdgFCQD4eD2Oq75YXFnW8L9ibCtDfQNx9ThuiidDOhtx8Liu\n",
              "q/Lych06dMjPeQAAN7iobSk7M6wBNzHscsdNKDsrrKjN62aQOiMOnpdeekmbNm3SkiVL9Mwzz+jC\n",
              "hQu6fPny4A0AAEmKZIY1v2y8+t243PjQ6HHjCTluXAtuLVAkMxzQhEhH15TXX/ziF7V3715Nnz5d\n",
              "69evlyR5nqdQKKR4nGOxAIArls0sVl3TBTV2dMu2wrKtDDnuldgpGZerqplFQY+INHNNJy2/+eab\n",
              "mjt3rtauXatYLKZ4PK5EIkHsAACGyI/a2rRkmqruKlI0YslNeIpGLFXdVaSNS6bxPjxIuRHv4Vm6\n",
              "dKneffdd/ehHP9LUqVP9nAkAYID8qK2n5pVq1ZzPq8dxFbUtDmMhMCPew3PLLbeorq5u2Nj5/ve/\n",
              "n9ShAADmiGSGlR+1iR0EasTB841vfEM/+MEP9E//9E86ceKEJOmtt97S9OnTtW7dOt8GBAAA+LRG\n",
              "HDx/+7d/qzVr1ujw4cP60pe+pKeffloPPfSQHnnkEdXX1/s5IwAAwKcy4nN4fvKTn+jo0aPKzc3V\n",
              "2bNnVVxcrHfeeYfzeQAAwHVvxHt4srOzlZubK0maMGGCSktLiR0AAHBDGPEenosXL+qHP/zh4Me/\n",
              "+c1vhnz8l3/5l8mdDAAAIElCnud5I3ngnDlzFAqFhv8ioZB+8YtfJHWwVFu9erWqq6uDHgMAAPhg\n",
              "xHt4/vM//9PHMQAAAPxzTe+0/GEXLlzQxo0bVV5enqRxAMAs/bG4unoc9cd4R3ogSJ/oUrU/+9nP\n",
              "9Oqrr+rHP/6x/uIv/kLf+MY3kj0XANzQOrsd1R5s1p76dvXF4srODGtBWYGqZhZxWQUgACMOnlOn\n",
              "Tulf//VfVVNTo/z8fD3yyCM6cOCAtm3b5ud8AHDD6ex29OS2I2rs6FbECivLylCv46q2rkUHm85r\n",
              "E9eSAlLumi4t8ctf/lI/+MEP9M477+iv//qvFQ7zNuEA8GG1B5vV2NGtsVFbo3OylGNbGp2TpbFR\n",
              "W40d3ao90BL0iEDaGXHw/MM//IMaGhq0cuVKvfLKK+ru7vZzLgC4IfXH4tpT366IFZYVHrqJtcIZ\n",
              "sq2wdh9v45weIMVGHDzPPfecmpqa9PWvf10/+9nPVFhYqK6uLu3du1eJRMLPGQHghtHjuOqLxZVl\n",
              "Db95ta0M9Q3E1eO4KZ4MSG/XdNJyKBTSfffdp/vuu0/nz5/Xd7/7XT399NPq7OzU2bNn/ZoRAG4Y\n",
              "UdtSdmZYvY6rnGFO03HchKIRS1H7E71mBMAn9Ilflv7Zz35WTz31lI4dO6bt27cncyYAuGFFMsOa\n",
              "XzZe/W5cbnzo3m83npDjxrXg1gJFMjkHEkilT/U+PL+zdOnSZHwZADDCspnFmjIuV509js73DqjX\n",
              "cXW+d0CdPY5KxuWqamZR0CMCaScpwTPCq1MAQFrIj9ratGSaqu4qUjRiyU14ikYsVd1VpI28JB0I\n",
              "RFIOIl/tGlsAkK7yo7aemleqVXM+rx7HVdS2OIwFBGjEwXPs2LGrLovFYkkZBgBME8kMEzrAdWDE\n",
              "wbNw4cKrLotEIkkZBgAAwA8jDp6mpiY/5wAAAPDNpzppOZFI6Ec/+pEWLVqUpHEAAACS7xOdtNzQ\n",
              "0KAtW7botddeU2FhoZYsWZLsuQAAAJJmxMHT19en733ve3r11VfV2NiopUuXKiMjQwcOHPBzPgAA\n",
              "gE9txMFTUFCg8vJyPf300/qzP/szWZalHTt2+DkbAABAUoz4HJ5Fixapvr5e27Zt03/8x3/4ORMA\n",
              "AEBSjTh4vvOd76i5uVl/8id/omeeeUaFhYW6ePGiGhoa/JwPAEakPxZXV4+j/lg86FEAXIeu6VVa\n",
              "ubm5WrFiherq6rRr1y59+ctf1qxZs1RRUfGxn1dTU6NQKKQ333xTktTR0aH58+erpKREZWVl2r9/\n",
              "/+Bj/VgGwFyd3Y5e3HtCCzf9Sg+89LYWbvqV/nnvSXX1OEGPBuA68okvLZGTk6OioiJt2bJFjnP1\n",
              "DUtzc7NeeeUVVVZWDt63du1aVVZWas+ePTp8+LC+9KUvqampSZmZmb4sA2Cmzm5HT247osaObkWs\n",
              "sLKsDPU6rmrrWnSw6bw2cd0qAL814j08f/qnf6qjR49Kks6cOaM777xTb731ltasWaP33ntv2M9J\n",
              "JBJ67LHHtHHjRtn2/9/obN++XatWrZIkVVRU6Oabb9a+fft8WwbATLUHm9XY0a2xUVujc7KUY1sa\n",
              "nZOlsVFbjR3dqj3QEvSIAK4TIw6e06dPq7y8XJK0detWzZ49W7t379bbb7+trVu3Dvs51dXVuvvu\n",
              "u3XHHXcM3nfu3DnFYjEVFBQM3ldcXKzW1lZflg3HcRxdvnx5yC0e57g/cCPpj8W1p75dESssKzx0\n",
              "U2aFM2RbYe0+3sY5PQAkXUPwZGdnD/757bff1v333y9JGj16tMLhj14Yr76+Xjt27NAzzzyThDGT\n",
              "a/369Ro1atSQ26FDh4IeC8A16HFc9cXiyrKG34zZVob6BuLqcdwUTwbgejTi4MnIyNAHH3ygnp4e\n",
              "7du3T7Nnzx5c1tfX95HH/9d//Zeam5tVUlKi4uJiHTx4UCtWrND27dtlWZba2toGH9vc3KzCwkKN\n",
              "GTMm6cuGs27dOl26dGnIbcaMGSN9KgBcB6K2pezMsAbcxLDLHTeh7KywovYnPlURgEFGHDx///d/\n",
              "r2nTpqmkpERz585VaWmppCt7e4qLiz/y+Mcff1xnz55Vc3OzmpubVVlZqc2bN+vxxx/X4sWL9fLL\n",
              "L0uSDh8+rNOnTw8GlB/LPsy2beXl5Q25DbeXCsD1K5IZ1vyy8ep343LjQ6PHjSfkuHEtuLVAkUz+\n",
              "bQO4hldpPfDAA5o1a5ba29t12223Dd5fXFyszZs3X9M3/fa3v61ly5appKREWVlZqq2tHXw1lR/L\n",
              "AJhp2cxi1TVdUGNHt2wrLNvKkONeiZ2ScbmqmlkU9IgArhMhz/O8oIe4HqxevVrV1dVBjwHgGnX1\n",
              "OKo90KLdx9vUNxBXdlZYC24tUNXMIl6SDmAQB7cB3NDyo7aemleqVXM+rx7HVdS2OIwF4CMIHgBG\n",
              "iGSGCR0AV3VNl5YAAAC4ERE8AADAeAQPAAAwHsEDAACMR/AAAADjETwAAMB4BA8AADAewQMAAIxH\n",
              "8AAAAOMRPAAAwHgEDwAAMB7BAwAAjEfwAAAA4xE8AADAeAQPAAAwHsEDAACMR/AAAADjETwAAMB4\n",
              "BA8AADAewQMAAIxH8AAAAOMRPAAAwHgEDwAAMB7BAwAAjEfwAAAA4xE8AADAeAQPAAAwHsEDAACM\n",
              "R/AAAADjETwAAMB4BA8AADAewQMAAIxH8AAAAOMRPAAAwHgEDwAAMB7BAwAAjEfwAAAA4xE8AADA\n",
              "eAQPAAAwHsEDAACMR/AAAADjETwAAMB4BA8AADAewQMAAIxH8AAAAOMRPAAAwHgEDwAAMB7BAwAA\n",
              "jEfwAAAA4xE8AADAeAQPAAAwHsEDAACMR/AAAADjETwG6o/F1dXjqD8WD3oUAACuC1bQAyB5Orsd\n",
              "1R5s1p76dvXF4srODGtBWYGqZhYpP2oHPR4AAIFhD48hOrsdPbntiF6va1Wv48rKCKnXcVVb16In\n",
              "th5RV48T9IgAAASG4DFE7cFmNXZ0a2zU1uicLOXYlkbnZGls1FZjR7dqD7QEPSIAAIEheAzQH4tr\n",
              "T327IlZYVnjoX6kVzpBthbX7eBvn9AAA0hbBY4Aex1VfLK4sa/i/TtvKUN9AXD2Om+LJAAC4PhA8\n",
              "BojalrIzwxpwE8Mud9yEsrPCitqcow4ASE8EjwEimWHNLxuvfjcuNz40etx4Qo4b14JbCxTJDAc0\n",
              "IQAAweK//IZYNrNYdU0X1NjRLdsKy7Yy5LhXYqdkXK6qZhYFPSIAAIFhD48h8qO2Ni2Zpqq7ihSN\n",
              "WHITnqIRS1V3FWnjkmm8Dw8AIK2xh8cg+VFbT80r1ao5n1eP4ypqWxzGAgBAPu7h6e/v16JFi1Ra\n",
              "Wqrbb79d8+bNU2NjoySpo6ND8+fPV0lJicrKyrR///7Bz/NjWbqJZIaVH7WJHQAAfsvXQ1orVqzQ\n",
              "iRMn9D//8z9auHChHnvsMUnS2rVrVVlZqYaGBtXU1GjJkiWKxWK+LQMAAOnNt+CJRCK6//77FQqF\n",
              "JEmVlZVqbm6WJG3fvl2rVq2SJFVUVOjmm2/Wvn37fFv2YY7j6PLly0Nu8ThvygcAgKlSdtLyhg0b\n",
              "tHDhQp07d06xWEwFBQWDy4qLi9Xa2urLsuGsX79eo0aNGnI7dOiQD2sNAACuBykJnueff16NjY1a\n",
              "v359Kr7dH7Ru3TpdunRpyG3GjBlBjwUAAHzie/C88MIL2rlzp3bv3q2bbrpJY8aMkWVZamtrG3xM\n",
              "c3OzCgsLfVk2HNu2lZeXN+QWDnOCLwAApvI1eKqrq7Vt2zbt3btXn/nMZwbvX7x4sV5++WVJ0uHD\n",
              "h3X69GnNnj3bt2UAACC9hTzP8/z4wh988IEmTZqkyZMnKzc3V9KVPSt1dXVqb2/XsmXL1NTUpKys\n",
              "LG3atElz586VJF+WjcTq1atVXV2d5GcBAABcD3wLnhsNwQMAgLm4tAQAADAewQMAAIxH8AAAAOMR\n",
              "PAAAwHgEDwAAMB7BAwAAjEfwAAAA4xE8AADAeAQPAAAwHsEDAACMR/AAAADjETwAAMB4BA8AADAe\n",
              "wQMAAIxH8AAAAOMRPAAAwHgEDwAAMB7BAwAAjEfwAAAA4xE8AADAeAQPAAAwHsEDAACMR/AAAADj\n",
              "ETwAAMB4BA8AADAewQMAAIxH8AAAAOMRPAAAwHgEDwAAMB7BAwAAjEfwAAAA4xE8AADAeAQPAAAw\n",
              "HsEDAACMR/AAAADjETwAAMB4BA8AADAewQMAAIxH8AAAAOMRPAAAwHgEDwAAMB7BAwAAjEfwAAAA\n",
              "4xE8AADAeAQPAAAwHsEDAACMR/AAAADjETwAAMB4BA8AADAewQMAAIxH8AAAAOMRPAAAwHgEDwAA\n",
              "MB7BAwAAjEfwAAAA4xE8AADAeAQPAAAwHsEDAACMR/AAAADjETwAAMB4BA8AADAewQMAAIxH8AAA\n",
              "AOMRPAAAwHgEj8/6Y3F19Tjqj8WDHgUAgLRlBT2AqTq7HdUebNae+nb1xeLKzgxrQVmBqmYWKT9q\n",
              "Bz0eAABpxag9PA0NDZo1a5ZKS0tVUVGh48ePBzJHZ7ejJ7cd0et1rep1XFkZIfU6rmrrWvTE1iPq\n",
              "6nECmQsAgHRlVPCsXLlSK1as0MmTJ7VmzRotX748kDlqDzarsaNbY6O2RudkKce2NDonS2Ojtho7\n",
              "ulV7oCWQuQAASFfGBE9HR4feeecdVVVVSZIefPBBnTp1So2NjR95rOM4unz58pBbPJ6cc2z6Y3Ht\n",
              "qW9XxArLCg99eq1whmwrrN3H2zinBwCAFDImeE6dOqUJEybIsq6clhQKhVRYWKjW1taPPHb9+vUa\n",
              "NWrUkNuhQ4eSMkeP46ovFleWNfxTa1sZ6huIq8dxk/L9AADAH2ZM8FyLdevW6dKlS0NuM2bMSMrX\n",
              "jtqWsjPDGnATwy533ISys8KK2pwvDgBAqhgTPJMmTdLZs2flulf2nHiep9bWVhUWFn7ksbZtKy8v\n",
              "b8gtHA4nZY5IZljzy8ar343LjQ+NHjeekOPGteDWAkUyk/P9AADAH2ZM8IwbN07Tp09XbW2tJGnH\n",
              "jh2aOHGipkyZkvJZls0s1pRxuerscXS+d0C9jqvzvQPq7HFUMi5XVTOLUj4TAADpzKjjKv/yL/+i\n",
              "5cuX6/nnn1deXp5qamoCmSM/amvTkmmqPdCi3cfb1DcQVzRiafGtE3kfHgAAAhDyPM8LeojrwerV\n",
              "q1VdXZ30r9sfu3KCctS2OIwFAEBAjNrDcz2KZIYJHQAAAmbMOTwAAABXQ/AAAADjETwAAMB4BA8A\n",
              "ADAewQMAAIxH8AAAAOMRPAAAwHgEDwAAMB7BAwAAjEfwAAAA43Etrd964IEHVFxcnPSvG4/HdejQ\n",
              "Ic2YMUPhcPpdYiLd11/iOWD903v9JZ6DdF9/yd/noKioSH/zN3/zBx9H8Pjs8uXLGjVqlC5duqS8\n",
              "vLygx0m5dF9/ieeA9U/v9Zd4DtJ9/aXr4zngkBYAADAewQMAAIxH8AAAAOMRPD6zbVtf+9rXZNt2\n",
              "0KMEIt3XX+I5YP3Te/0lnoN0X3/p+ngOOGkZAAAYjz08AADAeAQPAAAwHsEDAACMR/D4qLi4WF/4\n",
              "whdUXl6u8vJyvfHGG0GP5KuvfOUrKi4uVigU0tGjRwfvb2ho0KxZs1RaWqqKigodP348uCF9drXn\n",
              "IF1+Fvr7+7Vo0SKVlpbq9ttv17x589TY2ChJ6ujo0Pz581VSUqKysjLt378/4GmT7+PWf86cObrl\n",
              "llsGfwZefPHFgKf1z3333afbbrtN5eXluueee3TkyBFJ6bMtuNr6p8t24HdqamoUCoX05ptvSroO\n",
              "tgEefFNUVOQdOXIk6DFSZt++fd6pU6c+st5z5871ampqPM/zvO9973venXfeGcyAKXC15yBdfhb6\n",
              "+vq8Xbt2eYlEwvM8z9u4caM3e/Zsz/M875FHHvG+9rWveZ7neYcOHfI+97nPeQMDAwFN6o+PW//Z\n",
              "s2d73//+94MbLoUuXLgw+OedO3d6t912m+d56bMtuNr6p8t2wPM8r6mpyZs5c6ZXWVk5+HMf9DaA\n",
              "PTxImnvvvVcTJ04ccl9HR4feeecdVVVVSZIefPBBnTp1avB/vaYZ7jlIJ5FIRPfff79CoZAkqbKy\n",
              "Us3NzZKk7du3a9WqVZKkiooK3Xzzzdq3b19Qo/ri49Y/nXzmM58Z/POlS5cUCoXSalsw3Pqnk0Qi\n",
              "occee0wbN24c8jL0oLcBBI/PHn74YU2dOlWPPvqoOjs7gx4n5U6dOqUJEybIsixJUigUUmFhoVpb\n",
              "WwOeLPXS8Wdhw4YNWrhwoc6dO6dYLKaCgoLBZcXFxcb/HPxu/X9n7dq1mjp1qh566CG9//77AU7m\n",
              "v4cffliTJk3Ss88+q9deey3ttgUfXv/fv9/07UB1dbXuvvtu3XHHHYP3XQ/bAILHR/v379exY8f0\n",
              "3//938rPz9eXv/zloEdCQNLxZ+H5559XY2Oj1q9fH/Qogfjw+r/22mv6v//7Px07dkz33HOP/vzP\n",
              "/zzgCf313e9+V6dOndI3v/lNrVmzJuhxUm649U+H7UB9fb127NihZ555JuhRPiplB8/S3JkzZ7xo\n",
              "NBr0GCnx+8ep29vbvdzcXC8Wi3me53mJRMIbP36819DQEOCE/vu4Y/Xp8LPwj//4j94dd9wx5FyG\n",
              "m266yTt79uzgxxUVFd7evXsDmM5/w63/h9m27XV1daVuqABFIhGvra0tLbcFnndl/T/8d23qduCl\n",
              "l17yCgoKvKKiIq+oqMizbdsbO3as99JLLwW+DWAPj096e3t18eLFwY+3bdumadOmBTdQQMaNG6fp\n",
              "06ertrZWkrRjxw5NnDhRU6ZMCXiy1Em3n4Xq6mpt27ZNe/fuHXIuw+LFi/Xyyy9Lkg4fPqzTp09r\n",
              "9uzZAU3pn+HW33Vdtbe3Dz5mx44dGj9+vMaMGRPQlP65ePGizpw5M/jxm2++qTFjxqTNtuBq6x+J\n",
              "RNJiO/D444/r7Nmzam5uVnNzsyorK7V582Y9/vjjgW8DuLSET95//309+OCDisfj8jxPkydP1oYN\n",
              "G1RcXBz0aL5ZuXKldu3apba2No0ZM0a5ublqbGzUiRMntHz5cp07d055eXmqqanR1KlTgx7XF8M9\n",
              "Bz/96U/T5mfhgw8+0KRJkzR58mTl5uZKunINnbq6OrW3t2vZsmVqampSVlaWNm3apLlz5wY8cXJd\n",
              "bf1/8YtfaPbs2XIcRxkZGcrPz1d1dbVuv/32gCdOvpaWFi1evFh9fX3KyMjQ2LFj9cILL6i8vDwt\n",
              "tgVXW/+8vLy02Q78vjlz5uipp57SokWLAt8GEDwAAMB4HNICAADGI3gAAIDxCB4AAGA8ggfADa27\n",
              "u1vRaFSPPvrokPv37t2re++9V5MnT9add96pGTNmaPPmzYPLP3xdo/Lycv36179O9fgAUsQKegAA\n",
              "+DTeeOMN3XHHHdq5c6c2bNigaDSqn/70p1q+fLn+/d//XbNmzZJ05RVUr7zyykc+t7y8PICpAaQa\n",
              "e3gA3NC2bNmiNWvW6N577x28+vTXv/51ffWrXx2MHUmaOHGinnvuuaDGBBAwXpYO4Ib1v//7v7rv\n",
              "vvvU0tKiXbt26Vvf+pbefvtt3XTTTfrVr371sW/sVlxcLNu2lZ2dPXjfgQMHhnwMwBwc0gJww9qy\n",
              "ZYsefvhhhcNh3X///Vq5cqXefffdjzxu6dKlOn78uNra2nTy5Enl5eVJ4pAWkE4IHgA3pFgsptde\n",
              "e02ZmZnaunWrJOk3v/mNtmzZomnTpunQoUODe3hef/11SVeu0J1IJAKbGUBwCB4AN6Qf/vCHmjx5\n",
              "sg4ePDh437vvvqs5c+bo1Vdf1apVq3T77bersrJS0pVrmgFIXwQPgBvSli1btHTp0iH3/dEf/ZE+\n",
              "97nPKRaLacuWLfq7v/s7nTlzRmPHjlVWVpY2btw4eI0rSXrooYeGnLPz4osvGnd9LwBXcNIyAAAw\n",
              "Hi9LBwAAxiN4AACA8QgeAABgPIIHAAAYj+ABAADGI3gAAIDxCB4AAGA8ggcAABiP4AEAAMYjeAAA\n",
              "gPH+H5mb0Ip0PEYjAAAAAElFTkSuQmCC\n",
              "\">\n",
              "      </div>\n",
              "      <script type=\"text/javascript\">\n",
              "        (() => {\n",
              "          const chartElement = document.getElementById(\"chart-95dc8806-0195-4a31-8152-52b2e666b632\");\n",
              "          async function getCodeForChartHandler(event) {\n",
              "            const chartCodeResponse =  await google.colab.kernel.invokeFunction(\n",
              "                'getCodeForChart', [\"chart-95dc8806-0195-4a31-8152-52b2e666b632\"], {});\n",
              "            const responseJson = chartCodeResponse.data['application/json'];\n",
              "            await google.colab.notebook.addCell(responseJson.code, 'code');\n",
              "          }\n",
              "          chartElement.onclick = getCodeForChartHandler;\n",
              "        })();\n",
              "      </script>\n",
              "      <style>\n",
              "        .colab-quickchart-chart-with-code  {\n",
              "            display: block;\n",
              "            float: left;\n",
              "            border: 1px solid transparent;\n",
              "        }\n",
              "\n",
              "        .colab-quickchart-chart-with-code:hover {\n",
              "            cursor: pointer;\n",
              "            border: 1px solid #aaa;\n",
              "        }\n",
              "      </style>"
            ]
          },
          "metadata": {}
        },
        {
          "output_type": "display_data",
          "data": {
            "text/plain": [
              "<google.colab._quickchart_helpers.SectionTitle at 0x7fec1f9ae250>"
            ],
            "text/html": [
              "<h4 class=\"colab-quickchart-section-title\">Values</h4>\n",
              "<style>\n",
              "  .colab-quickchart-section-title {\n",
              "      clear: both;\n",
              "  }\n",
              "</style>"
            ]
          },
          "metadata": {}
        },
        {
          "output_type": "display_data",
          "data": {
            "text/plain": [
              "from matplotlib import pyplot as plt\n",
              "_df_3['AGE'].plot(kind='line', figsize=(8, 4), title='AGE')\n",
              "plt.gca().spines[['top', 'right']].set_visible(False)"
            ],
            "text/html": [
              "      <div class=\"colab-quickchart-chart-with-code\" id=\"chart-9d68aa05-8b6e-4836-8f9e-3b303bffe5fc\">\n",
              "        <img style=\"width: 180px;\" src=\"data:image/png;base64,iVBORw0KGgoAAAANSUhEUgAAApcAAAFuCAYAAADUGTPdAAAAOnRFWHRTb2Z0d2FyZQBNYXRwbG90\n",
              "bGliIHZlcnNpb24zLjEwLjAsIGh0dHBzOi8vbWF0cGxvdGxpYi5vcmcvlHJYcgAAAAlwSFlzAAAP\n",
              "YQAAD2EBqD+naQAAUupJREFUeJzt3Xd4VGXCNvB7JmVCOumkJyQhQCChJIReAohYQDqotFV0Lciq\n",
              "u8i3r++uu6us+7IodndXgohUQWysSi+hBkiogYT03nsymfJ8f0wyGqWFTHKm3L/rmusyM3Nm7hkn\n",
              "mZtzzvM8MiGEABERERGRAcilDkBERERE5oPlkoiIiIgMhuWSiIiIiAyG5ZKIiIiIDIblkoiIiIgM\n",
              "huWSiIiIiAyG5ZKIiIiIDIblkoiIiIgMhuWSiIiIiAyG5ZKIiIiIDIblkoioAxITEyGTyfDKK6/8\n",
              "6rZjx45h2rRp8PLygqOjIwIDA/Hggw/iq6++0t/nz3/+M6ysrODo6Nju8txzz3XnyyAi6jIsl0RE\n",
              "HfDBBx/A3d0d69evh1Kp1F+/adMmTJo0CYMHD8a5c+dQV1eHq1ev4qmnnsLOnTvbPcbw4cNRX1/f\n",
              "7vLee+9190shIuoSLJdERHfpzJkzSE5OxqZNm1BTU4MdO3YAABoaGvD8889j5cqV+NOf/gR/f3/I\n",
              "ZDI4ODjgoYcewsaNGyVOTkTUfVguiYju0gcffICYmBhMmTIFjzzyCD744AMAQFJSEqqrq/HYY49J\n",
              "nJCISHosl0REd6Gqqgrbtm3DsmXLAADLli3DiRMnkJqairKyMgCAn5+f/v7fffcdXF1d4eLiAjs7\n",
              "O+Tk5OhvO3nyJFxdXdtdEhMTu/cFERF1EZZLIqK70DaQ59FHHwUAjB8/HmFhYfjggw/g6ekJAMjP\n",
              "z9ff/4EHHkB1dTXOnj0LpVIJIYT+tvj4eFRXV7e7LFmypHtfEBFRF2G5JCK6AyEEPvroI7S0tCAi\n",
              "IgI+Pj7o1asX8vPz8fnnnyM+Ph4uLi74/PPPpY5KRCQ5a6kDEBEZu7179yI9PR0HDhxA37599dfX\n",
              "1dVh0KBB+PTTT7Fu3To8/fTTsLKywpIlS+Dn5welUoljx45JmJyIqPuxXBIR3cGHH36IiRMnYvz4\n",
              "8e2u9/HxwRNPPIEPP/wQV65cQXBwMNasWYN169ahqakJHh4eiIqKwldffYWgoCD9didOnICjo2O7\n",
              "xxo/fjy++eabbnk9RERdSSZ+fiIQEREREVEn8JxLIiIiIjIYlksiIiIiMhiWSyIiIiIyGJZLIiIi\n",
              "IjIYlksiIiIiMhiWSyIiIiIyGJZLIiIiIjIYoymX69atkzoCEREREXWS0ZTLnJwcqSMQERERUScZ\n",
              "TbkkIiIiItPHcklEREREBsNySUREREQGw3JJRERERAbDcklEREREBsNySUREREQGw3JJRERERAbD\n",
              "cklEREREBnPP5TIxMREymQy7d+8GAJSWlmLKlCkIDw9HVFQUjhw5YqiMRERERGQi7qlcZmdn49//\n",
              "/jfi4+P1173yyiuIj49Heno6EhMTsWDBAqhUKoMFJSIiIiLj1+FyqdVq8cQTT+Ddd9+FQqHQX799\n",
              "+3Y8/fTTAIDY2Fj4+vri8OHDhktKRERERHpCCKg1Wqlj/Ip1RzdYu3YtRo4ciSFDhuivq6iogEql\n",
              "go+Pj/664OBg5Obm3vQxlEollEplu+s0Gk1HoxARERFZHCEE9l4pwTsH0jE9xg9PjA6VOlI7HSqX\n",
              "ly5dws6dOzt9PuXq1avx2muvtbvu54fYiYiIiKg9rVbgxysleGd/Oq4U1QIA6pvVWDoyBHK5TOJ0\n",
              "P+nQYfGjR48iOzsb4eHhCA4OxsmTJ7Fs2TJs374d1tbWKC4u1t83OzsbgYGBN32cVatWoaampt0l\n",
              "Li6uc6+EiIiIyAxptQLfXyrC1HeO4ulNZ3GlqBYOtlZ4dnxv7HpmpFEVSwCQCSHEvW48btw4rFix\n",
              "AtOnT8fixYsRHByMP//5zzhz5gymT5+O7Oxs2NjY3NVjvfjii1i7du29RiEiIiIyK1qtwPeXi/HO\n",
              "/nSkFdcBABwV1lg8Ihi/GRWCng62Eie8uQ6fc3krb775Jh5//HGEh4fD1tYWmzZtuutiSUREREQ6\n",
              "Wq3AnktFeHd/Bq6V6Eqlk8IaS0YGY+moELjaG2epbNOpcnno0CH9f3t7e+PHH3/sbB4iIiIii6TR\n",
              "Cuy5WIR39qcjvbQeAOBkZ42lI0OwdGQIXOxNY6edwfZcEhEREVHHabQC314oxLsHMpDRWiqd7ayx\n",
              "dFQIlowMgUsP0yiVbVguiYiIiCSg0Qp8k1qIdw+k40ZZAwBdqXxidCgWjwyGs51plco2LJdERERE\n",
              "3Uit0eKbC4V4d38GMst1pdKlhw2eGBWCRSZcKtuwXBIRERF1A7VGi69SCvHewQxktZZKV3sbPDk6\n",
              "FAuHB8HJxEtlG5ZLIiIioi6k1mjx5fkCvH8wA9kVjQCAnvY2eHJMKBYOD4ajwrzqmHm9GiIiIiIj\n",
              "oWotle8dyEBupa5UujnY6vdUOphZqWxjnq+KiIiISCIqjRa7zuXjvYMZyKtsAgC4O9hi2ZhQPBZv\n",
              "vqWyjXm/OiIiIqJu0qLWYue5fLx/MAP5VbpS6eFoi6fG9Maj8YGwt7WM2mUZr5KIiIioi7Sotfji\n",
              "rK5UFlS3lUoFnh4bikeHBaGHrZXECbsXyyURERHRPVCqNdiRnI8PD93Ql0pPJwWeHtsbC+ICLa5U\n",
              "tmG5JCIiIuoApVqD7Wfy8MGhGyiqaQYAeDkp8NtxvTE/LhB2NpZZKtuwXBIRERHdhWaVBtuT8/DB\n",
              "wRsortWVSm9nBX47tjfmsVTqsVwSERER3UazSoOtp3Px4eEbKKlVAgB8nO3wzPjemDM0gKXyF1gu\n",
              "iYiIiG6iWaXB5lO5+OjwDZTW6UplLxc7PDM+DHOG+kNhzVJ5MyyXRERERD/TrNLg89ZSWdZaKn1b\n",
              "S+Vslso7YrkkIiIiAtDUosHnp3Lw0eFMlNfrSqWfaw88Oz4Ms4b4w9ZaLnFC08BySURERBatsUWN\n",
              "TSdz8K8jmSivbwEA+PfsgefGh2HGYJbKjmK5JCIiIovUoFTjs5M5+PeRTFQ06EplgNtPpdLGiqXy\n",
              "XrBcEhERkUVpUKqx8UQO/n00E5WtpTLI3R7Pjg/DI4P8WCo7ieWSiIiILEK9Uo1Pj2fjP0czUdWo\n",
              "AqArlc9PCMf0GF9Ys1QaBMslERERmbW6ZpWuVB7LQnVrqQzxcMBz48MwjaXS4FguiYiIyCzVNqvw\n",
              "aZKuVNY06UplqIcDnk8Iw0MDWSq7CsslERERmZXaZhUSj2Xjk2OZqG1WAwBCPR2wfEI4Hor2hZVc\n",
              "JnFC88ZySURERGahpkmF9ceysD4pC3WtpTLMyxHPTwjDgwNZKrsLyyURERGZtJpGFT5JykLiz0pl\n",
              "uJcjlieEY+qAXiyV3YzlkoiIiExSdWMLPjmWhQ1J2ahT6kplhHdrqYzqBTlLpSRYLomIiMikVDW0\n",
              "lsrj2ahvLZWRPk5YnhCOKf19WColxnJJREREJqGyoQX/OZqJT49no6FFA0BXKldMDMfkfiyVxoLl\n",
              "koiIiIxaRb0S/z6ahY0nstHYWir79XLG8oRwTO7nzVJpZFguiYiIyCiV1yvx7yOZ+Oxkjr5U9vd1\n",
              "xgsJ4ZjUzxsyGUulMWK5JCIiIqNSXq/Ev45k4rMTOWhS6UpllJ8zViREIKGvF0ulketwuZw8eTKK\n",
              "i4shl8vh5OSEd955B4MGDUJwcDAUCgV69OgBAFi1ahXmzp1r8MBERERknkrrmvGvw5nYdCoHzSot\n",
              "AGCgvwteSAjHhEiWSlPR4XK5fft2uLq6AgC+/PJLLF68GKmpqQCAbdu2ISYmxpD5iIiIyMyV1jbj\n",
              "o8OZ+PxUDpRqXamMDnDFioRwjOvjyVJpYjpcLtuKJQDU1NTwfzgRERHdk9LaZnx4+AY2n8rVl8qY\n",
              "AFesmBiOsREslabqns65XLhwIQ4ePAgA2LNnT7vrhRCIi4vD3//+d3h6et50e6VSCaVS2e46jUZz\n",
              "L1GIiIjIxBTXNOOjwzew+XQuWlpL5eBAV7wwMQJjwj1YKk2cTAgh7nXjTz/9FNu2bcOePXuQm5uL\n",
              "wMBAqFQq/M///A8uXrzYrnj+3J///Ge89tpr7a6Lj4/HiRMn7jUKERERGbmimiZ8eOgGtp7J05fK\n",
              "oUE98cLEcIwKY6k0F50qlwDQo0cP5Ofnw93dXX9dUVERIiIiUFdXd9Ntbrbn8tVXX8W6des6E4WI\n",
              "iIiMUGG1rlRuO5OHFo2uVMYG98QLCREYGebOUmlmOnRYvLq6Go2NjfD19QUA7N69G+7u7rCzs0N1\n",
              "dbX+fMwtW7Zg0KBBt3wchUIBhULR7jorK6sORiciIiJjVlDdhA8OZmBHcr6+VMaFuGFFQjiG92ap\n",
              "NFcdKpc1NTWYPXs2mpqaIJfL4enpiW+//RYlJSWYOXMmNBoNhBAIDQ3Fxo0buyozERERGbH8qkZ8\n",
              "cOgGdiTnQaXRHSAdFuKGFRMjMLy3+x22JlPXoXIZFBSE06dP3/S28+fPGyQQERERmaa8ykZ8cCgD\n",
              "X5zN15fK4aHueGFiOOJDWSotBVfoISIiok7JrWjE+wczsPNcPtRaXakcGeaOFxIiEBfiJnE66m4s\n",
              "l0RERHRPcisa8d7BdOw8VwBNa6kcFeaBFyaGIzaYpdJSsVwSERFRh2SXN+C9gxn48vxPpXJ0uAdW\n",
              "TAzHkCCWSkvHcklERER3Jau8Ae8eSMdXKYX6Ujk2whPLE8IxJKinxOnIWLBcEhER0W1lltXjvQMZ\n",
              "2J1SgNZOiXF9PPFCQjgGBbJUUnssl0RERHRTGaX1eO9AOr5OLdSXygmRXlieEI6YAFdJs5HxYrkk\n",
              "IiKidjJK6/DO/gx8c6EQbev4TeyrK5UD/V0lzUbGj+WSiIiIAADpJXV450AGvm1XKr3xQkI4Bvi7\n",
              "SBuOTAbLJRERkYW7VlyHdw6kY8/FIn2pnNzPG8sTwhHlx1JJHcNySUREZKHSimvxzv507LlYrL9u\n",
              "Sn8fPJ8Qhv6+LJV0b1guiYiILMzVIl2p/O+ln0rl/VE+WJ4Qjr69nCVMRuaA5ZKIiMhCXC6swTv7\n",
              "0/HD5RIAgEwGTI3qhecTwhDpw1JJhsFySUREZOYuFdRg3f507L3yU6l8YEAvLE8IR4S3k8TpyNyw\n",
              "XBIREZmpi/m6Urnv6k+l8sGBvlg+IQzhLJXURVguiYiIzMyF/Gqs25eO/WmlAAC5DHgo2hfPTwhD\n",
              "mBdLJXUtlksiIiIzkZJXjXX7ruPgtTIAulI5LcYPz00IQ29PR4nTkaVguSQiIjJx53OrsG5/Og79\n",
              "rFROby2VoSyV1M1YLomIiEzU2RxdqTxyXVcqreQyfakM8XCQOB1ZKpZLIiIiE3M2pxJv70vH0fRy\n",
              "ALpSOWOQH54dH4ZglkqSGMslERGRiTiTXYl1+9JxLENXKq3lMswYrCuVQe4slWQcWC6JiIiM3KnM\n",
              "Cqzbn47jNyoA6ErlrCH+eHZ8GALc7CVOR9QeyyUREZGROplZgXX70nEi86dSOXtoAJ4Z15ulkowW\n",
              "yyUREZEREULgRGupPJVVCQCwsfqpVPr3ZKkk48ZySUREZASEEDhxowJv70vH6WxdqbS1kmNOrD9+\n",
              "Oy4Mfq49JE5IdHdYLomIiCQkhEBSRgXW7b+OM9lVAHSlcm5sAH47rjd8WSrJxLBcEhERSUAIgaPp\n",
              "5Vi3Px1nc1pLpbUc82MD8PS43ujlwlJJponlkoiIqBsJIXAkvRxv77uO87nVAHSlckFcIH47rje8\n",
              "ne2kDUjUSSyXRERE3UAIgUPXy7BuXzpS8qoBAAprORYMC8TTY1kqyXywXBIREXUhIQQOXivFuv0Z\n",
              "SG0tlXY2cjw6LAhPjQmFF0slmRmWSyIioi4ghMCBtFKs25+OC/k1AHSl8vH4ICwb0xueTgqJExJ1\n",
              "DZZLIiIiAxJCYN/VUryzPx0XC3SlsoeNFR4fHoQnR4eyVJLZ63C5nDx5MoqLiyGXy+Hk5IR33nkH\n",
              "gwYNQnp6OhYtWoTy8nK4uLhgw4YN6N+/f1dkJomdzqrE77al4NUH+2JKVC+p4xARGQUhBH68UoJ3\n",
              "9qfjcmEtAMDe9qdS6eHIUkmWocPlcvv27XB1dQUAfPnll1i8eDFSU1Px1FNPYdmyZVi8eDG++OIL\n",
              "LF68GGfOnDF0XjICb++7joLqJqz+bxom9fOBlVwmdSQiIslotbpSuW5/Oq4W6Uqlg60VFo4IxhOj\n",
              "QuDOUkkWpsPlsq1YAkBNTQ1kMhlKS0uRnJyMH3/8EQAwc+ZMPPfcc8jIyEBYWJjBwpL0sssbcPyG\n",
              "bo3bnIpGHEgrxaR+3hKnIiLqflqtwA+Xi7FufzrSiusA6ErlohHBeGJ0KNwcbCVOSCSNezrncuHC\n",
              "hTh48CAAYM+ePcjLy0OvXr1gba17OJlMhsDAQOTm5t60XCqVSiiVynbXaTSae4lC3WzrmTwAgJVc\n",
              "Bo1WIDEpi+WSiCyKVivw30vFePfAT6XSUWGNxSOC8ZtRIejJUkkWTn4vG23cuBF5eXn429/+hpUr\n",
              "V3Z4+9WrV8PFxaXd5fTp0/cShbpRi1qLL87qyuWrD/SFlVyG4zcq9IeBiIjMmVYr8O2FQkxZdwTP\n",
              "bj6HtOI6OCmssXxCGI6tHI+X7+vDYkmEeyyXbRYtWoSDBw/C398fRUVFUKvVAHQnNefm5iIwMPCm\n",
              "261atQo1NTXtLnFxcZ2JQt1g/9USlNe3wMtJgUfjgzClvw8AIDEpS+JkRERdR6MV+Dq1EPe9fQTP\n",
              "bT6P6yX1cLKzxvKEcBxbOQEvTu4DV3uWSqI2HTosXl1djcbGRvj6+gIAdu/eDXd3d3h5eWHw4MHY\n",
              "tGkTFi9ejJ07d8Lf3/+W51sqFAooFO1PcLaysrrHl0DdZfPpXADA7KH+sLGSY+moYHx3sQi7Uwqx\n",
              "ckokT1onIrOiad1T+e6BDGSU1gMAnOys8ZtRIVgyMgQuPWwkTkhknDpULmtqajB79mw0NTVBLpfD\n",
              "09MT3377LWQyGT7++GMsXrwYb7zxBpydnZGYmNhVmUkCeZWNOJZRDgCYF6vbIz04sCcG+rvgQn4N\n",
              "Np/KxfMJ4VJGJCIyCI1W4JvUQrxzIB2ZZQ0AAGc7a/xmVCgWjwxmqSS6gw6Vy6CgoFueG9mnTx+c\n",
              "OHHCIKHI+Gw7kwchgNHhHghwswegG7i1dGQIVmxLwWcnc/DU2N6wte7UmRZERJJRa7T4OrUQ7x3I\n",
              "QGa5rlS69LDBE6NCsGhkMJztWCqJ7gZX6KE7Umu02NE6kGd+XPvzaKcO6IU39lxFaZ0Sey4WYfog\n",
              "PykiEhHdM7VGi90phXj/YAayWkulq70NnhwdioXDg+DEUknUISyXdEcHr5WhpFYJdwdbTOzbftoh\n",
              "W2vdOrn/3Hsd65OyMC3GFzIZJ1UnIuOn1mjx5fkCvHcwAzkVjQCAnvY2eGJ0KBaNCIajgl+RRPeC\n",
              "vzl0R1taB/LMGuJ/08PeC4YF4t2DGbiQX4NzuVUYEuTW3RGJiO6aSqPFl+d0pTK3Ulcq3Rxs9Xsq\n",
              "HVgqiTqFv0F0W4XVTTh0rRQAMDc24Kb3cXdUYHqML7Yn52N9UjbLJREZJZVGi51n8/H+oQzkVTYB\n",
              "ANwdbLFsTCgei2epJDIU/ibRbW1PzoNWAPGhbgj1dLzl/ZaMDMH25Hx8f6kYhdVN8HXt0Y0piYhu\n",
              "rUWtxc5z+XjvQAYKqnWl0sPxp1Jpb8uvQiJD4m8U3ZJGK7D9zM0H8vxS317OGB7qjhOZFdh4Igev\n",
              "3B/ZHRGJiG6pRa0bjPjBwRs/K5UKPD02FI8OC0IPW86vTNQVWC7plo5cL0NhTTNc7W1wX+tqPLez\n",
              "dFQITmRWYMvpXCxPCOPeACKShFKtwfbkfHx4MAOFNc0AAE8nBZ4e2xsL4gJZKom6GL/96ZbaBvLM\n",
              "HOwPO5s7/zGeEOmFQDd75FY2Yte5AjwWH9TVEYmI9JRqDbafycMHh26gqLVUerWVymGBd/V3jIg6\n",
              "j+WSbqq0thn703QDeebH3Xwgzy9ZyWVYPCIYf/n2ChKTsrAgLhByOaclIqKu1azSYNuZPHx46AaK\n",
              "a3Wl0ttZgd+O7Y15cSyVRN2N5ZJuasfZfGi0ArHBPRHm5XTX280e6o+1e6/jRlkDjmaUY2yEZxem\n",
              "JCJL1qzSYMvpXHx0+AZKapUAAB9nOzwzvjfmDA1gqSSSCMsl/YpWK7D1jO6QeNs64nfLyc4Gs4f6\n",
              "IzEpG4lJWSyXRGRwzSoNNp/SlcrSOl2p7OVih2fG9cac2AAorFkqiaTEckm/knSjHHmVTXCys8bU\n",
              "Ab06vP3iEcHYcDwbh66VIaO0HmFet57CiIjobjW1aPD5qRx8fCQTZa2l0tfFDs+MD8Psof4slURG\n",
              "guWSfmXrad30QzMG+d3TqMogdwckRHpj39USfHo8G3+dHmXoiERkQRpb1Pj8ZC4+PpKJ8npdqfRz\n",
              "7YFnx4fdcuUwIpIOyyW1U16vxI9XigEA8+4wt+XtLB0ZjH1XS/DF2Xy8PLkPXOxtDBWRiCxEY4sa\n",
              "m07m4F9HMlFe3wIA8O+pK5UzB7NUEhkrlktqZ+fZfKg0AjEBrujby/meH2d4b3dE+jghrbgO25Jz\n",
              "sWxMbwOmJCJz1qBU47OTOfj3kUxUNOhKZYBbDzw3PgwzBvvDxoqlksiYsVySnhACW/Ur8tzd9EO3\n",
              "IpPJsGRkMFbuvIhPj+dg6cgQWPMLgYhuo16pxsYT2fjP0SxUtpbKQDd7PDchDI8M8mOpJDIRLJek\n",
              "dzKzElnlDXBUWOPBgb6dfrxpMX548/trKKhuwt4rJbj/HgYHEZH5q1eq8enxbPznaCaqGlUAgCB3\n",
              "ezw3PgzTWSqJTA7LJem1rcjzcIwvHBSd/2jY2Vjh0WGBePdABtYnZbFcElE7dc0qXak8loXq1lIZ\n",
              "4uGA58aHYVqML492EJkolksCAFQ1tOD7S7qBPAs6MZDnlx6LD8KHh27gTHYVLubXYIC/i8Eem4hM\n",
              "U22zChuSsvHJsSzUNOlKZaiHA55PCMNDA1kqiUwdyyUBAHadL0CLRosoP2dE+RmuAHo72+HBgb2w\n",
              "O6UQiUlZWDs3xmCPTUSmpaaprVRmorZZDQAI9XTA8gnheCjaF1ZcLpbILLBcEoQQ+kPiHV2R524s\n",
              "GRmC3SmF+OZCIV65PxJeznYGfw4iMl41TSqsP5aF9UlZqGstlWFejnh+QhgeHMhSSWRuWC4JZ3Oq\n",
              "kFFajx42VpgW0/mBPL8UHeCKIUE9cTanCptO5eLFSREGfw4iMj41jSp8kpSFxJ+VynAvRyxPCMfU\n",
              "Ab1YKonMFMslYXPrXsuHonvBya5rJjtfMjIYZ3Oq8PnJHDwzrjfsbLhMG5G5qm5swSfHsrAhKRt1\n",
              "Sl2pjPBuLZVRvSBnqSQyayyXFq6mUYXvLhQBAOYbcCDPL03p7wNfFzsU1jTjm9RCzB7auXk0icj4\n",
              "VDW04D/HMvHp8RzUt5bKSB8nLE8Ix5T+PiyVRBaC5dLC7U4pgFKtRaSPE2ICXLvseayt5Hh8eDDe\n",
              "/D4N65OyMWuIP2QyftEQmYPKhhb852gmPj2ejYYWDQBdqVwxMRyT+7FUElkalksL9vOBPPPjAru8\n",
              "7M2PC8C6/ddxtagWp7IqER/q3qXPR0Rdq6JeiX8fzcLGE9lobC2V/Xo5Y3lCOCb382apJLJQLJcW\n",
              "LCWvGmnFdVBYyzE9xq/Ln8/V3hYzBvtj86lcrD+WxXJJZKLK65X495FMfHYyR18q+/s644WEcEzq\n",
              "582jEkQWjuXSgm09rVtH/IEBveBi3zUDeX5pyYhgbD6Vi71XS5Bb0YhAd/tueV4i6ryyOiX+fTQT\n",
              "n53IQZNKVyqj/JyxIiECCX29WCqJCADLpcWqa1bhmwuFAID5w7puIM8vhXs7YUyEJ45cL8OnJ7Lx\n",
              "6oP9uu25iejelNY141+HM7HpVA6aVVoAwEB/F7yQEI4JkSyVRNQey6WF+jq1EI0tGoR5OWJoUM9u\n",
              "fe4lI4Nx5HoZtp/Jw+8mRcDRAOuYE5HhldY246PDmfj8VA6Ual2pjA5wxYqEcIzr48lSSUQ3xW91\n",
              "C9V2SHxebEC3f0GMDfdEqKcDMssa8EVyHhaPDOnW5yei2yupbcZHh29g86lcfamMCXDFionhGBvB\n",
              "UklEt9ehctnc3Ix58+bhypUr6NGjB7y8vPDhhx8iLCwM48aNQ05ODlxcdOtSL1q0CL/73e+6JDR1\n",
              "zqWCGlwsqIGtlRwzBvt3+/PL5TIsGRGMV7+6jA3Hs7FweDBHlRIZgeKa1lJ5OhctraVycKArXpgY\n",
              "gTHhHiyVRHRXOrznctmyZbj//vshk8nw3nvv4YknnsChQ4cAAG+99RamT59u4IhkaG3TD02J8oGb\n",
              "g60kGWYM9sf//XAN2RWNOHitFAl9vSXJQURAUU0TPjx0A1vP5OlL5dCgnnhhYjhGhbFUElHHdKhc\n",
              "2tnZYerUqfqf4+PjsWbNGoOHoq7ToFTjqxTdQJ55cdKtkuOgsMa8uED860gm1idlsVwSSaCwWlcq\n",
              "t53JQ4tGVypjg3tixcQIjOjtzlJJRPekU+dcrlu3DtOmTdP//Morr+DVV19Fv379sHr1aoSGht50\n",
              "O6VSCaVS2e46jUbTmSh0l767UIR6pRrB7vYYLvE8kwuHB+E/RzORlFGBa8V16OPjJGkeIktQ26zC\n",
              "0evl2HulGHsuFutLZVyIG1YkhGM4SyURddI9l8s33ngDGRkZ2L9/PwDgs88+Q0BAAIQQeP/99/Hg\n",
              "gw/iypUrN9129erVeO2119pdFx8ff69RqAM2tx4Sn9cNK/LciX9Pe9zX3wf/vVSMxKQs/H3mQEnz\n",
              "EJmr7PIG7LtaggNppTidVQm1VuhvGxbihhUTIzC8Nxc1ICLDkAkhxJ3v1t6aNWuwdetW7Nu3D66u\n",
              "rje9j52dHQoKCuDu/us/WDfbc/nqq69i3bp1HY1CHZBWXIspbx+FtVyGE6sS4OmkkDoSzmRXYvZH\n",
              "J6CwluPEqgTJzgElMicqjRZnc6qw/2oJ9qeVIrOsod3toZ4OSIj0wpSoXhjSzVOREZH56/Cey7Vr\n",
              "12LLli3tiqVarUZFRQW8vXXnze3cuRPe3t43LZYAoFAooFC0LzZWVlYdjUId1Db90OT+3kZRLAHd\n",
              "oIEoP2dcKqjFltO5eHZ8mNSRiExSdWMLDl8vw76rpTh8rRS1zWr9bdZyGeJC3DAh0gsJfb0R4uEg\n",
              "YVIiMncdKpf5+fl46aWXEBoaivHjxwPQFcUDBw7ggQcegFKphFwuh4eHB77++usuCUz3plmlwa5z\n",
              "+QCAebHdtyLPnchkMiwdGYIXt6di44lsLBsTChsrudSxiIyeEAI3yuqx/2op9l8tRXJOJX52tBs9\n",
              "7W0wvo+uTI6O8ICzXfcs8UpE1KFy6e/vj1sdRU9OTjZIIOoaey4WobZZDf+ePTAqzEPqOO08MLAX\n",
              "Vv83DSW1Suy5WIRpMX5SRyIySi1qLU5nVerPn8ytbGx3ex9vJ0zo64WJfb0QE9ATVpw/logkwBV6\n",
              "LETb3JbzYgOMbsJyhbUVHhsWhLf2XUdiUjbLJdHPlNcrcehaGfZfLcHR9HLUK3863G1rJUd8b3ck\n",
              "RHphQqQXAtzsJUxKRKTDcmkBMkrrcCa7ClZyGWYPlW5uy9t5ND4Q7x/MQEpeNc7lVmFwIAcZkGUS\n",
              "QiCtuA4H0kqx72oJUvKq8fMDRh6OCkyI9ERCX2+MCvOAg4J/xonIuPCvkgXY0jqQZ0KkF7yd7SRO\n",
              "c3Mejgo8HOOLL87mIzEpm+WSLEqzSoMTmRU4cLUUB9JKUVDd1O72/r7OSGgdjDPAz8Xojj4QEf0c\n",
              "y6WZ+/lAngVxxjOQ52aWjAzGF2fzsediEf7f1Ej0cukhdSSiLlNa24wDaaXYn1aKY+nlaFL9tJCE\n",
              "wlqOUWEemNBXd7ibvwtEZEpYLs3cD5eLUdWogq+LHcZEeEod57b6+7pgWIgbTmVVYuOJHKycEil1\n",
              "JCKD0WoFLhfWYn9aCfZfLcXFgpp2t/s422FCXy8kRHphRG8P9LDl9GxEZJpYLs1c29yWs4cGmMTI\n",
              "0aWjQnAqqxJbTudi+YRwfsGSSWtsUSMpowIHWgtlaV37xSOiA1z1g3H6+zpLvmoWEZEhsFyasazy\n",
              "BpzIrIBcBsyJNc6BPL80sa83Atx6IK+yCV+eL8CCYcZ9KJ/olwqqm3AgrRQHrpbg+I0KKNVa/W32\n",
              "tlYYHe6BhEhvjIv0hJeTcZ4DTUTUGSyXZmzrGd30Q2MjPOHnahrnbFnJZVg0PBh/++4qEpOyMD8u\n",
              "gHtzyKhptQIp+dU4cFV3/uTVotp2t/u59sDEvl6Y0Ncb8aFuUFhzbzwRmTeWSzPVotZi51ndQJ75\n",
              "Rj6Q55fmxAbgrb3XkV5aj2MZ5RgdbtznipLlqWtW4Vh6OfanleJgWikqGlr0t8llwODAnq2TmXsj\n",
              "3MuR/0AiIovCcmmm9l0tQXl9C7ycFJgQ6SV1nA5xtrPB7KEB2HA8G4lJ2SyXZBRyKxqxP023Ms7J\n",
              "zAqoND9NPumksMaYPp5IiPTCuD5ecHOwlTApEZG0WC7NVNuKPHOGBsDaBNfqXjQiGJ+eyMaBtFJk\n",
              "ltUj1NNR6khkYdQaLc7lVusK5dVSpJfWt7s92N0eCX29kRDphdgQN9iY4O8ZEVFXYLk0Q3mVjTia\n",
              "Xg4AmGsiA3l+KcTDARP6eGF/Wik+PZ6N16ZFSR2JLEBNkwqHr5fhwNUSHLpehupGlf42K7kMscE9\n",
              "kRDpjYS+XvwHDxHRLbBcmqFtZ3TTD40O9zDptYaXjgrB/rRS7Dibjxcn94FLDxupI5EZyiyrx/6r\n",
              "pdifVoIz2VXQaH863O3Swwbj+3hiQl9vjI3w5GeQiOgusFyaGbVGi+3JunJpagN5fmlEb3f08XbC\n",
              "tZI67EjOwxOjQ6WORGZApdHiTFYl9qfpllrMKm9od3u4l2PrZObeGBzoapKnlRARSYnl0swcSNNN\n",
              "1OzuYIuJfb2ljtMpMpkMS0YG45VdF5GYlI3FI4L5RU/3pLKhBYeu6aYKOnKtDHVKtf42GysZ4kPd\n",
              "MaF1MvMgdwcJkxIRmT6WSzOztfWQ+Kyh/rC1Nv0iNn2QH978Pg0F1U3Yd7UEU6J6SR2JTIAQAuml\n",
              "9dh3VTcY51xuFX52tBvuDrYYH6lbanFUuAec7Hi4m4jIUFguzUhhdRMOXSsFAMyLNe1D4m3sbKyw\n",
              "YFgg3j94A+uTslku6ZaUag1OZVZi/9US7E8rRX5VU7vb+/Zy1i212NcLMf6ukJvAcqhERKaI5dKM\n",
              "bE/Og1YAw0PdEeJhPof2Ho8PxseHM3E6qxKXCmoQ5ecidSQyEmV1ShxM0w3GOZpejsYWjf42W2s5\n",
              "RvZ2x4S+3pgQ6WUyq1QREZk6lkszodEKbG89JD4vzjSnH7oVHxc7TB3QC1+nFiIxKRv/nBMtdSSS\n",
              "WGZZPf7wxQUk51S1u97LSYGEvl6YEOmNkWHusLflnzgiou7Gv7xm4sj1MhTWNKOnvQ3u6+8jdRyD\n",
              "WzIyGF+nFuKb1EK8cn8kPJ0UUkciibSotXh283n9Gt4D/V0wIVI3uru/rzMPdxMRSYzl0kxsbl2R\n",
              "Z8Zgf9jZWEmcxvAGBfbEoEBXnM+txuencrBiYoTUkUgi6/Zfx9WiWvS0t8FXz45CoLvpzuVKRGSO\n",
              "TH84MaGkthkH0nQDeeab2SHxn1s6MgQAsOlkDpRqzR3uTeboXG4VPjx0AwDw+iMDWCyJiIwQy6UZ\n",
              "2JGcB41WIDa4J8K8nKSO02WmRPnAx9kO5fUt+Da1SOo41M2aWjR4eXsqtAKYFuOLqQM4cwARkTFi\n",
              "uTRxWq3Qz21pLtMP3YqNlRwLRwQBANYnZUEIcYctyJy8+X0aMssb4O2swF8e5lrzRETGiuXSxB3L\n",
              "KEd+VROc7azxwEDz35MzPzYQdjZyXC6sxZnsqjtvQGYhKaMcG45nAwD+MSsaLvac9JyIyFixXJq4\n",
              "rWd0A3keGeRnlgN5fqmngy0eGeQPAFh/LEviNNQdaptV+P2OVADAo8MCMTbCU+JERER0OyyXJqys\n",
              "TokfL5cAAOYPM+9D4j+3ZGQwAODHK8XIq2yUNgx1ude+voLCmmYEutnj/03tK3UcIiK6A5ZLE7bz\n",
              "XD7UWoGYAFdE+jhLHafbRHg7YXS4B7QC2HgiW+o41IV+uFyMnefyIZMBa+dEw0HB2dOIiIwdy6WJ\n",
              "EkJga+vclgviLGevZZu2vZdbz+ShQamWNgx1ifJ6Jf7frosAgGVjQjE02E3iREREdDdYLk3UicwK\n",
              "ZFc0wlFhjQejzX8gzy+Ni/BCiIcD6prV2HkuX+o4ZGBCCPzxy4uoaGhBH28nvDiJk+YTEZkKlksT\n",
              "tfW0bvqhh2N8LXL9ZLlchsUjggEAiUnZ0Go5LZE5+fJ8AX64XAIbKxnWzo2Gwtr8B6sREZmLDpXL\n",
              "5uZmTJ8+HREREYiOjsakSZOQkZEBACgtLcWUKVMQHh6OqKgoHDlypEsCE1DZ0ILvLxUDsMxD4m1m\n",
              "DfGHk501ssobcPh6mdRxyEAKq5vwp68uAwBeSAhHf18XiRMREVFHdHjP5bJly3Dt2jWkpqZi2rRp\n",
              "eOKJJwAAr7zyCuLj45Geno7ExEQsWLAAKpXK4IEJ2HUuHy0aLaL8nBHlZ7lfvA4Ka8yL1S13uT6J\n",
              "0xKZA61W4A9fXECdUo2YAFc8Pba31JGIiKiDOlQu7ezsMHXqVMhkMgBAfHw8srOzAQDbt2/H008/\n",
              "DQCIjY2Fr68vDh8+bNi0BCEEtrQO5JlvwXst2ywcHgy5DDiaXo7rJXVSx6FO2nQqB8cyymFnI8c/\n",
              "50TD2opn7hARmZpO/eVet24dpk2bhoqKCqhUKvj4+OhvCw4ORm5u7k23UyqVqK2tbXfRaDSdiWIx\n",
              "knOqcKOsAT1srPBwtK/UcSQX4GaPyf10n7vEpGxpw1CnZJbV4409VwEAr0yJRG9PR4kTERHRvbjn\n",
              "cvnGG28gIyMDq1ev7vC2q1evhouLS7vL6dOn7zWKRWnba/lwtC+c7LgEHvDTtERfns9HVUOLtGHo\n",
              "nqg1Wry0IxXNKi1G9HbHwuHBUkciIqJ7dE/lcs2aNdi1axf++9//wt7eHu7u7rC2tkZxcbH+PtnZ\n",
              "2QgMvPlh21WrVqGmpqbdJS4u7t5egQWpaVThuwtFAIB5cQESpzEecSFu6O/rjGaVFlvO3HxvORm3\n",
              "j49k4nxuNZwU1vi/2dGQy2VSRyIionvU4XK5du1abNmyBXv37oWrq6v++tmzZ+Ojjz4CAJw5cwYF\n",
              "BQUYO3bsTR9DoVDA2dm53cXKilON3MnulAIo1VpE+jghJsBV6jhGQyaTYcnIEADAZydyoNJoJU5E\n",
              "HXGlsBZv77sOAPjTw/3h59pD4kRERNQZHSqX+fn5eOmll1BdXY3x48cjJiYGw4YNAwC8+eabOH78\n",
              "OMLDw7F48WJs2rQJNjY8bGsovxzI0zaoinQeiu4FD0dbFNU066dpIuOnVGvw4vYUqDQCk/p5Y+Zg\n",
              "P6kjERFRJ3Vo9m1/f38IcfPJqr29vfHjjz8aJBT9WkpeNdKK66CwlmN6DL+Af0lhbYVHhwVh3f50\n",
              "rE/KwkMc7GQS3t6XjrTiOrg52GL1jAH8RxMRkRngPB8mom2v5QMDe8HFnnuEb+bR+EDYWslxPrca\n",
              "53OrpI5Dd3A2pxIfH74BAHjjkQHwcFRInIiIiAyB5dIE1DWr8E2qbiAP57a8NS8nO/0665yWyLg1\n",
              "tqjx4vZUaAUwY5AfpkT53HkjIiIyCSyXJuCrlEI0qTQI83LE0KCeUscxaktbB/bsuViE4ppmidPQ\n",
              "razek4acikb0crHDnx7uL3UcIiIyIJZLE7C1dXqdebEBPCftDqL8XBAX4ga1VuCzk9lSx6GbOJpe\n",
              "hs9O5gAA/jFrIFx68DQPIiJzwnJp5C7m1+BSQS1sreSYOdhf6jgmYWnrpOqbT+WiWcWVn4xJTaMK\n",
              "v99xAQCwcHgQRod7SpyIiIgMjeXSyLVNCj4lygc9HWwlTmMaJvXzgX/PHqhqVGH3+QKp49DP/Pmb\n",
              "yyiubUawuz1euT9S6jhERNQFWC6NWINSja9TCgFwIE9HWMllWNS6fGBiUvYtp8+i7vX9pSJ8eb4A\n",
              "chnwzzkxsLft0ExoRERkIlgujdi3FwpRr1QjxMMB8aFuUscxKXNiA2Bva4VrJXU4fqNC6jgWr6xO\n",
              "if/35SUAwNNje2MIB6YREZktlksjtuV0HgBgLgfydJhLDxvMGqI7RzUxKUviNJZNCIFVuy6isqEF\n",
              "kT5OeGFiuNSRiIioC7FcGqmrRbVIyauGjZVMX5KoYxaPCAYA7E8rRVZ5g7RhLNgXZ/Ox72oJbKxk\n",
              "eGtuDBTWVlJHIiKiLsRyaaS2tq7IM6mfN1cuuUehno4Y38cTQgCfHs+WOo5Fyq9qxF++uQIAWDEx\n",
              "An17OUuciIiIuhrLpRFqatFgV+soZw7k6Zylo3STqu9IzkNts0riNJZFqxX4/Y4LqFOqMTjQFU+N\n",
              "CZU6EhERdQOWSyO052IR6prVCHDrgZG9PaSOY9JGhXkg3MsRDS0abD+TJ3Uci/LpiWycyKxADxsr\n",
              "/HNODKyt+OeGiMgS8K+9EfppRZ5AyOUcyNMZMpkMS1qXhPz0RDY0Wk5L1B1ulNXj7/9NAwCsmhqJ\n",
              "EA8HiRMREVF3Ybk0MukldTiTXQUruQyzOZDHIB4Z5AdXexvkVTZh39USqeOYPbVGixe3p0Kp1mJ0\n",
              "uAceGxYkdSQiIupGLJdGZmvroduESC94OdtJnMY89LC10p+7ymmJut6Hh24gNa8aTnbW+Mesgdz7\n",
              "TkRkYVgujUizSoOd5/IBcCCPoS0cHgQruQwnMytxubBG6jhm61JBDdbtTwcAvPZwf/Ry6SFxIiIi\n",
              "6m4sl0bkh8vFqG5UwdfFDmMiPKWOY1Z6ufTA/VE+AIANSdnShjFTzSoNXtqeCrVWYEp/HzwyyE/q\n",
              "SEREJAGWSyOypXVuyzmxAbDioUSDa5uW6KuUQpTXKyVOY37e2nsd10rq4OFoi9cfieKqUkREForl\n",
              "0khkltXjZGYl5DJgztAAqeOYpcGBPREd4IoWjRabT+VKHcesnMmuxL+OZgIA3nhkANw58T8RkcVi\n",
              "uTQS21oH8ozr4wVfV56n1lWWjgwGAHx2Mgctaq20YcxEg1KNl7anQghg5mB/TO7vI3UkIiKSEMul\n",
              "EWhRa/HFWd1Annmx3GvZlaYO6AVvZwXK6pT47mKh1HHMwht7riK3shG+Lnb408P9pI5DREQSY7k0\n",
              "AvuulqCioQVeTgpMiPSSOo5Zs7GSY+HwYADAJ8eyIAQnVe+MQ9dK8XnrKQZrZkfD2c5G4kRERCQ1\n",
              "lksjoB/IMzSAS+R1g/lxgVBYy3GpoBbJOVVSxzFZNY0qrNx5AQCweEQwRoRxqVIiImK5lFxeZSOO\n",
              "ppcDAObykHi3cHOw1U+Tw0nV793/fn0JJbVKhHo4YOWUSKnjEBGRkWC5lFjbOuKjwz0Q4GYvcRrL\n",
              "0bbe+PeXipFf1ShxGtPz3YUifJVSCLkM+OecaPSwtZI6EhERGQmWSwmpNFrsSOaKPFLo4+OEkWHu\n",
              "0ArgsxM5UscxKaV1zfif3RcBAM+MC8OgwJ4SJyIiImPCcimhA2mlKK1TwsPRFhP7eksdx+Isbd17\n",
              "ueV0Lhpb1BKnMQ1CCKzaeRFVjSr06+WM5QnhUkciIiIjw3Ipoa2tA3lmDvGHrTX/V3S38X28EOxu\n",
              "j9pmNXaeK5A6jknYkZyP/WmlsLWSY+3caH5uiYjoV/jNIJGC6iYcul4GAJgXy0PiUpDLZVg8IhiA\n",
              "bmCPVstpiW4nr7IRr31zGQDw4uQIRPo4S5yIiIiMEculRLafyYMQwPBQd4R4OEgdx2LNGhoAJ4U1\n",
              "MssacCS9TOo4RkurFXh5RyoaWjQYGtQTT44OlToSEREZqQ6Vy+XLlyM4OBgymQwpKSn664ODg9Gn\n",
              "Tx/ExMQgJiYG27ZtM3ROs6LRCmxP1i33OH8Y91pKyVFhjTmtU0CtT8qWNowRSzyejVNZlbC3tcI/\n",
              "50TDSi6TOhIRERmpDpXLWbNm4dixYwgKCvrVbdu2bUNKSgpSUlIwd+5cgwU0R4evl6Kophk97W1w\n",
              "X38O5JHaouHBkMmAI9fLkFFaJ3Uco5NRWoc3v08DAPy/qX0R5M497UREdGsdKpdjxoyBv79/V2Wx\n",
              "GFtO6/ZazhjsD4U15weUWqC7PSa1jtZP5N7LdlQaLV7cnooWtRZjIjzxKPe0ExHRHRjsnMuFCxdi\n",
              "wIAB+M1vfoOystufu6ZUKlFbW9vuotFoDBXFqJXUNuNAWikAYH4cV+QxFm2Tqu88l4/qxhaJ0xiP\n",
              "Dw7ewIX8GjjbWeMfMwdCJuPhcCIiuj2DlMsjR47gwoULOHfuHDw8PLBo0aLb3n/16tVwcXFpdzl9\n",
              "+rQhohi9Hcl50GgFYoN7IszLSeo41Co+1A19ezmjWaXF1jN5UscxChfza/DugXQAwF+nR8HHxU7i\n",
              "REREZAoMUi4DA3WHymxsbLBixQocPXr0tvdftWoVampq2l3i4uIMEcWoabVCX1y4Io9xkclkWDoy\n",
              "GACw8Xg21BqttIEk1qzS4MXtKVBrBaYO8MHD0b5SRyIiIhPR6XLZ0NCA6upq/c9btmzBoEGDbruN\n",
              "QqGAs7Nzu4uVlfmfe3gsoxz5VU1wtrPG1AG9pI5Dv/BQtC/cHWxRWNOMHy6XSB1HUv/88RrSS+vh\n",
              "4ajA36YP4OFwIiK6ax0ql0899RT8/f2Rn5+P++67D2FhYSgpKcH48eMxcOBADBgwAIcPH8bGjRu7\n",
              "Kq9J29K6Is+Mwf6wszH/Mm1q7Gys8Gi8biaE9UlZEqeRzqnMCvznmO71/33GALg52EqciIiITIl1\n",
              "R+788ccf3/T68+fPGySMOSurU2LvFd3esHkcyGO0HosPxIeHMnA2pwqpedWIDnCVOlK3qleq8dKO\n",
              "VAgBzBnqj4n9OFUWERF1DFfo6SY7z+VDrRUYFOjKZfOMmJeTHR4aqDu/MNEC916+/t0V5Fc1wc+1\n",
              "B159sJ/UcYiIyASxXHYDIQS2th4Sn891xI1e27RE310sQklts8Rpus/BtFL9HKxrZkfDyc5G4kRE\n",
              "RGSKWC67wYnMCmRXNMJRYY0HozmQx9gN8HdBbHBPqDQCm07mSB2nW1Q1tGDlzgsAgKUjQzC8t7vE\n",
              "iYiIyFSxXHaDtr1B02J8YW/bodNcSSJtey8/P5WLZpX5T/D/6leXUFqnRG9PB/xhSh+p4xARkQlj\n",
              "uexilQ0t+OFSMQDObWlKJvfzhp9rD1Q2tODrlEKp43Spb1IL8e2FIljJZVg7J4YzGRARUaewXHax\n",
              "Xefy0aLRYoCfC6L8XKSOQ3fJ2kqOhcN/mpZICCFxoq5RUtuMV7+6BAB4dnyYxY2OJyIiw2O57EJC\n",
              "CP3clpx+yPTMiw1EDxsrpBXX4URmhdRxDE4IgZU7L6C6UYUoP2c8PyFM6khERGQGWC670JnsKtwo\n",
              "a4C9rRWXzzNBLvY2mDXEHwCw/li2tGG6wNYzeTh0rQy21nKsnRMDGyv+OSAios7jt0kXapt+6KGB\n",
              "vpzWxUQtbl1vfH9aCXIqGqQNY0B5lY3427dXAAC/n9wHEd5OEiciIiJzwXLZRWoaVfjuYhEAYP4w\n",
              "DuQxVb09HTGujyeEADYcz5Y6jkFotAIvbU9FQ4sGccFuWDoqROpIRERkRlguu8iX5/OhVGsR6eOE\n",
              "aH8O5DFlbdMS7UjOR12zSuI0nbf+WBZOZ1fC3tYKa2ZHw0oukzoSERGZEZbLLiCEwNYzurkt58cF\n",
              "Qibjl7cpGxPugTAvR9Qr1diRnC91nE65XlKH//vxGgDgfx7oh0B3e4kTERGRuWG57ALn86qRVlwH\n",
              "hbUc0wf5SR2HOkkmk2HxiGAAwKcnsqHRmua0RCqNFi9uT0GLWotxfTwxnzMYEBFRF2C57AJtA3ke\n",
              "GNgLLj04kMcczBjsB5ceNsipaMSBtFKp49yTdw9k4FJBLVx62ODNmQO5R52IiLoEy6WB1TWr8E2q\n",
              "biDPAq7IYzbsba31c5UmJmVJnKbjUvOq8f7BDADAX6dHwdvZTuJERERkrlguDeyrlEI0qTQI83LE\n",
              "kKCeUschA1o4PBhWchmO36jA1aJaqePctWaVBi9uT4FGK/DgwF6cc5WIiLoUy6WBta3Iw4E85sfP\n",
              "tQem9PcBAGxIypY2TAf83w/XcKOsAZ5OCvx1WpTUcYiIyMyxXBrQxfwaXC6sha2VHDM4kMcsLR0V\n",
              "DAD4MqUAFfVKacPchRM3KvDJMd1h/H/MHIieDrYSJyIiInPHcmlAm1v3Wt4/wIdf4mZqcGBPRPu7\n",
              "oEWtxeZTuVLHua26ZhVe3pEKAJgfF4DxkV4SJyIiIkvAcmkgDUo1vk4pAADMi+VAHnMlk8n0k6p/\n",
              "djIHLWqtxIlu7W/fXkVBdRMC3Hrgjw/0kzoOERFZCJZLA/n2QiEaWjQI8XBAfKib1HGoC00d0Ate\n",
              "TgqU1imxp3WJT2Oz70oJtiXnQSYD1syKhqPCWupIRERkIVguDWTzad2KPPNiAziQx8zZWsvxeHwQ\n",
              "AGB9UhaEMK5J1SsbWvDKrosAgN+MDMGwUHeJExERkSVhuTSAK4W1SM2rho2VDDOH+Esdh7rBgmGB\n",
              "sLWW40J+Dc7lVkkdR08Igf/ZfRHl9UqEezni5fv6SB2JiIgsDMulAWw9oxvYMbmfDzwcFRKnoe7g\n",
              "7qjA9BjdfJHrjWhaoq9TC7HnYjGs5TKsnRMDOxsrqSMREZGFYbnspKYWDb483zqQh2s1W5S2gT3f\n",
              "XypGYXWTxGmA4ppmvLr7EgDguQlhGODvInEiIiKyRCyXnfTdxSLUNasR4NYDI3t7SB2HulHfXs4Y\n",
              "HuoOjVZg44kcSbMIIbBy5wXUNqsx0N8Fz44PkzQPERFZLpbLTtraOrflvNhAyOUcyGNplo7S7b3c\n",
              "cjoXjS1qyXJsPp2Lw9fLYGstx9o50bCx4q82ERFJg99AnXC9pA7JOVWwksswmwN5LNKESC8Eutmj\n",
              "pkmlPz2iu+VUNOD1764CAP5wXx+EeTlJkoOIiAhgueyUra3TDyVEesHL2U7iNCQFK7kMi0cEAwAS\n",
              "k7K7fVoijVbgpe2paGzRYFiIG5a2ngdKREQkFZbLe9Ss0mDX+XwAwPw4rshjyWYP9YejwhoZpfU4\n",
              "ml7erc/9n6OZSM6pgoOtFdbMjuapGUREJDmWy3v0w+ViVDeq4OtihzERnlLHIQk52dlg9lDdaRHr\n",
              "k7K67XnTimvxzx+vAwD+96F+CHCz77bnJiIiupUOlcvly5cjODgYMpkMKSkp+uvT09MxYsQIRERE\n",
              "IDY2FpcvXzZ0TqOzpXUgz5zYAFhxb5HFWzwiGDIZcOhaGTJK67v8+VrUWry4LRUtGi0mRHphzlBO\n",
              "g0VERMahQ+Vy1qxZOHbsGIKCgtpd/9RTT2HZsmW4fv06Vq5cicWLFxsyo9HJLKvHycxKyGXglzoB\n",
              "AILcHZAQ6Q0A+PR4dpc/37sH0nGlqBY97W3w95kDuOQoEREZjQ6VyzFjxsDfv/2o6NLSUiQnJ+Ox\n",
              "xx4DAMycORN5eXnIyMgwXEojs+2MbiDPuD5e8HXtIXEaMhZLRwUDAL44m4+aRlWXPc/53Cp8cOgG\n",
              "AOBv0wfAy4mDyYiIyHh0+pzLvLw89OrVC9bW1gAAmUyGwMBA5Obm3nIbpVKJ2tradheNRtPZKN2i\n",
              "Ra3FF2c5kId+bXioOyJ9nNCk0mBb8q0//53R1KLBS9tTodEKPBztiwcG9uqS5yEiIrpXkgzoWb16\n",
              "NVxcXNpdTp8+LUWUDtt7pQQVDS3wdlZgfB8O5KGfyGQy/VRAnx7PgVqjNfhzvPl9GjLLG+DtrMBf\n",
              "pvU3+OMTERF1VqfLZUBAAIqKiqBW61YnEUIgNzcXgYG33qu3atUq1NTUtLvExcV1Nkq3aBvIM3tI\n",
              "AKy5Cgr9wsMxvnBzsEVBdRP2Xikx6GMfzyjHhtbzOd+cORCu9rYGfXwiIiJD6HQ78vLywuDBg7Fp\n",
              "0yYAwM6dO+Hv74+wsFuvbaxQKODs7NzuYmVl1dkoXS63ohHHMsohkwFzYzmQh37NzsYKjw7T/cPK\n",
              "kNMS1Tar8PKOVADAgmGBGNfHy2CPTUREZEgdKpdPPfUU/P39kZ+fj/vuu09fID/++GN8/PHHiIiI\n",
              "wN///nckJiZ2SViptZ1HNyrMg3MK0i09Fh8Ea7kMZ7KrcDG/xiCP+ZdvrqCwphmBbvb449S+BnlM\n",
              "IiKirmDdkTt//PHHN72+T58+OHHihEECGSuVRovtybqBPAs4kIduw9vZDg8O7IXdKYVITMrC2rkx\n",
              "nXq8vVdK8MXZfMhkwD/nRMNB0aFfWyIiom7Fkwbv0oG0UpTVKeHhaIuEvt5SxyEjt3SUbmDPNxcK\n",
              "UVrXfM+PU1GvxKpdFwAAy0aHIjbYzSD5iIiIugrL5V1qG8gza0gAbK35ttHtDfR3xZCgnlBpBDad\n",
              "vLdpiYQQ+OOXl1Be34IIb0f8blKEgVMSEREZHlvSXSiobsLh62UAgHkcyEN3qW1aos9P5qBZ1fF5\n",
              "XHenFOD7y8Wwlsuwdk4M7GyMf9AbERERy+Vd2HYmD0IAI3q7I9jDQeo4ZCLu6+8NXxc7VDS04JvU\n",
              "wg5tW1TThP/96jIA4IWEcET5uXRFRCIiIoNjubwDtUaLHcm65R7ncSAPdYC1lRwLRwQDANYnZUMI\n",
              "cVfbCSHwhy8uoK5ZjegAV/x2XO8uTElERGRYLJd3cPh6GYpqmtHT3gb39edAHuqYebEBsLOR42pR\n",
              "LU5lVd7VNptO5uBoejkU1nL8c3Y0J+snIiKTwm+tO9hyWrfXcuZgfyisec4bdYyrvS1mDvYHAKw/\n",
              "dudJ1bPLG/DGnjQAwCv3RyLMy7FL8xERERkay+VtFNc04+C1UgDAvDgO5KF7s2RkMABg79US5FY0\n",
              "3vJ+Gq3Ai9tT0KTSYHioOxYND+6egERERAbEcnkbO5LzoNEKxAW7IczLSeo4ZKLCvJwwJsITQgCf\n",
              "nsi+5f0+PnID53Kr4aiwxv/NHgi5XNZ9IYmIiAyE5fIWtFqBrWfaBvJwryV1Ttvey+1n8lCvVP/q\n",
              "9qtFtXhr73UAwJ8e6gf/nlxelIiITBPL5S0czShHQXUTnO2sMXVAL6njkIkbG+6JUE8H1CnV+KJ1\n",
              "9oE2SrUGv9uWApVGYGJfb8wa4i9RSiIios5jubyFra0r8swY7M/Jq6nT5HIZlrROqr7heDa02p+m\n",
              "JVq3Lx1pxXVwc7DF6hkDIJPxcDgREZkulsubKKtTYu+VEgA8JE6GM3OwH5ztrJFd0agfKHY2pwof\n",
              "Hb4BAHh9ehQ8nRRSRiQiIuo0lsub+OJsPtRagUGBroj0cZY6DpkJe1trzG+diD8xKRuNLWq8vCMV\n",
              "WgE8MsgP9/P0CyIiMgMsl7+gG8ijOyQ+P5Yr8pBhPT48CHIZcCyjHM9+fg5Z5Q3wcbbDnx/uL3U0\n",
              "IiIig2C5/IWTmRXIqWiEo8IaD0ZzTxIZln9Pe0yJ8gEAHLxWBgD4x6yBcOlhI2UsIiIig2G5/IUt\n",
              "rdMPTYvxhb2ttcRpyBy1DewBgMfjgzAmwlPCNERERIbF9vQzlQ0t+OFSMQDoz40jMrShQT0xZ6g/\n",
              "SmqVWDU1Uuo4REREBsVy+TO7zuWjRaPFAD8XRPm5SB2HzJRMJsM/ZkVLHYOIiKhL8LB4KyEENrfO\n",
              "bcm9lkRERET3huWy1ZnsKmSWNcDe1goPx/hKHYeIiIjIJLFcttrSutfy4WhfOCp4tgARERHRvWC5\n",
              "BFDd2ILvLhYBAObxkDgRERHRPWO5BPDl+QK0qLWI9HFCtD8H8hARERHdK4svl0IIbD2tm9tywbBA\n",
              "yGQyiRMRERERmS6LL5fn86pxraQOdjZyTIvxkzoOERERkUmz+HK55ZRuIM8DA3y5BB8RERFRJ1l0\n",
              "uaxtVuHbC7qBPPPjAiROQ0RERGT6LLpcfpVSiCaVBuFejhgS1FPqOEREREQmz2LLpRBCf0h8XhwH\n",
              "8hAREREZgsWWy4sFNbhSVAtbKzlmDOJAHiIiIiJDMGi5DA4ORp8+fRATE4OYmBhs27bNkA9vUFta\n",
              "px+6f4APejrYSpyGiIiIyDwYfJ3Dbdu2ISYmxtAPa1ANSjW+TikAAMyL5Yo8RERERIZikYfFv0kt\n",
              "REOLBiEeDogPdZM6DhEREZHZMPiey4ULF0IIgbi4OPz973+Hp6fnr+6jVCqhVCrbXafRaAwd5Za2\n",
              "nNEdEp8XG8CBPEREREQGZNA9l0eOHMGFCxdw7tw5eHh4YNGiRTe93+rVq+Hi4tLucvr0aUNGuaWM\n",
              "0nqk5lXDxkqGmUP8u+U5iYiIiCyFTAghuuKBi4qKEBERgbq6ul/ddrM9l6+++irWrVvXFVF+5VJB\n",
              "DS4V1GBeHM+3JCIiIjIkgx0Wb2hogEqlgqurKwBgy5YtGDRo0E3vq1AooFAo2l1nZWVlqCh3FOXn\n",
              "gig/l257PiIiIiJLYbByWVJSgpkzZ0Kj0UAIgdDQUGzcuNFQD09EREREJsBg5TI0NBTnz5831MMR\n",
              "ERERkQmyyKmIiIiIiKhrsFwSERERkcGwXBIRERGRwbBcEhEREZHBsFwSERERkcGwXBIRERGRwbBc\n",
              "EhEREZHBsFwSERERkcGwXBIRERGRwciEEELqEAAwY8YMBAcHd8tzaTQanD59GnFxcd26prk54XvY\n",
              "OXz/Oo/vYefw/es8voedw/ev86R4D4OCgvDCCy/c9j5GUy67U21tLVxcXFBTUwNnZ2ep45gkvoed\n",
              "w/ev8/gedg7fv87je9g5fP86z1jfQx4WJyIiIiKDYbkkIiIiIoNhuSQiIiIig7HIcqlQKPCnP/0J\n",
              "CoVC6igmi+9h5/D96zy+h53D96/z+B52Dt+/zjPW99AiB/QQERERUdewyD2XRERERNQ1WC6JiIiI\n",
              "yGBYLomIiIjIYFgu79Lbb7+N4uJiqWOQicvOzsZHH3102/sMHToUhw4d6p5AJq6wsBCjR4+WOoZR\n",
              "aW5uxvTp0xEREYHo6GhMmjQJGRkZAIBx48YhJCQEMTExiImJwVtvvaXf7qmnnsKAAQMwYcIE1NTU\n",
              "AACEELj//vtx48YNSV6LVIKDg9GnTx/9+7Rt2zYAQHp6OkaMGIGIiAjExsbi8uXLAACVSoXp06cj\n",
              "OjoaM2bMgFqtBqD7fzFmzBhUVVVJ9lqkUFFRoX/vYmJiEBERAWtra1RWVvIzaCFYLu8SyyUZwt2U\n",
              "S7p7vr6+OHr0qNQxjM6yZctw7do1pKamYtq0aXjiiSf0t7311ltISUlBSkoKfve73wEALl26hPT0\n",
              "dFy8eBHjxo3DZ599BgD4z3/+g/Hjx6N3796SvA4pbdu2Tf8+zZ07F4Cu/CxbtgzXr1/HypUrsXjx\n",
              "YgDADz/8ADc3N6SmpsLV1RXff/89AOCvf/0rnnvuOfTs2VOqlyEJd3d3/XuXkpKCZcuW4f7774eb\n",
              "mxsAfgYtgcmXyxMnTmDUqFGIjo7GwIED8dVXXyE5ORkjRozAwIEDERcXh6SkJAC6L3ZXV1f9tvX1\n",
              "9ZDJZPqfZTIZ3njjDcTFxSEkJASJiYkAgL/85S8oLCzE3LlzERMTg5SUlO58iV1KJpPh9ddfx7Bh\n",
              "wxAcHIzdu3dj9erVGDp0KMLDw9vtQfvhhx8watQoDBkyBHFxcTh48CAAoLi4GOPHj8eQIUPQv39/\n",
              "PPfcc9BqtQCADRs2YOLEiZg/fz4GDBiAoUOHIjMzU4qX2u2ampowd+5c9OvXD9HR0Zg8eTKefvpp\n",
              "XLt2DTExMXj44YcBAMePH0dMTAyioqKwZMkS/V4PS3a3n8tf/k7f6nfYktjZ2WHq1Kn6v23x8fHI\n",
              "zs6+7TY2NjZQKpXQarVoaGiAra0tioqKsGXLFrz44ovdkNr4lZaWIjk5GY899hgAYObMmcjLy0NG\n",
              "RgZsbGzQ2NgIAGhsbIStrS0uXLiAtLQ0zJkzR8rYRuGTTz7Bb37zm9veh5/Bn9zt3z+1Wo377rsP\n",
              "Q4cORf/+/bFgwQI0NDQAAD7//HMMHToUSqUSQgg89NBDeP3117vvRQgTVlFRIby8vMSRI0eEEEJo\n",
              "NBpRUlIiAgICxPfffy+EEOLo0aPC29tb1NXViaysLOHi4qLfvq6uTvz8LQAg1qxZI4QQ4urVq8LR\n",
              "0VGoVCohhBBBQUHi/Pnz3fPCuhEA8fbbbwshhNi3b59wcHAQiYmJQgghtm/fLoYOHSqEEOLGjRsi\n",
              "Pj5e1NTUCCGESE9PFz4+PqK5uVk0NTWJuro6IYQQarVaPPDAA2LLli1CCCESExOFs7OzyMzMFEII\n",
              "sXLlSrFs2bLufImS2bVrl5g8ebL+54qKCnHw4EERHR2tv06pVAp/f3+xd+9eIYQQP/zwgwAgDh48\n",
              "2M1pjcvdfi5/+Tt9u99hS/XYY4+J5cuXCyGEGDt2rOjTp4+IiooSc+bMETdu3NDf749//KOIjo4W\n",
              "s2bNEg0NDWLu3LkiOTlZqtiSCgoKEgMGDBBRUVFi6dKlorS0VCQnJ4uIiIh294uNjRX79+8XGo1G\n",
              "PPHEE2LgwIFi2bJlQqVSiYSEBJGXlyfRKzAeSUlJwtvbW/97yM/gnd3t3z+tVivKy8v1//3000+L\n",
              "1atX6x9n2bJl4tlnnxX/+Mc/xJQpU4RWq+2+19Btz9QFvv32WzF69Oh21124cEEEBQW1u27gwIHi\n",
              "6NGjd1Uui4qK9D+7urrq/ziYc7lse83V1dUCgGhqahJCCJGdna1/v95//33h4eEhoqOj9RdfX19x\n",
              "/fp10dDQIJ555hkxcOBAMWDAAOHt7S1WrlwphNCVy/vuu0//fLt37xYJCQnd+yIlcuPGDREQECB+\n",
              "+9vfiq1bt4ra2tpflcvU1FQRHBzcbrvQ0FCWy7v8XN6sXN7qd9gSvf766yI+Pl40NDQIIYTIzc0V\n",
              "Qui+iN59913Rt2/fm263e/du8fLLL4vy8nKxePFiMWPGDLF169Zuyy21nJwcIYQQLS0t4g9/+IO4\n",
              "//77b1suf+mtt94S7777rsjKyhLz588XM2bMuOn9LMHSpUvF73//e/3P/Aze2d3+/dNoNOKPf/yj\n",
              "iImJEVFRUSIgIEDMnTtX/zhNTU1i4MCBIiAgQJSVlXXrazD5w+J3o+3wkLW1NTQajf765ubmX93X\n",
              "zs5O/99WVlYWcYiy7TVbWVn96ue21y+EwKRJk9qdR1NQUIDw8HCsXbsWpaWlOHXqFC5cuIAFCxa0\n",
              "e28t8T0FgNDQUFy5cgVTpkxBUlISoqKi7urE/p+fqmHJ7uZzebvt7ua+5mzNmjXYtWsX/vvf/8Le\n",
              "3h4AEBAQAED3GXvuueeQmZmJioqKdtvV1tZizZo1eO211/D2229j7Nix2LZtG/7yl7+gqamp21+H\n",
              "FAIDAwHoDtWuWLECR48eRUBAAIqKitr9TczNzdXft01OTg727NmDZ555Bq+++iqWLVuGDRs24Pnn\n",
              "n+/21yG1+vp6bN++HUuXLtVfx8/g3bmbv3+bN2/GgQMHcPjwYVy8eBEvv/xyu+/e0tJSVFVVQavV\n",
              "orq6ulvzm3S5HDFiBNLT0/Un9Gu1Wnh7e0Or1WLv3r0AdOezFRcXIyYmBj4+PhBC4MqVKwCAjRs3\n",
              "3vVzOTs760evWaL77rsP+/btw4ULF/TXnT59GgBQVVUFHx8f2NnZobi4GDt27JAqplHJz8+HTCbD\n",
              "ww8/jDVr1kAIAXd393afo8jISKjVav35q/v27eOoSOq0tWvXYsuWLdi7d6/+nFS1Wo2SkhL9fXbu\n",
              "3Alvb2+4u7u32/aVV17B//7v/8Le3h4NDQ2QyWSQyWRQqVRoaWnpzpchiYaGhnZfxFu2bMGgQYPg\n",
              "5eWFwYMHY9OmTQB075+/vz/CwsLabf/CCy/grbfeglwu179/bf9tabZt24bo6GhERkYC4GfQ0Kqq\n",
              "quDh4QFnZ2fU1dVhw4YN+tvUajXmzZuHv/71r1i7di3mzJkDpVLZbdmsu+2ZukDPnj3x5Zdf4qWX\n",
              "XkJdXR3kcjn++te/YteuXVi+fDleeukl2NnZ4YsvvoCjoyMA4N1338WDDz4Id3d3zJo1666fa/ny\n",
              "5XjyySdhb2+PDRs2ICYmpotelXEKCwvD5s2b8dRTT6GxsREtLS0YNGgQNm/ejBdeeAGzZs1C//79\n",
              "4evri4kTJ0od1yhcvHgRq1atghACarUajz/+OEaMGIH+/fsjKioKoaGh+Prrr7Ft2zY888wz0Gg0\n",
              "iI2NRXR0tNTRyYTl5+fjpZdeQmhoKMaPHw9At/7wgQMH8MADD0CpVEIul8PDwwNff/11u22TkpLQ\n",
              "1NSESZMmAQCeffZZzJ8/H2+++SYef/xxuLi4dPvr6W4lJSWYOXMmNBoNhBAIDQ3V74j4+OOPsXjx\n",
              "Yrzxxhtwdnb+1YCxzZs3Izo6Gv379wegK0lPPvkkWlpa8Oqrr3b7a5HaJ598gieffFL/s1Kp5GfQ\n",
              "gBYuXIivvvoKffr0gaenJ0aPHo2cnBwAus9enz59sGjRIgDA4cOHsWLFCnz44Yfdko1rixMRERGR\n",
              "wZj0YXEiIiIiMi4sl0RERERkMCyXRERERGQwLJdEREREZDAsl0RERERkMCyXRERERGQwLJdERERE\n",
              "ZDAsl0RERERkMCyXRERERGQwLJdEREREZDAsl0RERERkMP8fjn8eM0jmeysAAAAASUVORK5CYII=\n",
              "\">\n",
              "      </div>\n",
              "      <script type=\"text/javascript\">\n",
              "        (() => {\n",
              "          const chartElement = document.getElementById(\"chart-9d68aa05-8b6e-4836-8f9e-3b303bffe5fc\");\n",
              "          async function getCodeForChartHandler(event) {\n",
              "            const chartCodeResponse =  await google.colab.kernel.invokeFunction(\n",
              "                'getCodeForChart', [\"chart-9d68aa05-8b6e-4836-8f9e-3b303bffe5fc\"], {});\n",
              "            const responseJson = chartCodeResponse.data['application/json'];\n",
              "            await google.colab.notebook.addCell(responseJson.code, 'code');\n",
              "          }\n",
              "          chartElement.onclick = getCodeForChartHandler;\n",
              "        })();\n",
              "      </script>\n",
              "      <style>\n",
              "        .colab-quickchart-chart-with-code  {\n",
              "            display: block;\n",
              "            float: left;\n",
              "            border: 1px solid transparent;\n",
              "        }\n",
              "\n",
              "        .colab-quickchart-chart-with-code:hover {\n",
              "            cursor: pointer;\n",
              "            border: 1px solid #aaa;\n",
              "        }\n",
              "      </style>"
            ]
          },
          "metadata": {}
        },
        {
          "output_type": "display_data",
          "data": {
            "text/plain": [
              "from matplotlib import pyplot as plt\n",
              "_df_4['SALARY'].plot(kind='line', figsize=(8, 4), title='SALARY')\n",
              "plt.gca().spines[['top', 'right']].set_visible(False)"
            ],
            "text/html": [
              "      <div class=\"colab-quickchart-chart-with-code\" id=\"chart-4bfdc39a-929a-435d-80aa-c604b86df6f1\">\n",
              "        <img style=\"width: 180px;\" src=\"data:image/png;base64,iVBORw0KGgoAAAANSUhEUgAAAqwAAAFuCAYAAABECkoSAAAAOnRFWHRTb2Z0d2FyZQBNYXRwbG90\n",
              "bGliIHZlcnNpb24zLjEwLjAsIGh0dHBzOi8vbWF0cGxvdGxpYi5vcmcvlHJYcgAAAAlwSFlzAAAP\n",
              "YQAAD2EBqD+naQAATPpJREFUeJzt3XlcVXXi//HXZZdVBQFBEM1dFBdwK7WmzKVFM5cWzaW0fbNm\n",
              "yunbzLQ69XOspqmsqVwyS01tz8qm0lwS3HHFBUEWQURAlgv33vP7A2WGtBKFey7wfj4e96Heey73\n",
              "fY5XeHvu5/M5FsMwDEREREREXJSb2QFERERERH6LCquIiIiIuDQVVhERERFxaSqsIiIiIuLSVFhF\n",
              "RERExKWpsIqIiIiIS1NhFRERERGXpsIqIiIiIi5NhVVEREREXJoKq4iIiIi4NBVWEZFadPjwYW6+\n",
              "+WYiIiLw9/cnIiKCESNGkJWVVW27SZMmYbFYWLVq1VlfIyYmhrfffvs3X8fhcNC2bVt8fX3Jz8+v\n",
              "9lhqaioWiwU/Pz/8/f0JCQlh6NCh7NixA6vVSs+ePbnvvvuqPaeiooI+ffowffr0C9xzEZG6o8Iq\n",
              "IlKLRowYQUBAAMnJyZw6dYqtW7cyfvx4LBZL1TZ5eXksXbqU4OBgXn/99Qt6na+++oq0tDS8vb2Z\n",
              "N2/eObfZvn07p06d4uDBgzRt2pSRI0fi7e3Nhx9+yIIFC/j888+rtn3yyScpLi7mlVdeuaA8IiJ1\n",
              "SYVVRKSW5OXlsXfvXu666y6aN28OQFhYGJMmTSI8PLxqu3fffRc/Pz/eeOMNvvjiC9LS0mr8Wq+/\n",
              "/jrDhg1j6tSpzJ07F8MwfnXboKAgJk6cSGpqKsePH6djx468+uqrTJkyhaysLL7//nv+9a9/sWTJ\n",
              "Epo0aVLzHRcRqWMqrCIitSQ4OJhu3bpx5513Mm/ePHbs2IHD4ai2jWEYzJ07l4kTJzJ69GhatmzJ\n",
              "3Llza/Q6hw8fZtWqVUybNo1p06aRkpLCt99++6vbnzhxgvnz5xMeHk6zZs0AmDx5MkOHDuXmm29m\n",
              "4sSJ/OMf/yA2NrbmOy0i4gQqrCIitej7779n+PDhvPHGG/Tp04eQkBAeffRRrFYrAF9//TWHDh1i\n",
              "2rRpuLu7M3XqVN555x3Ky8vP+zXefPNNwsPDufbaa+nUqRMDBw7kjTfeOGu7Xr16ERgYSHBwMFu3\n",
              "buXTTz/F3d296vE33niDgwcP0rNnT+68886L33kRkTqiwioiUouCg4N5+umn2bRpEwUFBbz77rv8\n",
              "+9//ZtasWUDlR/mXXnopXbp0AeD222/n+PHjLF++/Ly+vtVq5d1332XKlClV5XPatGl89tlnHD16\n",
              "tNq2W7ZsobCwkF27dgGwc+fOao8HBARwySWXEBcXd1H7LCJS11RYRUTqiLe3N6NGjeKqq65iy5Yt\n",
              "pKWl8cUXX7B161bCw8MJDw+nb9++AOc9+WrZsmXk5uby2muvVX2NGTNmYLfbefPNN8/5nC5dujB3\n",
              "7lweeOABMjMza23/REScRYVVRKSW5Ofn8/jjj1ctH2W32/nuu+/4/vvvGTRoEHPnziUkJIS9e/ey\n",
              "bdu2qtvSpUv56aefqp0BtdlslJWVVbsZhsHrr7/OiBEj2LNnT9Xzd+7cyYwZM3j77bepqKg4Z7Yh\n",
              "Q4YQHx/PX//6V2cdDhGRWmMxfmtqqYiInLfi4mIefPBB1q5dS2ZmJu7u7rRq1YqJEyfy0EMPER0d\n",
              "zQMPPMATTzxx1nN79uxJv379eOONN4iJieHIkSNnbbNt2zZ69OjBTz/9xKWXXlrtsezsbGJiYliw\n",
              "YAF9+/alTZs2pKSk0K5du6pt1q5dyxVXXMHOnTvp3LkzAJdffjmXXXYZzz77bC0fDRGR2qPCKiIi\n",
              "IiIuTUMCRERERMSlqbCKiIiIiEtTYRURERERl6bCKiIiIiIuTYVVRERERFyaCquIiIiIuDQVVhER\n",
              "ERFxaQ26sL7yyitmRxARERGRi9SgC+u5rhQjIiIiIvVLgy6sIiIiIlL/qbCKiIiIiEtTYRURERER\n",
              "l6bCKiIiIiIuTYVVRERERFyaCquIiIiIuDQVVhERERFxaSqsIiIiIuLSVFhFRERExKWpsIqIiIiI\n",
              "S1NhFREREZEqDodhdoSzqLCKiIiINHJFZRV8sCmNUa+t4/UfDpgd5yweZgcQEREREeczDIOkI/ks\n",
              "SUznix1ZlFbYASgsq+DeK9phsVhMTvhfKqwiIiIijUhOURkrtmSwNCmdQ7nFVfe3beHH+PgobugV\n",
              "6VJlFVRYRURERBo8m93B9/tyWZKYzvf7crCfHqfaxNOda7u3ZHxCFL1bN3O5onqGCquIiIhIA3Uo\n",
              "9xRLk46yfMtRcousVff3jG7K+Pgoro2LwN/b9eug6ycUERERkfNWUm7jy53ZLE1MZ1Pqiar7m/t5\n",
              "MbpnJOMTomgfFmBiwppTYRURERGp5wzDYPvRApYkpvPZ9kxOWW0AuFlgcIcWjIuP4srOYXh51M8F\n",
              "olRYRUREROqpE8XlrNyawdLEdPYdK6q6P7q5L+PiW3Fj71a0DGpiYsLaocIqIiIiUo/YHQZrU3JZ\n",
              "lnSUb3ZnU2GvnEDl7eHG8NhwxiVE0a9NMG5urjmB6kKosIqIiIjUA+knSliWlM5Hm4+SWVBWdX9s\n",
              "ZCDj46O4vkckQU08TUxYd1RYRURERFxUWYWdr3dlszQpnXUH8qruD2riyageEYxLiKJrRJCJCZ1D\n",
              "hVVERETExezKLGBpYjofb8ukoLSi6v5L2wUzLj6KoV3D8fF0NzGhc6mwioiIiLiAgtIKPt2WwZKk\n",
              "dJIzCqvujwjyYUx8FGN7tyKqua+JCc2jwioiIiJiEofDYOOhPJYkpbMqORurzQGAp7uFq7tUTqC6\n",
              "rF0I7g1oAtWFUGEVERERcbKsglI+SjrKss1HSTtRUnV/x7AAxiVEcUPPSJr7eZmY0LWosIqIiIg4\n",
              "QbnNwXd7jrEkKZ01+3NxVK5Ghb+3B9fFRTA+IYq4VkFYLI37bOq5qLCKiIiI1KGUY0UsSUxn5dYM\n",
              "8orLq+7v06Y54+KjGNEtHF8vVbLfoqMjIiIiUstOWW18tj2TpUnpbE07WXV/iwBvxvRuxbj4KNqE\n",
              "+JkXsJ5RYRURERGpBYZhkHQknyWJ6XyxI4vSCjsA7m4W/tAplPHxUVzesQUe7m4mJ61/VFhFRERE\n",
              "LkJOURkrtmSwNCmdQ7nFVfe3DfFjXEIUo3tFEhrgY2LC+k+FVURERKSGbHYHP+zLZUlSOv/Zm4P9\n",
              "9AyqJp7uXNO9JeMToohv3UwTqGqJCquIiIjIeTp8vJilSeks33yUnCJr1f09opoyPiGKa7u3JMDH\n",
              "08SEDZMKq4iIiMhvKCm38eXObJYmprMp9UTV/c39vBjdM5JxCVF0CAswMWHDp8IqIiIi8guGYbD9\n",
              "aAFLEtP5bHsmp6w2ANwsMKhDC8bHR3Fl5zC8PDSByhlUWEVEREROO1FczsqtGSxNTGffsaKq+6Oa\n",
              "N2Fc7yjGxLeiZVATExM2TiqsIiIi0qjZHQY/HTjO0sR0vt19jHK7AwAvDzeGx4YzPj6Kfm2DcXPT\n",
              "BCqzqLCKiIhIo5R+ooRlm4/yUVI6mQVlVffHRgYyPj6K6+MiCfLVBCpXoMIqIiIijUZZhZ2vd2Wz\n",
              "LOko6w4ex6hcjYpAHw9uOD2BqmtEkLkh5Sw1Hin85Zdf0qtXL3r06EFsbCwLFiwAICcnh2HDhtG+\n",
              "fXtiY2NZs2ZN1XPq4jERERGR87Urs4C/fpJM3+e/48EPt/HTgcqyemm7YF65qQebnriKp0bGqqy6\n",
              "qBqdYTUMgwkTJvDDDz/QvXt3UlNT6dSpE6NHj+bxxx+nX79+rFq1isTERG644QYOHz6Mp6dnnTwm\n",
              "IiIi8lsKSiv4dFsGS5LSSc4orLq/ZZAPY3u3Ymx8FFHNfU1MKOerxkMCLBYLJ0+eBKCwsJDg4GC8\n",
              "vb1ZunQpBw4cACAhIYGIiAh+/PFHrrrqqjp5TEREROSXHA6DjYfzWJqYzlfJ2VhtlROoPN0tDOkS\n",
              "xrj4KAa2b4G7JlDVKzUqrBaLhSVLljB69Gj8/PzIz89nxYoVFBUVUVFRQXh4eNW2MTExpKWlkZeX\n",
              "V+uPnYvVasVqtVa7z26312T3REREpB5bseUoL69OIe1ESdV9HcL8GRcfxQ09Iwn29zYxnVyMGhVW\n",
              "m83Gs88+y4oVKxg0aBCJiYlcf/31bNu2rY7inb9Zs2bx1FNPVbuvX79+JqURERERZ/p8RyYzlm4H\n",
              "wN/bg+viIhifEEVcqyAsFp1Nre9qNOlq27ZtZGZmMmjQIKDyY/pWrVqxY8cOPDw8yM7Orto2NTWV\n",
              "6OhogoODa/2xc5k5cyYFBQXVbn369KnJ7omIiEg9tPnIiaqyemvfaDY9cSWzRnejR1RTldUGokaF\n",
              "NSoqiqysLPbs2QPAgQMHOHjwIB07dmTs2LHMnTsXgMTERDIyMhg8eDBAnTz2S97e3gQGBla7ubu7\n",
              "1+hgiIiISP1yJK+YaQs3U25zcFXnMJ4eGYuvl1btbGhq9DcaFhbGW2+9xbhx43Bzc8PhcPCvf/2L\n",
              "6OhoXnjhBSZOnEj79u3x8vJi0aJFVbP56+IxERERadzyi8uZMi+RE8XldIsM4p8399BkqgbKYhhn\n",
              "lsxteGbMmMGcOXPMjiEiIiK1zGqzM/HtTWxKPUFEkA8f33spoYE+ZseSOlLjCweIiIiImMkwDB77\n",
              "aAebUk/g7+3Bu1MSVFYbOBVWERERqVdeWp3Cx9sycXez8PqtvegUHmh2JKljKqwiIiJSb3y0+Sj/\n",
              "/C4FgOdGxTKoQwuTE4kzqLCKiIhIvbD+4HFmrtgBwN2XX8JNfc691KU0PCqsIiIi4vIO5BRx53ub\n",
              "qbAbXNu9JX+8uqPZkcSJVFhFRETEpeUWWZk8L5GiMhu9Wzdj9tg43LR8VaOiwioiIiIuq7Tczh0L\n",
              "kziaX0p0c1/emtgbH09dGKixUWEVERERl+RwGMxYuo3t6ScJauLJvCkJBPt7mx1LTKDCKiIiIi7p\n",
              "76v28lVyNl7ubrw1sTeXtPA3O5KYRIVVREREXM6ijUd4a80hAF4c052+bYNNTiRmUmEVERERl/L9\n",
              "vhz+8kkyADOGdGBUz0iTE4nZVFhFRETEZezOLOS+97fgMGBM71bc/4d2ZkcSF6DCKiIiIi4hu6CM\n",
              "qfMTKS63079tMM/f0A2LRctXiQqriIiIuIBTVhtT5yeSXVjGJS38mDuhN14eqilSSe8EERERMZXN\n",
              "7uD+xVvYnVVIiL8X86f0IcjX0+xY4kJUWEVERMQ0hmHw1Ge7+X5fLt4ebvz7tniimvuaHUtcjAqr\n",
              "iIiImOadnw7z3sYjWCzwyk096BndzOxI4oJUWEVERMQUq5Kzee7LPQD8eXhnhsW2NDmRuCoVVhER\n",
              "EXG6bekneWjJVgwDJvSL5o6BbcyOJC5MhVVEREScKv1ECXcsSKSswsHlHVvwt+u6avkq+U0qrCIi\n",
              "IuI0BaUVTJmfyPFT5XRuGci/bumFh7vqiPw2vUNERETEKcptDu5etJkDOacIC/Tm3cnx+Ht7mB1L\n",
              "6gEVVhEREalzhmHw55U7WX8wDz8vd96dnEDLoCZmx5J6QoVVRERE6ty//nOAjzYfxc0C/7qlF10j\n",
              "gsyOJPWICquIiIjUqU+2ZfCPb/cD8NTIWK7oFGpyIqlvVFhFRESkzmw6fII/LtsBwLSBbZjYr7XJ\n",
              "iaQ+UmEVERGROnEo9xTT30ui3O5gaNcwZg7vbHYkqadUWEVERKTWnSguZ+r8RE6WVBAX1ZSXx/fE\n",
              "zU1rrcqFUWEVERGRWlVWYWfawiRS80po1awJb98WTxMvd7NjST2mwioiIiK1xuEweHTZdjYfySfA\n",
              "x4N5kxNoEeBtdiyp51RYRUREpNbM/mYfn+/IwsPNwpsTetM+LMDsSNIAqLCKiIhIrViSmMbrPxwE\n",
              "4O83dmdAuxCTE0lDocIqIiIiF+2nlOM8sTIZgAf+0I4xvVuZnEgaEhVWERERuSj7sou4e9FmbA6D\n",
              "kT0ieHhIB7MjSQOjwioiIiIXLKewjKnzEymy2ugT05wXx3THYtHyVVK7VFhFRETkgpSU27h9QRIZ\n",
              "J0tpE+LHmxN74+2h5auk9qmwioiISI3ZHQYPfLCNnRkFNPfzYt7kBJr5eZkdSxooFVYRERGpsee+\n",
              "2MPqPcfw8nDj37f1JibEz+xI0oCpsIqIiEiNLFifyrvrDgPwj7Fx9G7d3ORE0tCpsIqIiMh5+27P\n",
              "MZ76bBcAfxzakeviIkxOJI2BCquIiIicl+SMAu5bvBWHAePjo7jn8kvMjiSNhAqriIiI/K7Mk6VM\n",
              "nZ9IaYWdge1DePaGWC1fJU6jwioiIiK/qaisgqnzE8kpstIxLIDXbu2Fp7sqhDiP3m0iIiLyqyrs\n",
              "Du55fwt7s4toEeDNu1MSCPTxNDuWNDIqrCIiInJOhmHwl0+SWZtynCae7rw7KYHIpk3MjiWNkAqr\n",
              "iIiInNObaw7xwaZ0LBb458096dYqyOxI0kipsIqIiMhZvtiRxd+/2gvAk9d0YUiXMJMTSWOmwioi\n",
              "IiLVbD6Sz8NLtwEweUAMUy9rY24gafRUWEVERKTKkbxipi1Motzm4KrOoTx5bRezI4mosIqIiEil\n",
              "kyXlTJmfyInicmIjA3nlpp64u2mtVTGfCquIiIhgtdmZ/t5mDuUWExHkw7uTEvDz9jA7lgigwioi\n",
              "ItLoGYbBzOU72XT4BP7eHrw7JYHQQB+zY4lUUWEVERFp5F5encKKrRm4u1l4/dZedAoPNDuSSDUq\n",
              "rOISisoqeGvNQXIKy8yOIiLSqCzffJRXvksB4NlRsQzq0MLkRCJnq3FhtVqt3HfffbRv355u3box\n",
              "YcIEAFJSUhgwYAAdOnQgISGBXbt2VT2nLh6ThuXFVft4/su9THtvMza7w+w4IiKNwoaDeTy+YgcA\n",
              "dw2+hJv7RJucSOTcalxYH3/8cSwWC/v372fnzp3Mnj0bgDvvvJPp06ezf/9+HnvsMSZPnlz1nLp4\n",
              "TBqOwrIKlm85CsD29JO8tfaQyYlERBq+AzlF3PleEhV2g2u6t+RPQzuaHUnkV1kMwzDOd+Pi4mJa\n",
              "tmzJ0aNHCQz87/iWnJwc2rVrx4kTJ/Dw8MAwDFq2bMlPP/1EYGBgrT/Wrl2788o7Y8YM5syZU/Oj\n",
              "Ik717k+Hefrz3fh7e3DKasPL3Y3P7r+MjuEBZkcTEWmQjp+ycsPr60g/UUqv6KYsntYPH093s2OJ\n",
              "/KoanWE9ePAgzZs35/nnnyc+Pp6BAwfy3XffkZ6eTsuWLfHwqFz+wmKxEB0dTVpaWp08di5Wq5XC\n",
              "wsJqN7vdfsEHRpzD4TB4b+MRAB4b1pGrOodSbnfw6LLtVGhogIhIrSursDNtYRLpJ0qJbu7Lv2+L\n",
              "V1kVl1ejwmqz2Thy5AhdunQhKSmJf/7zn4wfPx6bzVZX+c7brFmzCAoKqnbbtGmT2bHkd6xJyeXw\n",
              "8WICvD0Y3asVz9/QjaAmnuzMKGDuDwfNjici0qA4HAYPL9nG1rSTBDXxZN6UBIL9vc2OJfK7alRY\n",
              "o6OjcXNz49ZbbwWgZ8+etGnThiNHjpCVlVVVXA3DIC0tjejoaKKiomr9sXOZOXMmBQUF1W59+vS5\n",
              "sKMiTrNgfSoAY+Jb4eftQWigD0+P7ArAP/+Twu7MQhPTiYg0LC+s2stXydl4ult4c2JvLmnhb3Yk\n",
              "kfNSo8IaEhLClVdeyddffw3A4cOHOXz4MJdeeim9evVi0aJFACxfvpxWrVrRrl07QkNDa/2xc/H2\n",
              "9iYwMLDazd1dH3G4stTjxfywPxeA2/rHVN1/fVwEQ7uGUWE3eHTZdsptGhogInKx3v/5CG+uqZzU\n",
              "+uKY7vRrG2xyIpHzV6NJVwCHDh3i9ttv5/jx47i5ufGXv/yFG2+8kX379jF58mTy8vIIDAxk3rx5\n",
              "dOvWDaBOHjsfmnTl2p75fDfv/HSYwR1asGBq9bPhuUVWrn7pR/JLKnjwyvY8PKSDSSlFROq/H/bl\n",
              "cPuCJOwOg4ev6sCDV7U3O5JIjdS4sNYnKqyuq6TcRt/nv6OozMa8yQlc0Sn0rG0+35HJfYu34uFm\n",
              "4eN7LyU2MsiEpCIi9dvuzELGzl1PcbmdG3u1YvbY7lgsFrNjidSIrnQlpli5NYOiMhutg30Z/CtX\n",
              "Vbm2ewTXdGuJzVE5NMBq06oPIiI1kV1QxtT5iRSX2+nfNphZo7uprEq9pMIqTmcYRtVkq4n9WuPm\n",
              "9uvfPJ8e2ZVgPy/2Zhfx6ncHnJRQRKT+K7bauH1BItmFZVzSwo+5E3rj5aEf+1I/6Z0rTrfx0An2\n",
              "HztFE093xsZH/ea2wf7ePDsqFoA3fjzI9vSTTkgoIlK/2ewO7v9gK7syCwn282L+lD4E+XqaHUvk\n",
              "gqmwitOdObt6Q69Igpr8/jfQ4d1acl1cBPbTQwPKKjQ0QETk1xiGwdOf7+Y/e3Pw9nDj7UnxRDX3\n",
              "NTuWyEVRYRWnyjhZyje7swGY9D9LWf2ep6/vSoi/Nyk5p3h5dUodpRMRqf/e+ekwCzccwWKBl8f3\n",
              "oGd0M7MjiVw0FVZxqvc3HsFhQP+2wXQMDzjv5zXz8+L5GyqHBry15iBb0vLrKqKISL21Kjmb577c\n",
              "A8DM4Z0Y3q2lyYlEaocKqzhNWYWdDxPTAZg0oHWNn39113Bu6BmJw0BDA0REfmF7+kkeWrIVw4Bb\n",
              "+0YzbWBbsyOJ1BoVVnGaz3dkcaK4nIggH67qHHZBX+Ov13UhNMCbQ7nF/OObfbWcUESkfko/UcLt\n",
              "C5Ioq3BweccWPHV9Vy1fJQ2KCqs4xf8uZTWhf2s83C/srdfU14tZoyuvdvb2T4dJSj1RWxFFROql\n",
              "gtIKps5P5PgpK53CA/jXLb0u+HusiKvSO1qcYkvaSXZmFODl4cZNCdEX9bWu7BzGmN6tME4PDSgt\n",
              "19AAEWmcym0O7nl/Myk5pwgL9GbelAT8vT3MjiVS61RYxSkWbkgF4Pq4CJr7eV3013vy2i6EB/qQ\n",
              "mlfCi1/vveivJyJS3xiGwRMrd7LuQB6+Xu68MymBlkFNzI4lUidUWKXO5RSV8eXOLKBmS1n9lqAm\n",
              "nvz9xsqhAfPWpbLxUF6tfF0Rkfrite8PsGzzUdws8NotvYiNDDI7kkidUWGVOrf45zQq7Aa9opvS\n",
              "rVXtfUO9vGMoNyVUXinrTx/toNhqq7WvLSLiyj7ZlsHsb/YD8NT1XbmiU6jJiUTqlgqr1Klym4P3\n",
              "f04DYNKAmFr/+k9c05mIIB/STpTwwioNDRCRhi8x9QR/XLYDgDsua8PEWvrkSsSVqbBKnVq1K5vc\n",
              "IistArwZHlv7C1gH+Hjy4pg4ABZuOML6g8dr/TVERFzF4ePFTFuYRLndwdCuYfx5RGezI4k4hQqr\n",
              "1KmFp5eyuqVPNF4edfN2u6x9CLf2rVx54E8f7eCUhgaISAN0oricKfM2cbKkgrhWQbw8vidublpr\n",
              "VRoHFVapM8kZBSQdycfDzVJVKOvKzBGdadWsCUfzS5l1+rKEIiINRVmFnekLk0jNKyGyaRPenpRA\n",
              "Ey93s2OJOI0Kq9SZMxcKGN6tJaGBPnX6Wv7eHrw4pjsA7/+cxtqU3Dp9PRERZ3E4DP740Q6SjuQT\n",
              "4OPB/CkJtAjwNjuWiFOpsEqdyC8u55PtmQBMHtDaKa854JIQJvWvfK3HPtpBUVmFU15XRKQuzfl2\n",
              "P59tz8TDzcLcCb1pHxZgdiQRp1NhlTrxYWI65TYHXSMC6RXdzGmv+9jwTkQ39yWzoIznvtDQABGp\n",
              "35YmpvOv7w8AMGt0Ny5tF2JyIhFzqLBKrbM7DBZtPAJULmVlsThvUoCvlwezx8ZhsVSW5h/25Tjt\n",
              "tUVEatNPKcf588qdANz/h3aMjY8yOZGIeVRYpdat3nOMjJOlNPP15Pq4CKe/fp82zZkyoA0Ajy/f\n",
              "SUGphgaISP2y/1gRdy/ajM1hMLJHBDOGdDA7koipVFil1p2ZbDU+IRofT3Nmsf5xaEfahPiRXVjG\n",
              "M5/vNiWDiMiFyCkqY8q8RIqsNhJimvHimO5O/aRKxBWpsEqtSjlWxPqDebhZYEK/ul3K6rc08XJn\n",
              "9tjuWCzw0eajfLfnmGlZRETOV0m5jTsWJJFxspQ2IX68NTEebw8tXyWiwiq1asGGVACu6hxGq2a+\n",
              "pmbp3bo50wa2BWDmip2cLCk3NY+IyK8xDIOj+SU8+OE2dhwtoJmvJ/MmJ9DMz8vsaCIuwcPsANJw\n",
              "FJZVsGJLBgCTB8SYG+a0GUM68N2eYxzMLeapz3bz0vgeZkcSkUbO4TA4nFdMckYBuzMLSc4sYFdm\n",
              "ISdLKsfbe3m48e/b4okJ8TM5qYjrUGGVWvNR0lFKyu20D/Wn/yXBZscBwMfTndlj47jxjfWs3JrB\n",
              "sNhwhnYNNzuWiDQS5TYHKTlF7MosZFdGZTHdnVVISbn9rG093Cx0CAvg0aEdiI9pbkJaEdelwiq1\n",
              "wuEwWHh6OMBtTl7K6vf0jG7G9EGXMPfHgzyxcicJMc1pro/ZRKSWlZTb2JNVxO7MApIzCtmVVcD+\n",
              "7FOU2x1nbevj6UbnloF0jQgkNiKIrhFBdAj313hVkV+hwiq1Yk1KLql5JQT4eDC6Z6TZcc7y0FXt\n",
              "+W7PMVJyTvHXT3fx6s09zY4kIvVYQUkFu7IK2JVRyK7MApIzCzmUewqHcfa2AT4ep0tpILGRlb+2\n",
              "beGPu5vr/MdexNWpsEqtOLOU1djeUfh5u97b6szQgNFvrOez7ZkMjw1nRLeWZscSkXogp7Cs8iP9\n",
              "/zlzmn6i9Jzbhvh7ExsZWK2gtmrWxKU+dRKpj1yvWUi9k3q8mB/25wIwsX9rk9P8urioptw9+BL+\n",
              "9f0B/u/jZPq0aU6Iv7fZsUTERVTO1C8l+fRY0zOToXKLrOfcvlWzJmedOQ0N9HFyapHGQYVVLtp7\n",
              "G49gGHB5xxa0cfFZrfdf2Y7Ve46xN7uIJz9O5vVbe+nMh0gjZHcYHMo9VVlMTxfUXZkFFJbZztrW\n",
              "zQJtW/gTGxFI14ggukYG0rVlEEG+niYkF2mcVFjlohRbbSxNSgdgUv8Yc8OcB2+PyqEBo15bx1fJ\n",
              "2Xy+I4vrTLh8rIg4j9VmZ3/2qdNjTSvL6d6sIkorzp6p7+luoWN4AF1bBhEbGUiXiCA6twzA10s/\n",
              "LkXMpH+BclFWbs2gqMxGTLAvgzu0MDvOeYmNDOLeK9rxyncpPPlJMn3bNic0QB/jiTQExVYbe7IK\n",
              "/+dj/UJSjhVhO8dsKF8vd7qcnql/5sxp+9AAvDx0TR0RV6PCKhfMMP67lNXE/jG41aMZr/de0Y5v\n",
              "dx9jd1YhT6xM5q2JvTU0QKSeyS8u/+9kqNO/Hj5ejHGOmfpNfT2rlpDqcnrMaUywn2bqi9QTKqxy\n",
              "wTYcymP/sVM08XRnTO9WZsepES8PN2aPjWPkaz/x7e5jfLItk1EuuByXiFT+5/hYobXaZKjdmYVk\n",
              "nDz3TP2wQO+qyVBdT0+Gimyqmfoi9ZkKq1ywheuPADC6VyRBTerf5IMuEYE88If2/OPb/fz10130\n",
              "vySYMM3wFTGVw2GQdqKk2iz9XRkF5BWXn3P71sG+//1I//SvLQK0+odIQ6PCKhck42Qp3+zOBmDS\n",
              "gBhzw1yEuy6/hG92H2NnRgF/XrGTtyfF6yyMiJPY7A4O5J5iV8Z/y+mezEKKrOeeqd8+NKDaWdMu\n",
              "EYEE+tS//yyLSM2psMoFWbTxCA4D+rcNpkNYgNlxLpine+XQgOte/Ynv9uawfEtGvRveIFIflFXY\n",
              "2ZddVO2s6d7sIqy2sy9b6uXhRqfwgKqzprGRQXQKD8DHU5ctFWmsVFilxsoq7Hy4KQ2o32dXz+gY\n",
              "HsBDQ9rz4qp9PPXZLi5tF0zLoCZmxxKpt4rKKtidWVhtvGlKzins55ip7+/tUTlTP/K/H+u3C/XH\n",
              "010z9UXkv1RYpcY+255JfkkFEUE+XNU51Ow4tWL6wLZ8vesY29NP8vjyncyfkqChASLn4fgpa9VM\n",
              "/V0Zlb+m5pWcc9vmfl5V40xjTxfU1s1969UKIyJiDhVWqRHDMFhweimrCf1b49FAzoJ4uLvxj7Hd\n",
              "GfHPn/hxfy5Lk9IZnxBtdiwRl2EYBpkFZezKqFxCandmAckZhWQXlp1z+4ggH7r8TzGNjQwkPNBH\n",
              "/xEUkQuiwio1siXtJMkZhXh5uHFTAyt07UIDePTqDjz/5V6e+XwPl7VvQWRTDQ2QxsfhMEjNK65a\n",
              "2/TMmdP8kopzbt82xI8u/zNTPzYyiOZ+Xk5OLSINmQqr1MiC9akAXB8X0SB/IN1+WVtWJWezJe0k\n",
              "jy/fwcKpfXRGSBq0CruDlGOnqsaaJmcUsCerkOLysy9b6uFmoV2oP7GR/y2mnVsG4u+tHyUiUrf0\n",
              "XUbOW05hGV/uzAJgcgOYbHUu7m4WZo+NY/gra1mbcpwPNqVzS9+GdSZZGq/Scjt7sgurZunvyixk\n",
              "X3YR5fazZ+r7eLrRKTyw6iP9rhGBdAjTTH0RMYcKq5y3xZvSsDkMerduRmxkkNlx6kzbFv78aVgn\n",
              "nvl8N899sZuB7UOIau5rdiyRGikorWDX6bOmu06fOT2Ye4pzTNQnwMfjrMlQbUP8GswYdRGp/1RY\n",
              "5byU2xy8/3PlUla39W9tcpq6N2VADF8nZ7Mp9QSPLd/Botv7aiazuKycorJqZ02TMwtIP3Huy5aG\n",
              "+Huf/jj/dEGNCCKquS5bKiKuTYVVzsuqXdnkFllpEeDN8NiWZsepc25uFl4c053hr6xl/cE83v/5\n",
              "CBP7x5gdSxo5wzA4ml9aORHq9FnTXZmF5BRZz7l9q2ZNKstpRBBdIyt/DdXlh0WkHlJhlfNyZrLV\n",
              "LX2i8fJoHB8TxoT48fjwTvz10108/+VeBncIJTpYQwPEOewOg8PHT5F8eoZ+ckYhu7MKKSg9e6a+\n",
              "xVI5U79qMlREEF0iAmnq2/AmRopI46TCKr8rOaOAzUfy8XCzcGsjm4A0sV9rvkrOYuOhEzz60XY+\n",
              "nNZPQwOk1lltdlKOnaoqprsyC9iTVURpxdkz9T3dLXQIC6g6a9o1IpBO4YH4aaa+iDRg+g4nv+vM\n",
              "2dUR3Vo2uo8T3dws/L8xcQx9eQ2bDp9gwYZUplzaxuxYUo+VlNvYk1VY7cxpSk4RFfazZ0M18XQ/\n",
              "vb7pf8+adggLaDSfcoiInKHCKr/pRHE5n2zPBGDSgIY/2epcopr7MnNEZ578OJkXVu3l8o6htAnx\n",
              "MzuW1AMnS8qrjTXdlVnAoePFGOeYqR/UxLNqbdMzM/bbhPjhrjP6IiIqrPLbliSmU25zEBsZSK/o\n",
              "ZmbHMc2tfaJZlZzFugN5/HHZdpbc2V9FQqoYhkFOkbWqmJ75NePkuWfqhwV6n56hH1h1+dLIppqp\n",
              "LyLyay64sM6bN4+pU6eycuVKRo0aRU5ODrfddhsHDx7E29ub119/nUGDBgHUyWNS92x2B4s2HgHg\n",
              "tv4xjfqHqZubhRdu7M7Ql9aQdCSfeesOc8fAtmbHEhMYhkHaiZKzzpweP1V+zu2jm/tWW3y/a0QQ\n",
              "LQK8nZxaRKR+u6DCmpqayr///W/69etXdd/jjz9Ov379WLVqFYmJidxwww0cPnwYT0/POnlM6t7q\n",
              "PTlknCylma8n18dFmB3HdK2a+fJ/13Zh5oqd/L+v93F5x1DahfqbHUvqkM3u4GBucbXJULszCymy\n",
              "2s7a1s1C5WVLT4817Xr616Am+n4lInKxalxYHQ4Hd9xxB6+++iqPPPJI1f1Lly7lwIEDACQkJBAR\n",
              "EcGPP/7IVVddVSePSd1buCEVgJv6ROtyjKfdlBDFlzuzWJtynEeXbWf53QM0NKCBMAyD3VmFbE8v\n",
              "qCyomYXszSrEajv7sqVe7m50ahlQdcb0zEz9Jl76dyIiUhdqXFjnzJnDpZdeSu/evavuy8vLo6Ki\n",
              "gvDw8Kr7YmJiSEtLq5PHzsVqtWK1Vl88224/e0kYOT/7jxWx/mAebhYa3VJWv8Vi+e/QgG3pJ/n3\n",
              "2kPcNfgSs2PJRcotsvLEyp18s/vYWY/5eblXnTE9MymqXag/nrpsqYiI09SosCYnJ7N8+XLWrFlT\n",
              "V3ku2KxZs3jqqaeq3fe/QxakZs6cXR3SJYxWzbRY/v+KaNqEJ6/rwp8+2sGcb/ZzZadQ2ocFmB1L\n",
              "LtCXO7P4v4+TOVFcjqe7hX5tg6uV09bNfbX2roiIyWp0imDt2rWkpqbSvn17YmJi2LhxI9OnT2fp\n",
              "0qV4eHiQnZ1dtW1qairR0dEEBwfX+mPnMnPmTAoKCqrd+vTpU5Pdk9MKyypYsSUDgEkDYswN46LG\n",
              "9m7FFR1bUG538Miy7djsZ39sLK4tv7ic+z/Yyj3vb+FEcTmdwgP45N7LeO/2vjw+vBPXxUXQJsRP\n",
              "ZVVExAXUqLDefffdZGVlkZqaSmpqKv369eOtt97i7rvvZuzYscydOxeAxMREMjIyGDx4MECdPPZL\n",
              "3t7eBAYGVru5u2s82YVYlnSUknI7HcL86d822Ow4LslisTBrdHcCfTzYcbSAN9ccMjuS1MB3e45x\n",
              "9ctr+Gx7Ju5uFu7/Qzs+ve8yukQEmh1NRETOodbWYX3hhReYOHEi7du3x8vLi0WLFlXN5q+Lx6Ru\n",
              "OBwG750eDtDYl7L6PeFBPvzt+q7MWLqdl1fv58rOoXQKV+FxZYVlFTz92W4+2nwUqJzV/4+xccRF\n",
              "NTU3mIiI/CaLYZzrmisNw4wZM5gzZ47ZMeqV7/flMGVeIgE+HmyceaWuT/47DMNg2sLNrN5zjK4R\n",
              "gXx876WajOOi1qbk8thHO8gsKMNigWkD2zJjSAetgCEiUg/oJ6tUs3B9KgBje0eprJ4Hi8XC86Nj\n",
              "aerrya7MQl7//qDZkeQXiq02/u/jnUx8ZxOZBWW0DvZl6Z39+fOIziqrIiL1hAqrVEk9XswP+3MB\n",
              "uK1/a5PT1B+hAT48dX1XAF79Twq7MgtMTiRn/Hwoj+GvrGXRxsrl8Cb1b81XDw4kIaa5yclERKQm\n",
              "VFilysINRzAMuLxjC2JC/MyOU69cHxfBsK7h2BwGjyzdTvk5FpsX5ymrsPPM57u56d8bSTtRQmTT\n",
              "Jrx/R1+eGhmLr5c+ORARqW9UWAWo/Nh02eZ0QEtZXQiLxcKzN8TS3M+LvdlF/Os/KWZHarS2puUz\n",
              "4p9reeenwxgGjI+PYtVDA7m0XYjZ0URE5AKpsAoAK7dmUFRmIybYl8HtW5gdp14K8ffmmZGxALz2\n",
              "w0F2HtXQAGey2uy8uGovN76xnkO5xYQGeDNvcgIvjOlOgI9WFxERqc9UWAXDMKqubDWxf4wWSr8I\n",
              "13RvyTXdW2J3GDyybBtWmy4P7AzJGQWM/Nc6Xv/hIA4DRvWI4JuHB3FFp1Czo4mISC1QYRU2HMpj\n",
              "/7FT+Hq5M6Z3K7Pj1HvPjIwlxN+L/cdO8cpqDQ2oSxV2B6+sTmHUa+vYm11EsJ8Xcyf05uWbetLU\n",
              "18vseCIiUktUWIUFp5eyuqFnJEFN9NHpxWru58Wzo7oBMPfHg2xLP2luoAZq/7EiRr++npdW78fm\n",
              "MBgeG843Dw9iWGy42dFERKSWqbA2chknS/l29zFAk61q07DYcEb2iMBhwCNLt1FWoaEBtcXuMJj7\n",
              "40Gu/edP7MwoIKiJJ6/c1IPXb+1FsL+32fFERKQOqLA2cos2HsFhwIBLgukQFmB2nAblb9d1pUWA\n",
              "Nwdzi3np2/1mx2kQDuWeYuzc9fz9q72U2x38oVMo3zw8iJE9InUZYRGRBkyFtRErq7Dz4abKBdVv\n",
              "6x9jbpgGqJmfF8/fUDk04K21h9h85ITJieovh8Ng3rrDjPjnWrakncTf24MXx3TnnUnxhAX6mB1P\n",
              "RETqmAprI/bZ9kzySyqIbNqEqzprNnVdGNIljNG9IjEM+OOyHRoacAHST5Rwy9sbeeqz3ZRVOLis\n",
              "XQhfPzyIcfFROqsqItJIqLA2UoZhsOD0Ula39ovGw11vhbry12u7EhbozaHjxcz+ep/ZceoNwzBY\n",
              "/HMaw15ew8ZDJ2ji6c4zo2J57/Y+RDZtYnY8ERFxIrWURmpLWj7JGYV4ebhxU0K02XEatCBfT2aN\n",
              "rhwa8M66wySmamjA78kqKGXSvET+vHInxeV2+sQ0Z9VDA5nYr7XOqoqINEIqrI3UgvVHABgZF0Fz\n",
              "P61XWdf+0CmMsb1bnR4asJ2ScpvZkVySYRgs33yUq19aw5r9uXh5uPF/13Tmg+n9aB3sZ3Y8EREx\n",
              "iQprI5RTWMaXO7MALWXlTP93bRdaBvmQmlfCi6s0NOCXcousTH9vM48s205RmY24qKZ8+cBA7hjY\n",
              "FnddfU1EpFFTYW2EFm9Kw+Yw6N26GbGRQWbHaTSCmnjy9xu7AzB/fSobD+WZnMh1fLEji6tf+pFv\n",
              "dx/D093CH4d2ZPld/WkX6m92NBERcQEqrI1Muc3B+z9XLmWls6vON7hDC27uEwXAHz/aTrG1cQ8N\n",
              "yC8u577FW7h38RbySyro0jKQT++7jHuvaKeJgCIiUkU/ERqZr5KzyC2y0iLAm2FddQlLM/x5RGci\n",
              "mzYh/UQpf/9qr9lxTPPt7mMMeWkNn+/Iwt3NwgN/aMfH915K55aBZkcTEREXo8LayCzcUDnZ6ta+\n",
              "0Xh56K/fDAE+nrxwemjAexuPsO7AcZMTOVdBaQWPLN3OtIVJHD9lpV2oPyvvGcCMqzvqPSkiIuek\n",
              "nw6NSHJGAZuP5OPhZuGWPlrKykyXtQ9hQr/Kv4M/fbSDorIKkxM5x5r9uQx7eQ3LtxzFYoE7B7Xl\n",
              "8/svo3urpmZHExERF6bC2ogsWJ8KwIhuLQnV5SxNN3N4Z1o1a0LGyVKe/7JhDw04ZbXx55U7ue3d\n",
              "TWQVlBET7MuyO/szc0RnfDzdzY4nIiIuToW1kThRXM4n2zMBTbZyFX7eHvy/MXEAfLApjTX7c01O\n",
              "VDc2Hspj+CtrWHx6st/kATF8+eBA4mOam5xMRETqCxXWRuLDxDTKbQ5iIwPpFd3U7DhyWv9Lgpl8\n",
              "+j8Qjy3fQWEDGhpQWm7nqc92cdNbG0k/UUpk0yYsvqMvf7u+K75eHmbHExGRekSFtRGw2R28v/H0\n",
              "Ulb9Y3RpSxfzp2EdaR3sS1ZBGc9+vtvsOLViS1o+1/xzLfPWpQJwc58oVj00kAHtQswNJiIi9ZIK\n",
              "ayOwek8OGSdLaebryXVxEWbHkV/w9aocGmCxwNKko3y/N8fsSBfMarPz96/2MuaN9Rw6XkxYoDfz\n",
              "piQwa3R3Anw8zY4nIiL1lAprI3BmstVNfaI1wcVF9WnTnKmXtgHg8RU7KCipf0MDkjMKuP7Vdcz9\n",
              "8SAOA0b3jOSbhwZzRcdQs6OJiEg9p8LawO0/VsSGQ3m4WWBCv9Zmx5Hf8OjVHWkb4sexQitPfb7L\n",
              "7DjnrcLu4OXV+xn12jr2HSsixN+LNyf2Zs74HgT56qyqiIhcPBXWBu7M2dUhXcKIbNrE3DDym5p4\n",
              "ufP/xsbhZoEVWzL4dvcxsyP9rn3ZRdzw+jpeXp2CzWEwols4Xz80iKG6ipqIiNQiFdYGrKC0ghVb\n",
              "MgAtZVVf9G7djGkD2wLw55U7yS8uNznRudkdBm/8cJDrXv2J5IxCmvp68s+be/LaLb0I9vc2O56I\n",
              "iDQwKqwN2Eebj1JaYadDmD/92wabHUfO08NDOnBJCz9yi6z87TPXGxpwKPcUY+au54VVeym3O7iy\n",
              "UyjfPDSI6+MitAKFiIjUCRXWBsrhMHhvQyoAt2kpq3rFx9Odf4zrgZsFPtmWyarkLLMjAZXvqXd/\n",
              "OszwV9ayNe0kAd4e/L8x3Xl7UryunCYiInVKhbWB+jEll9S8EgJ8PLihZ6TZcaSGekQ15a7BlwDw\n",
              "xMpk8k5ZTc2TfqKEm/+9kac/343V5mBg+xC+fngQY+Oj9J8hERGpcyqsDdSZyVbj4qPw89ZVheqj\n",
              "B69qT4cwf/KKy/nLp+YMDTAMg/d/PsLQl9fw8+ET+Hq58+yoWBZO7UOEJvGJiIiTqLA2QIePF/PD\n",
              "vlwsFpiopazqLW8Pd/4xtgfubha+2JHF5zsynfr6mSdLue3dTTyxMpmScjt92jRn1YODmNCvtc6q\n",
              "ioiIU6mwNkDvbTgCwOUdWhAT4mdyGrkY3VoFcc/llUMDnvw4mdyiuh8aYBgGH20+ytCX17A25Tje\n",
              "Hm48eW0XPpzWj+hg3zp/fRERkV9SYW1giq02liWlA3CblrJqEO7/Q3s6hQeQX1LB/328E8Mw6uy1\n",
              "corKmLYwiUeXbaeozEaPqKZ8+eBAbr+sDW5uOqsqIiLmUGFtYFZuzaDIaqNNiB+D27cwO47UAi8P\n",
              "N2aPjcPDzcLXu47x6fa6GRrw2fZMrn5pDav35ODpbuFPwzry0V39uaSFf528noiIyPlSYW1ADMNg\n",
              "4emlrCb2a60zYg1IbGQQ9/2hHQB/+WQXOYVltfa1TxSXc+/iLdz/wVZOllTQNSKQz+6/jHsub4eH\n",
              "u75FiIiI+fTTqAHZcDCP/cdO4evlzpj4VmbHkVp27xXt6NIykILSCv68snaGBnyzK5urX/qRL3Zk\n",
              "4e5m4cEr2/PxvZfSKTywFhKLiIjUDhXWBmTB6bOro3tFEujjaW4YqXWe7m78Y1wcnu4WVu/JYeXW\n",
              "jAv+WgWlFcxYuo3p723m+KlyOoT58/E9l/LwkA546qyqiIi4GP1kaiCO5pfw7e5jQOWVraRh6twy\n",
              "kAevbA/A3z7dxbELGBrw4/5chr60hhVbMnCzwJ2D2/LpfZfRrVVQbccVERGpFSqsDcT7P6fhMGDA\n",
              "JcF0CAswO47UobsGX0K3yCAKy2zMXHH+QwNOWSu3n/TuJrILy4gJ9mXZXf2ZObwzPp7udZxaRETk\n",
              "wqmwNgBlFXY+3JQGwCQtZdXgeZweGuDl7sZ/9ubw0eajv/ucDQfzGPbyGj44/T6ZPCCGrx4cRO/W\n",
              "zes6roiIyEVTYW0APt2eSX5JBZFNm3Blp1Cz44gTdAgL4OEhHQB4+rPdZBWUnnO70nI7f/t0Fzf/\n",
              "eyNH80uJbNqExdP68rfru9LES2dVRUSkflBhrecMw2DB+lQAJvRrrWWIGpFpA9vQI6opRVYbjy0/\n",
              "e2jA5iMnGPHPtcw//f64uU8UXz88iAGXhJiQVkRE5MKp3dRzW9Ly2ZVZiLeHGzclRJkdR5zIw73y\n",
              "ggJeHm6s2Z/LksTKK5yVVdiZ9dUexs7dwOHjxYQH+jB/SgKzRnfH39vD5NQiIiI1p59e9dz89UcA\n",
              "uD4ugmZ+XianEWdrF+rPH6/uyHNf7uHZL/bQzM+Lf3yzj/3HTgEwumckf72uK0G+WuZMRETqLxXW\n",
              "eiynsIyvdmYBmmzVmE29rA2rdmWz+Ug+d763GYAQfy+ev6EbV3cNNzmdiIjIxdOQgHrs/Z/TsDkM\n",
              "erduRmyk1tBsrNzdLMweG4ePZ+U/52u6teSbhwerrIqISIOhM6z1VLnNwWItZSWntQnx45N7L+Nk\n",
              "STl92wabHUdERKRWqbDWU18lZ5FbZCU0wJthOpMmQMdwXTBCREQaJg0JqKfOLGV1S99ovDz01ygi\n",
              "IiINV42aTllZGaNGjaJDhw7ExcUxZMgQDhw4AEBOTg7Dhg2jffv2xMbGsmbNmqrn1cVjjdnOowVs\n",
              "STuJp7uFW/pGmx1HREREpE7V+NTc9OnT2bdvH9u3b2fkyJHccccdADz++OP069ePlJQU5s2bxy23\n",
              "3EJFRUWdPdaYLdiQCsCIbi0JDfAxN4yIiIhIHatRYfXx8WHEiBFYLBYA+vXrR2pqKgBLly7lrrvu\n",
              "AiAhIYGIiAh+/PHHOnussco7ZeXT7ZkA3NY/xtwwIiIiIk5wUZOuXnnlFUaOHEleXh4VFRWEh/93\n",
              "8k9MTAxpaWl18ti5WK1WrFZrtfvsdvvF7J5LWpKUTrnNQbfIIHpFNzU7joiIiEidu+DZOs8//zwH\n",
              "Dhxg1qxZtZnngs2aNYugoKBqt02bNpkdq1bZ7A4Wbai8stVt/VtXnekWERERacguqLDOnj2bFStW\n",
              "8NVXX+Hr60twcDAeHh5kZ2dXbZOamkp0dHSdPHYuM2fOpKCgoNqtT58+F7J7Lmv1nhwyC8po7ufF\n",
              "dXERZscRERERcYoaF9Y5c+bwwQcf8O2339K0adOq+8eOHcvcuXMBSExMJCMjg8GDB9fZY7/k7e1N\n",
              "YGBgtZu7u3tNd8+lnVnK6qaEKHw8G9a+iYiIiPyaGo1hPXr0KI888ght27bliiuuACqL4s8//8wL\n",
              "L7zAxIkTad++PV5eXixatAhPT0+AOnmssdmXXcSGQ3m4WeDWfq3NjiMiIiLiNBbDMAyzQ9SVGTNm\n",
              "MGfOHLNj1IonVu7k/Z/TGNY1nLkTe5sdR0RERMRpdImkeqCgtIIVWzIAmDQgxtwwIiIiIk6mwloP\n",
              "fLT5KKUVdjqGBdCvbXOz44iIiIg4lQqri3M4DN47fWWr2wZoKSsRERFpfFRYXdyP+3NJzSshwMeD\n",
              "UT0izY4jIiIi4nQqrC5uwemzq+Pio/DzvqgLk4mIiIjUSyqsLuzw8WJ+2JeLxQITtZSViIiINFIq\n",
              "rC5s4emzq5d3aEFMiJ+5YURERERMosLqooqtNj5KOgpoKSsRERFp3FRYXdSKrRkUWW20CfFjUPsW\n",
              "ZscRERERMY0KqwsyDIOF61OByrGrbm5aykpEREQaLxVWF7ThYB4pOafw9XJnTHwrs+OIiIiImEqF\n",
              "1QXNP312dXSvSAJ9PM0NIyIiImIyFVYXczS/hNV7jgEwqX+MuWFEREREXIAKq4tZtDENhwGXtgum\n",
              "fViA2XFERERETKfC6kLKKux8mJgGwG06uyoiIiICqLC6lE+3Z3KypILIpk24qnOY2XFEREREXIIK\n",
              "q4swDIMFpydbTejXGnctZSUiIiICqLC6jC1p+ezKLMTbw42bEqLMjiMiIiLiMlRYXcT89UcAGNkj\n",
              "gmZ+XianEREREXEdKqwu4FhhGV/tzAI02UpERETkl1RYXcDin9OwOQziWzcjNjLI7DgiIiIiLkWF\n",
              "1WTlNgeLN1UuZTVpQIy5YURERERckAqryb5KziK3yEpogDfDYsPNjiMiIiLiclRYTXZmKatb+7bG\n",
              "011/HSIiIiK/pIZkop1HC9iSdhJPdws399VSViIiIiLnosJqogUbUgEY0a0loQE+5oYRERERcVEq\n",
              "rCbJO2Xl0+2ZgCZbiYiIiPwWFVaTfJiYTrnNQbfIIHpGNTU7joiIiIjLUmE1gc3u4P2NlVe2mjQg\n",
              "BovFYnIiEREREdelwmqC1XuOkVlQRnM/L67t3tLsOCIiIiIuTYXVBAvWV55dvSkhCh9Pd5PTiIiI\n",
              "iLg2FVYn25ddxIZDebhZYEK/1mbHEREREXF5KqxOdmYpq6u7hBPRtIm5YURERETqARVWJyoorWDl\n",
              "lgxAS1mJiIiInC8VVidalpROaYWdjmEB9Gvb3Ow4IiIiIvWCCquTOBwG751eyuq2Aa21lJWIiIjI\n",
              "eVJhdZIf9+dyJK+EAB8PbugZaXYcERERkXpDhdVJ5q9PBWBcfBS+Xh7mhhERERGpR1RYneDw8WJ+\n",
              "3J+LxQK39ddSViIiIiI1ocLqBAtPL2V1RcdQWgf7mRtGREREpJ5RYa1jxVYbHyUdBXR2VURERORC\n",
              "qLDWsRVbMyiy2mgT4seg9i3MjiMiIiJS76iw1iHDMFh4erLVbf1b4+ampaxEREREakqFtQ5tOJhH\n",
              "Ss4pfL3cubF3K7PjiIiIiNRLKqx16MxSVjf2akWgj6e5YURERETqKRXWOnI0v4TVe44BmmwlIiIi\n",
              "cjFUWOvIoo1pOAy4tF0w7cMCzI4jIiIiUm+psNaBsgo7HyamATCpf4y5YURERETqORXWOvDptkxO\n",
              "llQQ2bQJV3YOMzuOiIiISL2mwlrLDMOommw1sX9r3LWUlYiIiMhFUWGtZZuP5LM7qxBvDzfGx0eZ\n",
              "HUdERESk3lNhrWULNhwBYGSPCJr5eZmcRkRERKT+U2GtRccKy/hqZxYAt2mylYiIiEitcPnCmpKS\n",
              "woABA+jQoQMJCQns2rXL7Ei/6v2f07A5DOJbNyM2MsjsOCIiIiINgssX1jvvvJPp06ezf/9+Hnvs\n",
              "MSZPnmx2pHMqtzlY/PPppawGxJgbRkRERKQBcenCmpOTQ1JSEhMmTADgxhtvJD09nQMHDpic7Gxf\n",
              "JWdx/JSV0ABvhsWGmx1HREREpMHwMDvAb0lPT6dly5Z4eFTGtFgsREdHk5aWRrt27apta7VasVqt\n",
              "1e6z2+1Oy3pmKatb+7bG092l/x8gIiIiUq80mGY1a9YsgoKCqt02bdrklNc+kFPE1rSTeLpbuLmv\n",
              "lrISERERqU0uXVijoqLIysrCZrMBlYvyp6WlER0dfda2M2fOpKCgoNqtT58+TsnZLjSALx64jGdG\n",
              "xhIa4OOU1xQRERFpLFy6sIaGhtKrVy8WLVoEwPLly2nVqtVZwwEAvL29CQwMrHZzd3d3WtauEUHc\n",
              "1OfsIi0iIiIiF8elx7ACvPnmm0yePJnnn3+ewMBA5s2bZ3YkEREREXEily+sHTt2ZMOGDWbHEBER\n",
              "ERGTuPSQABERERERFVYRERERcWkqrCIiIiLi0lRYRURERMSlqbCKiIiIiEtTYRURERERl6bCKiIi\n",
              "IiIuTYVVRERERFyaCquIiIiIuDSLYRiG2SHqyujRo4mJiXHKa9ntdjZt2kSfPn1wd3d3yms2NDqG\n",
              "F0fH7+LpGF4cHb+Lp2N4cXT8Lp4Zx7B169Y8+OCDv7lNgy6szlRYWEhQUBAFBQUEBgaaHade0jG8\n",
              "ODp+F0/H8OLo+F08HcOLo+N38Vz1GGpIgIiIiIi4NBVWEREREXFpKqwiIiIi4tJUWGuJt7c3f/3r\n",
              "X/H29jY7Sr2lY3hxdPwuno7hxdHxu3g6hhdHx+/iueox1KQrEREREXFpOsMqIiIiIi5NhVVERERE\n",
              "XJoKq4iIiIi4NBVWE7388stkZ2ebHUPqudTUVObOnfub28THx/PDDz84J1A9l5mZycCBA82O4VLK\n",
              "ysoYNWoUHTp0IC4ujiFDhnDgwAEALr/8ctq0aUOPHj3o0aMHL730UtXz7rzzTrp168Yf/vAHCgoK\n",
              "ADAMg+HDh3Pw4EFT9sUsMTExdOzYseo4LVmyBICUlBQGDBhAhw4dSEhIYNeuXQBUVFQwatQo4uLi\n",
              "GD16NDabDaj8uxg0aBD5+fmm7YsZ8vLyqo5djx496NChAx4eHpw4cULvwUZChdVEKqxSG86nsMr5\n",
              "i4iIYO3atWbHcDnTp09n3759bN++nZEjR3LHHXdUPfbSSy+xbds2tm3bxsMPPwxAcnIyKSkp7Ny5\n",
              "k8svv5z33nsPgLfffpsrrriCSy65xJT9MNOSJUuqjtP48eOBykI1ffp09u/fz2OPPcbkyZMB+Prr\n",
              "r2nevDnbt2+nadOmrFq1CoBnnnmG++67j2bNmpm1G6YIDg6uOnbbtm1j+vTpDB8+nObNmwN6DzYG\n",
              "KqznsGHDBi677DLi4uLo3r07n3zyCUlJSQwYMIDu3bvTp08f1q1bB1SWhaZNm1Y999SpU1gslqo/\n",
              "WywWnn/+efr06UObNm2YN28eAE8//TSZmZmMHz+eHj16sG3bNmfuYp2yWCw899xz9O3bl5iYGD7+\n",
              "+GNmzZpFfHw87du3r3am7+uvv+ayyy6jd+/e9OnTh++//x6A7OxsrrjiCnr37k3Xrl257777cDgc\n",
              "AMyfP5+rrrqKm2++mW7duhEfH8+hQ4fM2FWnKy0tZfz48XTp0oW4uDiuvvpq7rrrLvbt20ePHj24\n",
              "/vrrAVi/fj09evQgNjaWKVOmVJ2daczO9335y3/Tv/ZvuDHx8fFhxIgRVd/b+vXrR2pq6m8+x9PT\n",
              "E6vVisPhoLi4GC8vL7Kysvjggw+YMWOGE1K7vpycHJKSkpgwYQIAN954I+np6Rw4cABPT09KSkoA\n",
              "KCkpwcvLix07drB3717GjRtnZmyX8M4773D77bf/5jZ6D/7X+X7/s9lsDB06lPj4eLp27cott9xC\n",
              "cXExAO+//z7x8fFYrVYMw+C6667jueeec95OGFJNXl6eERoaaqxZs8YwDMOw2+3GsWPHjKioKGPV\n",
              "qlWGYRjG2rVrjbCwMKOoqMg4fPiwERQUVPX8oqIi438PK2DMnj3bMAzD2LNnj+Hv729UVFQYhmEY\n",
              "rVu3NrZu3eqcHXMiwHj55ZcNwzCM1atXG35+fsa8efMMwzCMpUuXGvHx8YZhGMbBgweNfv36GQUF\n",
              "BYZhGEZKSooRHh5ulJWVGaWlpUZRUZFhGIZhs9mMa665xvjggw8MwzCMefPmGYGBgcahQ4cMwzCM\n",
              "xx57zJg+fbozd9E0K1asMK6++uqqP+fl5Rnff/+9ERcXV3Wf1Wo1WrVqZXz77beGYRjG119/bQDG\n",
              "999/7+S0ruV835e//Df9W/+GG6sJEyYYDzzwgGEYhjF48GCjY8eORmxsrDFu3Djj4MGDVds98cQT\n",
              "RlxcnDFmzBijuLjYGD9+vJGUlGRWbFO1bt3a6NatmxEbG2tMnTrVyMnJMZKSkowOHTpU2y4hIcH4\n",
              "7rvvDLvdbtxxxx1G9+7djenTpxsVFRXGlVdeaaSnp5u0B65j3bp1RlhYWNW/Q70Hf9/5fv9zOBzG\n",
              "8ePHq35/1113GbNmzar6OtOnTzfuvfde48UXXzSGDRtmOBwO5+2D016pnvj888+NgQMHVrtvx44d\n",
              "RuvWravd1717d2Pt2rXnVVizsrKq/ty0adOqbzgNubCe2eeTJ08agFFaWmoYhmGkpqZWHa/XXnvN\n",
              "CAkJMeLi4qpuERERxv79+43i4mLjnnvuMbp3725069bNCAsLMx577DHDMCoL69ChQ6te7+OPPzau\n",
              "vPJK5+6kSQ4ePGhERUUZd999t/Hhhx8ahYWFZxXW7du3GzExMdWe17ZtWxXW83xfnquw/tq/4cbo\n",
              "ueeeM/r162cUFxcbhmEYaWlphmFU/nB79dVXjc6dO5/zeR9//LHx6KOPGsePHzcmT55sjB492vjw\n",
              "ww+dlttsR44cMQzDMMrLy40//elPxvDhw3+zsP7SSy+9ZLz66qvG4cOHjZtvvtkYPXr0ObdrDKZO\n",
              "nWr88Y9/rPqz3oO/73y//9ntduOJJ54wevToYcTGxhpRUVHG+PHjq75OaWmp0b17dyMqKsrIzc11\n",
              "6j5oSMAFOvPRmIeHB3a7ver+srKys7b18fGp+r27u3uj+Hj2zD67u7uf9ecz+28YBkOGDKk2Likj\n",
              "I4P27dszZ84ccnJy+Pnnn9mxYwe33HJLtWPbGI8pQNu2bdm9ezfDhg1j3bp1xMbGntfki/8dptKY\n",
              "nc/78reedz7bNmSzZ89mxYoVfPXVV/j6+gIQFRUFVL7H7rvvPg4dOkReXl615xUWFjJ79myeeuop\n",
              "Xn75ZQYPHsySJUt4+umnKS0tdfp+mCE6Ohqo/Jj6oYceYu3atURFRZGVlVXte2JaWlrVtmccOXKE\n",
              "L7/8knvuuYcnn3yS6dOnM3/+fO6//36n74fZTp06xdKlS5k6dWrVfXoPnp/z+f63ePFi/vOf//Dj\n",
              "jz+yc+dOHn300Wo/e3NycsjPz8fhcHDy5Emn5ldh/YUBAwaQkpJSNenC4XAQFhaGw+Hg22+/BSrH\n",
              "B2ZnZ9OjRw/Cw8MxDIPdu3cDsHDhwvN+rcDAwKpZi43R0KFDWb16NTt27Ki6b9OmTQDk5+cTHh6O\n",
              "j48P2dnZLFu2zKyYLuXo0aNYLBauv/56Zs+ejWEYBAcHV3sfderUCZvNVjUeePXq1ZoNKxdtzpw5\n",
              "fPDBB3z77bdVY3xtNhvHjh2r2mb58uWEhYURHBxc7bmPP/44f/nLX/D19aW4uBiLxYLFYqGiooLy\n",
              "8nJn7oYpiouLq/1w/+CDD+jZsyehoaH06tWLRYsWAZXHr1WrVrRr167a8x988EFeeukl3Nzcqo7f\n",
              "md83NkuWLCEuLo5OnToBeg/Wtvz8fEJCQggMDKSoqIj58+dXPWaz2bjpppt45plnmDNnDuPGjcNq\n",
              "tTotm4fTXqmeaNasGStXruSRRx6hqKgINzc3nnnmGVasWMEDDzzAI488go+PDx999BH+/v4AvPrq\n",
              "q1x77bUEBwczZsyY836tBx54gGnTpuHr68v8+fPp0aNHHe2Va2rXrh2LFy/mzjvvpKSkhPLycnr2\n",
              "7MnixYt58MEHGTNmDF27diUiIoKrrrrK7LguYefOncycORPDMLDZbEycOJEBAwbQtWtXYmNjadu2\n",
              "LZ9++ilLlizhnnvuwW63k5CQQFxcnNnRpR47evQojzzyCG3btuWKK64AKq83/p///IdrrrkGq9WK\n",
              "m5sbISEhfPrpp9Weu27dOkpLSxkyZAgA9957LzfffDMvvPACEydOJCgoyOn742zHjh3jxhtvxG63\n",
              "YxgGbdu2rTq58eabbzJ58mSef/55AgMDz5rUt3jxYuLi4ujatStQWbymTZtGeXk5Tz75pNP3xWzv\n",
              "vPMO06ZNq/qz1WrVe7AW3XbbbXzyySd07NiRFi1aMHDgQI4cOQJUvvc6duzIpEmTAPjxxx956KGH\n",
              "eOONN5ySzWIYhuGUVxIRERERuQAaEiAiIiIiLk2FVURERERcmgqriIiIiLg0FVYRERERcWkqrCIi\n",
              "IiLi0lRYRURERMSlqbCKiIiIiEtTYRURERERl6bCKiIiIiIuTYVVRERERFyaCquIiIiIuLT/D3PM\n",
              "RvpTPZvZAAAAAElFTkSuQmCC\n",
              "\">\n",
              "      </div>\n",
              "      <script type=\"text/javascript\">\n",
              "        (() => {\n",
              "          const chartElement = document.getElementById(\"chart-4bfdc39a-929a-435d-80aa-c604b86df6f1\");\n",
              "          async function getCodeForChartHandler(event) {\n",
              "            const chartCodeResponse =  await google.colab.kernel.invokeFunction(\n",
              "                'getCodeForChart', [\"chart-4bfdc39a-929a-435d-80aa-c604b86df6f1\"], {});\n",
              "            const responseJson = chartCodeResponse.data['application/json'];\n",
              "            await google.colab.notebook.addCell(responseJson.code, 'code');\n",
              "          }\n",
              "          chartElement.onclick = getCodeForChartHandler;\n",
              "        })();\n",
              "      </script>\n",
              "      <style>\n",
              "        .colab-quickchart-chart-with-code  {\n",
              "            display: block;\n",
              "            float: left;\n",
              "            border: 1px solid transparent;\n",
              "        }\n",
              "\n",
              "        .colab-quickchart-chart-with-code:hover {\n",
              "            cursor: pointer;\n",
              "            border: 1px solid #aaa;\n",
              "        }\n",
              "      </style>"
            ]
          },
          "metadata": {}
        }
      ]
    },
    {
      "cell_type": "markdown",
      "source": [
        "##Filtering"
      ],
      "metadata": {
        "id": "oyDUOlY2334B"
      }
    },
    {
      "cell_type": "code",
      "source": [
        "print(\"People with salary >50000:\")\n",
        "df[df['SALARY']>50000]"
      ],
      "metadata": {
        "colab": {
          "base_uri": "https://localhost:8080/",
          "height": 129
        },
        "id": "gbcI1EX_3YRx",
        "outputId": "9adc9cbd-739c-4db1-d032-89936cbb42f4"
      },
      "execution_count": null,
      "outputs": [
        {
          "output_type": "stream",
          "name": "stdout",
          "text": [
            "People with salary >50000:\n"
          ]
        },
        {
          "output_type": "execute_result",
          "data": {
            "text/plain": [
              "      NAME  AGE   DEPARTMENT  SALARY\n",
              "1    Sudee   30  Engineering   80000\n",
              "3  charlie   40  Engineering   90000"
            ],
            "text/html": [
              "\n",
              "  <div id=\"df-3a14b02c-4493-4d49-816c-b093d1cf1635\" class=\"colab-df-container\">\n",
              "    <div>\n",
              "<style scoped>\n",
              "    .dataframe tbody tr th:only-of-type {\n",
              "        vertical-align: middle;\n",
              "    }\n",
              "\n",
              "    .dataframe tbody tr th {\n",
              "        vertical-align: top;\n",
              "    }\n",
              "\n",
              "    .dataframe thead th {\n",
              "        text-align: right;\n",
              "    }\n",
              "</style>\n",
              "<table border=\"1\" class=\"dataframe\">\n",
              "  <thead>\n",
              "    <tr style=\"text-align: right;\">\n",
              "      <th></th>\n",
              "      <th>NAME</th>\n",
              "      <th>AGE</th>\n",
              "      <th>DEPARTMENT</th>\n",
              "      <th>SALARY</th>\n",
              "    </tr>\n",
              "  </thead>\n",
              "  <tbody>\n",
              "    <tr>\n",
              "      <th>1</th>\n",
              "      <td>Sudee</td>\n",
              "      <td>30</td>\n",
              "      <td>Engineering</td>\n",
              "      <td>80000</td>\n",
              "    </tr>\n",
              "    <tr>\n",
              "      <th>3</th>\n",
              "      <td>charlie</td>\n",
              "      <td>40</td>\n",
              "      <td>Engineering</td>\n",
              "      <td>90000</td>\n",
              "    </tr>\n",
              "  </tbody>\n",
              "</table>\n",
              "</div>\n",
              "    <div class=\"colab-df-buttons\">\n",
              "\n",
              "  <div class=\"colab-df-container\">\n",
              "    <button class=\"colab-df-convert\" onclick=\"convertToInteractive('df-3a14b02c-4493-4d49-816c-b093d1cf1635')\"\n",
              "            title=\"Convert this dataframe to an interactive table.\"\n",
              "            style=\"display:none;\">\n",
              "\n",
              "  <svg xmlns=\"http://www.w3.org/2000/svg\" height=\"24px\" viewBox=\"0 -960 960 960\">\n",
              "    <path d=\"M120-120v-720h720v720H120Zm60-500h600v-160H180v160Zm220 220h160v-160H400v160Zm0 220h160v-160H400v160ZM180-400h160v-160H180v160Zm440 0h160v-160H620v160ZM180-180h160v-160H180v160Zm440 0h160v-160H620v160Z\"/>\n",
              "  </svg>\n",
              "    </button>\n",
              "\n",
              "  <style>\n",
              "    .colab-df-container {\n",
              "      display:flex;\n",
              "      gap: 12px;\n",
              "    }\n",
              "\n",
              "    .colab-df-convert {\n",
              "      background-color: #E8F0FE;\n",
              "      border: none;\n",
              "      border-radius: 50%;\n",
              "      cursor: pointer;\n",
              "      display: none;\n",
              "      fill: #1967D2;\n",
              "      height: 32px;\n",
              "      padding: 0 0 0 0;\n",
              "      width: 32px;\n",
              "    }\n",
              "\n",
              "    .colab-df-convert:hover {\n",
              "      background-color: #E2EBFA;\n",
              "      box-shadow: 0px 1px 2px rgba(60, 64, 67, 0.3), 0px 1px 3px 1px rgba(60, 64, 67, 0.15);\n",
              "      fill: #174EA6;\n",
              "    }\n",
              "\n",
              "    .colab-df-buttons div {\n",
              "      margin-bottom: 4px;\n",
              "    }\n",
              "\n",
              "    [theme=dark] .colab-df-convert {\n",
              "      background-color: #3B4455;\n",
              "      fill: #D2E3FC;\n",
              "    }\n",
              "\n",
              "    [theme=dark] .colab-df-convert:hover {\n",
              "      background-color: #434B5C;\n",
              "      box-shadow: 0px 1px 3px 1px rgba(0, 0, 0, 0.15);\n",
              "      filter: drop-shadow(0px 1px 2px rgba(0, 0, 0, 0.3));\n",
              "      fill: #FFFFFF;\n",
              "    }\n",
              "  </style>\n",
              "\n",
              "    <script>\n",
              "      const buttonEl =\n",
              "        document.querySelector('#df-3a14b02c-4493-4d49-816c-b093d1cf1635 button.colab-df-convert');\n",
              "      buttonEl.style.display =\n",
              "        google.colab.kernel.accessAllowed ? 'block' : 'none';\n",
              "\n",
              "      async function convertToInteractive(key) {\n",
              "        const element = document.querySelector('#df-3a14b02c-4493-4d49-816c-b093d1cf1635');\n",
              "        const dataTable =\n",
              "          await google.colab.kernel.invokeFunction('convertToInteractive',\n",
              "                                                    [key], {});\n",
              "        if (!dataTable) return;\n",
              "\n",
              "        const docLinkHtml = 'Like what you see? Visit the ' +\n",
              "          '<a target=\"_blank\" href=https://colab.research.google.com/notebooks/data_table.ipynb>data table notebook</a>'\n",
              "          + ' to learn more about interactive tables.';\n",
              "        element.innerHTML = '';\n",
              "        dataTable['output_type'] = 'display_data';\n",
              "        await google.colab.output.renderOutput(dataTable, element);\n",
              "        const docLink = document.createElement('div');\n",
              "        docLink.innerHTML = docLinkHtml;\n",
              "        element.appendChild(docLink);\n",
              "      }\n",
              "    </script>\n",
              "  </div>\n",
              "\n",
              "\n",
              "    <div id=\"df-21dbeb80-dc43-49d0-87b0-2b9a93b37f5b\">\n",
              "      <button class=\"colab-df-quickchart\" onclick=\"quickchart('df-21dbeb80-dc43-49d0-87b0-2b9a93b37f5b')\"\n",
              "                title=\"Suggest charts\"\n",
              "                style=\"display:none;\">\n",
              "\n",
              "<svg xmlns=\"http://www.w3.org/2000/svg\" height=\"24px\"viewBox=\"0 0 24 24\"\n",
              "     width=\"24px\">\n",
              "    <g>\n",
              "        <path d=\"M19 3H5c-1.1 0-2 .9-2 2v14c0 1.1.9 2 2 2h14c1.1 0 2-.9 2-2V5c0-1.1-.9-2-2-2zM9 17H7v-7h2v7zm4 0h-2V7h2v10zm4 0h-2v-4h2v4z\"/>\n",
              "    </g>\n",
              "</svg>\n",
              "      </button>\n",
              "\n",
              "<style>\n",
              "  .colab-df-quickchart {\n",
              "      --bg-color: #E8F0FE;\n",
              "      --fill-color: #1967D2;\n",
              "      --hover-bg-color: #E2EBFA;\n",
              "      --hover-fill-color: #174EA6;\n",
              "      --disabled-fill-color: #AAA;\n",
              "      --disabled-bg-color: #DDD;\n",
              "  }\n",
              "\n",
              "  [theme=dark] .colab-df-quickchart {\n",
              "      --bg-color: #3B4455;\n",
              "      --fill-color: #D2E3FC;\n",
              "      --hover-bg-color: #434B5C;\n",
              "      --hover-fill-color: #FFFFFF;\n",
              "      --disabled-bg-color: #3B4455;\n",
              "      --disabled-fill-color: #666;\n",
              "  }\n",
              "\n",
              "  .colab-df-quickchart {\n",
              "    background-color: var(--bg-color);\n",
              "    border: none;\n",
              "    border-radius: 50%;\n",
              "    cursor: pointer;\n",
              "    display: none;\n",
              "    fill: var(--fill-color);\n",
              "    height: 32px;\n",
              "    padding: 0;\n",
              "    width: 32px;\n",
              "  }\n",
              "\n",
              "  .colab-df-quickchart:hover {\n",
              "    background-color: var(--hover-bg-color);\n",
              "    box-shadow: 0 1px 2px rgba(60, 64, 67, 0.3), 0 1px 3px 1px rgba(60, 64, 67, 0.15);\n",
              "    fill: var(--button-hover-fill-color);\n",
              "  }\n",
              "\n",
              "  .colab-df-quickchart-complete:disabled,\n",
              "  .colab-df-quickchart-complete:disabled:hover {\n",
              "    background-color: var(--disabled-bg-color);\n",
              "    fill: var(--disabled-fill-color);\n",
              "    box-shadow: none;\n",
              "  }\n",
              "\n",
              "  .colab-df-spinner {\n",
              "    border: 2px solid var(--fill-color);\n",
              "    border-color: transparent;\n",
              "    border-bottom-color: var(--fill-color);\n",
              "    animation:\n",
              "      spin 1s steps(1) infinite;\n",
              "  }\n",
              "\n",
              "  @keyframes spin {\n",
              "    0% {\n",
              "      border-color: transparent;\n",
              "      border-bottom-color: var(--fill-color);\n",
              "      border-left-color: var(--fill-color);\n",
              "    }\n",
              "    20% {\n",
              "      border-color: transparent;\n",
              "      border-left-color: var(--fill-color);\n",
              "      border-top-color: var(--fill-color);\n",
              "    }\n",
              "    30% {\n",
              "      border-color: transparent;\n",
              "      border-left-color: var(--fill-color);\n",
              "      border-top-color: var(--fill-color);\n",
              "      border-right-color: var(--fill-color);\n",
              "    }\n",
              "    40% {\n",
              "      border-color: transparent;\n",
              "      border-right-color: var(--fill-color);\n",
              "      border-top-color: var(--fill-color);\n",
              "    }\n",
              "    60% {\n",
              "      border-color: transparent;\n",
              "      border-right-color: var(--fill-color);\n",
              "    }\n",
              "    80% {\n",
              "      border-color: transparent;\n",
              "      border-right-color: var(--fill-color);\n",
              "      border-bottom-color: var(--fill-color);\n",
              "    }\n",
              "    90% {\n",
              "      border-color: transparent;\n",
              "      border-bottom-color: var(--fill-color);\n",
              "    }\n",
              "  }\n",
              "</style>\n",
              "\n",
              "      <script>\n",
              "        async function quickchart(key) {\n",
              "          const quickchartButtonEl =\n",
              "            document.querySelector('#' + key + ' button');\n",
              "          quickchartButtonEl.disabled = true;  // To prevent multiple clicks.\n",
              "          quickchartButtonEl.classList.add('colab-df-spinner');\n",
              "          try {\n",
              "            const charts = await google.colab.kernel.invokeFunction(\n",
              "                'suggestCharts', [key], {});\n",
              "          } catch (error) {\n",
              "            console.error('Error during call to suggestCharts:', error);\n",
              "          }\n",
              "          quickchartButtonEl.classList.remove('colab-df-spinner');\n",
              "          quickchartButtonEl.classList.add('colab-df-quickchart-complete');\n",
              "        }\n",
              "        (() => {\n",
              "          let quickchartButtonEl =\n",
              "            document.querySelector('#df-21dbeb80-dc43-49d0-87b0-2b9a93b37f5b button');\n",
              "          quickchartButtonEl.style.display =\n",
              "            google.colab.kernel.accessAllowed ? 'block' : 'none';\n",
              "        })();\n",
              "      </script>\n",
              "    </div>\n",
              "\n",
              "    </div>\n",
              "  </div>\n"
            ],
            "application/vnd.google.colaboratory.intrinsic+json": {
              "type": "dataframe",
              "summary": "{\n  \"name\": \"df[df['SALARY']>50000]\",\n  \"rows\": 2,\n  \"fields\": [\n    {\n      \"column\": \"NAME\",\n      \"properties\": {\n        \"dtype\": \"string\",\n        \"num_unique_values\": 2,\n        \"samples\": [\n          \"charlie\",\n          \"Sudee\"\n        ],\n        \"semantic_type\": \"\",\n        \"description\": \"\"\n      }\n    },\n    {\n      \"column\": \"AGE\",\n      \"properties\": {\n        \"dtype\": \"number\",\n        \"std\": 7,\n        \"min\": 30,\n        \"max\": 40,\n        \"num_unique_values\": 2,\n        \"samples\": [\n          40,\n          30\n        ],\n        \"semantic_type\": \"\",\n        \"description\": \"\"\n      }\n    },\n    {\n      \"column\": \"DEPARTMENT\",\n      \"properties\": {\n        \"dtype\": \"string\",\n        \"num_unique_values\": 1,\n        \"samples\": [\n          \"Engineering\"\n        ],\n        \"semantic_type\": \"\",\n        \"description\": \"\"\n      }\n    },\n    {\n      \"column\": \"SALARY\",\n      \"properties\": {\n        \"dtype\": \"number\",\n        \"std\": 7071,\n        \"min\": 80000,\n        \"max\": 90000,\n        \"num_unique_values\": 2,\n        \"samples\": [\n          90000\n        ],\n        \"semantic_type\": \"\",\n        \"description\": \"\"\n      }\n    }\n  ]\n}"
            }
          },
          "metadata": {},
          "execution_count": 12
        }
      ]
    },
    {
      "cell_type": "markdown",
      "source": [
        "##Sorting"
      ],
      "metadata": {
        "id": "l8tpHvTh4Qs4"
      }
    },
    {
      "cell_type": "code",
      "source": [
        "print(\"Sorted by Age:\")\n",
        "df.sort_values(by='AGE')"
      ],
      "metadata": {
        "colab": {
          "base_uri": "https://localhost:8080/",
          "height": 224
        },
        "id": "8WVrak3B4S_9",
        "outputId": "d7a663a8-db45-4dee-e5a9-3e8b4f2a2a8c"
      },
      "execution_count": null,
      "outputs": [
        {
          "output_type": "stream",
          "name": "stdout",
          "text": [
            "Sorted by Age:\n"
          ]
        },
        {
          "output_type": "execute_result",
          "data": {
            "text/plain": [
              "      NAME  AGE   DEPARTMENT  SALARY\n",
              "4    David   22        Sales   45000\n",
              "0     Abhi   25        Sales   50000\n",
              "1    Sudee   30  Engineering   80000\n",
              "2    Kiran   35           HR   40000\n",
              "3  charlie   40  Engineering   90000"
            ],
            "text/html": [
              "\n",
              "  <div id=\"df-ab9ef054-6597-45cb-b25e-2796e7ea6dc5\" class=\"colab-df-container\">\n",
              "    <div>\n",
              "<style scoped>\n",
              "    .dataframe tbody tr th:only-of-type {\n",
              "        vertical-align: middle;\n",
              "    }\n",
              "\n",
              "    .dataframe tbody tr th {\n",
              "        vertical-align: top;\n",
              "    }\n",
              "\n",
              "    .dataframe thead th {\n",
              "        text-align: right;\n",
              "    }\n",
              "</style>\n",
              "<table border=\"1\" class=\"dataframe\">\n",
              "  <thead>\n",
              "    <tr style=\"text-align: right;\">\n",
              "      <th></th>\n",
              "      <th>NAME</th>\n",
              "      <th>AGE</th>\n",
              "      <th>DEPARTMENT</th>\n",
              "      <th>SALARY</th>\n",
              "    </tr>\n",
              "  </thead>\n",
              "  <tbody>\n",
              "    <tr>\n",
              "      <th>4</th>\n",
              "      <td>David</td>\n",
              "      <td>22</td>\n",
              "      <td>Sales</td>\n",
              "      <td>45000</td>\n",
              "    </tr>\n",
              "    <tr>\n",
              "      <th>0</th>\n",
              "      <td>Abhi</td>\n",
              "      <td>25</td>\n",
              "      <td>Sales</td>\n",
              "      <td>50000</td>\n",
              "    </tr>\n",
              "    <tr>\n",
              "      <th>1</th>\n",
              "      <td>Sudee</td>\n",
              "      <td>30</td>\n",
              "      <td>Engineering</td>\n",
              "      <td>80000</td>\n",
              "    </tr>\n",
              "    <tr>\n",
              "      <th>2</th>\n",
              "      <td>Kiran</td>\n",
              "      <td>35</td>\n",
              "      <td>HR</td>\n",
              "      <td>40000</td>\n",
              "    </tr>\n",
              "    <tr>\n",
              "      <th>3</th>\n",
              "      <td>charlie</td>\n",
              "      <td>40</td>\n",
              "      <td>Engineering</td>\n",
              "      <td>90000</td>\n",
              "    </tr>\n",
              "  </tbody>\n",
              "</table>\n",
              "</div>\n",
              "    <div class=\"colab-df-buttons\">\n",
              "\n",
              "  <div class=\"colab-df-container\">\n",
              "    <button class=\"colab-df-convert\" onclick=\"convertToInteractive('df-ab9ef054-6597-45cb-b25e-2796e7ea6dc5')\"\n",
              "            title=\"Convert this dataframe to an interactive table.\"\n",
              "            style=\"display:none;\">\n",
              "\n",
              "  <svg xmlns=\"http://www.w3.org/2000/svg\" height=\"24px\" viewBox=\"0 -960 960 960\">\n",
              "    <path d=\"M120-120v-720h720v720H120Zm60-500h600v-160H180v160Zm220 220h160v-160H400v160Zm0 220h160v-160H400v160ZM180-400h160v-160H180v160Zm440 0h160v-160H620v160ZM180-180h160v-160H180v160Zm440 0h160v-160H620v160Z\"/>\n",
              "  </svg>\n",
              "    </button>\n",
              "\n",
              "  <style>\n",
              "    .colab-df-container {\n",
              "      display:flex;\n",
              "      gap: 12px;\n",
              "    }\n",
              "\n",
              "    .colab-df-convert {\n",
              "      background-color: #E8F0FE;\n",
              "      border: none;\n",
              "      border-radius: 50%;\n",
              "      cursor: pointer;\n",
              "      display: none;\n",
              "      fill: #1967D2;\n",
              "      height: 32px;\n",
              "      padding: 0 0 0 0;\n",
              "      width: 32px;\n",
              "    }\n",
              "\n",
              "    .colab-df-convert:hover {\n",
              "      background-color: #E2EBFA;\n",
              "      box-shadow: 0px 1px 2px rgba(60, 64, 67, 0.3), 0px 1px 3px 1px rgba(60, 64, 67, 0.15);\n",
              "      fill: #174EA6;\n",
              "    }\n",
              "\n",
              "    .colab-df-buttons div {\n",
              "      margin-bottom: 4px;\n",
              "    }\n",
              "\n",
              "    [theme=dark] .colab-df-convert {\n",
              "      background-color: #3B4455;\n",
              "      fill: #D2E3FC;\n",
              "    }\n",
              "\n",
              "    [theme=dark] .colab-df-convert:hover {\n",
              "      background-color: #434B5C;\n",
              "      box-shadow: 0px 1px 3px 1px rgba(0, 0, 0, 0.15);\n",
              "      filter: drop-shadow(0px 1px 2px rgba(0, 0, 0, 0.3));\n",
              "      fill: #FFFFFF;\n",
              "    }\n",
              "  </style>\n",
              "\n",
              "    <script>\n",
              "      const buttonEl =\n",
              "        document.querySelector('#df-ab9ef054-6597-45cb-b25e-2796e7ea6dc5 button.colab-df-convert');\n",
              "      buttonEl.style.display =\n",
              "        google.colab.kernel.accessAllowed ? 'block' : 'none';\n",
              "\n",
              "      async function convertToInteractive(key) {\n",
              "        const element = document.querySelector('#df-ab9ef054-6597-45cb-b25e-2796e7ea6dc5');\n",
              "        const dataTable =\n",
              "          await google.colab.kernel.invokeFunction('convertToInteractive',\n",
              "                                                    [key], {});\n",
              "        if (!dataTable) return;\n",
              "\n",
              "        const docLinkHtml = 'Like what you see? Visit the ' +\n",
              "          '<a target=\"_blank\" href=https://colab.research.google.com/notebooks/data_table.ipynb>data table notebook</a>'\n",
              "          + ' to learn more about interactive tables.';\n",
              "        element.innerHTML = '';\n",
              "        dataTable['output_type'] = 'display_data';\n",
              "        await google.colab.output.renderOutput(dataTable, element);\n",
              "        const docLink = document.createElement('div');\n",
              "        docLink.innerHTML = docLinkHtml;\n",
              "        element.appendChild(docLink);\n",
              "      }\n",
              "    </script>\n",
              "  </div>\n",
              "\n",
              "\n",
              "    <div id=\"df-5e12ec88-3db8-496f-ab8e-e8ea1b971895\">\n",
              "      <button class=\"colab-df-quickchart\" onclick=\"quickchart('df-5e12ec88-3db8-496f-ab8e-e8ea1b971895')\"\n",
              "                title=\"Suggest charts\"\n",
              "                style=\"display:none;\">\n",
              "\n",
              "<svg xmlns=\"http://www.w3.org/2000/svg\" height=\"24px\"viewBox=\"0 0 24 24\"\n",
              "     width=\"24px\">\n",
              "    <g>\n",
              "        <path d=\"M19 3H5c-1.1 0-2 .9-2 2v14c0 1.1.9 2 2 2h14c1.1 0 2-.9 2-2V5c0-1.1-.9-2-2-2zM9 17H7v-7h2v7zm4 0h-2V7h2v10zm4 0h-2v-4h2v4z\"/>\n",
              "    </g>\n",
              "</svg>\n",
              "      </button>\n",
              "\n",
              "<style>\n",
              "  .colab-df-quickchart {\n",
              "      --bg-color: #E8F0FE;\n",
              "      --fill-color: #1967D2;\n",
              "      --hover-bg-color: #E2EBFA;\n",
              "      --hover-fill-color: #174EA6;\n",
              "      --disabled-fill-color: #AAA;\n",
              "      --disabled-bg-color: #DDD;\n",
              "  }\n",
              "\n",
              "  [theme=dark] .colab-df-quickchart {\n",
              "      --bg-color: #3B4455;\n",
              "      --fill-color: #D2E3FC;\n",
              "      --hover-bg-color: #434B5C;\n",
              "      --hover-fill-color: #FFFFFF;\n",
              "      --disabled-bg-color: #3B4455;\n",
              "      --disabled-fill-color: #666;\n",
              "  }\n",
              "\n",
              "  .colab-df-quickchart {\n",
              "    background-color: var(--bg-color);\n",
              "    border: none;\n",
              "    border-radius: 50%;\n",
              "    cursor: pointer;\n",
              "    display: none;\n",
              "    fill: var(--fill-color);\n",
              "    height: 32px;\n",
              "    padding: 0;\n",
              "    width: 32px;\n",
              "  }\n",
              "\n",
              "  .colab-df-quickchart:hover {\n",
              "    background-color: var(--hover-bg-color);\n",
              "    box-shadow: 0 1px 2px rgba(60, 64, 67, 0.3), 0 1px 3px 1px rgba(60, 64, 67, 0.15);\n",
              "    fill: var(--button-hover-fill-color);\n",
              "  }\n",
              "\n",
              "  .colab-df-quickchart-complete:disabled,\n",
              "  .colab-df-quickchart-complete:disabled:hover {\n",
              "    background-color: var(--disabled-bg-color);\n",
              "    fill: var(--disabled-fill-color);\n",
              "    box-shadow: none;\n",
              "  }\n",
              "\n",
              "  .colab-df-spinner {\n",
              "    border: 2px solid var(--fill-color);\n",
              "    border-color: transparent;\n",
              "    border-bottom-color: var(--fill-color);\n",
              "    animation:\n",
              "      spin 1s steps(1) infinite;\n",
              "  }\n",
              "\n",
              "  @keyframes spin {\n",
              "    0% {\n",
              "      border-color: transparent;\n",
              "      border-bottom-color: var(--fill-color);\n",
              "      border-left-color: var(--fill-color);\n",
              "    }\n",
              "    20% {\n",
              "      border-color: transparent;\n",
              "      border-left-color: var(--fill-color);\n",
              "      border-top-color: var(--fill-color);\n",
              "    }\n",
              "    30% {\n",
              "      border-color: transparent;\n",
              "      border-left-color: var(--fill-color);\n",
              "      border-top-color: var(--fill-color);\n",
              "      border-right-color: var(--fill-color);\n",
              "    }\n",
              "    40% {\n",
              "      border-color: transparent;\n",
              "      border-right-color: var(--fill-color);\n",
              "      border-top-color: var(--fill-color);\n",
              "    }\n",
              "    60% {\n",
              "      border-color: transparent;\n",
              "      border-right-color: var(--fill-color);\n",
              "    }\n",
              "    80% {\n",
              "      border-color: transparent;\n",
              "      border-right-color: var(--fill-color);\n",
              "      border-bottom-color: var(--fill-color);\n",
              "    }\n",
              "    90% {\n",
              "      border-color: transparent;\n",
              "      border-bottom-color: var(--fill-color);\n",
              "    }\n",
              "  }\n",
              "</style>\n",
              "\n",
              "      <script>\n",
              "        async function quickchart(key) {\n",
              "          const quickchartButtonEl =\n",
              "            document.querySelector('#' + key + ' button');\n",
              "          quickchartButtonEl.disabled = true;  // To prevent multiple clicks.\n",
              "          quickchartButtonEl.classList.add('colab-df-spinner');\n",
              "          try {\n",
              "            const charts = await google.colab.kernel.invokeFunction(\n",
              "                'suggestCharts', [key], {});\n",
              "          } catch (error) {\n",
              "            console.error('Error during call to suggestCharts:', error);\n",
              "          }\n",
              "          quickchartButtonEl.classList.remove('colab-df-spinner');\n",
              "          quickchartButtonEl.classList.add('colab-df-quickchart-complete');\n",
              "        }\n",
              "        (() => {\n",
              "          let quickchartButtonEl =\n",
              "            document.querySelector('#df-5e12ec88-3db8-496f-ab8e-e8ea1b971895 button');\n",
              "          quickchartButtonEl.style.display =\n",
              "            google.colab.kernel.accessAllowed ? 'block' : 'none';\n",
              "        })();\n",
              "      </script>\n",
              "    </div>\n",
              "\n",
              "    </div>\n",
              "  </div>\n"
            ],
            "application/vnd.google.colaboratory.intrinsic+json": {
              "type": "dataframe",
              "summary": "{\n  \"name\": \"df\",\n  \"rows\": 5,\n  \"fields\": [\n    {\n      \"column\": \"NAME\",\n      \"properties\": {\n        \"dtype\": \"string\",\n        \"num_unique_values\": 5,\n        \"samples\": [\n          \"Abhi\",\n          \"charlie\",\n          \"Sudee\"\n        ],\n        \"semantic_type\": \"\",\n        \"description\": \"\"\n      }\n    },\n    {\n      \"column\": \"AGE\",\n      \"properties\": {\n        \"dtype\": \"number\",\n        \"std\": 7,\n        \"min\": 22,\n        \"max\": 40,\n        \"num_unique_values\": 5,\n        \"samples\": [\n          25,\n          40,\n          30\n        ],\n        \"semantic_type\": \"\",\n        \"description\": \"\"\n      }\n    },\n    {\n      \"column\": \"DEPARTMENT\",\n      \"properties\": {\n        \"dtype\": \"string\",\n        \"num_unique_values\": 3,\n        \"samples\": [\n          \"Sales\",\n          \"Engineering\",\n          \"HR\"\n        ],\n        \"semantic_type\": \"\",\n        \"description\": \"\"\n      }\n    },\n    {\n      \"column\": \"SALARY\",\n      \"properties\": {\n        \"dtype\": \"number\",\n        \"std\": 22472,\n        \"min\": 40000,\n        \"max\": 90000,\n        \"num_unique_values\": 5,\n        \"samples\": [\n          50000,\n          90000,\n          80000\n        ],\n        \"semantic_type\": \"\",\n        \"description\": \"\"\n      }\n    }\n  ]\n}"
            }
          },
          "metadata": {},
          "execution_count": 13
        }
      ]
    },
    {
      "cell_type": "markdown",
      "source": [
        "##Grouping and Aggregation"
      ],
      "metadata": {
        "id": "MsyA6OzR4oAy"
      }
    },
    {
      "cell_type": "code",
      "source": [
        "group =df.groupby('DEPARTMENT')['SALARY'].mean()\n",
        "print(\"average salary by department:\")\n",
        "group"
      ],
      "metadata": {
        "colab": {
          "base_uri": "https://localhost:8080/",
          "height": 227
        },
        "id": "6zdSPAR85QAp",
        "outputId": "bece8897-ba20-40ae-89cf-085815fb0166"
      },
      "execution_count": null,
      "outputs": [
        {
          "output_type": "stream",
          "name": "stdout",
          "text": [
            "average salary by department:\n"
          ]
        },
        {
          "output_type": "execute_result",
          "data": {
            "text/plain": [
              "DEPARTMENT\n",
              "Engineering    85000.0\n",
              "HR             40000.0\n",
              "Sales          47500.0\n",
              "Name: SALARY, dtype: float64"
            ],
            "text/html": [
              "<div>\n",
              "<style scoped>\n",
              "    .dataframe tbody tr th:only-of-type {\n",
              "        vertical-align: middle;\n",
              "    }\n",
              "\n",
              "    .dataframe tbody tr th {\n",
              "        vertical-align: top;\n",
              "    }\n",
              "\n",
              "    .dataframe thead th {\n",
              "        text-align: right;\n",
              "    }\n",
              "</style>\n",
              "<table border=\"1\" class=\"dataframe\">\n",
              "  <thead>\n",
              "    <tr style=\"text-align: right;\">\n",
              "      <th></th>\n",
              "      <th>SALARY</th>\n",
              "    </tr>\n",
              "    <tr>\n",
              "      <th>DEPARTMENT</th>\n",
              "      <th></th>\n",
              "    </tr>\n",
              "  </thead>\n",
              "  <tbody>\n",
              "    <tr>\n",
              "      <th>Engineering</th>\n",
              "      <td>85000.0</td>\n",
              "    </tr>\n",
              "    <tr>\n",
              "      <th>HR</th>\n",
              "      <td>40000.0</td>\n",
              "    </tr>\n",
              "    <tr>\n",
              "      <th>Sales</th>\n",
              "      <td>47500.0</td>\n",
              "    </tr>\n",
              "  </tbody>\n",
              "</table>\n",
              "</div><br><label><b>dtype:</b> float64</label>"
            ]
          },
          "metadata": {},
          "execution_count": 14
        }
      ]
    },
    {
      "cell_type": "markdown",
      "source": [
        "##Adding new columns"
      ],
      "metadata": {
        "id": "jeGjfeck5vOY"
      }
    },
    {
      "cell_type": "code",
      "source": [
        "df['salary in lakh']=df['SALARY']/100000\n",
        "df\n"
      ],
      "metadata": {
        "colab": {
          "base_uri": "https://localhost:8080/",
          "height": 206
        },
        "id": "wcjMhamo5yg5",
        "outputId": "712c2951-4670-4c36-e6c1-e65fdbef2543"
      },
      "execution_count": null,
      "outputs": [
        {
          "output_type": "execute_result",
          "data": {
            "text/plain": [
              "      NAME  AGE   DEPARTMENT  SALARY  salary in lakh\n",
              "0     Abhi   25        Sales   50000            0.50\n",
              "1    Sudee   30  Engineering   80000            0.80\n",
              "2    Kiran   35           HR   40000            0.40\n",
              "3  charlie   40  Engineering   90000            0.90\n",
              "4    David   22        Sales   45000            0.45"
            ],
            "text/html": [
              "\n",
              "  <div id=\"df-1c9f301b-3471-44cb-b026-04de4017ee58\" class=\"colab-df-container\">\n",
              "    <div>\n",
              "<style scoped>\n",
              "    .dataframe tbody tr th:only-of-type {\n",
              "        vertical-align: middle;\n",
              "    }\n",
              "\n",
              "    .dataframe tbody tr th {\n",
              "        vertical-align: top;\n",
              "    }\n",
              "\n",
              "    .dataframe thead th {\n",
              "        text-align: right;\n",
              "    }\n",
              "</style>\n",
              "<table border=\"1\" class=\"dataframe\">\n",
              "  <thead>\n",
              "    <tr style=\"text-align: right;\">\n",
              "      <th></th>\n",
              "      <th>NAME</th>\n",
              "      <th>AGE</th>\n",
              "      <th>DEPARTMENT</th>\n",
              "      <th>SALARY</th>\n",
              "      <th>salary in lakh</th>\n",
              "    </tr>\n",
              "  </thead>\n",
              "  <tbody>\n",
              "    <tr>\n",
              "      <th>0</th>\n",
              "      <td>Abhi</td>\n",
              "      <td>25</td>\n",
              "      <td>Sales</td>\n",
              "      <td>50000</td>\n",
              "      <td>0.50</td>\n",
              "    </tr>\n",
              "    <tr>\n",
              "      <th>1</th>\n",
              "      <td>Sudee</td>\n",
              "      <td>30</td>\n",
              "      <td>Engineering</td>\n",
              "      <td>80000</td>\n",
              "      <td>0.80</td>\n",
              "    </tr>\n",
              "    <tr>\n",
              "      <th>2</th>\n",
              "      <td>Kiran</td>\n",
              "      <td>35</td>\n",
              "      <td>HR</td>\n",
              "      <td>40000</td>\n",
              "      <td>0.40</td>\n",
              "    </tr>\n",
              "    <tr>\n",
              "      <th>3</th>\n",
              "      <td>charlie</td>\n",
              "      <td>40</td>\n",
              "      <td>Engineering</td>\n",
              "      <td>90000</td>\n",
              "      <td>0.90</td>\n",
              "    </tr>\n",
              "    <tr>\n",
              "      <th>4</th>\n",
              "      <td>David</td>\n",
              "      <td>22</td>\n",
              "      <td>Sales</td>\n",
              "      <td>45000</td>\n",
              "      <td>0.45</td>\n",
              "    </tr>\n",
              "  </tbody>\n",
              "</table>\n",
              "</div>\n",
              "    <div class=\"colab-df-buttons\">\n",
              "\n",
              "  <div class=\"colab-df-container\">\n",
              "    <button class=\"colab-df-convert\" onclick=\"convertToInteractive('df-1c9f301b-3471-44cb-b026-04de4017ee58')\"\n",
              "            title=\"Convert this dataframe to an interactive table.\"\n",
              "            style=\"display:none;\">\n",
              "\n",
              "  <svg xmlns=\"http://www.w3.org/2000/svg\" height=\"24px\" viewBox=\"0 -960 960 960\">\n",
              "    <path d=\"M120-120v-720h720v720H120Zm60-500h600v-160H180v160Zm220 220h160v-160H400v160Zm0 220h160v-160H400v160ZM180-400h160v-160H180v160Zm440 0h160v-160H620v160ZM180-180h160v-160H180v160Zm440 0h160v-160H620v160Z\"/>\n",
              "  </svg>\n",
              "    </button>\n",
              "\n",
              "  <style>\n",
              "    .colab-df-container {\n",
              "      display:flex;\n",
              "      gap: 12px;\n",
              "    }\n",
              "\n",
              "    .colab-df-convert {\n",
              "      background-color: #E8F0FE;\n",
              "      border: none;\n",
              "      border-radius: 50%;\n",
              "      cursor: pointer;\n",
              "      display: none;\n",
              "      fill: #1967D2;\n",
              "      height: 32px;\n",
              "      padding: 0 0 0 0;\n",
              "      width: 32px;\n",
              "    }\n",
              "\n",
              "    .colab-df-convert:hover {\n",
              "      background-color: #E2EBFA;\n",
              "      box-shadow: 0px 1px 2px rgba(60, 64, 67, 0.3), 0px 1px 3px 1px rgba(60, 64, 67, 0.15);\n",
              "      fill: #174EA6;\n",
              "    }\n",
              "\n",
              "    .colab-df-buttons div {\n",
              "      margin-bottom: 4px;\n",
              "    }\n",
              "\n",
              "    [theme=dark] .colab-df-convert {\n",
              "      background-color: #3B4455;\n",
              "      fill: #D2E3FC;\n",
              "    }\n",
              "\n",
              "    [theme=dark] .colab-df-convert:hover {\n",
              "      background-color: #434B5C;\n",
              "      box-shadow: 0px 1px 3px 1px rgba(0, 0, 0, 0.15);\n",
              "      filter: drop-shadow(0px 1px 2px rgba(0, 0, 0, 0.3));\n",
              "      fill: #FFFFFF;\n",
              "    }\n",
              "  </style>\n",
              "\n",
              "    <script>\n",
              "      const buttonEl =\n",
              "        document.querySelector('#df-1c9f301b-3471-44cb-b026-04de4017ee58 button.colab-df-convert');\n",
              "      buttonEl.style.display =\n",
              "        google.colab.kernel.accessAllowed ? 'block' : 'none';\n",
              "\n",
              "      async function convertToInteractive(key) {\n",
              "        const element = document.querySelector('#df-1c9f301b-3471-44cb-b026-04de4017ee58');\n",
              "        const dataTable =\n",
              "          await google.colab.kernel.invokeFunction('convertToInteractive',\n",
              "                                                    [key], {});\n",
              "        if (!dataTable) return;\n",
              "\n",
              "        const docLinkHtml = 'Like what you see? Visit the ' +\n",
              "          '<a target=\"_blank\" href=https://colab.research.google.com/notebooks/data_table.ipynb>data table notebook</a>'\n",
              "          + ' to learn more about interactive tables.';\n",
              "        element.innerHTML = '';\n",
              "        dataTable['output_type'] = 'display_data';\n",
              "        await google.colab.output.renderOutput(dataTable, element);\n",
              "        const docLink = document.createElement('div');\n",
              "        docLink.innerHTML = docLinkHtml;\n",
              "        element.appendChild(docLink);\n",
              "      }\n",
              "    </script>\n",
              "  </div>\n",
              "\n",
              "\n",
              "    <div id=\"df-a4b665a4-a8fe-43c3-a690-b81bb9a0709c\">\n",
              "      <button class=\"colab-df-quickchart\" onclick=\"quickchart('df-a4b665a4-a8fe-43c3-a690-b81bb9a0709c')\"\n",
              "                title=\"Suggest charts\"\n",
              "                style=\"display:none;\">\n",
              "\n",
              "<svg xmlns=\"http://www.w3.org/2000/svg\" height=\"24px\"viewBox=\"0 0 24 24\"\n",
              "     width=\"24px\">\n",
              "    <g>\n",
              "        <path d=\"M19 3H5c-1.1 0-2 .9-2 2v14c0 1.1.9 2 2 2h14c1.1 0 2-.9 2-2V5c0-1.1-.9-2-2-2zM9 17H7v-7h2v7zm4 0h-2V7h2v10zm4 0h-2v-4h2v4z\"/>\n",
              "    </g>\n",
              "</svg>\n",
              "      </button>\n",
              "\n",
              "<style>\n",
              "  .colab-df-quickchart {\n",
              "      --bg-color: #E8F0FE;\n",
              "      --fill-color: #1967D2;\n",
              "      --hover-bg-color: #E2EBFA;\n",
              "      --hover-fill-color: #174EA6;\n",
              "      --disabled-fill-color: #AAA;\n",
              "      --disabled-bg-color: #DDD;\n",
              "  }\n",
              "\n",
              "  [theme=dark] .colab-df-quickchart {\n",
              "      --bg-color: #3B4455;\n",
              "      --fill-color: #D2E3FC;\n",
              "      --hover-bg-color: #434B5C;\n",
              "      --hover-fill-color: #FFFFFF;\n",
              "      --disabled-bg-color: #3B4455;\n",
              "      --disabled-fill-color: #666;\n",
              "  }\n",
              "\n",
              "  .colab-df-quickchart {\n",
              "    background-color: var(--bg-color);\n",
              "    border: none;\n",
              "    border-radius: 50%;\n",
              "    cursor: pointer;\n",
              "    display: none;\n",
              "    fill: var(--fill-color);\n",
              "    height: 32px;\n",
              "    padding: 0;\n",
              "    width: 32px;\n",
              "  }\n",
              "\n",
              "  .colab-df-quickchart:hover {\n",
              "    background-color: var(--hover-bg-color);\n",
              "    box-shadow: 0 1px 2px rgba(60, 64, 67, 0.3), 0 1px 3px 1px rgba(60, 64, 67, 0.15);\n",
              "    fill: var(--button-hover-fill-color);\n",
              "  }\n",
              "\n",
              "  .colab-df-quickchart-complete:disabled,\n",
              "  .colab-df-quickchart-complete:disabled:hover {\n",
              "    background-color: var(--disabled-bg-color);\n",
              "    fill: var(--disabled-fill-color);\n",
              "    box-shadow: none;\n",
              "  }\n",
              "\n",
              "  .colab-df-spinner {\n",
              "    border: 2px solid var(--fill-color);\n",
              "    border-color: transparent;\n",
              "    border-bottom-color: var(--fill-color);\n",
              "    animation:\n",
              "      spin 1s steps(1) infinite;\n",
              "  }\n",
              "\n",
              "  @keyframes spin {\n",
              "    0% {\n",
              "      border-color: transparent;\n",
              "      border-bottom-color: var(--fill-color);\n",
              "      border-left-color: var(--fill-color);\n",
              "    }\n",
              "    20% {\n",
              "      border-color: transparent;\n",
              "      border-left-color: var(--fill-color);\n",
              "      border-top-color: var(--fill-color);\n",
              "    }\n",
              "    30% {\n",
              "      border-color: transparent;\n",
              "      border-left-color: var(--fill-color);\n",
              "      border-top-color: var(--fill-color);\n",
              "      border-right-color: var(--fill-color);\n",
              "    }\n",
              "    40% {\n",
              "      border-color: transparent;\n",
              "      border-right-color: var(--fill-color);\n",
              "      border-top-color: var(--fill-color);\n",
              "    }\n",
              "    60% {\n",
              "      border-color: transparent;\n",
              "      border-right-color: var(--fill-color);\n",
              "    }\n",
              "    80% {\n",
              "      border-color: transparent;\n",
              "      border-right-color: var(--fill-color);\n",
              "      border-bottom-color: var(--fill-color);\n",
              "    }\n",
              "    90% {\n",
              "      border-color: transparent;\n",
              "      border-bottom-color: var(--fill-color);\n",
              "    }\n",
              "  }\n",
              "</style>\n",
              "\n",
              "      <script>\n",
              "        async function quickchart(key) {\n",
              "          const quickchartButtonEl =\n",
              "            document.querySelector('#' + key + ' button');\n",
              "          quickchartButtonEl.disabled = true;  // To prevent multiple clicks.\n",
              "          quickchartButtonEl.classList.add('colab-df-spinner');\n",
              "          try {\n",
              "            const charts = await google.colab.kernel.invokeFunction(\n",
              "                'suggestCharts', [key], {});\n",
              "          } catch (error) {\n",
              "            console.error('Error during call to suggestCharts:', error);\n",
              "          }\n",
              "          quickchartButtonEl.classList.remove('colab-df-spinner');\n",
              "          quickchartButtonEl.classList.add('colab-df-quickchart-complete');\n",
              "        }\n",
              "        (() => {\n",
              "          let quickchartButtonEl =\n",
              "            document.querySelector('#df-a4b665a4-a8fe-43c3-a690-b81bb9a0709c button');\n",
              "          quickchartButtonEl.style.display =\n",
              "            google.colab.kernel.accessAllowed ? 'block' : 'none';\n",
              "        })();\n",
              "      </script>\n",
              "    </div>\n",
              "\n",
              "  <div id=\"id_993fec45-81c0-4b4d-8f9a-a6b9b0d3f983\">\n",
              "    <style>\n",
              "      .colab-df-generate {\n",
              "        background-color: #E8F0FE;\n",
              "        border: none;\n",
              "        border-radius: 50%;\n",
              "        cursor: pointer;\n",
              "        display: none;\n",
              "        fill: #1967D2;\n",
              "        height: 32px;\n",
              "        padding: 0 0 0 0;\n",
              "        width: 32px;\n",
              "      }\n",
              "\n",
              "      .colab-df-generate:hover {\n",
              "        background-color: #E2EBFA;\n",
              "        box-shadow: 0px 1px 2px rgba(60, 64, 67, 0.3), 0px 1px 3px 1px rgba(60, 64, 67, 0.15);\n",
              "        fill: #174EA6;\n",
              "      }\n",
              "\n",
              "      [theme=dark] .colab-df-generate {\n",
              "        background-color: #3B4455;\n",
              "        fill: #D2E3FC;\n",
              "      }\n",
              "\n",
              "      [theme=dark] .colab-df-generate:hover {\n",
              "        background-color: #434B5C;\n",
              "        box-shadow: 0px 1px 3px 1px rgba(0, 0, 0, 0.15);\n",
              "        filter: drop-shadow(0px 1px 2px rgba(0, 0, 0, 0.3));\n",
              "        fill: #FFFFFF;\n",
              "      }\n",
              "    </style>\n",
              "    <button class=\"colab-df-generate\" onclick=\"generateWithVariable('df')\"\n",
              "            title=\"Generate code using this dataframe.\"\n",
              "            style=\"display:none;\">\n",
              "\n",
              "  <svg xmlns=\"http://www.w3.org/2000/svg\" height=\"24px\"viewBox=\"0 0 24 24\"\n",
              "       width=\"24px\">\n",
              "    <path d=\"M7,19H8.4L18.45,9,17,7.55,7,17.6ZM5,21V16.75L18.45,3.32a2,2,0,0,1,2.83,0l1.4,1.43a1.91,1.91,0,0,1,.58,1.4,1.91,1.91,0,0,1-.58,1.4L9.25,21ZM18.45,9,17,7.55Zm-12,3A5.31,5.31,0,0,0,4.9,8.1,5.31,5.31,0,0,0,1,6.5,5.31,5.31,0,0,0,4.9,4.9,5.31,5.31,0,0,0,6.5,1,5.31,5.31,0,0,0,8.1,4.9,5.31,5.31,0,0,0,12,6.5,5.46,5.46,0,0,0,6.5,12Z\"/>\n",
              "  </svg>\n",
              "    </button>\n",
              "    <script>\n",
              "      (() => {\n",
              "      const buttonEl =\n",
              "        document.querySelector('#id_993fec45-81c0-4b4d-8f9a-a6b9b0d3f983 button.colab-df-generate');\n",
              "      buttonEl.style.display =\n",
              "        google.colab.kernel.accessAllowed ? 'block' : 'none';\n",
              "\n",
              "      buttonEl.onclick = () => {\n",
              "        google.colab.notebook.generateWithVariable('df');\n",
              "      }\n",
              "      })();\n",
              "    </script>\n",
              "  </div>\n",
              "\n",
              "    </div>\n",
              "  </div>\n"
            ],
            "application/vnd.google.colaboratory.intrinsic+json": {
              "type": "dataframe",
              "variable_name": "df",
              "summary": "{\n  \"name\": \"df\",\n  \"rows\": 5,\n  \"fields\": [\n    {\n      \"column\": \"NAME\",\n      \"properties\": {\n        \"dtype\": \"string\",\n        \"num_unique_values\": 5,\n        \"samples\": [\n          \"Sudee\",\n          \"David\",\n          \"Kiran\"\n        ],\n        \"semantic_type\": \"\",\n        \"description\": \"\"\n      }\n    },\n    {\n      \"column\": \"AGE\",\n      \"properties\": {\n        \"dtype\": \"number\",\n        \"std\": 7,\n        \"min\": 22,\n        \"max\": 40,\n        \"num_unique_values\": 5,\n        \"samples\": [\n          30,\n          22,\n          35\n        ],\n        \"semantic_type\": \"\",\n        \"description\": \"\"\n      }\n    },\n    {\n      \"column\": \"DEPARTMENT\",\n      \"properties\": {\n        \"dtype\": \"string\",\n        \"num_unique_values\": 3,\n        \"samples\": [\n          \"Sales\",\n          \"Engineering\",\n          \"HR\"\n        ],\n        \"semantic_type\": \"\",\n        \"description\": \"\"\n      }\n    },\n    {\n      \"column\": \"SALARY\",\n      \"properties\": {\n        \"dtype\": \"number\",\n        \"std\": 22472,\n        \"min\": 40000,\n        \"max\": 90000,\n        \"num_unique_values\": 5,\n        \"samples\": [\n          80000,\n          45000,\n          40000\n        ],\n        \"semantic_type\": \"\",\n        \"description\": \"\"\n      }\n    },\n    {\n      \"column\": \"salary in lakh\",\n      \"properties\": {\n        \"dtype\": \"number\",\n        \"std\": 0.22472205054244235,\n        \"min\": 0.4,\n        \"max\": 0.9,\n        \"num_unique_values\": 5,\n        \"samples\": [\n          0.8,\n          0.45,\n          0.4\n        ],\n        \"semantic_type\": \"\",\n        \"description\": \"\"\n      }\n    }\n  ]\n}"
            }
          },
          "metadata": {},
          "execution_count": 16
        }
      ]
    },
    {
      "cell_type": "markdown",
      "source": [
        "#📊MATPLOTLIB"
      ],
      "metadata": {
        "id": "5YteFP1Z6LlY"
      }
    },
    {
      "cell_type": "markdown",
      "source": [
        "##line plot"
      ],
      "metadata": {
        "id": "qQAVSmTs--Kx"
      }
    },
    {
      "cell_type": "code",
      "source": [
        "import matplotlib.pyplot as plt\n",
        "year=[2019,2020,2021,2022]\n",
        "revenue=[100,120,130,160]\n",
        "\n",
        "plt.plot(year,revenue,marker='v',linestyle='-',color='red')\n",
        "plt.title(\"Company Revenue over Years\")\n",
        "plt.xlabel(\"year\")\n",
        "plt.ylabel(\"Revenue(in crores)\")\n",
        "plt.xticks(year)\n",
        "plt.yticks(revenue)\n",
        "plt.grid(True)\n",
        "plt.show()\n"
      ],
      "metadata": {
        "colab": {
          "base_uri": "https://localhost:8080/",
          "height": 472
        },
        "id": "p8iO9vQA6ZhJ",
        "outputId": "31b89fa2-c234-4c81-a122-138ae9144bce"
      },
      "execution_count": null,
      "outputs": [
        {
          "output_type": "display_data",
          "data": {
            "text/plain": [
              "<Figure size 640x480 with 1 Axes>"
            ],
            "image/png": "[encoded data removed]"
          },
          "metadata": {}
        }
      ]
    },
    {
      "cell_type": "markdown",
      "source": [
        "##Bar chart"
      ],
      "metadata": {
        "id": "nJTD2zuLC4Ai"
      }
    },
    {
      "cell_type": "code",
      "source": [
        "departments=df['DEPARTMENT'].value_counts()\n",
        "departments.plot(kind='bar',color='skyblue',edgecolor=\"red\")\n",
        "plt.title(\"Employee count by Department\")\n",
        "plt.xlabel(\"Department\")\n",
        "plt.ylabel(\"Count\")\n",
        "plt.show()"
      ],
      "metadata": {
        "colab": {
          "base_uri": "https://localhost:8080/",
          "height": 541
        },
        "id": "uOyMoyOsBzvz",
        "outputId": "f480432f-c1b7-45c0-a3b7-56a28db5772b"
      },
      "execution_count": null,
      "outputs": [
        {
          "output_type": "display_data",
          "data": {
            "text/plain": [
              "<Figure size 640x480 with 1 Axes>"
            ],
            "image/png": "[encoded data removed]"
          },
          "metadata": {}
        }
      ]
    },
    {
      "cell_type": "markdown",
      "source": [
        "##📊HISTOGRAM"
      ],
      "metadata": {
        "id": "EcsOr9K1F-H-"
      }
    },
    {
      "cell_type": "code",
      "source": [
        "ages=df['AGE']\n",
        "plt.hist(ages,bins=5,color='yellow',edgecolor='red')\n",
        "plt.title(\"Age Distribution\")\n",
        "plt.xlabel(\"Age\")\n",
        "plt.ylabel(\"Frequency\")\n",
        "plt.show()"
      ],
      "metadata": {
        "colab": {
          "base_uri": "https://localhost:8080/",
          "height": 472
        },
        "id": "KFSjRqLfDbxj",
        "outputId": "b8a4775c-5a53-4e32-bf2b-c4daf3fbece0"
      },
      "execution_count": null,
      "outputs": [
        {
          "output_type": "display_data",
          "data": {
            "text/plain": [
              "<Figure size 640x480 with 1 Axes>"
            ],
            "image/png": "[encoded data removed]"
          },
          "metadata": {}
        }
      ]
    },
    {
      "cell_type": "markdown",
      "source": [
        "##Pie chart"
      ],
      "metadata": {
        "id": "bEWlCvOUIMPC"
      }
    },
    {
      "cell_type": "code",
      "source": [
        "df.groupby('DEPARTMENT').size().plot(kind='pie',autopct='%1.1f%%')\n",
        "plt.title(\"Department Distribution\")\n",
        "plt.ylabel(\"\")\n",
        "plt.show()"
      ],
      "metadata": {
        "colab": {
          "base_uri": "https://localhost:8080/",
          "height": 428
        },
        "id": "ZRTnRqLDHXiz",
        "outputId": "3530af35-1f6f-48d6-8b7d-9daacb450756"
      },
      "execution_count": null,
      "outputs": [
        {
          "output_type": "display_data",
          "data": {
            "text/plain": [
              "<Figure size 640x480 with 1 Axes>"
            ],
            "image/png": "[encoded data removed]"
          },
          "metadata": {}
        }
      ]
    },
    {
      "cell_type": "markdown",
      "source": [
        "##🌈Seaborn"
      ],
      "metadata": {
        "id": "FKMBYdZnLCAD"
      }
    },
    {
      "cell_type": "code",
      "source": [
        "import seaborn as sns\n",
        "\n",
        "tips=sns.load_dataset(\"tips\")\n",
        "tips.head()"
      ],
      "metadata": {
        "colab": {
          "base_uri": "https://localhost:8080/",
          "height": 206
        },
        "id": "wpn_Kc0qRUUr",
        "outputId": "e61ad023-07e5-4e8e-a494-8a520b946f9c"
      },
      "execution_count": null,
      "outputs": [
        {
          "output_type": "execute_result",
          "data": {
            "text/plain": [
              "   total_bill   tip     sex smoker  day    time  size\n",
              "0       16.99  1.01  Female     No  Sun  Dinner     2\n",
              "1       10.34  1.66    Male     No  Sun  Dinner     3\n",
              "2       21.01  3.50    Male     No  Sun  Dinner     3\n",
              "3       23.68  3.31    Male     No  Sun  Dinner     2\n",
              "4       24.59  3.61  Female     No  Sun  Dinner     4"
            ],
            "text/html": [
              "\n",
              "  <div id=\"df-d81fbb37-844e-41b3-a0b6-cb217c467b67\" class=\"colab-df-container\">\n",
              "    <div>\n",
              "<style scoped>\n",
              "    .dataframe tbody tr th:only-of-type {\n",
              "        vertical-align: middle;\n",
              "    }\n",
              "\n",
              "    .dataframe tbody tr th {\n",
              "        vertical-align: top;\n",
              "    }\n",
              "\n",
              "    .dataframe thead th {\n",
              "        text-align: right;\n",
              "    }\n",
              "</style>\n",
              "<table border=\"1\" class=\"dataframe\">\n",
              "  <thead>\n",
              "    <tr style=\"text-align: right;\">\n",
              "      <th></th>\n",
              "      <th>total_bill</th>\n",
              "      <th>tip</th>\n",
              "      <th>sex</th>\n",
              "      <th>smoker</th>\n",
              "      <th>day</th>\n",
              "      <th>time</th>\n",
              "      <th>size</th>\n",
              "    </tr>\n",
              "  </thead>\n",
              "  <tbody>\n",
              "    <tr>\n",
              "      <th>0</th>\n",
              "      <td>16.99</td>\n",
              "      <td>1.01</td>\n",
              "      <td>Female</td>\n",
              "      <td>No</td>\n",
              "      <td>Sun</td>\n",
              "      <td>Dinner</td>\n",
              "      <td>2</td>\n",
              "    </tr>\n",
              "    <tr>\n",
              "      <th>1</th>\n",
              "      <td>10.34</td>\n",
              "      <td>1.66</td>\n",
              "      <td>Male</td>\n",
              "      <td>No</td>\n",
              "      <td>Sun</td>\n",
              "      <td>Dinner</td>\n",
              "      <td>3</td>\n",
              "    </tr>\n",
              "    <tr>\n",
              "      <th>2</th>\n",
              "      <td>21.01</td>\n",
              "      <td>3.50</td>\n",
              "      <td>Male</td>\n",
              "      <td>No</td>\n",
              "      <td>Sun</td>\n",
              "      <td>Dinner</td>\n",
              "      <td>3</td>\n",
              "    </tr>\n",
              "    <tr>\n",
              "      <th>3</th>\n",
              "      <td>23.68</td>\n",
              "      <td>3.31</td>\n",
              "      <td>Male</td>\n",
              "      <td>No</td>\n",
              "      <td>Sun</td>\n",
              "      <td>Dinner</td>\n",
              "      <td>2</td>\n",
              "    </tr>\n",
              "    <tr>\n",
              "      <th>4</th>\n",
              "      <td>24.59</td>\n",
              "      <td>3.61</td>\n",
              "      <td>Female</td>\n",
              "      <td>No</td>\n",
              "      <td>Sun</td>\n",
              "      <td>Dinner</td>\n",
              "      <td>4</td>\n",
              "    </tr>\n",
              "  </tbody>\n",
              "</table>\n",
              "</div>\n",
              "    <div class=\"colab-df-buttons\">\n",
              "\n",
              "  <div class=\"colab-df-container\">\n",
              "    <button class=\"colab-df-convert\" onclick=\"convertToInteractive('df-d81fbb37-844e-41b3-a0b6-cb217c467b67')\"\n",
              "            title=\"Convert this dataframe to an interactive table.\"\n",
              "            style=\"display:none;\">\n",
              "\n",
              "  <svg xmlns=\"http://www.w3.org/2000/svg\" height=\"24px\" viewBox=\"0 -960 960 960\">\n",
              "    <path d=\"M120-120v-720h720v720H120Zm60-500h600v-160H180v160Zm220 220h160v-160H400v160Zm0 220h160v-160H400v160ZM180-400h160v-160H180v160Zm440 0h160v-160H620v160ZM180-180h160v-160H180v160Zm440 0h160v-160H620v160Z\"/>\n",
              "  </svg>\n",
              "    </button>\n",
              "\n",
              "  <style>\n",
              "    .colab-df-container {\n",
              "      display:flex;\n",
              "      gap: 12px;\n",
              "    }\n",
              "\n",
              "    .colab-df-convert {\n",
              "      background-color: #E8F0FE;\n",
              "      border: none;\n",
              "      border-radius: 50%;\n",
              "      cursor: pointer;\n",
              "      display: none;\n",
              "      fill: #1967D2;\n",
              "      height: 32px;\n",
              "      padding: 0 0 0 0;\n",
              "      width: 32px;\n",
              "    }\n",
              "\n",
              "    .colab-df-convert:hover {\n",
              "      background-color: #E2EBFA;\n",
              "      box-shadow: 0px 1px 2px rgba(60, 64, 67, 0.3), 0px 1px 3px 1px rgba(60, 64, 67, 0.15);\n",
              "      fill: #174EA6;\n",
              "    }\n",
              "\n",
              "    .colab-df-buttons div {\n",
              "      margin-bottom: 4px;\n",
              "    }\n",
              "\n",
              "    [theme=dark] .colab-df-convert {\n",
              "      background-color: #3B4455;\n",
              "      fill: #D2E3FC;\n",
              "    }\n",
              "\n",
              "    [theme=dark] .colab-df-convert:hover {\n",
              "      background-color: #434B5C;\n",
              "      box-shadow: 0px 1px 3px 1px rgba(0, 0, 0, 0.15);\n",
              "      filter: drop-shadow(0px 1px 2px rgba(0, 0, 0, 0.3));\n",
              "      fill: #FFFFFF;\n",
              "    }\n",
              "  </style>\n",
              "\n",
              "    <script>\n",
              "      const buttonEl =\n",
              "        document.querySelector('#df-d81fbb37-844e-41b3-a0b6-cb217c467b67 button.colab-df-convert');\n",
              "      buttonEl.style.display =\n",
              "        google.colab.kernel.accessAllowed ? 'block' : 'none';\n",
              "\n",
              "      async function convertToInteractive(key) {\n",
              "        const element = document.querySelector('#df-d81fbb37-844e-41b3-a0b6-cb217c467b67');\n",
              "        const dataTable =\n",
              "          await google.colab.kernel.invokeFunction('convertToInteractive',\n",
              "                                                    [key], {});\n",
              "        if (!dataTable) return;\n",
              "\n",
              "        const docLinkHtml = 'Like what you see? Visit the ' +\n",
              "          '<a target=\"_blank\" href=https://colab.research.google.com/notebooks/data_table.ipynb>data table notebook</a>'\n",
              "          + ' to learn more about interactive tables.';\n",
              "        element.innerHTML = '';\n",
              "        dataTable['output_type'] = 'display_data';\n",
              "        await google.colab.output.renderOutput(dataTable, element);\n",
              "        const docLink = document.createElement('div');\n",
              "        docLink.innerHTML = docLinkHtml;\n",
              "        element.appendChild(docLink);\n",
              "      }\n",
              "    </script>\n",
              "  </div>\n",
              "\n",
              "\n",
              "    <div id=\"df-e92c1136-c682-4288-a77d-85f76e59779d\">\n",
              "      <button class=\"colab-df-quickchart\" onclick=\"quickchart('df-e92c1136-c682-4288-a77d-85f76e59779d')\"\n",
              "                title=\"Suggest charts\"\n",
              "                style=\"display:none;\">\n",
              "\n",
              "<svg xmlns=\"http://www.w3.org/2000/svg\" height=\"24px\"viewBox=\"0 0 24 24\"\n",
              "     width=\"24px\">\n",
              "    <g>\n",
              "        <path d=\"M19 3H5c-1.1 0-2 .9-2 2v14c0 1.1.9 2 2 2h14c1.1 0 2-.9 2-2V5c0-1.1-.9-2-2-2zM9 17H7v-7h2v7zm4 0h-2V7h2v10zm4 0h-2v-4h2v4z\"/>\n",
              "    </g>\n",
              "</svg>\n",
              "      </button>\n",
              "\n",
              "<style>\n",
              "  .colab-df-quickchart {\n",
              "      --bg-color: #E8F0FE;\n",
              "      --fill-color: #1967D2;\n",
              "      --hover-bg-color: #E2EBFA;\n",
              "      --hover-fill-color: #174EA6;\n",
              "      --disabled-fill-color: #AAA;\n",
              "      --disabled-bg-color: #DDD;\n",
              "  }\n",
              "\n",
              "  [theme=dark] .colab-df-quickchart {\n",
              "      --bg-color: #3B4455;\n",
              "      --fill-color: #D2E3FC;\n",
              "      --hover-bg-color: #434B5C;\n",
              "      --hover-fill-color: #FFFFFF;\n",
              "      --disabled-bg-color: #3B4455;\n",
              "      --disabled-fill-color: #666;\n",
              "  }\n",
              "\n",
              "  .colab-df-quickchart {\n",
              "    background-color: var(--bg-color);\n",
              "    border: none;\n",
              "    border-radius: 50%;\n",
              "    cursor: pointer;\n",
              "    display: none;\n",
              "    fill: var(--fill-color);\n",
              "    height: 32px;\n",
              "    padding: 0;\n",
              "    width: 32px;\n",
              "  }\n",
              "\n",
              "  .colab-df-quickchart:hover {\n",
              "    background-color: var(--hover-bg-color);\n",
              "    box-shadow: 0 1px 2px rgba(60, 64, 67, 0.3), 0 1px 3px 1px rgba(60, 64, 67, 0.15);\n",
              "    fill: var(--button-hover-fill-color);\n",
              "  }\n",
              "\n",
              "  .colab-df-quickchart-complete:disabled,\n",
              "  .colab-df-quickchart-complete:disabled:hover {\n",
              "    background-color: var(--disabled-bg-color);\n",
              "    fill: var(--disabled-fill-color);\n",
              "    box-shadow: none;\n",
              "  }\n",
              "\n",
              "  .colab-df-spinner {\n",
              "    border: 2px solid var(--fill-color);\n",
              "    border-color: transparent;\n",
              "    border-bottom-color: var(--fill-color);\n",
              "    animation:\n",
              "      spin 1s steps(1) infinite;\n",
              "  }\n",
              "\n",
              "  @keyframes spin {\n",
              "    0% {\n",
              "      border-color: transparent;\n",
              "      border-bottom-color: var(--fill-color);\n",
              "      border-left-color: var(--fill-color);\n",
              "    }\n",
              "    20% {\n",
              "      border-color: transparent;\n",
              "      border-left-color: var(--fill-color);\n",
              "      border-top-color: var(--fill-color);\n",
              "    }\n",
              "    30% {\n",
              "      border-color: transparent;\n",
              "      border-left-color: var(--fill-color);\n",
              "      border-top-color: var(--fill-color);\n",
              "      border-right-color: var(--fill-color);\n",
              "    }\n",
              "    40% {\n",
              "      border-color: transparent;\n",
              "      border-right-color: var(--fill-color);\n",
              "      border-top-color: var(--fill-color);\n",
              "    }\n",
              "    60% {\n",
              "      border-color: transparent;\n",
              "      border-right-color: var(--fill-color);\n",
              "    }\n",
              "    80% {\n",
              "      border-color: transparent;\n",
              "      border-right-color: var(--fill-color);\n",
              "      border-bottom-color: var(--fill-color);\n",
              "    }\n",
              "    90% {\n",
              "      border-color: transparent;\n",
              "      border-bottom-color: var(--fill-color);\n",
              "    }\n",
              "  }\n",
              "</style>\n",
              "\n",
              "      <script>\n",
              "        async function quickchart(key) {\n",
              "          const quickchartButtonEl =\n",
              "            document.querySelector('#' + key + ' button');\n",
              "          quickchartButtonEl.disabled = true;  // To prevent multiple clicks.\n",
              "          quickchartButtonEl.classList.add('colab-df-spinner');\n",
              "          try {\n",
              "            const charts = await google.colab.kernel.invokeFunction(\n",
              "                'suggestCharts', [key], {});\n",
              "          } catch (error) {\n",
              "            console.error('Error during call to suggestCharts:', error);\n",
              "          }\n",
              "          quickchartButtonEl.classList.remove('colab-df-spinner');\n",
              "          quickchartButtonEl.classList.add('colab-df-quickchart-complete');\n",
              "        }\n",
              "        (() => {\n",
              "          let quickchartButtonEl =\n",
              "            document.querySelector('#df-e92c1136-c682-4288-a77d-85f76e59779d button');\n",
              "          quickchartButtonEl.style.display =\n",
              "            google.colab.kernel.accessAllowed ? 'block' : 'none';\n",
              "        })();\n",
              "      </script>\n",
              "    </div>\n",
              "\n",
              "    </div>\n",
              "  </div>\n"
            ],
            "application/vnd.google.colaboratory.intrinsic+json": {
              "type": "dataframe",
              "variable_name": "tips",
              "summary": "{\n  \"name\": \"tips\",\n  \"rows\": 244,\n  \"fields\": [\n    {\n      \"column\": \"total_bill\",\n      \"properties\": {\n        \"dtype\": \"number\",\n        \"std\": 8.902411954856856,\n        \"min\": 3.07,\n        \"max\": 50.81,\n        \"num_unique_values\": 229,\n        \"samples\": [\n          22.12,\n          20.23,\n          14.78\n        ],\n        \"semantic_type\": \"\",\n        \"description\": \"\"\n      }\n    },\n    {\n      \"column\": \"tip\",\n      \"properties\": {\n        \"dtype\": \"number\",\n        \"std\": 1.3836381890011826,\n        \"min\": 1.0,\n        \"max\": 10.0,\n        \"num_unique_values\": 123,\n        \"samples\": [\n          3.35,\n          1.5,\n          6.73\n        ],\n        \"semantic_type\": \"\",\n        \"description\": \"\"\n      }\n    },\n    {\n      \"column\": \"sex\",\n      \"properties\": {\n        \"dtype\": \"category\",\n        \"num_unique_values\": 2,\n        \"samples\": [\n          \"Male\",\n          \"Female\"\n        ],\n        \"semantic_type\": \"\",\n        \"description\": \"\"\n      }\n    },\n    {\n      \"column\": \"smoker\",\n      \"properties\": {\n        \"dtype\": \"category\",\n        \"num_unique_values\": 2,\n        \"samples\": [\n          \"Yes\",\n          \"No\"\n        ],\n        \"semantic_type\": \"\",\n        \"description\": \"\"\n      }\n    },\n    {\n      \"column\": \"day\",\n      \"properties\": {\n        \"dtype\": \"category\",\n        \"num_unique_values\": 4,\n        \"samples\": [\n          \"Sat\",\n          \"Fri\"\n        ],\n        \"semantic_type\": \"\",\n        \"description\": \"\"\n      }\n    },\n    {\n      \"column\": \"time\",\n      \"properties\": {\n        \"dtype\": \"category\",\n        \"num_unique_values\": 2,\n        \"samples\": [\n          \"Lunch\",\n          \"Dinner\"\n        ],\n        \"semantic_type\": \"\",\n        \"description\": \"\"\n      }\n    },\n    {\n      \"column\": \"size\",\n      \"properties\": {\n        \"dtype\": \"number\",\n        \"std\": 0,\n        \"min\": 1,\n        \"max\": 6,\n        \"num_unique_values\": 6,\n        \"samples\": [\n          2,\n          3\n        ],\n        \"semantic_type\": \"\",\n        \"description\": \"\"\n      }\n    }\n  ]\n}"
            }
          },
          "metadata": {},
          "execution_count": 3
        }
      ]
    },
    {
      "cell_type": "code",
      "source": [
        "print(\"\\n Info about the tips datasets:\")\n",
        "tips.info()"
      ],
      "metadata": {
        "colab": {
          "base_uri": "https://localhost:8080/"
        },
        "id": "knm--DZ-Jg8T",
        "outputId": "06f41ce4-95b3-43fe-93fe-71ce3009ca5f"
      },
      "execution_count": null,
      "outputs": [
        {
          "output_type": "stream",
          "name": "stdout",
          "text": [
            "\n",
            " Info about the tips datasets:\n",
            "<class 'pandas.core.frame.DataFrame'>\n",
            "RangeIndex: 244 entries, 0 to 243\n",
            "Data columns (total 7 columns):\n",
            " #   Column      Non-Null Count  Dtype   \n",
            "---  ------      --------------  -----   \n",
            " 0   total_bill  244 non-null    float64 \n",
            " 1   tip         244 non-null    float64 \n",
            " 2   sex         244 non-null    category\n",
            " 3   smoker      244 non-null    category\n",
            " 4   day         244 non-null    category\n",
            " 5   time        244 non-null    category\n",
            " 6   size        244 non-null    int64   \n",
            "dtypes: category(4), float64(2), int64(1)\n",
            "memory usage: 7.4 KB\n"
          ]
        }
      ]
    },
    {
      "cell_type": "code",
      "source": [
        "sns.pairplot(tips,hue=\"sex\")\n",
        "plt.show()"
      ],
      "metadata": {
        "colab": {
          "base_uri": "https://localhost:8080/",
          "height": 758
        },
        "id": "XeL_8nL0STJb",
        "outputId": "fadd844b-10f8-4b19-fb60-02cab21d80fa"
      },
      "execution_count": null,
      "outputs": [
        {
          "output_type": "display_data",
          "data": {
            "text/plain": [
              "<Figure size 850.25x750 with 12 Axes>"
            ],
            "image/png": "[encoded data removed]"
          },
          "metadata": {}
        }
      ]
    },
    {
      "cell_type": "code",
      "source": [
        "corr=tips.corr(numeric_only=True)\n",
        "sns.heatmap(corr,annot=True,cmap=\"coolwarm\")\n",
        "plt.title(\"correleration Matrix\")\n",
        "plt.show()"
      ],
      "metadata": {
        "colab": {
          "base_uri": "https://localhost:8080/",
          "height": 611
        },
        "id": "t6HBlV-uSa3M",
        "outputId": "a7e4351f-f103-4076-ed87-b3169181d572"
      },
      "execution_count": null,
      "outputs": [
        {
          "output_type": "error",
          "ename": "NameError",
          "evalue": "name 'plt' is not defined",
          "traceback": [
            "\u001b[0;31m---------------------------------------------------------------------------\u001b[0m",
            "\u001b[0;31mNameError\u001b[0m                                 Traceback (most recent call last)",
            "\u001b[0;32m/tmp/ipython-input-2873680113.py\u001b[0m in \u001b[0;36m<cell line: 0>\u001b[0;34m()\u001b[0m\n\u001b[1;32m      1\u001b[0m \u001b[0mcorr\u001b[0m\u001b[0;34m=\u001b[0m\u001b[0mtips\u001b[0m\u001b[0;34m.\u001b[0m\u001b[0mcorr\u001b[0m\u001b[0;34m(\u001b[0m\u001b[0mnumeric_only\u001b[0m\u001b[0;34m=\u001b[0m\u001b[0;32mTrue\u001b[0m\u001b[0;34m)\u001b[0m\u001b[0;34m\u001b[0m\u001b[0;34m\u001b[0m\u001b[0m\n\u001b[1;32m      2\u001b[0m \u001b[0msns\u001b[0m\u001b[0;34m.\u001b[0m\u001b[0mheatmap\u001b[0m\u001b[0;34m(\u001b[0m\u001b[0mcorr\u001b[0m\u001b[0;34m,\u001b[0m\u001b[0mannot\u001b[0m\u001b[0;34m=\u001b[0m\u001b[0;32mTrue\u001b[0m\u001b[0;34m,\u001b[0m\u001b[0mcmap\u001b[0m\u001b[0;34m=\u001b[0m\u001b[0;34m\"coolwarm\"\u001b[0m\u001b[0;34m)\u001b[0m\u001b[0;34m\u001b[0m\u001b[0;34m\u001b[0m\u001b[0m\n\u001b[0;32m----> 3\u001b[0;31m \u001b[0mplt\u001b[0m\u001b[0;34m.\u001b[0m\u001b[0mtitle\u001b[0m\u001b[0;34m(\u001b[0m\u001b[0;34m\"correleration Matrix\"\u001b[0m\u001b[0;34m)\u001b[0m\u001b[0;34m\u001b[0m\u001b[0;34m\u001b[0m\u001b[0m\n\u001b[0m\u001b[1;32m      4\u001b[0m \u001b[0mplt\u001b[0m\u001b[0;34m.\u001b[0m\u001b[0mshow\u001b[0m\u001b[0;34m(\u001b[0m\u001b[0;34m)\u001b[0m\u001b[0;34m\u001b[0m\u001b[0;34m\u001b[0m\u001b[0m\n",
            "\u001b[0;31mNameError\u001b[0m: name 'plt' is not defined"
          ]
        },
        {
          "output_type": "display_data",
          "data": {
            "text/plain": [
              "<Figure size 640x480 with 2 Axes>"
            ],
            "image/png": "[encoded data removed]"
          },
          "metadata": {}
        }
      ]
    },
    {
      "cell_type": "code",
      "source": [
        "sns.countplot(x='day',data=tips,palette='Set2',hue='day',legend=False)\n",
        "plt.title(\"Day of the week\")\n",
        "plt.show()"
      ],
      "metadata": {
        "colab": {
          "base_uri": "https://localhost:8080/",
          "height": 472
        },
        "id": "-REjGCjVS85F",
        "outputId": "29685e71-d831-432a-c17d-23f9292c9f6e"
      },
      "execution_count": null,
      "outputs": [
        {
          "output_type": "display_data",
          "data": {
            "text/plain": [
              "<Figure size 640x480 with 1 Axes>"
            ],
            "image/png": "[encoded data removed]"
          },
          "metadata": {}
        }
      ]
    },
    {
      "cell_type": "markdown",
      "source": [
        "##Boxplot\n"
      ],
      "metadata": {
        "id": "sBO_CGzaUYWk"
      }
    },
    {
      "cell_type": "markdown",
      "source": [],
      "metadata": {
        "id": "g7plc9n0UeT7"
      }
    },
    {
      "cell_type": "code",
      "source": [
        "sns.boxplot(x='day',y='total_bill',data=tips)\n",
        "plt.title(\"Total Bill by Day\")\n",
        "plt.show()"
      ],
      "metadata": {
        "colab": {
          "base_uri": "https://localhost:8080/",
          "height": 472
        },
        "id": "2iL2hGhsTgUD",
        "outputId": "eb0021bc-a3d6-4cda-b055-3731fdf5d0fe"
      },
      "execution_count": null,
      "outputs": [
        {
          "output_type": "display_data",
          "data": {
            "text/plain": [
              "<Figure size 640x480 with 1 Axes>"
            ],
            "image/png": "[encoded data removed]"
          },
          "metadata": {}
        }
      ]
    },
    {
      "cell_type": "markdown",
      "source": [
        "#**⚡Data Prepocessing in python**"
      ],
      "metadata": {
        "id": "P1IAmEgyFNAs"
      }
    },
    {
      "cell_type": "markdown",
      "source": [
        "it can have missing values,wrong formats,different scales,or categories that need conversion"
      ],
      "metadata": {
        "id": "IbqjOfxkRX-g"
      }
    },
    {
      "cell_type": "markdown",
      "source": [
        "##Handling Missing Data"
      ],
      "metadata": {
        "id": "zx-h-LB3RpcK"
      }
    },
    {
      "cell_type": "markdown",
      "source": [
        "- human error\n",
        "- data corruption\n",
        "- not applicable fields\n"
      ],
      "metadata": {
        "id": "VnnvfFFTR0aj"
      }
    },
    {
      "cell_type": "markdown",
      "source": [
        "##Checking for missing values"
      ],
      "metadata": {
        "id": "uj1rU5VDSuFb"
      }
    },
    {
      "cell_type": "code",
      "source": [
        "import pandas as pd\n",
        "df=pd.read_csv('https://raw.githubusercontent.com/datasciencedojo/datasets/master/titanic.csv')\n",
        "df.isnull().sum()"
      ],
      "metadata": {
        "colab": {
          "base_uri": "https://localhost:8080/",
          "height": 460
        },
        "id": "wE26JLZRFne0",
        "outputId": "66387171-10e5-419e-c54c-55af1ebf8281"
      },
      "execution_count": null,
      "outputs": [
        {
          "output_type": "execute_result",
          "data": {
            "text/plain": [
              "PassengerId      0\n",
              "Survived         0\n",
              "Pclass           0\n",
              "Name             0\n",
              "Sex              0\n",
              "Age            177\n",
              "SibSp            0\n",
              "Parch            0\n",
              "Ticket           0\n",
              "Fare             0\n",
              "Cabin          687\n",
              "Embarked         2\n",
              "dtype: int64"
            ],
            "text/html": [
              "<div>\n",
              "<style scoped>\n",
              "    .dataframe tbody tr th:only-of-type {\n",
              "        vertical-align: middle;\n",
              "    }\n",
              "\n",
              "    .dataframe tbody tr th {\n",
              "        vertical-align: top;\n",
              "    }\n",
              "\n",
              "    .dataframe thead th {\n",
              "        text-align: right;\n",
              "    }\n",
              "</style>\n",
              "<table border=\"1\" class=\"dataframe\">\n",
              "  <thead>\n",
              "    <tr style=\"text-align: right;\">\n",
              "      <th></th>\n",
              "      <th>0</th>\n",
              "    </tr>\n",
              "  </thead>\n",
              "  <tbody>\n",
              "    <tr>\n",
              "      <th>PassengerId</th>\n",
              "      <td>0</td>\n",
              "    </tr>\n",
              "    <tr>\n",
              "      <th>Survived</th>\n",
              "      <td>0</td>\n",
              "    </tr>\n",
              "    <tr>\n",
              "      <th>Pclass</th>\n",
              "      <td>0</td>\n",
              "    </tr>\n",
              "    <tr>\n",
              "      <th>Name</th>\n",
              "      <td>0</td>\n",
              "    </tr>\n",
              "    <tr>\n",
              "      <th>Sex</th>\n",
              "      <td>0</td>\n",
              "    </tr>\n",
              "    <tr>\n",
              "      <th>Age</th>\n",
              "      <td>177</td>\n",
              "    </tr>\n",
              "    <tr>\n",
              "      <th>SibSp</th>\n",
              "      <td>0</td>\n",
              "    </tr>\n",
              "    <tr>\n",
              "      <th>Parch</th>\n",
              "      <td>0</td>\n",
              "    </tr>\n",
              "    <tr>\n",
              "      <th>Ticket</th>\n",
              "      <td>0</td>\n",
              "    </tr>\n",
              "    <tr>\n",
              "      <th>Fare</th>\n",
              "      <td>0</td>\n",
              "    </tr>\n",
              "    <tr>\n",
              "      <th>Cabin</th>\n",
              "      <td>687</td>\n",
              "    </tr>\n",
              "    <tr>\n",
              "      <th>Embarked</th>\n",
              "      <td>2</td>\n",
              "    </tr>\n",
              "  </tbody>\n",
              "</table>\n",
              "</div><br><label><b>dtype:</b> int64</label>"
            ]
          },
          "metadata": {},
          "execution_count": 77
        }
      ]
    },
    {
      "cell_type": "code",
      "source": [
        "#pd.set_option(\"display.max_rows\",None)\n",
        "df[df['Age'].isnull()]"
      ],
      "metadata": {
        "colab": {
          "base_uri": "https://localhost:8080/",
          "height": 424
        },
        "id": "-ijyXALfUpuj",
        "outputId": "b81a2262-c0fa-4831-99c7-a1b1849bb6ab"
      },
      "execution_count": null,
      "outputs": [
        {
          "output_type": "execute_result",
          "data": {
            "text/plain": [
              "     PassengerId  Survived  Pclass                                      Name  \\\n",
              "5              6         0       3                          Moran, Mr. James   \n",
              "17            18         1       2              Williams, Mr. Charles Eugene   \n",
              "19            20         1       3                   Masselmani, Mrs. Fatima   \n",
              "26            27         0       3                   Emir, Mr. Farred Chehab   \n",
              "28            29         1       3             O'Dwyer, Miss. Ellen \"Nellie\"   \n",
              "..           ...       ...     ...                                       ...   \n",
              "859          860         0       3                          Razi, Mr. Raihed   \n",
              "863          864         0       3         Sage, Miss. Dorothy Edith \"Dolly\"   \n",
              "868          869         0       3               van Melkebeke, Mr. Philemon   \n",
              "878          879         0       3                        Laleff, Mr. Kristo   \n",
              "888          889         0       3  Johnston, Miss. Catherine Helen \"Carrie\"   \n",
              "\n",
              "        Sex  Age  SibSp  Parch      Ticket     Fare Cabin Embarked  \n",
              "5      male  NaN      0      0      330877   8.4583   NaN        Q  \n",
              "17     male  NaN      0      0      244373  13.0000   NaN        S  \n",
              "19   female  NaN      0      0        2649   7.2250   NaN        C  \n",
              "26     male  NaN      0      0        2631   7.2250   NaN        C  \n",
              "28   female  NaN      0      0      330959   7.8792   NaN        Q  \n",
              "..      ...  ...    ...    ...         ...      ...   ...      ...  \n",
              "859    male  NaN      0      0        2629   7.2292   NaN        C  \n",
              "863  female  NaN      8      2    CA. 2343  69.5500   NaN        S  \n",
              "868    male  NaN      0      0      345777   9.5000   NaN        S  \n",
              "878    male  NaN      0      0      349217   7.8958   NaN        S  \n",
              "888  female  NaN      1      2  W./C. 6607  23.4500   NaN        S  \n",
              "\n",
              "[177 rows x 12 columns]"
            ],
            "text/html": [
              "\n",
              "  <div id=\"df-cdc74ca1-85e9-4fe0-b727-0454eba84003\" class=\"colab-df-container\">\n",
              "    <div>\n",
              "<style scoped>\n",
              "    .dataframe tbody tr th:only-of-type {\n",
              "        vertical-align: middle;\n",
              "    }\n",
              "\n",
              "    .dataframe tbody tr th {\n",
              "        vertical-align: top;\n",
              "    }\n",
              "\n",
              "    .dataframe thead th {\n",
              "        text-align: right;\n",
              "    }\n",
              "</style>\n",
              "<table border=\"1\" class=\"dataframe\">\n",
              "  <thead>\n",
              "    <tr style=\"text-align: right;\">\n",
              "      <th></th>\n",
              "      <th>PassengerId</th>\n",
              "      <th>Survived</th>\n",
              "      <th>Pclass</th>\n",
              "      <th>Name</th>\n",
              "      <th>Sex</th>\n",
              "      <th>Age</th>\n",
              "      <th>SibSp</th>\n",
              "      <th>Parch</th>\n",
              "      <th>Ticket</th>\n",
              "      <th>Fare</th>\n",
              "      <th>Cabin</th>\n",
              "      <th>Embarked</th>\n",
              "    </tr>\n",
              "  </thead>\n",
              "  <tbody>\n",
              "    <tr>\n",
              "      <th>5</th>\n",
              "      <td>6</td>\n",
              "      <td>0</td>\n",
              "      <td>3</td>\n",
              "      <td>Moran, Mr. James</td>\n",
              "      <td>male</td>\n",
              "      <td>NaN</td>\n",
              "      <td>0</td>\n",
              "      <td>0</td>\n",
              "      <td>330877</td>\n",
              "      <td>8.4583</td>\n",
              "      <td>NaN</td>\n",
              "      <td>Q</td>\n",
              "    </tr>\n",
              "    <tr>\n",
              "      <th>17</th>\n",
              "      <td>18</td>\n",
              "      <td>1</td>\n",
              "      <td>2</td>\n",
              "      <td>Williams, Mr. Charles Eugene</td>\n",
              "      <td>male</td>\n",
              "      <td>NaN</td>\n",
              "      <td>0</td>\n",
              "      <td>0</td>\n",
              "      <td>244373</td>\n",
              "      <td>13.0000</td>\n",
              "      <td>NaN</td>\n",
              "      <td>S</td>\n",
              "    </tr>\n",
              "    <tr>\n",
              "      <th>19</th>\n",
              "      <td>20</td>\n",
              "      <td>1</td>\n",
              "      <td>3</td>\n",
              "      <td>Masselmani, Mrs. Fatima</td>\n",
              "      <td>female</td>\n",
              "      <td>NaN</td>\n",
              "      <td>0</td>\n",
              "      <td>0</td>\n",
              "      <td>2649</td>\n",
              "      <td>7.2250</td>\n",
              "      <td>NaN</td>\n",
              "      <td>C</td>\n",
              "    </tr>\n",
              "    <tr>\n",
              "      <th>26</th>\n",
              "      <td>27</td>\n",
              "      <td>0</td>\n",
              "      <td>3</td>\n",
              "      <td>Emir, Mr. Farred Chehab</td>\n",
              "      <td>male</td>\n",
              "      <td>NaN</td>\n",
              "      <td>0</td>\n",
              "      <td>0</td>\n",
              "      <td>2631</td>\n",
              "      <td>7.2250</td>\n",
              "      <td>NaN</td>\n",
              "      <td>C</td>\n",
              "    </tr>\n",
              "    <tr>\n",
              "      <th>28</th>\n",
              "      <td>29</td>\n",
              "      <td>1</td>\n",
              "      <td>3</td>\n",
              "      <td>O'Dwyer, Miss. Ellen \"Nellie\"</td>\n",
              "      <td>female</td>\n",
              "      <td>NaN</td>\n",
              "      <td>0</td>\n",
              "      <td>0</td>\n",
              "      <td>330959</td>\n",
              "      <td>7.8792</td>\n",
              "      <td>NaN</td>\n",
              "      <td>Q</td>\n",
              "    </tr>\n",
              "    <tr>\n",
              "      <th>...</th>\n",
              "      <td>...</td>\n",
              "      <td>...</td>\n",
              "      <td>...</td>\n",
              "      <td>...</td>\n",
              "      <td>...</td>\n",
              "      <td>...</td>\n",
              "      <td>...</td>\n",
              "      <td>...</td>\n",
              "      <td>...</td>\n",
              "      <td>...</td>\n",
              "      <td>...</td>\n",
              "      <td>...</td>\n",
              "    </tr>\n",
              "    <tr>\n",
              "      <th>859</th>\n",
              "      <td>860</td>\n",
              "      <td>0</td>\n",
              "      <td>3</td>\n",
              "      <td>Razi, Mr. Raihed</td>\n",
              "      <td>male</td>\n",
              "      <td>NaN</td>\n",
              "      <td>0</td>\n",
              "      <td>0</td>\n",
              "      <td>2629</td>\n",
              "      <td>7.2292</td>\n",
              "      <td>NaN</td>\n",
              "      <td>C</td>\n",
              "    </tr>\n",
              "    <tr>\n",
              "      <th>863</th>\n",
              "      <td>864</td>\n",
              "      <td>0</td>\n",
              "      <td>3</td>\n",
              "      <td>Sage, Miss. Dorothy Edith \"Dolly\"</td>\n",
              "      <td>female</td>\n",
              "      <td>NaN</td>\n",
              "      <td>8</td>\n",
              "      <td>2</td>\n",
              "      <td>CA. 2343</td>\n",
              "      <td>69.5500</td>\n",
              "      <td>NaN</td>\n",
              "      <td>S</td>\n",
              "    </tr>\n",
              "    <tr>\n",
              "      <th>868</th>\n",
              "      <td>869</td>\n",
              "      <td>0</td>\n",
              "      <td>3</td>\n",
              "      <td>van Melkebeke, Mr. Philemon</td>\n",
              "      <td>male</td>\n",
              "      <td>NaN</td>\n",
              "      <td>0</td>\n",
              "      <td>0</td>\n",
              "      <td>345777</td>\n",
              "      <td>9.5000</td>\n",
              "      <td>NaN</td>\n",
              "      <td>S</td>\n",
              "    </tr>\n",
              "    <tr>\n",
              "      <th>878</th>\n",
              "      <td>879</td>\n",
              "      <td>0</td>\n",
              "      <td>3</td>\n",
              "      <td>Laleff, Mr. Kristo</td>\n",
              "      <td>male</td>\n",
              "      <td>NaN</td>\n",
              "      <td>0</td>\n",
              "      <td>0</td>\n",
              "      <td>349217</td>\n",
              "      <td>7.8958</td>\n",
              "      <td>NaN</td>\n",
              "      <td>S</td>\n",
              "    </tr>\n",
              "    <tr>\n",
              "      <th>888</th>\n",
              "      <td>889</td>\n",
              "      <td>0</td>\n",
              "      <td>3</td>\n",
              "      <td>Johnston, Miss. Catherine Helen \"Carrie\"</td>\n",
              "      <td>female</td>\n",
              "      <td>NaN</td>\n",
              "      <td>1</td>\n",
              "      <td>2</td>\n",
              "      <td>W./C. 6607</td>\n",
              "      <td>23.4500</td>\n",
              "      <td>NaN</td>\n",
              "      <td>S</td>\n",
              "    </tr>\n",
              "  </tbody>\n",
              "</table>\n",
              "<p>177 rows × 12 columns</p>\n",
              "</div>\n",
              "    <div class=\"colab-df-buttons\">\n",
              "\n",
              "  <div class=\"colab-df-container\">\n",
              "    <button class=\"colab-df-convert\" onclick=\"convertToInteractive('df-cdc74ca1-85e9-4fe0-b727-0454eba84003')\"\n",
              "            title=\"Convert this dataframe to an interactive table.\"\n",
              "            style=\"display:none;\">\n",
              "\n",
              "  <svg xmlns=\"http://www.w3.org/2000/svg\" height=\"24px\" viewBox=\"0 -960 960 960\">\n",
              "    <path d=\"M120-120v-720h720v720H120Zm60-500h600v-160H180v160Zm220 220h160v-160H400v160Zm0 220h160v-160H400v160ZM180-400h160v-160H180v160Zm440 0h160v-160H620v160ZM180-180h160v-160H180v160Zm440 0h160v-160H620v160Z\"/>\n",
              "  </svg>\n",
              "    </button>\n",
              "\n",
              "  <style>\n",
              "    .colab-df-container {\n",
              "      display:flex;\n",
              "      gap: 12px;\n",
              "    }\n",
              "\n",
              "    .colab-df-convert {\n",
              "      background-color: #E8F0FE;\n",
              "      border: none;\n",
              "      border-radius: 50%;\n",
              "      cursor: pointer;\n",
              "      display: none;\n",
              "      fill: #1967D2;\n",
              "      height: 32px;\n",
              "      padding: 0 0 0 0;\n",
              "      width: 32px;\n",
              "    }\n",
              "\n",
              "    .colab-df-convert:hover {\n",
              "      background-color: #E2EBFA;\n",
              "      box-shadow: 0px 1px 2px rgba(60, 64, 67, 0.3), 0px 1px 3px 1px rgba(60, 64, 67, 0.15);\n",
              "      fill: #174EA6;\n",
              "    }\n",
              "\n",
              "    .colab-df-buttons div {\n",
              "      margin-bottom: 4px;\n",
              "    }\n",
              "\n",
              "    [theme=dark] .colab-df-convert {\n",
              "      background-color: #3B4455;\n",
              "      fill: #D2E3FC;\n",
              "    }\n",
              "\n",
              "    [theme=dark] .colab-df-convert:hover {\n",
              "      background-color: #434B5C;\n",
              "      box-shadow: 0px 1px 3px 1px rgba(0, 0, 0, 0.15);\n",
              "      filter: drop-shadow(0px 1px 2px rgba(0, 0, 0, 0.3));\n",
              "      fill: #FFFFFF;\n",
              "    }\n",
              "  </style>\n",
              "\n",
              "    <script>\n",
              "      const buttonEl =\n",
              "        document.querySelector('#df-cdc74ca1-85e9-4fe0-b727-0454eba84003 button.colab-df-convert');\n",
              "      buttonEl.style.display =\n",
              "        google.colab.kernel.accessAllowed ? 'block' : 'none';\n",
              "\n",
              "      async function convertToInteractive(key) {\n",
              "        const element = document.querySelector('#df-cdc74ca1-85e9-4fe0-b727-0454eba84003');\n",
              "        const dataTable =\n",
              "          await google.colab.kernel.invokeFunction('convertToInteractive',\n",
              "                                                    [key], {});\n",
              "        if (!dataTable) return;\n",
              "\n",
              "        const docLinkHtml = 'Like what you see? Visit the ' +\n",
              "          '<a target=\"_blank\" href=https://colab.research.google.com/notebooks/data_table.ipynb>data table notebook</a>'\n",
              "          + ' to learn more about interactive tables.';\n",
              "        element.innerHTML = '';\n",
              "        dataTable['output_type'] = 'display_data';\n",
              "        await google.colab.output.renderOutput(dataTable, element);\n",
              "        const docLink = document.createElement('div');\n",
              "        docLink.innerHTML = docLinkHtml;\n",
              "        element.appendChild(docLink);\n",
              "      }\n",
              "    </script>\n",
              "  </div>\n",
              "\n",
              "\n",
              "    <div id=\"df-7960ddc5-bf69-48d0-a40a-685779e154cd\">\n",
              "      <button class=\"colab-df-quickchart\" onclick=\"quickchart('df-7960ddc5-bf69-48d0-a40a-685779e154cd')\"\n",
              "                title=\"Suggest charts\"\n",
              "                style=\"display:none;\">\n",
              "\n",
              "<svg xmlns=\"http://www.w3.org/2000/svg\" height=\"24px\"viewBox=\"0 0 24 24\"\n",
              "     width=\"24px\">\n",
              "    <g>\n",
              "        <path d=\"M19 3H5c-1.1 0-2 .9-2 2v14c0 1.1.9 2 2 2h14c1.1 0 2-.9 2-2V5c0-1.1-.9-2-2-2zM9 17H7v-7h2v7zm4 0h-2V7h2v10zm4 0h-2v-4h2v4z\"/>\n",
              "    </g>\n",
              "</svg>\n",
              "      </button>\n",
              "\n",
              "<style>\n",
              "  .colab-df-quickchart {\n",
              "      --bg-color: #E8F0FE;\n",
              "      --fill-color: #1967D2;\n",
              "      --hover-bg-color: #E2EBFA;\n",
              "      --hover-fill-color: #174EA6;\n",
              "      --disabled-fill-color: #AAA;\n",
              "      --disabled-bg-color: #DDD;\n",
              "  }\n",
              "\n",
              "  [theme=dark] .colab-df-quickchart {\n",
              "      --bg-color: #3B4455;\n",
              "      --fill-color: #D2E3FC;\n",
              "      --hover-bg-color: #434B5C;\n",
              "      --hover-fill-color: #FFFFFF;\n",
              "      --disabled-bg-color: #3B4455;\n",
              "      --disabled-fill-color: #666;\n",
              "  }\n",
              "\n",
              "  .colab-df-quickchart {\n",
              "    background-color: var(--bg-color);\n",
              "    border: none;\n",
              "    border-radius: 50%;\n",
              "    cursor: pointer;\n",
              "    display: none;\n",
              "    fill: var(--fill-color);\n",
              "    height: 32px;\n",
              "    padding: 0;\n",
              "    width: 32px;\n",
              "  }\n",
              "\n",
              "  .colab-df-quickchart:hover {\n",
              "    background-color: var(--hover-bg-color);\n",
              "    box-shadow: 0 1px 2px rgba(60, 64, 67, 0.3), 0 1px 3px 1px rgba(60, 64, 67, 0.15);\n",
              "    fill: var(--button-hover-fill-color);\n",
              "  }\n",
              "\n",
              "  .colab-df-quickchart-complete:disabled,\n",
              "  .colab-df-quickchart-complete:disabled:hover {\n",
              "    background-color: var(--disabled-bg-color);\n",
              "    fill: var(--disabled-fill-color);\n",
              "    box-shadow: none;\n",
              "  }\n",
              "\n",
              "  .colab-df-spinner {\n",
              "    border: 2px solid var(--fill-color);\n",
              "    border-color: transparent;\n",
              "    border-bottom-color: var(--fill-color);\n",
              "    animation:\n",
              "      spin 1s steps(1) infinite;\n",
              "  }\n",
              "\n",
              "  @keyframes spin {\n",
              "    0% {\n",
              "      border-color: transparent;\n",
              "      border-bottom-color: var(--fill-color);\n",
              "      border-left-color: var(--fill-color);\n",
              "    }\n",
              "    20% {\n",
              "      border-color: transparent;\n",
              "      border-left-color: var(--fill-color);\n",
              "      border-top-color: var(--fill-color);\n",
              "    }\n",
              "    30% {\n",
              "      border-color: transparent;\n",
              "      border-left-color: var(--fill-color);\n",
              "      border-top-color: var(--fill-color);\n",
              "      border-right-color: var(--fill-color);\n",
              "    }\n",
              "    40% {\n",
              "      border-color: transparent;\n",
              "      border-right-color: var(--fill-color);\n",
              "      border-top-color: var(--fill-color);\n",
              "    }\n",
              "    60% {\n",
              "      border-color: transparent;\n",
              "      border-right-color: var(--fill-color);\n",
              "    }\n",
              "    80% {\n",
              "      border-color: transparent;\n",
              "      border-right-color: var(--fill-color);\n",
              "      border-bottom-color: var(--fill-color);\n",
              "    }\n",
              "    90% {\n",
              "      border-color: transparent;\n",
              "      border-bottom-color: var(--fill-color);\n",
              "    }\n",
              "  }\n",
              "</style>\n",
              "\n",
              "      <script>\n",
              "        async function quickchart(key) {\n",
              "          const quickchartButtonEl =\n",
              "            document.querySelector('#' + key + ' button');\n",
              "          quickchartButtonEl.disabled = true;  // To prevent multiple clicks.\n",
              "          quickchartButtonEl.classList.add('colab-df-spinner');\n",
              "          try {\n",
              "            const charts = await google.colab.kernel.invokeFunction(\n",
              "                'suggestCharts', [key], {});\n",
              "          } catch (error) {\n",
              "            console.error('Error during call to suggestCharts:', error);\n",
              "          }\n",
              "          quickchartButtonEl.classList.remove('colab-df-spinner');\n",
              "          quickchartButtonEl.classList.add('colab-df-quickchart-complete');\n",
              "        }\n",
              "        (() => {\n",
              "          let quickchartButtonEl =\n",
              "            document.querySelector('#df-7960ddc5-bf69-48d0-a40a-685779e154cd button');\n",
              "          quickchartButtonEl.style.display =\n",
              "            google.colab.kernel.accessAllowed ? 'block' : 'none';\n",
              "        })();\n",
              "      </script>\n",
              "    </div>\n",
              "\n",
              "    </div>\n",
              "  </div>\n"
            ],
            "application/vnd.google.colaboratory.intrinsic+json": {
              "type": "dataframe",
              "summary": "{\n  \"name\": \"df[df['Age']\",\n  \"rows\": 177,\n  \"fields\": [\n    {\n      \"column\": \"PassengerId\",\n      \"properties\": {\n        \"dtype\": \"number\",\n        \"std\": 250,\n        \"min\": 6,\n        \"max\": 889,\n        \"num_unique_values\": 177,\n        \"samples\": [\n          83,\n          236,\n          668\n        ],\n        \"semantic_type\": \"\",\n        \"description\": \"\"\n      }\n    },\n    {\n      \"column\": \"Survived\",\n      \"properties\": {\n        \"dtype\": \"number\",\n        \"std\": 0,\n        \"min\": 0,\n        \"max\": 1,\n        \"num_unique_values\": 2,\n        \"samples\": [\n          1,\n          0\n        ],\n        \"semantic_type\": \"\",\n        \"description\": \"\"\n      }\n    },\n    {\n      \"column\": \"Pclass\",\n      \"properties\": {\n        \"dtype\": \"number\",\n        \"std\": 0,\n        \"min\": 1,\n        \"max\": 3,\n        \"num_unique_values\": 3,\n        \"samples\": [\n          3,\n          2\n        ],\n        \"semantic_type\": \"\",\n        \"description\": \"\"\n      }\n    },\n    {\n      \"column\": \"Name\",\n      \"properties\": {\n        \"dtype\": \"string\",\n        \"num_unique_values\": 177,\n        \"samples\": [\n          \"McDermott, Miss. Brigdet Delia\",\n          \"Harknett, Miss. Alice Phoebe\"\n        ],\n        \"semantic_type\": \"\",\n        \"description\": \"\"\n      }\n    },\n    {\n      \"column\": \"Sex\",\n      \"properties\": {\n        \"dtype\": \"category\",\n        \"num_unique_values\": 2,\n        \"samples\": [\n          \"female\",\n          \"male\"\n        ],\n        \"semantic_type\": \"\",\n        \"description\": \"\"\n      }\n    },\n    {\n      \"column\": \"Age\",\n      \"properties\": {\n        \"dtype\": \"number\",\n        \"std\": null,\n        \"min\": null,\n        \"max\": null,\n        \"num_unique_values\": 0,\n        \"samples\": [],\n        \"semantic_type\": \"\",\n        \"description\": \"\"\n      }\n    },\n    {\n      \"column\": \"SibSp\",\n      \"properties\": {\n        \"dtype\": \"number\",\n        \"std\": 1,\n        \"min\": 0,\n        \"max\": 8,\n        \"num_unique_values\": 5,\n        \"samples\": [],\n        \"semantic_type\": \"\",\n        \"description\": \"\"\n      }\n    },\n    {\n      \"column\": \"Parch\",\n      \"properties\": {\n        \"dtype\": \"number\",\n        \"std\": 0,\n        \"min\": 0,\n        \"max\": 2,\n        \"num_unique_values\": 3,\n        \"samples\": [],\n        \"semantic_type\": \"\",\n        \"description\": \"\"\n      }\n    },\n    {\n      \"column\": \"Ticket\",\n      \"properties\": {\n        \"dtype\": \"string\",\n        \"num_unique_values\": 155,\n        \"samples\": [],\n        \"semantic_type\": \"\",\n        \"description\": \"\"\n      }\n    },\n    {\n      \"column\": \"Fare\",\n      \"properties\": {\n        \"dtype\": \"number\",\n        \"std\": 31.874608202349055,\n        \"min\": 0.0,\n        \"max\": 227.525,\n        \"num_unique_values\": 73,\n        \"samples\": [],\n        \"semantic_type\": \"\",\n        \"description\": \"\"\n      }\n    },\n    {\n      \"column\": \"Cabin\",\n      \"properties\": {\n        \"dtype\": \"category\",\n        \"num_unique_values\": 19,\n        \"samples\": [],\n        \"semantic_type\": \"\",\n        \"description\": \"\"\n      }\n    },\n    {\n      \"column\": \"Embarked\",\n      \"properties\": {\n        \"dtype\": \"category\",\n        \"num_unique_values\": 3,\n        \"samples\": [],\n        \"semantic_type\": \"\",\n        \"description\": \"\"\n      }\n    }\n  ]\n}"
            }
          },
          "metadata": {},
          "execution_count": 78
        }
      ]
    },
    {
      "cell_type": "code",
      "source": [
        "df.iloc[5]"
      ],
      "metadata": {
        "colab": {
          "base_uri": "https://localhost:8080/",
          "height": 460
        },
        "id": "shCz3xDlVOVg",
        "outputId": "c6d96bf6-e266-465b-9032-9468bd0908c3"
      },
      "execution_count": null,
      "outputs": [
        {
          "output_type": "execute_result",
          "data": {
            "text/plain": [
              "PassengerId                   6\n",
              "Survived                      0\n",
              "Pclass                        3\n",
              "Name           Moran, Mr. James\n",
              "Sex                        male\n",
              "Age                         NaN\n",
              "SibSp                         0\n",
              "Parch                         0\n",
              "Ticket                   330877\n",
              "Fare                     8.4583\n",
              "Cabin                       NaN\n",
              "Embarked                      Q\n",
              "Name: 5, dtype: object"
            ],
            "text/html": [
              "<div>\n",
              "<style scoped>\n",
              "    .dataframe tbody tr th:only-of-type {\n",
              "        vertical-align: middle;\n",
              "    }\n",
              "\n",
              "    .dataframe tbody tr th {\n",
              "        vertical-align: top;\n",
              "    }\n",
              "\n",
              "    .dataframe thead th {\n",
              "        text-align: right;\n",
              "    }\n",
              "</style>\n",
              "<table border=\"1\" class=\"dataframe\">\n",
              "  <thead>\n",
              "    <tr style=\"text-align: right;\">\n",
              "      <th></th>\n",
              "      <th>5</th>\n",
              "    </tr>\n",
              "  </thead>\n",
              "  <tbody>\n",
              "    <tr>\n",
              "      <th>PassengerId</th>\n",
              "      <td>6</td>\n",
              "    </tr>\n",
              "    <tr>\n",
              "      <th>Survived</th>\n",
              "      <td>0</td>\n",
              "    </tr>\n",
              "    <tr>\n",
              "      <th>Pclass</th>\n",
              "      <td>3</td>\n",
              "    </tr>\n",
              "    <tr>\n",
              "      <th>Name</th>\n",
              "      <td>Moran, Mr. James</td>\n",
              "    </tr>\n",
              "    <tr>\n",
              "      <th>Sex</th>\n",
              "      <td>male</td>\n",
              "    </tr>\n",
              "    <tr>\n",
              "      <th>Age</th>\n",
              "      <td>NaN</td>\n",
              "    </tr>\n",
              "    <tr>\n",
              "      <th>SibSp</th>\n",
              "      <td>0</td>\n",
              "    </tr>\n",
              "    <tr>\n",
              "      <th>Parch</th>\n",
              "      <td>0</td>\n",
              "    </tr>\n",
              "    <tr>\n",
              "      <th>Ticket</th>\n",
              "      <td>330877</td>\n",
              "    </tr>\n",
              "    <tr>\n",
              "      <th>Fare</th>\n",
              "      <td>8.4583</td>\n",
              "    </tr>\n",
              "    <tr>\n",
              "      <th>Cabin</th>\n",
              "      <td>NaN</td>\n",
              "    </tr>\n",
              "    <tr>\n",
              "      <th>Embarked</th>\n",
              "      <td>Q</td>\n",
              "    </tr>\n",
              "  </tbody>\n",
              "</table>\n",
              "</div><br><label><b>dtype:</b> object</label>"
            ]
          },
          "metadata": {},
          "execution_count": 79
        }
      ]
    },
    {
      "cell_type": "markdown",
      "source": [
        "##a)Drop rows or columns"
      ],
      "metadata": {
        "id": "oUVPeo4XVzib"
      }
    },
    {
      "cell_type": "code",
      "source": [
        "#df.dropna(inplace=true) --> #drop rows with any missing values\n",
        "#df.dropna(subset=['Age'],inplace=true)\n",
        "df.drop(columns=['Cabin'],inplace=True)"
      ],
      "metadata": {
        "id": "PA1BOErOV7PE"
      },
      "execution_count": null,
      "outputs": []
    },
    {
      "cell_type": "code",
      "source": [
        "df.info()"
      ],
      "metadata": {
        "colab": {
          "base_uri": "https://localhost:8080/"
        },
        "id": "V3GX6ftnYbNT",
        "outputId": "7b2d62c1-ef0a-46ed-f924-eb04ef60fb18"
      },
      "execution_count": null,
      "outputs": [
        {
          "output_type": "stream",
          "name": "stdout",
          "text": [
            "<class 'pandas.core.frame.DataFrame'>\n",
            "RangeIndex: 891 entries, 0 to 890\n",
            "Data columns (total 11 columns):\n",
            " #   Column       Non-Null Count  Dtype  \n",
            "---  ------       --------------  -----  \n",
            " 0   PassengerId  891 non-null    int64  \n",
            " 1   Survived     891 non-null    int64  \n",
            " 2   Pclass       891 non-null    int64  \n",
            " 3   Name         891 non-null    object \n",
            " 4   Sex          891 non-null    object \n",
            " 5   Age          714 non-null    float64\n",
            " 6   SibSp        891 non-null    int64  \n",
            " 7   Parch        891 non-null    int64  \n",
            " 8   Ticket       891 non-null    object \n",
            " 9   Fare         891 non-null    float64\n",
            " 10  Embarked     889 non-null    object \n",
            "dtypes: float64(2), int64(5), object(4)\n",
            "memory usage: 76.7+ KB\n"
          ]
        }
      ]
    },
    {
      "cell_type": "markdown",
      "source": [
        "##b) Fill with static values\n"
      ],
      "metadata": {
        "id": "SdZmuML4WyQT"
      }
    },
    {
      "cell_type": "code",
      "source": [
        "df['Embarked'].fillna('S',inplace=True)\n",
        "df['Age'].fillna(0,inplace=True)\n"
      ],
      "metadata": {
        "colab": {
          "base_uri": "https://localhost:8080/"
        },
        "id": "Xj2RXvI8W3Oy",
        "outputId": "f9f2f18e-c28b-4226-f2c3-ce9bad553f44"
      },
      "execution_count": null,
      "outputs": [
        {
          "output_type": "stream",
          "name": "stderr",
          "text": [
            "/tmp/ipython-input-2009452403.py:2: FutureWarning: A value is trying to be set on a copy of a DataFrame or Series through chained assignment using an inplace method.\n",
            "The behavior will change in pandas 3.0. This inplace method will never work because the intermediate object on which we are setting values always behaves as a copy.\n",
            "\n",
            "For example, when doing 'df[col].method(value, inplace=True)', try using 'df.method({col: value}, inplace=True)' or df[col] = df[col].method(value) instead, to perform the operation inplace on the original object.\n",
            "\n",
            "\n",
            "  df['Age'].fillna(0,inplace=True)\n"
          ]
        }
      ]
    },
    {
      "cell_type": "markdown",
      "source": [
        "##c)Fill with mean,median,mode"
      ],
      "metadata": {
        "id": "ftVI23NbYHYu"
      }
    },
    {
      "cell_type": "code",
      "source": [
        "df['Age'].fillna(df['Age'].mean(),inplace=True)\n",
        "df['Age'].fillna(df['Age'].median(),inplace=True)\n",
        "df['Embarked'].fillna(df['Embarked'].mode()[0],inplace=True)\n",
        "df.info()"
      ],
      "metadata": {
        "colab": {
          "base_uri": "https://localhost:8080/"
        },
        "id": "v_qmWaaLXV8j",
        "outputId": "e8be97de-ba0b-4c09-ec80-8b8612988f0b"
      },
      "execution_count": null,
      "outputs": [
        {
          "output_type": "stream",
          "name": "stdout",
          "text": [
            "<class 'pandas.core.frame.DataFrame'>\n",
            "RangeIndex: 891 entries, 0 to 890\n",
            "Data columns (total 11 columns):\n",
            " #   Column       Non-Null Count  Dtype  \n",
            "---  ------       --------------  -----  \n",
            " 0   PassengerId  891 non-null    int64  \n",
            " 1   Survived     891 non-null    int64  \n",
            " 2   Pclass       891 non-null    int64  \n",
            " 3   Name         891 non-null    object \n",
            " 4   Sex          891 non-null    object \n",
            " 5   Age          891 non-null    float64\n",
            " 6   SibSp        891 non-null    int64  \n",
            " 7   Parch        891 non-null    int64  \n",
            " 8   Ticket       891 non-null    object \n",
            " 9   Fare         891 non-null    float64\n",
            " 10  Embarked     891 non-null    object \n",
            "dtypes: float64(2), int64(5), object(4)\n",
            "memory usage: 76.7+ KB\n"
          ]
        },
        {
          "output_type": "stream",
          "name": "stderr",
          "text": [
            "/tmp/ipython-input-2340711148.py:1: FutureWarning: A value is trying to be set on a copy of a DataFrame or Series through chained assignment using an inplace method.\n",
            "The behavior will change in pandas 3.0. This inplace method will never work because the intermediate object on which we are setting values always behaves as a copy.\n",
            "\n",
            "For example, when doing 'df[col].method(value, inplace=True)', try using 'df.method({col: value}, inplace=True)' or df[col] = df[col].method(value) instead, to perform the operation inplace on the original object.\n",
            "\n",
            "\n",
            "  df['Age'].fillna(df['Age'].mean(),inplace=True)\n",
            "/tmp/ipython-input-2340711148.py:2: FutureWarning: A value is trying to be set on a copy of a DataFrame or Series through chained assignment using an inplace method.\n",
            "The behavior will change in pandas 3.0. This inplace method will never work because the intermediate object on which we are setting values always behaves as a copy.\n",
            "\n",
            "For example, when doing 'df[col].method(value, inplace=True)', try using 'df.method({col: value}, inplace=True)' or df[col] = df[col].method(value) instead, to perform the operation inplace on the original object.\n",
            "\n",
            "\n",
            "  df['Age'].fillna(df['Age'].median(),inplace=True)\n"
          ]
        }
      ]
    },
    {
      "cell_type": "markdown",
      "source": [
        "##d)Forward/backward fill\n"
      ],
      "metadata": {
        "id": "qsxz6BaYZYZr"
      }
    },
    {
      "cell_type": "code",
      "source": [
        "df.fillna(method='ffill',inplace=True)\n",
        "df.fillna(method='bfill',inplace=True)\n",
        "df.info()"
      ],
      "metadata": {
        "colab": {
          "base_uri": "https://localhost:8080/"
        },
        "id": "7bNqpjRSZeTj",
        "outputId": "50affdc2-886b-4ec3-f621-7f82e83fcd48"
      },
      "execution_count": null,
      "outputs": [
        {
          "output_type": "stream",
          "name": "stdout",
          "text": [
            "<class 'pandas.core.frame.DataFrame'>\n",
            "RangeIndex: 891 entries, 0 to 890\n",
            "Data columns (total 11 columns):\n",
            " #   Column       Non-Null Count  Dtype  \n",
            "---  ------       --------------  -----  \n",
            " 0   PassengerId  891 non-null    int64  \n",
            " 1   Survived     891 non-null    int64  \n",
            " 2   Pclass       891 non-null    int64  \n",
            " 3   Name         891 non-null    object \n",
            " 4   Sex          891 non-null    object \n",
            " 5   Age          891 non-null    float64\n",
            " 6   SibSp        891 non-null    int64  \n",
            " 7   Parch        891 non-null    int64  \n",
            " 8   Ticket       891 non-null    object \n",
            " 9   Fare         891 non-null    float64\n",
            " 10  Embarked     891 non-null    object \n",
            "dtypes: float64(2), int64(5), object(4)\n",
            "memory usage: 76.7+ KB\n"
          ]
        },
        {
          "output_type": "stream",
          "name": "stderr",
          "text": [
            "/tmp/ipython-input-1504211322.py:1: FutureWarning: DataFrame.fillna with 'method' is deprecated and will raise in a future version. Use obj.ffill() or obj.bfill() instead.\n",
            "  df.fillna(method='ffill',inplace=True)\n",
            "/tmp/ipython-input-1504211322.py:2: FutureWarning: DataFrame.fillna with 'method' is deprecated and will raise in a future version. Use obj.ffill() or obj.bfill() instead.\n",
            "  df.fillna(method='bfill',inplace=True)\n"
          ]
        }
      ]
    },
    {
      "cell_type": "markdown",
      "source": [
        "##Final handling"
      ],
      "metadata": {
        "id": "mzvirUZEZ8CD"
      }
    },
    {
      "cell_type": "code",
      "source": [
        "df.drop(columns=['Cabin'],inplace=True)\n",
        "df['Embarked']=df['Embarked'].fillna(df['Embarked'].mode()[0])\n",
        "df['Age']=df['Age'].fillna(df['Age'].median())\n"
      ],
      "metadata": {
        "id": "LNBd-7MzZ_Rz"
      },
      "execution_count": null,
      "outputs": []
    },
    {
      "cell_type": "code",
      "source": [
        "df.info()"
      ],
      "metadata": {
        "colab": {
          "base_uri": "https://localhost:8080/"
        },
        "id": "qg6y7SgBbgVj",
        "outputId": "f7a5e41c-51bb-43d8-c5de-1f264037509d"
      },
      "execution_count": null,
      "outputs": [
        {
          "output_type": "stream",
          "name": "stdout",
          "text": [
            "<class 'pandas.core.frame.DataFrame'>\n",
            "RangeIndex: 891 entries, 0 to 890\n",
            "Data columns (total 11 columns):\n",
            " #   Column       Non-Null Count  Dtype  \n",
            "---  ------       --------------  -----  \n",
            " 0   PassengerId  891 non-null    int64  \n",
            " 1   Survived     891 non-null    int64  \n",
            " 2   Pclass       891 non-null    int64  \n",
            " 3   Name         891 non-null    object \n",
            " 4   Sex          891 non-null    object \n",
            " 5   Age          891 non-null    float64\n",
            " 6   SibSp        891 non-null    int64  \n",
            " 7   Parch        891 non-null    int64  \n",
            " 8   Ticket       891 non-null    object \n",
            " 9   Fare         891 non-null    float64\n",
            " 10  Embarked     891 non-null    object \n",
            "dtypes: float64(2), int64(5), object(4)\n",
            "memory usage: 76.7+ KB\n"
          ]
        }
      ]
    },
    {
      "cell_type": "markdown",
      "source": [
        "#Encoding Categories variables"
      ],
      "metadata": {
        "id": "ngbv3Mcsbq_8"
      }
    },
    {
      "cell_type": "markdown",
      "source": [
        "##Why encode\n",
        "ML models only work with numbers -not strings"
      ],
      "metadata": {
        "id": "8oNTLGf_ggMS"
      }
    },
    {
      "cell_type": "markdown",
      "source": [
        "###A)Lable Encoding"
      ],
      "metadata": {
        "id": "IKc_Fk1ggqqt"
      }
    },
    {
      "cell_type": "markdown",
      "source": [
        "used for ordinal data(Low<Median<High).But  often also used for binary noimnal features"
      ],
      "metadata": {
        "id": "xDO9KVW1gxYE"
      }
    },
    {
      "cell_type": "code",
      "source": [
        "from sklearn.preprocessing import LabelEncoder\n",
        "le=LabelEncoder()\n",
        "df['Sex']=le.fit_transform(df['Sex']) #male=1, Female=0\n",
        "df\n"
      ],
      "metadata": {
        "colab": {
          "base_uri": "https://localhost:8080/",
          "height": 424
        },
        "id": "vUUHXc10gv3j",
        "outputId": "b7afe334-acd6-4331-97b8-092eb31cd5d5"
      },
      "execution_count": null,
      "outputs": [
        {
          "output_type": "execute_result",
          "data": {
            "text/plain": [
              "     PassengerId  Survived  Pclass  \\\n",
              "0              1         0       3   \n",
              "1              2         1       1   \n",
              "2              3         1       3   \n",
              "3              4         1       1   \n",
              "4              5         0       3   \n",
              "..           ...       ...     ...   \n",
              "886          887         0       2   \n",
              "887          888         1       1   \n",
              "888          889         0       3   \n",
              "889          890         1       1   \n",
              "890          891         0       3   \n",
              "\n",
              "                                                  Name  Sex   Age  SibSp  \\\n",
              "0                              Braund, Mr. Owen Harris    1  22.0      1   \n",
              "1    Cumings, Mrs. John Bradley (Florence Briggs Th...    0  38.0      1   \n",
              "2                               Heikkinen, Miss. Laina    0  26.0      0   \n",
              "3         Futrelle, Mrs. Jacques Heath (Lily May Peel)    0  35.0      1   \n",
              "4                             Allen, Mr. William Henry    1  35.0      0   \n",
              "..                                                 ...  ...   ...    ...   \n",
              "886                              Montvila, Rev. Juozas    1  27.0      0   \n",
              "887                       Graham, Miss. Margaret Edith    0  19.0      0   \n",
              "888           Johnston, Miss. Catherine Helen \"Carrie\"    0  28.0      1   \n",
              "889                              Behr, Mr. Karl Howell    1  26.0      0   \n",
              "890                                Dooley, Mr. Patrick    1  32.0      0   \n",
              "\n",
              "     Parch            Ticket     Fare Embarked  \n",
              "0        0         A/5 21171   7.2500        S  \n",
              "1        0          PC 17599  71.2833        C  \n",
              "2        0  STON/O2. 3101282   7.9250        S  \n",
              "3        0            113803  53.1000        S  \n",
              "4        0            373450   8.0500        S  \n",
              "..     ...               ...      ...      ...  \n",
              "886      0            211536  13.0000        S  \n",
              "887      0            112053  30.0000        S  \n",
              "888      2        W./C. 6607  23.4500        S  \n",
              "889      0            111369  30.0000        C  \n",
              "890      0            370376   7.7500        Q  \n",
              "\n",
              "[891 rows x 11 columns]"
            ],
            "text/html": [
              "\n",
              "  <div id=\"df-68bb4e7b-26ba-45df-9da6-98e0d2bb09ce\" class=\"colab-df-container\">\n",
              "    <div>\n",
              "<style scoped>\n",
              "    .dataframe tbody tr th:only-of-type {\n",
              "        vertical-align: middle;\n",
              "    }\n",
              "\n",
              "    .dataframe tbody tr th {\n",
              "        vertical-align: top;\n",
              "    }\n",
              "\n",
              "    .dataframe thead th {\n",
              "        text-align: right;\n",
              "    }\n",
              "</style>\n",
              "<table border=\"1\" class=\"dataframe\">\n",
              "  <thead>\n",
              "    <tr style=\"text-align: right;\">\n",
              "      <th></th>\n",
              "      <th>PassengerId</th>\n",
              "      <th>Survived</th>\n",
              "      <th>Pclass</th>\n",
              "      <th>Name</th>\n",
              "      <th>Sex</th>\n",
              "      <th>Age</th>\n",
              "      <th>SibSp</th>\n",
              "      <th>Parch</th>\n",
              "      <th>Ticket</th>\n",
              "      <th>Fare</th>\n",
              "      <th>Embarked</th>\n",
              "    </tr>\n",
              "  </thead>\n",
              "  <tbody>\n",
              "    <tr>\n",
              "      <th>0</th>\n",
              "      <td>1</td>\n",
              "      <td>0</td>\n",
              "      <td>3</td>\n",
              "      <td>Braund, Mr. Owen Harris</td>\n",
              "      <td>1</td>\n",
              "      <td>22.0</td>\n",
              "      <td>1</td>\n",
              "      <td>0</td>\n",
              "      <td>A/5 21171</td>\n",
              "      <td>7.2500</td>\n",
              "      <td>S</td>\n",
              "    </tr>\n",
              "    <tr>\n",
              "      <th>1</th>\n",
              "      <td>2</td>\n",
              "      <td>1</td>\n",
              "      <td>1</td>\n",
              "      <td>Cumings, Mrs. John Bradley (Florence Briggs Th...</td>\n",
              "      <td>0</td>\n",
              "      <td>38.0</td>\n",
              "      <td>1</td>\n",
              "      <td>0</td>\n",
              "      <td>PC 17599</td>\n",
              "      <td>71.2833</td>\n",
              "      <td>C</td>\n",
              "    </tr>\n",
              "    <tr>\n",
              "      <th>2</th>\n",
              "      <td>3</td>\n",
              "      <td>1</td>\n",
              "      <td>3</td>\n",
              "      <td>Heikkinen, Miss. Laina</td>\n",
              "      <td>0</td>\n",
              "      <td>26.0</td>\n",
              "      <td>0</td>\n",
              "      <td>0</td>\n",
              "      <td>STON/O2. 3101282</td>\n",
              "      <td>7.9250</td>\n",
              "      <td>S</td>\n",
              "    </tr>\n",
              "    <tr>\n",
              "      <th>3</th>\n",
              "      <td>4</td>\n",
              "      <td>1</td>\n",
              "      <td>1</td>\n",
              "      <td>Futrelle, Mrs. Jacques Heath (Lily May Peel)</td>\n",
              "      <td>0</td>\n",
              "      <td>35.0</td>\n",
              "      <td>1</td>\n",
              "      <td>0</td>\n",
              "      <td>113803</td>\n",
              "      <td>53.1000</td>\n",
              "      <td>S</td>\n",
              "    </tr>\n",
              "    <tr>\n",
              "      <th>4</th>\n",
              "      <td>5</td>\n",
              "      <td>0</td>\n",
              "      <td>3</td>\n",
              "      <td>Allen, Mr. William Henry</td>\n",
              "      <td>1</td>\n",
              "      <td>35.0</td>\n",
              "      <td>0</td>\n",
              "      <td>0</td>\n",
              "      <td>373450</td>\n",
              "      <td>8.0500</td>\n",
              "      <td>S</td>\n",
              "    </tr>\n",
              "    <tr>\n",
              "      <th>...</th>\n",
              "      <td>...</td>\n",
              "      <td>...</td>\n",
              "      <td>...</td>\n",
              "      <td>...</td>\n",
              "      <td>...</td>\n",
              "      <td>...</td>\n",
              "      <td>...</td>\n",
              "      <td>...</td>\n",
              "      <td>...</td>\n",
              "      <td>...</td>\n",
              "      <td>...</td>\n",
              "    </tr>\n",
              "    <tr>\n",
              "      <th>886</th>\n",
              "      <td>887</td>\n",
              "      <td>0</td>\n",
              "      <td>2</td>\n",
              "      <td>Montvila, Rev. Juozas</td>\n",
              "      <td>1</td>\n",
              "      <td>27.0</td>\n",
              "      <td>0</td>\n",
              "      <td>0</td>\n",
              "      <td>211536</td>\n",
              "      <td>13.0000</td>\n",
              "      <td>S</td>\n",
              "    </tr>\n",
              "    <tr>\n",
              "      <th>887</th>\n",
              "      <td>888</td>\n",
              "      <td>1</td>\n",
              "      <td>1</td>\n",
              "      <td>Graham, Miss. Margaret Edith</td>\n",
              "      <td>0</td>\n",
              "      <td>19.0</td>\n",
              "      <td>0</td>\n",
              "      <td>0</td>\n",
              "      <td>112053</td>\n",
              "      <td>30.0000</td>\n",
              "      <td>S</td>\n",
              "    </tr>\n",
              "    <tr>\n",
              "      <th>888</th>\n",
              "      <td>889</td>\n",
              "      <td>0</td>\n",
              "      <td>3</td>\n",
              "      <td>Johnston, Miss. Catherine Helen \"Carrie\"</td>\n",
              "      <td>0</td>\n",
              "      <td>28.0</td>\n",
              "      <td>1</td>\n",
              "      <td>2</td>\n",
              "      <td>W./C. 6607</td>\n",
              "      <td>23.4500</td>\n",
              "      <td>S</td>\n",
              "    </tr>\n",
              "    <tr>\n",
              "      <th>889</th>\n",
              "      <td>890</td>\n",
              "      <td>1</td>\n",
              "      <td>1</td>\n",
              "      <td>Behr, Mr. Karl Howell</td>\n",
              "      <td>1</td>\n",
              "      <td>26.0</td>\n",
              "      <td>0</td>\n",
              "      <td>0</td>\n",
              "      <td>111369</td>\n",
              "      <td>30.0000</td>\n",
              "      <td>C</td>\n",
              "    </tr>\n",
              "    <tr>\n",
              "      <th>890</th>\n",
              "      <td>891</td>\n",
              "      <td>0</td>\n",
              "      <td>3</td>\n",
              "      <td>Dooley, Mr. Patrick</td>\n",
              "      <td>1</td>\n",
              "      <td>32.0</td>\n",
              "      <td>0</td>\n",
              "      <td>0</td>\n",
              "      <td>370376</td>\n",
              "      <td>7.7500</td>\n",
              "      <td>Q</td>\n",
              "    </tr>\n",
              "  </tbody>\n",
              "</table>\n",
              "<p>891 rows × 11 columns</p>\n",
              "</div>\n",
              "    <div class=\"colab-df-buttons\">\n",
              "\n",
              "  <div class=\"colab-df-container\">\n",
              "    <button class=\"colab-df-convert\" onclick=\"convertToInteractive('df-68bb4e7b-26ba-45df-9da6-98e0d2bb09ce')\"\n",
              "            title=\"Convert this dataframe to an interactive table.\"\n",
              "            style=\"display:none;\">\n",
              "\n",
              "  <svg xmlns=\"http://www.w3.org/2000/svg\" height=\"24px\" viewBox=\"0 -960 960 960\">\n",
              "    <path d=\"M120-120v-720h720v720H120Zm60-500h600v-160H180v160Zm220 220h160v-160H400v160Zm0 220h160v-160H400v160ZM180-400h160v-160H180v160Zm440 0h160v-160H620v160ZM180-180h160v-160H180v160Zm440 0h160v-160H620v160Z\"/>\n",
              "  </svg>\n",
              "    </button>\n",
              "\n",
              "  <style>\n",
              "    .colab-df-container {\n",
              "      display:flex;\n",
              "      gap: 12px;\n",
              "    }\n",
              "\n",
              "    .colab-df-convert {\n",
              "      background-color: #E8F0FE;\n",
              "      border: none;\n",
              "      border-radius: 50%;\n",
              "      cursor: pointer;\n",
              "      display: none;\n",
              "      fill: #1967D2;\n",
              "      height: 32px;\n",
              "      padding: 0 0 0 0;\n",
              "      width: 32px;\n",
              "    }\n",
              "\n",
              "    .colab-df-convert:hover {\n",
              "      background-color: #E2EBFA;\n",
              "      box-shadow: 0px 1px 2px rgba(60, 64, 67, 0.3), 0px 1px 3px 1px rgba(60, 64, 67, 0.15);\n",
              "      fill: #174EA6;\n",
              "    }\n",
              "\n",
              "    .colab-df-buttons div {\n",
              "      margin-bottom: 4px;\n",
              "    }\n",
              "\n",
              "    [theme=dark] .colab-df-convert {\n",
              "      background-color: #3B4455;\n",
              "      fill: #D2E3FC;\n",
              "    }\n",
              "\n",
              "    [theme=dark] .colab-df-convert:hover {\n",
              "      background-color: #434B5C;\n",
              "      box-shadow: 0px 1px 3px 1px rgba(0, 0, 0, 0.15);\n",
              "      filter: drop-shadow(0px 1px 2px rgba(0, 0, 0, 0.3));\n",
              "      fill: #FFFFFF;\n",
              "    }\n",
              "  </style>\n",
              "\n",
              "    <script>\n",
              "      const buttonEl =\n",
              "        document.querySelector('#df-68bb4e7b-26ba-45df-9da6-98e0d2bb09ce button.colab-df-convert');\n",
              "      buttonEl.style.display =\n",
              "        google.colab.kernel.accessAllowed ? 'block' : 'none';\n",
              "\n",
              "      async function convertToInteractive(key) {\n",
              "        const element = document.querySelector('#df-68bb4e7b-26ba-45df-9da6-98e0d2bb09ce');\n",
              "        const dataTable =\n",
              "          await google.colab.kernel.invokeFunction('convertToInteractive',\n",
              "                                                    [key], {});\n",
              "        if (!dataTable) return;\n",
              "\n",
              "        const docLinkHtml = 'Like what you see? Visit the ' +\n",
              "          '<a target=\"_blank\" href=https://colab.research.google.com/notebooks/data_table.ipynb>data table notebook</a>'\n",
              "          + ' to learn more about interactive tables.';\n",
              "        element.innerHTML = '';\n",
              "        dataTable['output_type'] = 'display_data';\n",
              "        await google.colab.output.renderOutput(dataTable, element);\n",
              "        const docLink = document.createElement('div');\n",
              "        docLink.innerHTML = docLinkHtml;\n",
              "        element.appendChild(docLink);\n",
              "      }\n",
              "    </script>\n",
              "  </div>\n",
              "\n",
              "\n",
              "    <div id=\"df-7ea5aeda-47fa-42d9-97a3-6b61442bb39c\">\n",
              "      <button class=\"colab-df-quickchart\" onclick=\"quickchart('df-7ea5aeda-47fa-42d9-97a3-6b61442bb39c')\"\n",
              "                title=\"Suggest charts\"\n",
              "                style=\"display:none;\">\n",
              "\n",
              "<svg xmlns=\"http://www.w3.org/2000/svg\" height=\"24px\"viewBox=\"0 0 24 24\"\n",
              "     width=\"24px\">\n",
              "    <g>\n",
              "        <path d=\"M19 3H5c-1.1 0-2 .9-2 2v14c0 1.1.9 2 2 2h14c1.1 0 2-.9 2-2V5c0-1.1-.9-2-2-2zM9 17H7v-7h2v7zm4 0h-2V7h2v10zm4 0h-2v-4h2v4z\"/>\n",
              "    </g>\n",
              "</svg>\n",
              "      </button>\n",
              "\n",
              "<style>\n",
              "  .colab-df-quickchart {\n",
              "      --bg-color: #E8F0FE;\n",
              "      --fill-color: #1967D2;\n",
              "      --hover-bg-color: #E2EBFA;\n",
              "      --hover-fill-color: #174EA6;\n",
              "      --disabled-fill-color: #AAA;\n",
              "      --disabled-bg-color: #DDD;\n",
              "  }\n",
              "\n",
              "  [theme=dark] .colab-df-quickchart {\n",
              "      --bg-color: #3B4455;\n",
              "      --fill-color: #D2E3FC;\n",
              "      --hover-bg-color: #434B5C;\n",
              "      --hover-fill-color: #FFFFFF;\n",
              "      --disabled-bg-color: #3B4455;\n",
              "      --disabled-fill-color: #666;\n",
              "  }\n",
              "\n",
              "  .colab-df-quickchart {\n",
              "    background-color: var(--bg-color);\n",
              "    border: none;\n",
              "    border-radius: 50%;\n",
              "    cursor: pointer;\n",
              "    display: none;\n",
              "    fill: var(--fill-color);\n",
              "    height: 32px;\n",
              "    padding: 0;\n",
              "    width: 32px;\n",
              "  }\n",
              "\n",
              "  .colab-df-quickchart:hover {\n",
              "    background-color: var(--hover-bg-color);\n",
              "    box-shadow: 0 1px 2px rgba(60, 64, 67, 0.3), 0 1px 3px 1px rgba(60, 64, 67, 0.15);\n",
              "    fill: var(--button-hover-fill-color);\n",
              "  }\n",
              "\n",
              "  .colab-df-quickchart-complete:disabled,\n",
              "  .colab-df-quickchart-complete:disabled:hover {\n",
              "    background-color: var(--disabled-bg-color);\n",
              "    fill: var(--disabled-fill-color);\n",
              "    box-shadow: none;\n",
              "  }\n",
              "\n",
              "  .colab-df-spinner {\n",
              "    border: 2px solid var(--fill-color);\n",
              "    border-color: transparent;\n",
              "    border-bottom-color: var(--fill-color);\n",
              "    animation:\n",
              "      spin 1s steps(1) infinite;\n",
              "  }\n",
              "\n",
              "  @keyframes spin {\n",
              "    0% {\n",
              "      border-color: transparent;\n",
              "      border-bottom-color: var(--fill-color);\n",
              "      border-left-color: var(--fill-color);\n",
              "    }\n",
              "    20% {\n",
              "      border-color: transparent;\n",
              "      border-left-color: var(--fill-color);\n",
              "      border-top-color: var(--fill-color);\n",
              "    }\n",
              "    30% {\n",
              "      border-color: transparent;\n",
              "      border-left-color: var(--fill-color);\n",
              "      border-top-color: var(--fill-color);\n",
              "      border-right-color: var(--fill-color);\n",
              "    }\n",
              "    40% {\n",
              "      border-color: transparent;\n",
              "      border-right-color: var(--fill-color);\n",
              "      border-top-color: var(--fill-color);\n",
              "    }\n",
              "    60% {\n",
              "      border-color: transparent;\n",
              "      border-right-color: var(--fill-color);\n",
              "    }\n",
              "    80% {\n",
              "      border-color: transparent;\n",
              "      border-right-color: var(--fill-color);\n",
              "      border-bottom-color: var(--fill-color);\n",
              "    }\n",
              "    90% {\n",
              "      border-color: transparent;\n",
              "      border-bottom-color: var(--fill-color);\n",
              "    }\n",
              "  }\n",
              "</style>\n",
              "\n",
              "      <script>\n",
              "        async function quickchart(key) {\n",
              "          const quickchartButtonEl =\n",
              "            document.querySelector('#' + key + ' button');\n",
              "          quickchartButtonEl.disabled = true;  // To prevent multiple clicks.\n",
              "          quickchartButtonEl.classList.add('colab-df-spinner');\n",
              "          try {\n",
              "            const charts = await google.colab.kernel.invokeFunction(\n",
              "                'suggestCharts', [key], {});\n",
              "          } catch (error) {\n",
              "            console.error('Error during call to suggestCharts:', error);\n",
              "          }\n",
              "          quickchartButtonEl.classList.remove('colab-df-spinner');\n",
              "          quickchartButtonEl.classList.add('colab-df-quickchart-complete');\n",
              "        }\n",
              "        (() => {\n",
              "          let quickchartButtonEl =\n",
              "            document.querySelector('#df-7ea5aeda-47fa-42d9-97a3-6b61442bb39c button');\n",
              "          quickchartButtonEl.style.display =\n",
              "            google.colab.kernel.accessAllowed ? 'block' : 'none';\n",
              "        })();\n",
              "      </script>\n",
              "    </div>\n",
              "\n",
              "  <div id=\"id_8e8806a7-93f2-4fa3-87fb-4be73b049f44\">\n",
              "    <style>\n",
              "      .colab-df-generate {\n",
              "        background-color: #E8F0FE;\n",
              "        border: none;\n",
              "        border-radius: 50%;\n",
              "        cursor: pointer;\n",
              "        display: none;\n",
              "        fill: #1967D2;\n",
              "        height: 32px;\n",
              "        padding: 0 0 0 0;\n",
              "        width: 32px;\n",
              "      }\n",
              "\n",
              "      .colab-df-generate:hover {\n",
              "        background-color: #E2EBFA;\n",
              "        box-shadow: 0px 1px 2px rgba(60, 64, 67, 0.3), 0px 1px 3px 1px rgba(60, 64, 67, 0.15);\n",
              "        fill: #174EA6;\n",
              "      }\n",
              "\n",
              "      [theme=dark] .colab-df-generate {\n",
              "        background-color: #3B4455;\n",
              "        fill: #D2E3FC;\n",
              "      }\n",
              "\n",
              "      [theme=dark] .colab-df-generate:hover {\n",
              "        background-color: #434B5C;\n",
              "        box-shadow: 0px 1px 3px 1px rgba(0, 0, 0, 0.15);\n",
              "        filter: drop-shadow(0px 1px 2px rgba(0, 0, 0, 0.3));\n",
              "        fill: #FFFFFF;\n",
              "      }\n",
              "    </style>\n",
              "    <button class=\"colab-df-generate\" onclick=\"generateWithVariable('df')\"\n",
              "            title=\"Generate code using this dataframe.\"\n",
              "            style=\"display:none;\">\n",
              "\n",
              "  <svg xmlns=\"http://www.w3.org/2000/svg\" height=\"24px\"viewBox=\"0 0 24 24\"\n",
              "       width=\"24px\">\n",
              "    <path d=\"M7,19H8.4L18.45,9,17,7.55,7,17.6ZM5,21V16.75L18.45,3.32a2,2,0,0,1,2.83,0l1.4,1.43a1.91,1.91,0,0,1,.58,1.4,1.91,1.91,0,0,1-.58,1.4L9.25,21ZM18.45,9,17,7.55Zm-12,3A5.31,5.31,0,0,0,4.9,8.1,5.31,5.31,0,0,0,1,6.5,5.31,5.31,0,0,0,4.9,4.9,5.31,5.31,0,0,0,6.5,1,5.31,5.31,0,0,0,8.1,4.9,5.31,5.31,0,0,0,12,6.5,5.46,5.46,0,0,0,6.5,12Z\"/>\n",
              "  </svg>\n",
              "    </button>\n",
              "    <script>\n",
              "      (() => {\n",
              "      const buttonEl =\n",
              "        document.querySelector('#id_8e8806a7-93f2-4fa3-87fb-4be73b049f44 button.colab-df-generate');\n",
              "      buttonEl.style.display =\n",
              "        google.colab.kernel.accessAllowed ? 'block' : 'none';\n",
              "\n",
              "      buttonEl.onclick = () => {\n",
              "        google.colab.notebook.generateWithVariable('df');\n",
              "      }\n",
              "      })();\n",
              "    </script>\n",
              "  </div>\n",
              "\n",
              "    </div>\n",
              "  </div>\n"
            ],
            "application/vnd.google.colaboratory.intrinsic+json": {
              "type": "dataframe",
              "variable_name": "df",
              "summary": "{\n  \"name\": \"df\",\n  \"rows\": 891,\n  \"fields\": [\n    {\n      \"column\": \"PassengerId\",\n      \"properties\": {\n        \"dtype\": \"number\",\n        \"std\": 257,\n        \"min\": 1,\n        \"max\": 891,\n        \"num_unique_values\": 891,\n        \"samples\": [\n          710,\n          440,\n          841\n        ],\n        \"semantic_type\": \"\",\n        \"description\": \"\"\n      }\n    },\n    {\n      \"column\": \"Survived\",\n      \"properties\": {\n        \"dtype\": \"number\",\n        \"std\": 0,\n        \"min\": 0,\n        \"max\": 1,\n        \"num_unique_values\": 2,\n        \"samples\": [\n          1,\n          0\n        ],\n        \"semantic_type\": \"\",\n        \"description\": \"\"\n      }\n    },\n    {\n      \"column\": \"Pclass\",\n      \"properties\": {\n        \"dtype\": \"number\",\n        \"std\": 0,\n        \"min\": 1,\n        \"max\": 3,\n        \"num_unique_values\": 3,\n        \"samples\": [\n          3,\n          1\n        ],\n        \"semantic_type\": \"\",\n        \"description\": \"\"\n      }\n    },\n    {\n      \"column\": \"Name\",\n      \"properties\": {\n        \"dtype\": \"string\",\n        \"num_unique_values\": 891,\n        \"samples\": [\n          \"Moubarek, Master. Halim Gonios (\\\"William George\\\")\",\n          \"Kvillner, Mr. Johan Henrik Johannesson\"\n        ],\n        \"semantic_type\": \"\",\n        \"description\": \"\"\n      }\n    },\n    {\n      \"column\": \"Sex\",\n      \"properties\": {\n        \"dtype\": \"number\",\n        \"std\": 0,\n        \"min\": 0,\n        \"max\": 1,\n        \"num_unique_values\": 2,\n        \"samples\": [\n          0,\n          1\n        ],\n        \"semantic_type\": \"\",\n        \"description\": \"\"\n      }\n    },\n    {\n      \"column\": \"Age\",\n      \"properties\": {\n        \"dtype\": \"number\",\n        \"std\": 13.019696550973194,\n        \"min\": 0.42,\n        \"max\": 80.0,\n        \"num_unique_values\": 88,\n        \"samples\": [\n          0.75,\n          22.0\n        ],\n        \"semantic_type\": \"\",\n        \"description\": \"\"\n      }\n    },\n    {\n      \"column\": \"SibSp\",\n      \"properties\": {\n        \"dtype\": \"number\",\n        \"std\": 1,\n        \"min\": 0,\n        \"max\": 8,\n        \"num_unique_values\": 7,\n        \"samples\": [\n          1,\n          0\n        ],\n        \"semantic_type\": \"\",\n        \"description\": \"\"\n      }\n    },\n    {\n      \"column\": \"Parch\",\n      \"properties\": {\n        \"dtype\": \"number\",\n        \"std\": 0,\n        \"min\": 0,\n        \"max\": 6,\n        \"num_unique_values\": 7,\n        \"samples\": [\n          0,\n          1\n        ],\n        \"semantic_type\": \"\",\n        \"description\": \"\"\n      }\n    },\n    {\n      \"column\": \"Ticket\",\n      \"properties\": {\n        \"dtype\": \"string\",\n        \"num_unique_values\": 681,\n        \"samples\": [\n          \"11774\",\n          \"248740\"\n        ],\n        \"semantic_type\": \"\",\n        \"description\": \"\"\n      }\n    },\n    {\n      \"column\": \"Fare\",\n      \"properties\": {\n        \"dtype\": \"number\",\n        \"std\": 49.693428597180905,\n        \"min\": 0.0,\n        \"max\": 512.3292,\n        \"num_unique_values\": 248,\n        \"samples\": [\n          11.2417,\n          51.8625\n        ],\n        \"semantic_type\": \"\",\n        \"description\": \"\"\n      }\n    },\n    {\n      \"column\": \"Embarked\",\n      \"properties\": {\n        \"dtype\": \"category\",\n        \"num_unique_values\": 3,\n        \"samples\": [\n          \"S\",\n          \"C\"\n        ],\n        \"semantic_type\": \"\",\n        \"description\": \"\"\n      }\n    }\n  ]\n}"
            }
          },
          "metadata": {},
          "execution_count": 83
        }
      ]
    },
    {
      "cell_type": "markdown",
      "source": [
        "##One-hot Encoding\n",
        "\n",
        "Used for nominal (unorderd)categories\n",
        "\n",
        " drop_first=True avoids redundant columns"
      ],
      "metadata": {
        "id": "PWcYP5y5ifDL"
      }
    },
    {
      "cell_type": "code",
      "source": [
        "df=pd.get_dummies(df,columns=['Embarked'],drop_first=True)\n",
        "df\n"
      ],
      "metadata": {
        "colab": {
          "base_uri": "https://localhost:8080/",
          "height": 424
        },
        "id": "jFILRxaAhzjz",
        "outputId": "8d7d92f3-efed-4904-a7a8-453f65ead2fb"
      },
      "execution_count": null,
      "outputs": [
        {
          "output_type": "execute_result",
          "data": {
            "text/plain": [
              "     PassengerId  Survived  Pclass  \\\n",
              "0              1         0       3   \n",
              "1              2         1       1   \n",
              "2              3         1       3   \n",
              "3              4         1       1   \n",
              "4              5         0       3   \n",
              "..           ...       ...     ...   \n",
              "886          887         0       2   \n",
              "887          888         1       1   \n",
              "888          889         0       3   \n",
              "889          890         1       1   \n",
              "890          891         0       3   \n",
              "\n",
              "                                                  Name  Sex   Age  SibSp  \\\n",
              "0                              Braund, Mr. Owen Harris    1  22.0      1   \n",
              "1    Cumings, Mrs. John Bradley (Florence Briggs Th...    0  38.0      1   \n",
              "2                               Heikkinen, Miss. Laina    0  26.0      0   \n",
              "3         Futrelle, Mrs. Jacques Heath (Lily May Peel)    0  35.0      1   \n",
              "4                             Allen, Mr. William Henry    1  35.0      0   \n",
              "..                                                 ...  ...   ...    ...   \n",
              "886                              Montvila, Rev. Juozas    1  27.0      0   \n",
              "887                       Graham, Miss. Margaret Edith    0  19.0      0   \n",
              "888           Johnston, Miss. Catherine Helen \"Carrie\"    0  28.0      1   \n",
              "889                              Behr, Mr. Karl Howell    1  26.0      0   \n",
              "890                                Dooley, Mr. Patrick    1  32.0      0   \n",
              "\n",
              "     Parch            Ticket     Fare  Embarked_Q  Embarked_S  \n",
              "0        0         A/5 21171   7.2500       False        True  \n",
              "1        0          PC 17599  71.2833       False       False  \n",
              "2        0  STON/O2. 3101282   7.9250       False        True  \n",
              "3        0            113803  53.1000       False        True  \n",
              "4        0            373450   8.0500       False        True  \n",
              "..     ...               ...      ...         ...         ...  \n",
              "886      0            211536  13.0000       False        True  \n",
              "887      0            112053  30.0000       False        True  \n",
              "888      2        W./C. 6607  23.4500       False        True  \n",
              "889      0            111369  30.0000       False       False  \n",
              "890      0            370376   7.7500        True       False  \n",
              "\n",
              "[891 rows x 12 columns]"
            ],
            "text/html": [
              "\n",
              "  <div id=\"df-bfaf906b-1ad0-41db-ad62-6ddb1d83f463\" class=\"colab-df-container\">\n",
              "    <div>\n",
              "<style scoped>\n",
              "    .dataframe tbody tr th:only-of-type {\n",
              "        vertical-align: middle;\n",
              "    }\n",
              "\n",
              "    .dataframe tbody tr th {\n",
              "        vertical-align: top;\n",
              "    }\n",
              "\n",
              "    .dataframe thead th {\n",
              "        text-align: right;\n",
              "    }\n",
              "</style>\n",
              "<table border=\"1\" class=\"dataframe\">\n",
              "  <thead>\n",
              "    <tr style=\"text-align: right;\">\n",
              "      <th></th>\n",
              "      <th>PassengerId</th>\n",
              "      <th>Survived</th>\n",
              "      <th>Pclass</th>\n",
              "      <th>Name</th>\n",
              "      <th>Sex</th>\n",
              "      <th>Age</th>\n",
              "      <th>SibSp</th>\n",
              "      <th>Parch</th>\n",
              "      <th>Ticket</th>\n",
              "      <th>Fare</th>\n",
              "      <th>Embarked_Q</th>\n",
              "      <th>Embarked_S</th>\n",
              "    </tr>\n",
              "  </thead>\n",
              "  <tbody>\n",
              "    <tr>\n",
              "      <th>0</th>\n",
              "      <td>1</td>\n",
              "      <td>0</td>\n",
              "      <td>3</td>\n",
              "      <td>Braund, Mr. Owen Harris</td>\n",
              "      <td>1</td>\n",
              "      <td>22.0</td>\n",
              "      <td>1</td>\n",
              "      <td>0</td>\n",
              "      <td>A/5 21171</td>\n",
              "      <td>7.2500</td>\n",
              "      <td>False</td>\n",
              "      <td>True</td>\n",
              "    </tr>\n",
              "    <tr>\n",
              "      <th>1</th>\n",
              "      <td>2</td>\n",
              "      <td>1</td>\n",
              "      <td>1</td>\n",
              "      <td>Cumings, Mrs. John Bradley (Florence Briggs Th...</td>\n",
              "      <td>0</td>\n",
              "      <td>38.0</td>\n",
              "      <td>1</td>\n",
              "      <td>0</td>\n",
              "      <td>PC 17599</td>\n",
              "      <td>71.2833</td>\n",
              "      <td>False</td>\n",
              "      <td>False</td>\n",
              "    </tr>\n",
              "    <tr>\n",
              "      <th>2</th>\n",
              "      <td>3</td>\n",
              "      <td>1</td>\n",
              "      <td>3</td>\n",
              "      <td>Heikkinen, Miss. Laina</td>\n",
              "      <td>0</td>\n",
              "      <td>26.0</td>\n",
              "      <td>0</td>\n",
              "      <td>0</td>\n",
              "      <td>STON/O2. 3101282</td>\n",
              "      <td>7.9250</td>\n",
              "      <td>False</td>\n",
              "      <td>True</td>\n",
              "    </tr>\n",
              "    <tr>\n",
              "      <th>3</th>\n",
              "      <td>4</td>\n",
              "      <td>1</td>\n",
              "      <td>1</td>\n",
              "      <td>Futrelle, Mrs. Jacques Heath (Lily May Peel)</td>\n",
              "      <td>0</td>\n",
              "      <td>35.0</td>\n",
              "      <td>1</td>\n",
              "      <td>0</td>\n",
              "      <td>113803</td>\n",
              "      <td>53.1000</td>\n",
              "      <td>False</td>\n",
              "      <td>True</td>\n",
              "    </tr>\n",
              "    <tr>\n",
              "      <th>4</th>\n",
              "      <td>5</td>\n",
              "      <td>0</td>\n",
              "      <td>3</td>\n",
              "      <td>Allen, Mr. William Henry</td>\n",
              "      <td>1</td>\n",
              "      <td>35.0</td>\n",
              "      <td>0</td>\n",
              "      <td>0</td>\n",
              "      <td>373450</td>\n",
              "      <td>8.0500</td>\n",
              "      <td>False</td>\n",
              "      <td>True</td>\n",
              "    </tr>\n",
              "    <tr>\n",
              "      <th>...</th>\n",
              "      <td>...</td>\n",
              "      <td>...</td>\n",
              "      <td>...</td>\n",
              "      <td>...</td>\n",
              "      <td>...</td>\n",
              "      <td>...</td>\n",
              "      <td>...</td>\n",
              "      <td>...</td>\n",
              "      <td>...</td>\n",
              "      <td>...</td>\n",
              "      <td>...</td>\n",
              "      <td>...</td>\n",
              "    </tr>\n",
              "    <tr>\n",
              "      <th>886</th>\n",
              "      <td>887</td>\n",
              "      <td>0</td>\n",
              "      <td>2</td>\n",
              "      <td>Montvila, Rev. Juozas</td>\n",
              "      <td>1</td>\n",
              "      <td>27.0</td>\n",
              "      <td>0</td>\n",
              "      <td>0</td>\n",
              "      <td>211536</td>\n",
              "      <td>13.0000</td>\n",
              "      <td>False</td>\n",
              "      <td>True</td>\n",
              "    </tr>\n",
              "    <tr>\n",
              "      <th>887</th>\n",
              "      <td>888</td>\n",
              "      <td>1</td>\n",
              "      <td>1</td>\n",
              "      <td>Graham, Miss. Margaret Edith</td>\n",
              "      <td>0</td>\n",
              "      <td>19.0</td>\n",
              "      <td>0</td>\n",
              "      <td>0</td>\n",
              "      <td>112053</td>\n",
              "      <td>30.0000</td>\n",
              "      <td>False</td>\n",
              "      <td>True</td>\n",
              "    </tr>\n",
              "    <tr>\n",
              "      <th>888</th>\n",
              "      <td>889</td>\n",
              "      <td>0</td>\n",
              "      <td>3</td>\n",
              "      <td>Johnston, Miss. Catherine Helen \"Carrie\"</td>\n",
              "      <td>0</td>\n",
              "      <td>28.0</td>\n",
              "      <td>1</td>\n",
              "      <td>2</td>\n",
              "      <td>W./C. 6607</td>\n",
              "      <td>23.4500</td>\n",
              "      <td>False</td>\n",
              "      <td>True</td>\n",
              "    </tr>\n",
              "    <tr>\n",
              "      <th>889</th>\n",
              "      <td>890</td>\n",
              "      <td>1</td>\n",
              "      <td>1</td>\n",
              "      <td>Behr, Mr. Karl Howell</td>\n",
              "      <td>1</td>\n",
              "      <td>26.0</td>\n",
              "      <td>0</td>\n",
              "      <td>0</td>\n",
              "      <td>111369</td>\n",
              "      <td>30.0000</td>\n",
              "      <td>False</td>\n",
              "      <td>False</td>\n",
              "    </tr>\n",
              "    <tr>\n",
              "      <th>890</th>\n",
              "      <td>891</td>\n",
              "      <td>0</td>\n",
              "      <td>3</td>\n",
              "      <td>Dooley, Mr. Patrick</td>\n",
              "      <td>1</td>\n",
              "      <td>32.0</td>\n",
              "      <td>0</td>\n",
              "      <td>0</td>\n",
              "      <td>370376</td>\n",
              "      <td>7.7500</td>\n",
              "      <td>True</td>\n",
              "      <td>False</td>\n",
              "    </tr>\n",
              "  </tbody>\n",
              "</table>\n",
              "<p>891 rows × 12 columns</p>\n",
              "</div>\n",
              "    <div class=\"colab-df-buttons\">\n",
              "\n",
              "  <div class=\"colab-df-container\">\n",
              "    <button class=\"colab-df-convert\" onclick=\"convertToInteractive('df-bfaf906b-1ad0-41db-ad62-6ddb1d83f463')\"\n",
              "            title=\"Convert this dataframe to an interactive table.\"\n",
              "            style=\"display:none;\">\n",
              "\n",
              "  <svg xmlns=\"http://www.w3.org/2000/svg\" height=\"24px\" viewBox=\"0 -960 960 960\">\n",
              "    <path d=\"M120-120v-720h720v720H120Zm60-500h600v-160H180v160Zm220 220h160v-160H400v160Zm0 220h160v-160H400v160ZM180-400h160v-160H180v160Zm440 0h160v-160H620v160ZM180-180h160v-160H180v160Zm440 0h160v-160H620v160Z\"/>\n",
              "  </svg>\n",
              "    </button>\n",
              "\n",
              "  <style>\n",
              "    .colab-df-container {\n",
              "      display:flex;\n",
              "      gap: 12px;\n",
              "    }\n",
              "\n",
              "    .colab-df-convert {\n",
              "      background-color: #E8F0FE;\n",
              "      border: none;\n",
              "      border-radius: 50%;\n",
              "      cursor: pointer;\n",
              "      display: none;\n",
              "      fill: #1967D2;\n",
              "      height: 32px;\n",
              "      padding: 0 0 0 0;\n",
              "      width: 32px;\n",
              "    }\n",
              "\n",
              "    .colab-df-convert:hover {\n",
              "      background-color: #E2EBFA;\n",
              "      box-shadow: 0px 1px 2px rgba(60, 64, 67, 0.3), 0px 1px 3px 1px rgba(60, 64, 67, 0.15);\n",
              "      fill: #174EA6;\n",
              "    }\n",
              "\n",
              "    .colab-df-buttons div {\n",
              "      margin-bottom: 4px;\n",
              "    }\n",
              "\n",
              "    [theme=dark] .colab-df-convert {\n",
              "      background-color: #3B4455;\n",
              "      fill: #D2E3FC;\n",
              "    }\n",
              "\n",
              "    [theme=dark] .colab-df-convert:hover {\n",
              "      background-color: #434B5C;\n",
              "      box-shadow: 0px 1px 3px 1px rgba(0, 0, 0, 0.15);\n",
              "      filter: drop-shadow(0px 1px 2px rgba(0, 0, 0, 0.3));\n",
              "      fill: #FFFFFF;\n",
              "    }\n",
              "  </style>\n",
              "\n",
              "    <script>\n",
              "      const buttonEl =\n",
              "        document.querySelector('#df-bfaf906b-1ad0-41db-ad62-6ddb1d83f463 button.colab-df-convert');\n",
              "      buttonEl.style.display =\n",
              "        google.colab.kernel.accessAllowed ? 'block' : 'none';\n",
              "\n",
              "      async function convertToInteractive(key) {\n",
              "        const element = document.querySelector('#df-bfaf906b-1ad0-41db-ad62-6ddb1d83f463');\n",
              "        const dataTable =\n",
              "          await google.colab.kernel.invokeFunction('convertToInteractive',\n",
              "                                                    [key], {});\n",
              "        if (!dataTable) return;\n",
              "\n",
              "        const docLinkHtml = 'Like what you see? Visit the ' +\n",
              "          '<a target=\"_blank\" href=https://colab.research.google.com/notebooks/data_table.ipynb>data table notebook</a>'\n",
              "          + ' to learn more about interactive tables.';\n",
              "        element.innerHTML = '';\n",
              "        dataTable['output_type'] = 'display_data';\n",
              "        await google.colab.output.renderOutput(dataTable, element);\n",
              "        const docLink = document.createElement('div');\n",
              "        docLink.innerHTML = docLinkHtml;\n",
              "        element.appendChild(docLink);\n",
              "      }\n",
              "    </script>\n",
              "  </div>\n",
              "\n",
              "\n",
              "    <div id=\"df-48493571-e06d-4096-a25a-aa89208ea324\">\n",
              "      <button class=\"colab-df-quickchart\" onclick=\"quickchart('df-48493571-e06d-4096-a25a-aa89208ea324')\"\n",
              "                title=\"Suggest charts\"\n",
              "                style=\"display:none;\">\n",
              "\n",
              "<svg xmlns=\"http://www.w3.org/2000/svg\" height=\"24px\"viewBox=\"0 0 24 24\"\n",
              "     width=\"24px\">\n",
              "    <g>\n",
              "        <path d=\"M19 3H5c-1.1 0-2 .9-2 2v14c0 1.1.9 2 2 2h14c1.1 0 2-.9 2-2V5c0-1.1-.9-2-2-2zM9 17H7v-7h2v7zm4 0h-2V7h2v10zm4 0h-2v-4h2v4z\"/>\n",
              "    </g>\n",
              "</svg>\n",
              "      </button>\n",
              "\n",
              "<style>\n",
              "  .colab-df-quickchart {\n",
              "      --bg-color: #E8F0FE;\n",
              "      --fill-color: #1967D2;\n",
              "      --hover-bg-color: #E2EBFA;\n",
              "      --hover-fill-color: #174EA6;\n",
              "      --disabled-fill-color: #AAA;\n",
              "      --disabled-bg-color: #DDD;\n",
              "  }\n",
              "\n",
              "  [theme=dark] .colab-df-quickchart {\n",
              "      --bg-color: #3B4455;\n",
              "      --fill-color: #D2E3FC;\n",
              "      --hover-bg-color: #434B5C;\n",
              "      --hover-fill-color: #FFFFFF;\n",
              "      --disabled-bg-color: #3B4455;\n",
              "      --disabled-fill-color: #666;\n",
              "  }\n",
              "\n",
              "  .colab-df-quickchart {\n",
              "    background-color: var(--bg-color);\n",
              "    border: none;\n",
              "    border-radius: 50%;\n",
              "    cursor: pointer;\n",
              "    display: none;\n",
              "    fill: var(--fill-color);\n",
              "    height: 32px;\n",
              "    padding: 0;\n",
              "    width: 32px;\n",
              "  }\n",
              "\n",
              "  .colab-df-quickchart:hover {\n",
              "    background-color: var(--hover-bg-color);\n",
              "    box-shadow: 0 1px 2px rgba(60, 64, 67, 0.3), 0 1px 3px 1px rgba(60, 64, 67, 0.15);\n",
              "    fill: var(--button-hover-fill-color);\n",
              "  }\n",
              "\n",
              "  .colab-df-quickchart-complete:disabled,\n",
              "  .colab-df-quickchart-complete:disabled:hover {\n",
              "    background-color: var(--disabled-bg-color);\n",
              "    fill: var(--disabled-fill-color);\n",
              "    box-shadow: none;\n",
              "  }\n",
              "\n",
              "  .colab-df-spinner {\n",
              "    border: 2px solid var(--fill-color);\n",
              "    border-color: transparent;\n",
              "    border-bottom-color: var(--fill-color);\n",
              "    animation:\n",
              "      spin 1s steps(1) infinite;\n",
              "  }\n",
              "\n",
              "  @keyframes spin {\n",
              "    0% {\n",
              "      border-color: transparent;\n",
              "      border-bottom-color: var(--fill-color);\n",
              "      border-left-color: var(--fill-color);\n",
              "    }\n",
              "    20% {\n",
              "      border-color: transparent;\n",
              "      border-left-color: var(--fill-color);\n",
              "      border-top-color: var(--fill-color);\n",
              "    }\n",
              "    30% {\n",
              "      border-color: transparent;\n",
              "      border-left-color: var(--fill-color);\n",
              "      border-top-color: var(--fill-color);\n",
              "      border-right-color: var(--fill-color);\n",
              "    }\n",
              "    40% {\n",
              "      border-color: transparent;\n",
              "      border-right-color: var(--fill-color);\n",
              "      border-top-color: var(--fill-color);\n",
              "    }\n",
              "    60% {\n",
              "      border-color: transparent;\n",
              "      border-right-color: var(--fill-color);\n",
              "    }\n",
              "    80% {\n",
              "      border-color: transparent;\n",
              "      border-right-color: var(--fill-color);\n",
              "      border-bottom-color: var(--fill-color);\n",
              "    }\n",
              "    90% {\n",
              "      border-color: transparent;\n",
              "      border-bottom-color: var(--fill-color);\n",
              "    }\n",
              "  }\n",
              "</style>\n",
              "\n",
              "      <script>\n",
              "        async function quickchart(key) {\n",
              "          const quickchartButtonEl =\n",
              "            document.querySelector('#' + key + ' button');\n",
              "          quickchartButtonEl.disabled = true;  // To prevent multiple clicks.\n",
              "          quickchartButtonEl.classList.add('colab-df-spinner');\n",
              "          try {\n",
              "            const charts = await google.colab.kernel.invokeFunction(\n",
              "                'suggestCharts', [key], {});\n",
              "          } catch (error) {\n",
              "            console.error('Error during call to suggestCharts:', error);\n",
              "          }\n",
              "          quickchartButtonEl.classList.remove('colab-df-spinner');\n",
              "          quickchartButtonEl.classList.add('colab-df-quickchart-complete');\n",
              "        }\n",
              "        (() => {\n",
              "          let quickchartButtonEl =\n",
              "            document.querySelector('#df-48493571-e06d-4096-a25a-aa89208ea324 button');\n",
              "          quickchartButtonEl.style.display =\n",
              "            google.colab.kernel.accessAllowed ? 'block' : 'none';\n",
              "        })();\n",
              "      </script>\n",
              "    </div>\n",
              "\n",
              "  <div id=\"id_57fe66c3-4050-4f9b-a799-ab3af1a01bc3\">\n",
              "    <style>\n",
              "      .colab-df-generate {\n",
              "        background-color: #E8F0FE;\n",
              "        border: none;\n",
              "        border-radius: 50%;\n",
              "        cursor: pointer;\n",
              "        display: none;\n",
              "        fill: #1967D2;\n",
              "        height: 32px;\n",
              "        padding: 0 0 0 0;\n",
              "        width: 32px;\n",
              "      }\n",
              "\n",
              "      .colab-df-generate:hover {\n",
              "        background-color: #E2EBFA;\n",
              "        box-shadow: 0px 1px 2px rgba(60, 64, 67, 0.3), 0px 1px 3px 1px rgba(60, 64, 67, 0.15);\n",
              "        fill: #174EA6;\n",
              "      }\n",
              "\n",
              "      [theme=dark] .colab-df-generate {\n",
              "        background-color: #3B4455;\n",
              "        fill: #D2E3FC;\n",
              "      }\n",
              "\n",
              "      [theme=dark] .colab-df-generate:hover {\n",
              "        background-color: #434B5C;\n",
              "        box-shadow: 0px 1px 3px 1px rgba(0, 0, 0, 0.15);\n",
              "        filter: drop-shadow(0px 1px 2px rgba(0, 0, 0, 0.3));\n",
              "        fill: #FFFFFF;\n",
              "      }\n",
              "    </style>\n",
              "    <button class=\"colab-df-generate\" onclick=\"generateWithVariable('df')\"\n",
              "            title=\"Generate code using this dataframe.\"\n",
              "            style=\"display:none;\">\n",
              "\n",
              "  <svg xmlns=\"http://www.w3.org/2000/svg\" height=\"24px\"viewBox=\"0 0 24 24\"\n",
              "       width=\"24px\">\n",
              "    <path d=\"M7,19H8.4L18.45,9,17,7.55,7,17.6ZM5,21V16.75L18.45,3.32a2,2,0,0,1,2.83,0l1.4,1.43a1.91,1.91,0,0,1,.58,1.4,1.91,1.91,0,0,1-.58,1.4L9.25,21ZM18.45,9,17,7.55Zm-12,3A5.31,5.31,0,0,0,4.9,8.1,5.31,5.31,0,0,0,1,6.5,5.31,5.31,0,0,0,4.9,4.9,5.31,5.31,0,0,0,6.5,1,5.31,5.31,0,0,0,8.1,4.9,5.31,5.31,0,0,0,12,6.5,5.46,5.46,0,0,0,6.5,12Z\"/>\n",
              "  </svg>\n",
              "    </button>\n",
              "    <script>\n",
              "      (() => {\n",
              "      const buttonEl =\n",
              "        document.querySelector('#id_57fe66c3-4050-4f9b-a799-ab3af1a01bc3 button.colab-df-generate');\n",
              "      buttonEl.style.display =\n",
              "        google.colab.kernel.accessAllowed ? 'block' : 'none';\n",
              "\n",
              "      buttonEl.onclick = () => {\n",
              "        google.colab.notebook.generateWithVariable('df');\n",
              "      }\n",
              "      })();\n",
              "    </script>\n",
              "  </div>\n",
              "\n",
              "    </div>\n",
              "  </div>\n"
            ],
            "application/vnd.google.colaboratory.intrinsic+json": {
              "type": "dataframe",
              "variable_name": "df",
              "summary": "{\n  \"name\": \"df\",\n  \"rows\": 891,\n  \"fields\": [\n    {\n      \"column\": \"PassengerId\",\n      \"properties\": {\n        \"dtype\": \"number\",\n        \"std\": 257,\n        \"min\": 1,\n        \"max\": 891,\n        \"num_unique_values\": 891,\n        \"samples\": [\n          710,\n          440,\n          841\n        ],\n        \"semantic_type\": \"\",\n        \"description\": \"\"\n      }\n    },\n    {\n      \"column\": \"Survived\",\n      \"properties\": {\n        \"dtype\": \"number\",\n        \"std\": 0,\n        \"min\": 0,\n        \"max\": 1,\n        \"num_unique_values\": 2,\n        \"samples\": [\n          1,\n          0\n        ],\n        \"semantic_type\": \"\",\n        \"description\": \"\"\n      }\n    },\n    {\n      \"column\": \"Pclass\",\n      \"properties\": {\n        \"dtype\": \"number\",\n        \"std\": 0,\n        \"min\": 1,\n        \"max\": 3,\n        \"num_unique_values\": 3,\n        \"samples\": [\n          3,\n          1\n        ],\n        \"semantic_type\": \"\",\n        \"description\": \"\"\n      }\n    },\n    {\n      \"column\": \"Name\",\n      \"properties\": {\n        \"dtype\": \"string\",\n        \"num_unique_values\": 891,\n        \"samples\": [\n          \"Moubarek, Master. Halim Gonios (\\\"William George\\\")\",\n          \"Kvillner, Mr. Johan Henrik Johannesson\"\n        ],\n        \"semantic_type\": \"\",\n        \"description\": \"\"\n      }\n    },\n    {\n      \"column\": \"Sex\",\n      \"properties\": {\n        \"dtype\": \"number\",\n        \"std\": 0,\n        \"min\": 0,\n        \"max\": 1,\n        \"num_unique_values\": 2,\n        \"samples\": [\n          0,\n          1\n        ],\n        \"semantic_type\": \"\",\n        \"description\": \"\"\n      }\n    },\n    {\n      \"column\": \"Age\",\n      \"properties\": {\n        \"dtype\": \"number\",\n        \"std\": 13.019696550973194,\n        \"min\": 0.42,\n        \"max\": 80.0,\n        \"num_unique_values\": 88,\n        \"samples\": [\n          0.75,\n          22.0\n        ],\n        \"semantic_type\": \"\",\n        \"description\": \"\"\n      }\n    },\n    {\n      \"column\": \"SibSp\",\n      \"properties\": {\n        \"dtype\": \"number\",\n        \"std\": 1,\n        \"min\": 0,\n        \"max\": 8,\n        \"num_unique_values\": 7,\n        \"samples\": [\n          1,\n          0\n        ],\n        \"semantic_type\": \"\",\n        \"description\": \"\"\n      }\n    },\n    {\n      \"column\": \"Parch\",\n      \"properties\": {\n        \"dtype\": \"number\",\n        \"std\": 0,\n        \"min\": 0,\n        \"max\": 6,\n        \"num_unique_values\": 7,\n        \"samples\": [\n          0,\n          1\n        ],\n        \"semantic_type\": \"\",\n        \"description\": \"\"\n      }\n    },\n    {\n      \"column\": \"Ticket\",\n      \"properties\": {\n        \"dtype\": \"string\",\n        \"num_unique_values\": 681,\n        \"samples\": [\n          \"11774\",\n          \"248740\"\n        ],\n        \"semantic_type\": \"\",\n        \"description\": \"\"\n      }\n    },\n    {\n      \"column\": \"Fare\",\n      \"properties\": {\n        \"dtype\": \"number\",\n        \"std\": 49.693428597180905,\n        \"min\": 0.0,\n        \"max\": 512.3292,\n        \"num_unique_values\": 248,\n        \"samples\": [\n          11.2417,\n          51.8625\n        ],\n        \"semantic_type\": \"\",\n        \"description\": \"\"\n      }\n    },\n    {\n      \"column\": \"Embarked_Q\",\n      \"properties\": {\n        \"dtype\": \"boolean\",\n        \"num_unique_values\": 2,\n        \"samples\": [\n          true,\n          false\n        ],\n        \"semantic_type\": \"\",\n        \"description\": \"\"\n      }\n    },\n    {\n      \"column\": \"Embarked_S\",\n      \"properties\": {\n        \"dtype\": \"boolean\",\n        \"num_unique_values\": 2,\n        \"samples\": [\n          false,\n          true\n        ],\n        \"semantic_type\": \"\",\n        \"description\": \"\"\n      }\n    }\n  ]\n}"
            }
          },
          "metadata": {},
          "execution_count": 84
        }
      ]
    },
    {
      "cell_type": "markdown",
      "source": [
        "#Load and inspect data"
      ],
      "metadata": {
        "id": "geJh31vc-CpZ"
      }
    },
    {
      "cell_type": "code",
      "source": [
        "import pandas as pd\n",
        "\n",
        "url=\"https://raw.githubusercontent.com/stedy/Machine-Learning-with-R-datasets/master/insurance.csv\"\n",
        "df=pd.read_csv(url)\n",
        "df.head()\n"
      ],
      "metadata": {
        "colab": {
          "base_uri": "https://localhost:8080/",
          "height": 206
        },
        "id": "Q9HEeTtP-A1C",
        "outputId": "d89abee5-d6c0-4f6f-a020-bff354ce1bf1"
      },
      "execution_count": null,
      "outputs": [
        {
          "output_type": "execute_result",
          "data": {
            "text/plain": [
              "   age     sex     bmi  children smoker     region      charges\n",
              "0   19  female  27.900         0    yes  southwest  16884.92400\n",
              "1   18    male  33.770         1     no  southeast   1725.55230\n",
              "2   28    male  33.000         3     no  southeast   4449.46200\n",
              "3   33    male  22.705         0     no  northwest  21984.47061\n",
              "4   32    male  28.880         0     no  northwest   3866.85520"
            ],
            "text/html": [
              "\n",
              "  <div id=\"df-2d71ee2a-7453-4199-a27c-f4462e2e1409\" class=\"colab-df-container\">\n",
              "    <div>\n",
              "<style scoped>\n",
              "    .dataframe tbody tr th:only-of-type {\n",
              "        vertical-align: middle;\n",
              "    }\n",
              "\n",
              "    .dataframe tbody tr th {\n",
              "        vertical-align: top;\n",
              "    }\n",
              "\n",
              "    .dataframe thead th {\n",
              "        text-align: right;\n",
              "    }\n",
              "</style>\n",
              "<table border=\"1\" class=\"dataframe\">\n",
              "  <thead>\n",
              "    <tr style=\"text-align: right;\">\n",
              "      <th></th>\n",
              "      <th>age</th>\n",
              "      <th>sex</th>\n",
              "      <th>bmi</th>\n",
              "      <th>children</th>\n",
              "      <th>smoker</th>\n",
              "      <th>region</th>\n",
              "      <th>charges</th>\n",
              "    </tr>\n",
              "  </thead>\n",
              "  <tbody>\n",
              "    <tr>\n",
              "      <th>0</th>\n",
              "      <td>19</td>\n",
              "      <td>female</td>\n",
              "      <td>27.900</td>\n",
              "      <td>0</td>\n",
              "      <td>yes</td>\n",
              "      <td>southwest</td>\n",
              "      <td>16884.92400</td>\n",
              "    </tr>\n",
              "    <tr>\n",
              "      <th>1</th>\n",
              "      <td>18</td>\n",
              "      <td>male</td>\n",
              "      <td>33.770</td>\n",
              "      <td>1</td>\n",
              "      <td>no</td>\n",
              "      <td>southeast</td>\n",
              "      <td>1725.55230</td>\n",
              "    </tr>\n",
              "    <tr>\n",
              "      <th>2</th>\n",
              "      <td>28</td>\n",
              "      <td>male</td>\n",
              "      <td>33.000</td>\n",
              "      <td>3</td>\n",
              "      <td>no</td>\n",
              "      <td>southeast</td>\n",
              "      <td>4449.46200</td>\n",
              "    </tr>\n",
              "    <tr>\n",
              "      <th>3</th>\n",
              "      <td>33</td>\n",
              "      <td>male</td>\n",
              "      <td>22.705</td>\n",
              "      <td>0</td>\n",
              "      <td>no</td>\n",
              "      <td>northwest</td>\n",
              "      <td>21984.47061</td>\n",
              "    </tr>\n",
              "    <tr>\n",
              "      <th>4</th>\n",
              "      <td>32</td>\n",
              "      <td>male</td>\n",
              "      <td>28.880</td>\n",
              "      <td>0</td>\n",
              "      <td>no</td>\n",
              "      <td>northwest</td>\n",
              "      <td>3866.85520</td>\n",
              "    </tr>\n",
              "  </tbody>\n",
              "</table>\n",
              "</div>\n",
              "    <div class=\"colab-df-buttons\">\n",
              "\n",
              "  <div class=\"colab-df-container\">\n",
              "    <button class=\"colab-df-convert\" onclick=\"convertToInteractive('df-2d71ee2a-7453-4199-a27c-f4462e2e1409')\"\n",
              "            title=\"Convert this dataframe to an interactive table.\"\n",
              "            style=\"display:none;\">\n",
              "\n",
              "  <svg xmlns=\"http://www.w3.org/2000/svg\" height=\"24px\" viewBox=\"0 -960 960 960\">\n",
              "    <path d=\"M120-120v-720h720v720H120Zm60-500h600v-160H180v160Zm220 220h160v-160H400v160Zm0 220h160v-160H400v160ZM180-400h160v-160H180v160Zm440 0h160v-160H620v160ZM180-180h160v-160H180v160Zm440 0h160v-160H620v160Z\"/>\n",
              "  </svg>\n",
              "    </button>\n",
              "\n",
              "  <style>\n",
              "    .colab-df-container {\n",
              "      display:flex;\n",
              "      gap: 12px;\n",
              "    }\n",
              "\n",
              "    .colab-df-convert {\n",
              "      background-color: #E8F0FE;\n",
              "      border: none;\n",
              "      border-radius: 50%;\n",
              "      cursor: pointer;\n",
              "      display: none;\n",
              "      fill: #1967D2;\n",
              "      height: 32px;\n",
              "      padding: 0 0 0 0;\n",
              "      width: 32px;\n",
              "    }\n",
              "\n",
              "    .colab-df-convert:hover {\n",
              "      background-color: #E2EBFA;\n",
              "      box-shadow: 0px 1px 2px rgba(60, 64, 67, 0.3), 0px 1px 3px 1px rgba(60, 64, 67, 0.15);\n",
              "      fill: #174EA6;\n",
              "    }\n",
              "\n",
              "    .colab-df-buttons div {\n",
              "      margin-bottom: 4px;\n",
              "    }\n",
              "\n",
              "    [theme=dark] .colab-df-convert {\n",
              "      background-color: #3B4455;\n",
              "      fill: #D2E3FC;\n",
              "    }\n",
              "\n",
              "    [theme=dark] .colab-df-convert:hover {\n",
              "      background-color: #434B5C;\n",
              "      box-shadow: 0px 1px 3px 1px rgba(0, 0, 0, 0.15);\n",
              "      filter: drop-shadow(0px 1px 2px rgba(0, 0, 0, 0.3));\n",
              "      fill: #FFFFFF;\n",
              "    }\n",
              "  </style>\n",
              "\n",
              "    <script>\n",
              "      const buttonEl =\n",
              "        document.querySelector('#df-2d71ee2a-7453-4199-a27c-f4462e2e1409 button.colab-df-convert');\n",
              "      buttonEl.style.display =\n",
              "        google.colab.kernel.accessAllowed ? 'block' : 'none';\n",
              "\n",
              "      async function convertToInteractive(key) {\n",
              "        const element = document.querySelector('#df-2d71ee2a-7453-4199-a27c-f4462e2e1409');\n",
              "        const dataTable =\n",
              "          await google.colab.kernel.invokeFunction('convertToInteractive',\n",
              "                                                    [key], {});\n",
              "        if (!dataTable) return;\n",
              "\n",
              "        const docLinkHtml = 'Like what you see? Visit the ' +\n",
              "          '<a target=\"_blank\" href=https://colab.research.google.com/notebooks/data_table.ipynb>data table notebook</a>'\n",
              "          + ' to learn more about interactive tables.';\n",
              "        element.innerHTML = '';\n",
              "        dataTable['output_type'] = 'display_data';\n",
              "        await google.colab.output.renderOutput(dataTable, element);\n",
              "        const docLink = document.createElement('div');\n",
              "        docLink.innerHTML = docLinkHtml;\n",
              "        element.appendChild(docLink);\n",
              "      }\n",
              "    </script>\n",
              "  </div>\n",
              "\n",
              "\n",
              "    <div id=\"df-04ac915a-7fa2-4e43-9a20-10b744a52895\">\n",
              "      <button class=\"colab-df-quickchart\" onclick=\"quickchart('df-04ac915a-7fa2-4e43-9a20-10b744a52895')\"\n",
              "                title=\"Suggest charts\"\n",
              "                style=\"display:none;\">\n",
              "\n",
              "<svg xmlns=\"http://www.w3.org/2000/svg\" height=\"24px\"viewBox=\"0 0 24 24\"\n",
              "     width=\"24px\">\n",
              "    <g>\n",
              "        <path d=\"M19 3H5c-1.1 0-2 .9-2 2v14c0 1.1.9 2 2 2h14c1.1 0 2-.9 2-2V5c0-1.1-.9-2-2-2zM9 17H7v-7h2v7zm4 0h-2V7h2v10zm4 0h-2v-4h2v4z\"/>\n",
              "    </g>\n",
              "</svg>\n",
              "      </button>\n",
              "\n",
              "<style>\n",
              "  .colab-df-quickchart {\n",
              "      --bg-color: #E8F0FE;\n",
              "      --fill-color: #1967D2;\n",
              "      --hover-bg-color: #E2EBFA;\n",
              "      --hover-fill-color: #174EA6;\n",
              "      --disabled-fill-color: #AAA;\n",
              "      --disabled-bg-color: #DDD;\n",
              "  }\n",
              "\n",
              "  [theme=dark] .colab-df-quickchart {\n",
              "      --bg-color: #3B4455;\n",
              "      --fill-color: #D2E3FC;\n",
              "      --hover-bg-color: #434B5C;\n",
              "      --hover-fill-color: #FFFFFF;\n",
              "      --disabled-bg-color: #3B4455;\n",
              "      --disabled-fill-color: #666;\n",
              "  }\n",
              "\n",
              "  .colab-df-quickchart {\n",
              "    background-color: var(--bg-color);\n",
              "    border: none;\n",
              "    border-radius: 50%;\n",
              "    cursor: pointer;\n",
              "    display: none;\n",
              "    fill: var(--fill-color);\n",
              "    height: 32px;\n",
              "    padding: 0;\n",
              "    width: 32px;\n",
              "  }\n",
              "\n",
              "  .colab-df-quickchart:hover {\n",
              "    background-color: var(--hover-bg-color);\n",
              "    box-shadow: 0 1px 2px rgba(60, 64, 67, 0.3), 0 1px 3px 1px rgba(60, 64, 67, 0.15);\n",
              "    fill: var(--button-hover-fill-color);\n",
              "  }\n",
              "\n",
              "  .colab-df-quickchart-complete:disabled,\n",
              "  .colab-df-quickchart-complete:disabled:hover {\n",
              "    background-color: var(--disabled-bg-color);\n",
              "    fill: var(--disabled-fill-color);\n",
              "    box-shadow: none;\n",
              "  }\n",
              "\n",
              "  .colab-df-spinner {\n",
              "    border: 2px solid var(--fill-color);\n",
              "    border-color: transparent;\n",
              "    border-bottom-color: var(--fill-color);\n",
              "    animation:\n",
              "      spin 1s steps(1) infinite;\n",
              "  }\n",
              "\n",
              "  @keyframes spin {\n",
              "    0% {\n",
              "      border-color: transparent;\n",
              "      border-bottom-color: var(--fill-color);\n",
              "      border-left-color: var(--fill-color);\n",
              "    }\n",
              "    20% {\n",
              "      border-color: transparent;\n",
              "      border-left-color: var(--fill-color);\n",
              "      border-top-color: var(--fill-color);\n",
              "    }\n",
              "    30% {\n",
              "      border-color: transparent;\n",
              "      border-left-color: var(--fill-color);\n",
              "      border-top-color: var(--fill-color);\n",
              "      border-right-color: var(--fill-color);\n",
              "    }\n",
              "    40% {\n",
              "      border-color: transparent;\n",
              "      border-right-color: var(--fill-color);\n",
              "      border-top-color: var(--fill-color);\n",
              "    }\n",
              "    60% {\n",
              "      border-color: transparent;\n",
              "      border-right-color: var(--fill-color);\n",
              "    }\n",
              "    80% {\n",
              "      border-color: transparent;\n",
              "      border-right-color: var(--fill-color);\n",
              "      border-bottom-color: var(--fill-color);\n",
              "    }\n",
              "    90% {\n",
              "      border-color: transparent;\n",
              "      border-bottom-color: var(--fill-color);\n",
              "    }\n",
              "  }\n",
              "</style>\n",
              "\n",
              "      <script>\n",
              "        async function quickchart(key) {\n",
              "          const quickchartButtonEl =\n",
              "            document.querySelector('#' + key + ' button');\n",
              "          quickchartButtonEl.disabled = true;  // To prevent multiple clicks.\n",
              "          quickchartButtonEl.classList.add('colab-df-spinner');\n",
              "          try {\n",
              "            const charts = await google.colab.kernel.invokeFunction(\n",
              "                'suggestCharts', [key], {});\n",
              "          } catch (error) {\n",
              "            console.error('Error during call to suggestCharts:', error);\n",
              "          }\n",
              "          quickchartButtonEl.classList.remove('colab-df-spinner');\n",
              "          quickchartButtonEl.classList.add('colab-df-quickchart-complete');\n",
              "        }\n",
              "        (() => {\n",
              "          let quickchartButtonEl =\n",
              "            document.querySelector('#df-04ac915a-7fa2-4e43-9a20-10b744a52895 button');\n",
              "          quickchartButtonEl.style.display =\n",
              "            google.colab.kernel.accessAllowed ? 'block' : 'none';\n",
              "        })();\n",
              "      </script>\n",
              "    </div>\n",
              "\n",
              "    </div>\n",
              "  </div>\n"
            ],
            "application/vnd.google.colaboratory.intrinsic+json": {
              "type": "dataframe",
              "variable_name": "df",
              "summary": "{\n  \"name\": \"df\",\n  \"rows\": 1338,\n  \"fields\": [\n    {\n      \"column\": \"age\",\n      \"properties\": {\n        \"dtype\": \"number\",\n        \"std\": 14,\n        \"min\": 18,\n        \"max\": 64,\n        \"num_unique_values\": 47,\n        \"samples\": [\n          21,\n          45,\n          36\n        ],\n        \"semantic_type\": \"\",\n        \"description\": \"\"\n      }\n    },\n    {\n      \"column\": \"sex\",\n      \"properties\": {\n        \"dtype\": \"category\",\n        \"num_unique_values\": 2,\n        \"samples\": [\n          \"male\",\n          \"female\"\n        ],\n        \"semantic_type\": \"\",\n        \"description\": \"\"\n      }\n    },\n    {\n      \"column\": \"bmi\",\n      \"properties\": {\n        \"dtype\": \"number\",\n        \"std\": 6.098186911679017,\n        \"min\": 15.96,\n        \"max\": 53.13,\n        \"num_unique_values\": 548,\n        \"samples\": [\n          23.18,\n          26.885\n        ],\n        \"semantic_type\": \"\",\n        \"description\": \"\"\n      }\n    },\n    {\n      \"column\": \"children\",\n      \"properties\": {\n        \"dtype\": \"number\",\n        \"std\": 1,\n        \"min\": 0,\n        \"max\": 5,\n        \"num_unique_values\": 6,\n        \"samples\": [\n          0,\n          1\n        ],\n        \"semantic_type\": \"\",\n        \"description\": \"\"\n      }\n    },\n    {\n      \"column\": \"smoker\",\n      \"properties\": {\n        \"dtype\": \"category\",\n        \"num_unique_values\": 2,\n        \"samples\": [\n          \"no\",\n          \"yes\"\n        ],\n        \"semantic_type\": \"\",\n        \"description\": \"\"\n      }\n    },\n    {\n      \"column\": \"region\",\n      \"properties\": {\n        \"dtype\": \"category\",\n        \"num_unique_values\": 4,\n        \"samples\": [\n          \"southeast\",\n          \"northeast\"\n        ],\n        \"semantic_type\": \"\",\n        \"description\": \"\"\n      }\n    },\n    {\n      \"column\": \"charges\",\n      \"properties\": {\n        \"dtype\": \"number\",\n        \"std\": 12110.011236693994,\n        \"min\": 1121.8739,\n        \"max\": 63770.42801,\n        \"num_unique_values\": 1337,\n        \"samples\": [\n          8688.85885,\n          5708.867\n        ],\n        \"semantic_type\": \"\",\n        \"description\": \"\"\n      }\n    }\n  ]\n}"
            }
          },
          "metadata": {},
          "execution_count": 87
        }
      ]
    },
    {
      "cell_type": "markdown",
      "source": [
        "##Check gor null values"
      ],
      "metadata": {
        "id": "H6TKbqfZG8iK"
      }
    },
    {
      "cell_type": "code",
      "source": [
        "df.isnull().sum()"
      ],
      "metadata": {
        "colab": {
          "base_uri": "https://localhost:8080/",
          "height": 304
        },
        "id": "EQttrZJVF9PJ",
        "outputId": "a799bc5f-0038-43ee-dab9-2931717a9d3a"
      },
      "execution_count": null,
      "outputs": [
        {
          "output_type": "execute_result",
          "data": {
            "text/plain": [
              "age         0\n",
              "sex         0\n",
              "bmi         0\n",
              "children    0\n",
              "smoker      0\n",
              "region      0\n",
              "charges     0\n",
              "dtype: int64"
            ],
            "text/html": [
              "<div>\n",
              "<style scoped>\n",
              "    .dataframe tbody tr th:only-of-type {\n",
              "        vertical-align: middle;\n",
              "    }\n",
              "\n",
              "    .dataframe tbody tr th {\n",
              "        vertical-align: top;\n",
              "    }\n",
              "\n",
              "    .dataframe thead th {\n",
              "        text-align: right;\n",
              "    }\n",
              "</style>\n",
              "<table border=\"1\" class=\"dataframe\">\n",
              "  <thead>\n",
              "    <tr style=\"text-align: right;\">\n",
              "      <th></th>\n",
              "      <th>0</th>\n",
              "    </tr>\n",
              "  </thead>\n",
              "  <tbody>\n",
              "    <tr>\n",
              "      <th>age</th>\n",
              "      <td>0</td>\n",
              "    </tr>\n",
              "    <tr>\n",
              "      <th>sex</th>\n",
              "      <td>0</td>\n",
              "    </tr>\n",
              "    <tr>\n",
              "      <th>bmi</th>\n",
              "      <td>0</td>\n",
              "    </tr>\n",
              "    <tr>\n",
              "      <th>children</th>\n",
              "      <td>0</td>\n",
              "    </tr>\n",
              "    <tr>\n",
              "      <th>smoker</th>\n",
              "      <td>0</td>\n",
              "    </tr>\n",
              "    <tr>\n",
              "      <th>region</th>\n",
              "      <td>0</td>\n",
              "    </tr>\n",
              "    <tr>\n",
              "      <th>charges</th>\n",
              "      <td>0</td>\n",
              "    </tr>\n",
              "  </tbody>\n",
              "</table>\n",
              "</div><br><label><b>dtype:</b> int64</label>"
            ]
          },
          "metadata": {},
          "execution_count": 88
        }
      ]
    },
    {
      "cell_type": "markdown",
      "source": [],
      "metadata": {
        "id": "YJ3Jruuc-Aja"
      }
    },
    {
      "cell_type": "code",
      "source": [
        "df.info()"
      ],
      "metadata": {
        "colab": {
          "base_uri": "https://localhost:8080/"
        },
        "id": "6BC2oUFZ-B2C",
        "outputId": "b666b8a3-2684-437d-a2e3-477e37a4a444"
      },
      "execution_count": null,
      "outputs": [
        {
          "output_type": "stream",
          "name": "stdout",
          "text": [
            "<class 'pandas.core.frame.DataFrame'>\n",
            "RangeIndex: 1338 entries, 0 to 1337\n",
            "Data columns (total 7 columns):\n",
            " #   Column    Non-Null Count  Dtype  \n",
            "---  ------    --------------  -----  \n",
            " 0   age       1338 non-null   int64  \n",
            " 1   sex       1338 non-null   object \n",
            " 2   bmi       1338 non-null   float64\n",
            " 3   children  1338 non-null   int64  \n",
            " 4   smoker    1338 non-null   object \n",
            " 5   region    1338 non-null   object \n",
            " 6   charges   1338 non-null   float64\n",
            "dtypes: float64(2), int64(2), object(3)\n",
            "memory usage: 73.3+ KB\n"
          ]
        }
      ]
    },
    {
      "cell_type": "markdown",
      "source": [
        "##one-hot Encode categories variables"
      ],
      "metadata": {
        "id": "GvHBT3WnHNn4"
      }
    },
    {
      "cell_type": "code",
      "source": [
        "df_encoded=pd.get_dummies(df,drop_first=True)\n",
        "df_encoded.head()"
      ],
      "metadata": {
        "colab": {
          "base_uri": "https://localhost:8080/",
          "height": 206
        },
        "id": "qV1kWI1ylPtS",
        "outputId": "985f0550-34d1-40a6-99bd-857927f4901e"
      },
      "execution_count": null,
      "outputs": [
        {
          "output_type": "execute_result",
          "data": {
            "text/plain": [
              "   age     bmi  children      charges  sex_male  smoker_yes  region_northwest  \\\n",
              "0   19  27.900         0  16884.92400     False        True             False   \n",
              "1   18  33.770         1   1725.55230      True       False             False   \n",
              "2   28  33.000         3   4449.46200      True       False             False   \n",
              "3   33  22.705         0  21984.47061      True       False              True   \n",
              "4   32  28.880         0   3866.85520      True       False              True   \n",
              "\n",
              "   region_southeast  region_southwest  \n",
              "0             False              True  \n",
              "1              True             False  \n",
              "2              True             False  \n",
              "3             False             False  \n",
              "4             False             False  "
            ],
            "text/html": [
              "\n",
              "  <div id=\"df-7e1ba96e-b183-448f-ace3-85d988be32e4\" class=\"colab-df-container\">\n",
              "    <div>\n",
              "<style scoped>\n",
              "    .dataframe tbody tr th:only-of-type {\n",
              "        vertical-align: middle;\n",
              "    }\n",
              "\n",
              "    .dataframe tbody tr th {\n",
              "        vertical-align: top;\n",
              "    }\n",
              "\n",
              "    .dataframe thead th {\n",
              "        text-align: right;\n",
              "    }\n",
              "</style>\n",
              "<table border=\"1\" class=\"dataframe\">\n",
              "  <thead>\n",
              "    <tr style=\"text-align: right;\">\n",
              "      <th></th>\n",
              "      <th>age</th>\n",
              "      <th>bmi</th>\n",
              "      <th>children</th>\n",
              "      <th>charges</th>\n",
              "      <th>sex_male</th>\n",
              "      <th>smoker_yes</th>\n",
              "      <th>region_northwest</th>\n",
              "      <th>region_southeast</th>\n",
              "      <th>region_southwest</th>\n",
              "    </tr>\n",
              "  </thead>\n",
              "  <tbody>\n",
              "    <tr>\n",
              "      <th>0</th>\n",
              "      <td>19</td>\n",
              "      <td>27.900</td>\n",
              "      <td>0</td>\n",
              "      <td>16884.92400</td>\n",
              "      <td>False</td>\n",
              "      <td>True</td>\n",
              "      <td>False</td>\n",
              "      <td>False</td>\n",
              "      <td>True</td>\n",
              "    </tr>\n",
              "    <tr>\n",
              "      <th>1</th>\n",
              "      <td>18</td>\n",
              "      <td>33.770</td>\n",
              "      <td>1</td>\n",
              "      <td>1725.55230</td>\n",
              "      <td>True</td>\n",
              "      <td>False</td>\n",
              "      <td>False</td>\n",
              "      <td>True</td>\n",
              "      <td>False</td>\n",
              "    </tr>\n",
              "    <tr>\n",
              "      <th>2</th>\n",
              "      <td>28</td>\n",
              "      <td>33.000</td>\n",
              "      <td>3</td>\n",
              "      <td>4449.46200</td>\n",
              "      <td>True</td>\n",
              "      <td>False</td>\n",
              "      <td>False</td>\n",
              "      <td>True</td>\n",
              "      <td>False</td>\n",
              "    </tr>\n",
              "    <tr>\n",
              "      <th>3</th>\n",
              "      <td>33</td>\n",
              "      <td>22.705</td>\n",
              "      <td>0</td>\n",
              "      <td>21984.47061</td>\n",
              "      <td>True</td>\n",
              "      <td>False</td>\n",
              "      <td>True</td>\n",
              "      <td>False</td>\n",
              "      <td>False</td>\n",
              "    </tr>\n",
              "    <tr>\n",
              "      <th>4</th>\n",
              "      <td>32</td>\n",
              "      <td>28.880</td>\n",
              "      <td>0</td>\n",
              "      <td>3866.85520</td>\n",
              "      <td>True</td>\n",
              "      <td>False</td>\n",
              "      <td>True</td>\n",
              "      <td>False</td>\n",
              "      <td>False</td>\n",
              "    </tr>\n",
              "  </tbody>\n",
              "</table>\n",
              "</div>\n",
              "    <div class=\"colab-df-buttons\">\n",
              "\n",
              "  <div class=\"colab-df-container\">\n",
              "    <button class=\"colab-df-convert\" onclick=\"convertToInteractive('df-7e1ba96e-b183-448f-ace3-85d988be32e4')\"\n",
              "            title=\"Convert this dataframe to an interactive table.\"\n",
              "            style=\"display:none;\">\n",
              "\n",
              "  <svg xmlns=\"http://www.w3.org/2000/svg\" height=\"24px\" viewBox=\"0 -960 960 960\">\n",
              "    <path d=\"M120-120v-720h720v720H120Zm60-500h600v-160H180v160Zm220 220h160v-160H400v160Zm0 220h160v-160H400v160ZM180-400h160v-160H180v160Zm440 0h160v-160H620v160ZM180-180h160v-160H180v160Zm440 0h160v-160H620v160Z\"/>\n",
              "  </svg>\n",
              "    </button>\n",
              "\n",
              "  <style>\n",
              "    .colab-df-container {\n",
              "      display:flex;\n",
              "      gap: 12px;\n",
              "    }\n",
              "\n",
              "    .colab-df-convert {\n",
              "      background-color: #E8F0FE;\n",
              "      border: none;\n",
              "      border-radius: 50%;\n",
              "      cursor: pointer;\n",
              "      display: none;\n",
              "      fill: #1967D2;\n",
              "      height: 32px;\n",
              "      padding: 0 0 0 0;\n",
              "      width: 32px;\n",
              "    }\n",
              "\n",
              "    .colab-df-convert:hover {\n",
              "      background-color: #E2EBFA;\n",
              "      box-shadow: 0px 1px 2px rgba(60, 64, 67, 0.3), 0px 1px 3px 1px rgba(60, 64, 67, 0.15);\n",
              "      fill: #174EA6;\n",
              "    }\n",
              "\n",
              "    .colab-df-buttons div {\n",
              "      margin-bottom: 4px;\n",
              "    }\n",
              "\n",
              "    [theme=dark] .colab-df-convert {\n",
              "      background-color: #3B4455;\n",
              "      fill: #D2E3FC;\n",
              "    }\n",
              "\n",
              "    [theme=dark] .colab-df-convert:hover {\n",
              "      background-color: #434B5C;\n",
              "      box-shadow: 0px 1px 3px 1px rgba(0, 0, 0, 0.15);\n",
              "      filter: drop-shadow(0px 1px 2px rgba(0, 0, 0, 0.3));\n",
              "      fill: #FFFFFF;\n",
              "    }\n",
              "  </style>\n",
              "\n",
              "    <script>\n",
              "      const buttonEl =\n",
              "        document.querySelector('#df-7e1ba96e-b183-448f-ace3-85d988be32e4 button.colab-df-convert');\n",
              "      buttonEl.style.display =\n",
              "        google.colab.kernel.accessAllowed ? 'block' : 'none';\n",
              "\n",
              "      async function convertToInteractive(key) {\n",
              "        const element = document.querySelector('#df-7e1ba96e-b183-448f-ace3-85d988be32e4');\n",
              "        const dataTable =\n",
              "          await google.colab.kernel.invokeFunction('convertToInteractive',\n",
              "                                                    [key], {});\n",
              "        if (!dataTable) return;\n",
              "\n",
              "        const docLinkHtml = 'Like what you see? Visit the ' +\n",
              "          '<a target=\"_blank\" href=https://colab.research.google.com/notebooks/data_table.ipynb>data table notebook</a>'\n",
              "          + ' to learn more about interactive tables.';\n",
              "        element.innerHTML = '';\n",
              "        dataTable['output_type'] = 'display_data';\n",
              "        await google.colab.output.renderOutput(dataTable, element);\n",
              "        const docLink = document.createElement('div');\n",
              "        docLink.innerHTML = docLinkHtml;\n",
              "        element.appendChild(docLink);\n",
              "      }\n",
              "    </script>\n",
              "  </div>\n",
              "\n",
              "\n",
              "    <div id=\"df-0b48fcea-0ae2-41f6-a971-6079fefed388\">\n",
              "      <button class=\"colab-df-quickchart\" onclick=\"quickchart('df-0b48fcea-0ae2-41f6-a971-6079fefed388')\"\n",
              "                title=\"Suggest charts\"\n",
              "                style=\"display:none;\">\n",
              "\n",
              "<svg xmlns=\"http://www.w3.org/2000/svg\" height=\"24px\"viewBox=\"0 0 24 24\"\n",
              "     width=\"24px\">\n",
              "    <g>\n",
              "        <path d=\"M19 3H5c-1.1 0-2 .9-2 2v14c0 1.1.9 2 2 2h14c1.1 0 2-.9 2-2V5c0-1.1-.9-2-2-2zM9 17H7v-7h2v7zm4 0h-2V7h2v10zm4 0h-2v-4h2v4z\"/>\n",
              "    </g>\n",
              "</svg>\n",
              "      </button>\n",
              "\n",
              "<style>\n",
              "  .colab-df-quickchart {\n",
              "      --bg-color: #E8F0FE;\n",
              "      --fill-color: #1967D2;\n",
              "      --hover-bg-color: #E2EBFA;\n",
              "      --hover-fill-color: #174EA6;\n",
              "      --disabled-fill-color: #AAA;\n",
              "      --disabled-bg-color: #DDD;\n",
              "  }\n",
              "\n",
              "  [theme=dark] .colab-df-quickchart {\n",
              "      --bg-color: #3B4455;\n",
              "      --fill-color: #D2E3FC;\n",
              "      --hover-bg-color: #434B5C;\n",
              "      --hover-fill-color: #FFFFFF;\n",
              "      --disabled-bg-color: #3B4455;\n",
              "      --disabled-fill-color: #666;\n",
              "  }\n",
              "\n",
              "  .colab-df-quickchart {\n",
              "    background-color: var(--bg-color);\n",
              "    border: none;\n",
              "    border-radius: 50%;\n",
              "    cursor: pointer;\n",
              "    display: none;\n",
              "    fill: var(--fill-color);\n",
              "    height: 32px;\n",
              "    padding: 0;\n",
              "    width: 32px;\n",
              "  }\n",
              "\n",
              "  .colab-df-quickchart:hover {\n",
              "    background-color: var(--hover-bg-color);\n",
              "    box-shadow: 0 1px 2px rgba(60, 64, 67, 0.3), 0 1px 3px 1px rgba(60, 64, 67, 0.15);\n",
              "    fill: var(--button-hover-fill-color);\n",
              "  }\n",
              "\n",
              "  .colab-df-quickchart-complete:disabled,\n",
              "  .colab-df-quickchart-complete:disabled:hover {\n",
              "    background-color: var(--disabled-bg-color);\n",
              "    fill: var(--disabled-fill-color);\n",
              "    box-shadow: none;\n",
              "  }\n",
              "\n",
              "  .colab-df-spinner {\n",
              "    border: 2px solid var(--fill-color);\n",
              "    border-color: transparent;\n",
              "    border-bottom-color: var(--fill-color);\n",
              "    animation:\n",
              "      spin 1s steps(1) infinite;\n",
              "  }\n",
              "\n",
              "  @keyframes spin {\n",
              "    0% {\n",
              "      border-color: transparent;\n",
              "      border-bottom-color: var(--fill-color);\n",
              "      border-left-color: var(--fill-color);\n",
              "    }\n",
              "    20% {\n",
              "      border-color: transparent;\n",
              "      border-left-color: var(--fill-color);\n",
              "      border-top-color: var(--fill-color);\n",
              "    }\n",
              "    30% {\n",
              "      border-color: transparent;\n",
              "      border-left-color: var(--fill-color);\n",
              "      border-top-color: var(--fill-color);\n",
              "      border-right-color: var(--fill-color);\n",
              "    }\n",
              "    40% {\n",
              "      border-color: transparent;\n",
              "      border-right-color: var(--fill-color);\n",
              "      border-top-color: var(--fill-color);\n",
              "    }\n",
              "    60% {\n",
              "      border-color: transparent;\n",
              "      border-right-color: var(--fill-color);\n",
              "    }\n",
              "    80% {\n",
              "      border-color: transparent;\n",
              "      border-right-color: var(--fill-color);\n",
              "      border-bottom-color: var(--fill-color);\n",
              "    }\n",
              "    90% {\n",
              "      border-color: transparent;\n",
              "      border-bottom-color: var(--fill-color);\n",
              "    }\n",
              "  }\n",
              "</style>\n",
              "\n",
              "      <script>\n",
              "        async function quickchart(key) {\n",
              "          const quickchartButtonEl =\n",
              "            document.querySelector('#' + key + ' button');\n",
              "          quickchartButtonEl.disabled = true;  // To prevent multiple clicks.\n",
              "          quickchartButtonEl.classList.add('colab-df-spinner');\n",
              "          try {\n",
              "            const charts = await google.colab.kernel.invokeFunction(\n",
              "                'suggestCharts', [key], {});\n",
              "          } catch (error) {\n",
              "            console.error('Error during call to suggestCharts:', error);\n",
              "          }\n",
              "          quickchartButtonEl.classList.remove('colab-df-spinner');\n",
              "          quickchartButtonEl.classList.add('colab-df-quickchart-complete');\n",
              "        }\n",
              "        (() => {\n",
              "          let quickchartButtonEl =\n",
              "            document.querySelector('#df-0b48fcea-0ae2-41f6-a971-6079fefed388 button');\n",
              "          quickchartButtonEl.style.display =\n",
              "            google.colab.kernel.accessAllowed ? 'block' : 'none';\n",
              "        })();\n",
              "      </script>\n",
              "    </div>\n",
              "\n",
              "    </div>\n",
              "  </div>\n"
            ],
            "application/vnd.google.colaboratory.intrinsic+json": {
              "type": "dataframe",
              "variable_name": "df_encoded",
              "summary": "{\n  \"name\": \"df_encoded\",\n  \"rows\": 1338,\n  \"fields\": [\n    {\n      \"column\": \"age\",\n      \"properties\": {\n        \"dtype\": \"number\",\n        \"std\": 14,\n        \"min\": 18,\n        \"max\": 64,\n        \"num_unique_values\": 47,\n        \"samples\": [\n          21,\n          45,\n          36\n        ],\n        \"semantic_type\": \"\",\n        \"description\": \"\"\n      }\n    },\n    {\n      \"column\": \"bmi\",\n      \"properties\": {\n        \"dtype\": \"number\",\n        \"std\": 6.098186911679017,\n        \"min\": 15.96,\n        \"max\": 53.13,\n        \"num_unique_values\": 548,\n        \"samples\": [\n          23.18,\n          26.885,\n          29.26\n        ],\n        \"semantic_type\": \"\",\n        \"description\": \"\"\n      }\n    },\n    {\n      \"column\": \"children\",\n      \"properties\": {\n        \"dtype\": \"number\",\n        \"std\": 1,\n        \"min\": 0,\n        \"max\": 5,\n        \"num_unique_values\": 6,\n        \"samples\": [\n          0,\n          1,\n          4\n        ],\n        \"semantic_type\": \"\",\n        \"description\": \"\"\n      }\n    },\n    {\n      \"column\": \"charges\",\n      \"properties\": {\n        \"dtype\": \"number\",\n        \"std\": 12110.011236693994,\n        \"min\": 1121.8739,\n        \"max\": 63770.42801,\n        \"num_unique_values\": 1337,\n        \"samples\": [\n          8688.85885,\n          5708.867,\n          11436.73815\n        ],\n        \"semantic_type\": \"\",\n        \"description\": \"\"\n      }\n    },\n    {\n      \"column\": \"sex_male\",\n      \"properties\": {\n        \"dtype\": \"boolean\",\n        \"num_unique_values\": 2,\n        \"samples\": [\n          true,\n          false\n        ],\n        \"semantic_type\": \"\",\n        \"description\": \"\"\n      }\n    },\n    {\n      \"column\": \"smoker_yes\",\n      \"properties\": {\n        \"dtype\": \"boolean\",\n        \"num_unique_values\": 2,\n        \"samples\": [\n          false,\n          true\n        ],\n        \"semantic_type\": \"\",\n        \"description\": \"\"\n      }\n    },\n    {\n      \"column\": \"region_northwest\",\n      \"properties\": {\n        \"dtype\": \"boolean\",\n        \"num_unique_values\": 2,\n        \"samples\": [\n          true,\n          false\n        ],\n        \"semantic_type\": \"\",\n        \"description\": \"\"\n      }\n    },\n    {\n      \"column\": \"region_southeast\",\n      \"properties\": {\n        \"dtype\": \"boolean\",\n        \"num_unique_values\": 2,\n        \"samples\": [\n          true,\n          false\n        ],\n        \"semantic_type\": \"\",\n        \"description\": \"\"\n      }\n    },\n    {\n      \"column\": \"region_southwest\",\n      \"properties\": {\n        \"dtype\": \"boolean\",\n        \"num_unique_values\": 2,\n        \"samples\": [\n          false,\n          true\n        ],\n        \"semantic_type\": \"\",\n        \"description\": \"\"\n      }\n    }\n  ]\n}"
            }
          },
          "metadata": {},
          "execution_count": 94
        }
      ]
    },
    {
      "cell_type": "markdown",
      "source": [
        "##Feature and Target separation"
      ],
      "metadata": {
        "id": "JGBwtt4TIjJp"
      }
    },
    {
      "cell_type": "code",
      "source": [
        "X=df_encoded.drop('charges',axis=1)\n",
        "y=df_encoded['charges']"
      ],
      "metadata": {
        "id": "nV2m2e8-JzRx"
      },
      "execution_count": null,
      "outputs": []
    },
    {
      "cell_type": "code",
      "source": [
        "from sklearn.preprocessing import StandardScaler\n",
        "scaler=StandardScaler()\n",
        "X_scaled=scaler.fit_transform(X)\n"
      ],
      "metadata": {
        "id": "2PfgE7K7HPZh"
      },
      "execution_count": null,
      "outputs": []
    },
    {
      "cell_type": "markdown",
      "source": [
        "##Train-Test split"
      ],
      "metadata": {
        "id": "bzGuDcrTJqwL"
      }
    },
    {
      "cell_type": "code",
      "source": [
        "from sklearn.model_selection import train_test_split\n",
        "X_train,X_test,y_train,y_test=train_test_split(X_scaled,y,test_size=0.2,random_state=42)"
      ],
      "metadata": {
        "id": "m4NGaEooJuGo"
      },
      "execution_count": null,
      "outputs": []
    },
    {
      "cell_type": "markdown",
      "source": [
        "##Train Linear Regression Model"
      ],
      "metadata": {
        "id": "lG41n1mhMn9K"
      }
    },
    {
      "cell_type": "code",
      "source": [
        "from sklearn.linear_model import LinearRegression\n",
        "model=LinearRegression()\n",
        "model.fit(X_train,y_train)"
      ],
      "metadata": {
        "colab": {
          "base_uri": "https://localhost:8080/",
          "height": 80
        },
        "id": "rCsmHxgpMt0y",
        "outputId": "347b5b82-be22-4c57-a6d9-a1bb079361bb"
      },
      "execution_count": null,
      "outputs": [
        {
          "output_type": "execute_result",
          "data": {
            "text/plain": [
              "LinearRegression()"
            ],
            "text/html": [
              "<style>#sk-container-id-1 {\n",
              "  /* Definition of color scheme common for light and dark mode */\n",
              "  --sklearn-color-text: #000;\n",
              "  --sklearn-color-text-muted: #666;\n",
              "  --sklearn-color-line: gray;\n",
              "  /* Definition of color scheme for unfitted estimators */\n",
              "  --sklearn-color-unfitted-level-0: #fff5e6;\n",
              "  --sklearn-color-unfitted-level-1: #f6e4d2;\n",
              "  --sklearn-color-unfitted-level-2: #ffe0b3;\n",
              "  --sklearn-color-unfitted-level-3: chocolate;\n",
              "  /* Definition of color scheme for fitted estimators */\n",
              "  --sklearn-color-fitted-level-0: #f0f8ff;\n",
              "  --sklearn-color-fitted-level-1: #d4ebff;\n",
              "  --sklearn-color-fitted-level-2: #b3dbfd;\n",
              "  --sklearn-color-fitted-level-3: cornflowerblue;\n",
              "\n",
              "  /* Specific color for light theme */\n",
              "  --sklearn-color-text-on-default-background: var(--sg-text-color, var(--theme-code-foreground, var(--jp-content-font-color1, black)));\n",
              "  --sklearn-color-background: var(--sg-background-color, var(--theme-background, var(--jp-layout-color0, white)));\n",
              "  --sklearn-color-border-box: var(--sg-text-color, var(--theme-code-foreground, var(--jp-content-font-color1, black)));\n",
              "  --sklearn-color-icon: #696969;\n",
              "\n",
              "  @media (prefers-color-scheme: dark) {\n",
              "    /* Redefinition of color scheme for dark theme */\n",
              "    --sklearn-color-text-on-default-background: var(--sg-text-color, var(--theme-code-foreground, var(--jp-content-font-color1, white)));\n",
              "    --sklearn-color-background: var(--sg-background-color, var(--theme-background, var(--jp-layout-color0, #111)));\n",
              "    --sklearn-color-border-box: var(--sg-text-color, var(--theme-code-foreground, var(--jp-content-font-color1, white)));\n",
              "    --sklearn-color-icon: #878787;\n",
              "  }\n",
              "}\n",
              "\n",
              "#sk-container-id-1 {\n",
              "  color: var(--sklearn-color-text);\n",
              "}\n",
              "\n",
              "#sk-container-id-1 pre {\n",
              "  padding: 0;\n",
              "}\n",
              "\n",
              "#sk-container-id-1 input.sk-hidden--visually {\n",
              "  border: 0;\n",
              "  clip: rect(1px 1px 1px 1px);\n",
              "  clip: rect(1px, 1px, 1px, 1px);\n",
              "  height: 1px;\n",
              "  margin: -1px;\n",
              "  overflow: hidden;\n",
              "  padding: 0;\n",
              "  position: absolute;\n",
              "  width: 1px;\n",
              "}\n",
              "\n",
              "#sk-container-id-1 div.sk-dashed-wrapped {\n",
              "  border: 1px dashed var(--sklearn-color-line);\n",
              "  margin: 0 0.4em 0.5em 0.4em;\n",
              "  box-sizing: border-box;\n",
              "  padding-bottom: 0.4em;\n",
              "  background-color: var(--sklearn-color-background);\n",
              "}\n",
              "\n",
              "#sk-container-id-1 div.sk-container {\n",
              "  /* jupyter's `normalize.less` sets `[hidden] { display: none; }`\n",
              "     but bootstrap.min.css set `[hidden] { display: none !important; }`\n",
              "     so we also need the `!important` here to be able to override the\n",
              "     default hidden behavior on the sphinx rendered scikit-learn.org.\n",
              "     See: https://github.com/scikit-learn/scikit-learn/issues/21755 */\n",
              "  display: inline-block !important;\n",
              "  position: relative;\n",
              "}\n",
              "\n",
              "#sk-container-id-1 div.sk-text-repr-fallback {\n",
              "  display: none;\n",
              "}\n",
              "\n",
              "div.sk-parallel-item,\n",
              "div.sk-serial,\n",
              "div.sk-item {\n",
              "  /* draw centered vertical line to link estimators */\n",
              "  background-image: linear-gradient(var(--sklearn-color-text-on-default-background), var(--sklearn-color-text-on-default-background));\n",
              "  background-size: 2px 100%;\n",
              "  background-repeat: no-repeat;\n",
              "  background-position: center center;\n",
              "}\n",
              "\n",
              "/* Parallel-specific style estimator block */\n",
              "\n",
              "#sk-container-id-1 div.sk-parallel-item::after {\n",
              "  content: \"\";\n",
              "  width: 100%;\n",
              "  border-bottom: 2px solid var(--sklearn-color-text-on-default-background);\n",
              "  flex-grow: 1;\n",
              "}\n",
              "\n",
              "#sk-container-id-1 div.sk-parallel {\n",
              "  display: flex;\n",
              "  align-items: stretch;\n",
              "  justify-content: center;\n",
              "  background-color: var(--sklearn-color-background);\n",
              "  position: relative;\n",
              "}\n",
              "\n",
              "#sk-container-id-1 div.sk-parallel-item {\n",
              "  display: flex;\n",
              "  flex-direction: column;\n",
              "}\n",
              "\n",
              "#sk-container-id-1 div.sk-parallel-item:first-child::after {\n",
              "  align-self: flex-end;\n",
              "  width: 50%;\n",
              "}\n",
              "\n",
              "#sk-container-id-1 div.sk-parallel-item:last-child::after {\n",
              "  align-self: flex-start;\n",
              "  width: 50%;\n",
              "}\n",
              "\n",
              "#sk-container-id-1 div.sk-parallel-item:only-child::after {\n",
              "  width: 0;\n",
              "}\n",
              "\n",
              "/* Serial-specific style estimator block */\n",
              "\n",
              "#sk-container-id-1 div.sk-serial {\n",
              "  display: flex;\n",
              "  flex-direction: column;\n",
              "  align-items: center;\n",
              "  background-color: var(--sklearn-color-background);\n",
              "  padding-right: 1em;\n",
              "  padding-left: 1em;\n",
              "}\n",
              "\n",
              "\n",
              "/* Toggleable style: style used for estimator/Pipeline/ColumnTransformer box that is\n",
              "clickable and can be expanded/collapsed.\n",
              "- Pipeline and ColumnTransformer use this feature and define the default style\n",
              "- Estimators will overwrite some part of the style using the `sk-estimator` class\n",
              "*/\n",
              "\n",
              "/* Pipeline and ColumnTransformer style (default) */\n",
              "\n",
              "#sk-container-id-1 div.sk-toggleable {\n",
              "  /* Default theme specific background. It is overwritten whether we have a\n",
              "  specific estimator or a Pipeline/ColumnTransformer */\n",
              "  background-color: var(--sklearn-color-background);\n",
              "}\n",
              "\n",
              "/* Toggleable label */\n",
              "#sk-container-id-1 label.sk-toggleable__label {\n",
              "  cursor: pointer;\n",
              "  display: flex;\n",
              "  width: 100%;\n",
              "  margin-bottom: 0;\n",
              "  padding: 0.5em;\n",
              "  box-sizing: border-box;\n",
              "  text-align: center;\n",
              "  align-items: start;\n",
              "  justify-content: space-between;\n",
              "  gap: 0.5em;\n",
              "}\n",
              "\n",
              "#sk-container-id-1 label.sk-toggleable__label .caption {\n",
              "  font-size: 0.6rem;\n",
              "  font-weight: lighter;\n",
              "  color: var(--sklearn-color-text-muted);\n",
              "}\n",
              "\n",
              "#sk-container-id-1 label.sk-toggleable__label-arrow:before {\n",
              "  /* Arrow on the left of the label */\n",
              "  content: \"▸\";\n",
              "  float: left;\n",
              "  margin-right: 0.25em;\n",
              "  color: var(--sklearn-color-icon);\n",
              "}\n",
              "\n",
              "#sk-container-id-1 label.sk-toggleable__label-arrow:hover:before {\n",
              "  color: var(--sklearn-color-text);\n",
              "}\n",
              "\n",
              "/* Toggleable content - dropdown */\n",
              "\n",
              "#sk-container-id-1 div.sk-toggleable__content {\n",
              "  max-height: 0;\n",
              "  max-width: 0;\n",
              "  overflow: hidden;\n",
              "  text-align: left;\n",
              "  /* unfitted */\n",
              "  background-color: var(--sklearn-color-unfitted-level-0);\n",
              "}\n",
              "\n",
              "#sk-container-id-1 div.sk-toggleable__content.fitted {\n",
              "  /* fitted */\n",
              "  background-color: var(--sklearn-color-fitted-level-0);\n",
              "}\n",
              "\n",
              "#sk-container-id-1 div.sk-toggleable__content pre {\n",
              "  margin: 0.2em;\n",
              "  border-radius: 0.25em;\n",
              "  color: var(--sklearn-color-text);\n",
              "  /* unfitted */\n",
              "  background-color: var(--sklearn-color-unfitted-level-0);\n",
              "}\n",
              "\n",
              "#sk-container-id-1 div.sk-toggleable__content.fitted pre {\n",
              "  /* unfitted */\n",
              "  background-color: var(--sklearn-color-fitted-level-0);\n",
              "}\n",
              "\n",
              "#sk-container-id-1 input.sk-toggleable__control:checked~div.sk-toggleable__content {\n",
              "  /* Expand drop-down */\n",
              "  max-height: 200px;\n",
              "  max-width: 100%;\n",
              "  overflow: auto;\n",
              "}\n",
              "\n",
              "#sk-container-id-1 input.sk-toggleable__control:checked~label.sk-toggleable__label-arrow:before {\n",
              "  content: \"▾\";\n",
              "}\n",
              "\n",
              "/* Pipeline/ColumnTransformer-specific style */\n",
              "\n",
              "#sk-container-id-1 div.sk-label input.sk-toggleable__control:checked~label.sk-toggleable__label {\n",
              "  color: var(--sklearn-color-text);\n",
              "  background-color: var(--sklearn-color-unfitted-level-2);\n",
              "}\n",
              "\n",
              "#sk-container-id-1 div.sk-label.fitted input.sk-toggleable__control:checked~label.sk-toggleable__label {\n",
              "  background-color: var(--sklearn-color-fitted-level-2);\n",
              "}\n",
              "\n",
              "/* Estimator-specific style */\n",
              "\n",
              "/* Colorize estimator box */\n",
              "#sk-container-id-1 div.sk-estimator input.sk-toggleable__control:checked~label.sk-toggleable__label {\n",
              "  /* unfitted */\n",
              "  background-color: var(--sklearn-color-unfitted-level-2);\n",
              "}\n",
              "\n",
              "#sk-container-id-1 div.sk-estimator.fitted input.sk-toggleable__control:checked~label.sk-toggleable__label {\n",
              "  /* fitted */\n",
              "  background-color: var(--sklearn-color-fitted-level-2);\n",
              "}\n",
              "\n",
              "#sk-container-id-1 div.sk-label label.sk-toggleable__label,\n",
              "#sk-container-id-1 div.sk-label label {\n",
              "  /* The background is the default theme color */\n",
              "  color: var(--sklearn-color-text-on-default-background);\n",
              "}\n",
              "\n",
              "/* On hover, darken the color of the background */\n",
              "#sk-container-id-1 div.sk-label:hover label.sk-toggleable__label {\n",
              "  color: var(--sklearn-color-text);\n",
              "  background-color: var(--sklearn-color-unfitted-level-2);\n",
              "}\n",
              "\n",
              "/* Label box, darken color on hover, fitted */\n",
              "#sk-container-id-1 div.sk-label.fitted:hover label.sk-toggleable__label.fitted {\n",
              "  color: var(--sklearn-color-text);\n",
              "  background-color: var(--sklearn-color-fitted-level-2);\n",
              "}\n",
              "\n",
              "/* Estimator label */\n",
              "\n",
              "#sk-container-id-1 div.sk-label label {\n",
              "  font-family: monospace;\n",
              "  font-weight: bold;\n",
              "  display: inline-block;\n",
              "  line-height: 1.2em;\n",
              "}\n",
              "\n",
              "#sk-container-id-1 div.sk-label-container {\n",
              "  text-align: center;\n",
              "}\n",
              "\n",
              "/* Estimator-specific */\n",
              "#sk-container-id-1 div.sk-estimator {\n",
              "  font-family: monospace;\n",
              "  border: 1px dotted var(--sklearn-color-border-box);\n",
              "  border-radius: 0.25em;\n",
              "  box-sizing: border-box;\n",
              "  margin-bottom: 0.5em;\n",
              "  /* unfitted */\n",
              "  background-color: var(--sklearn-color-unfitted-level-0);\n",
              "}\n",
              "\n",
              "#sk-container-id-1 div.sk-estimator.fitted {\n",
              "  /* fitted */\n",
              "  background-color: var(--sklearn-color-fitted-level-0);\n",
              "}\n",
              "\n",
              "/* on hover */\n",
              "#sk-container-id-1 div.sk-estimator:hover {\n",
              "  /* unfitted */\n",
              "  background-color: var(--sklearn-color-unfitted-level-2);\n",
              "}\n",
              "\n",
              "#sk-container-id-1 div.sk-estimator.fitted:hover {\n",
              "  /* fitted */\n",
              "  background-color: var(--sklearn-color-fitted-level-2);\n",
              "}\n",
              "\n",
              "/* Specification for estimator info (e.g. \"i\" and \"?\") */\n",
              "\n",
              "/* Common style for \"i\" and \"?\" */\n",
              "\n",
              ".sk-estimator-doc-link,\n",
              "a:link.sk-estimator-doc-link,\n",
              "a:visited.sk-estimator-doc-link {\n",
              "  float: right;\n",
              "  font-size: smaller;\n",
              "  line-height: 1em;\n",
              "  font-family: monospace;\n",
              "  background-color: var(--sklearn-color-background);\n",
              "  border-radius: 1em;\n",
              "  height: 1em;\n",
              "  width: 1em;\n",
              "  text-decoration: none !important;\n",
              "  margin-left: 0.5em;\n",
              "  text-align: center;\n",
              "  /* unfitted */\n",
              "  border: var(--sklearn-color-unfitted-level-1) 1pt solid;\n",
              "  color: var(--sklearn-color-unfitted-level-1);\n",
              "}\n",
              "\n",
              ".sk-estimator-doc-link.fitted,\n",
              "a:link.sk-estimator-doc-link.fitted,\n",
              "a:visited.sk-estimator-doc-link.fitted {\n",
              "  /* fitted */\n",
              "  border: var(--sklearn-color-fitted-level-1) 1pt solid;\n",
              "  color: var(--sklearn-color-fitted-level-1);\n",
              "}\n",
              "\n",
              "/* On hover */\n",
              "div.sk-estimator:hover .sk-estimator-doc-link:hover,\n",
              ".sk-estimator-doc-link:hover,\n",
              "div.sk-label-container:hover .sk-estimator-doc-link:hover,\n",
              ".sk-estimator-doc-link:hover {\n",
              "  /* unfitted */\n",
              "  background-color: var(--sklearn-color-unfitted-level-3);\n",
              "  color: var(--sklearn-color-background);\n",
              "  text-decoration: none;\n",
              "}\n",
              "\n",
              "div.sk-estimator.fitted:hover .sk-estimator-doc-link.fitted:hover,\n",
              ".sk-estimator-doc-link.fitted:hover,\n",
              "div.sk-label-container:hover .sk-estimator-doc-link.fitted:hover,\n",
              ".sk-estimator-doc-link.fitted:hover {\n",
              "  /* fitted */\n",
              "  background-color: var(--sklearn-color-fitted-level-3);\n",
              "  color: var(--sklearn-color-background);\n",
              "  text-decoration: none;\n",
              "}\n",
              "\n",
              "/* Span, style for the box shown on hovering the info icon */\n",
              ".sk-estimator-doc-link span {\n",
              "  display: none;\n",
              "  z-index: 9999;\n",
              "  position: relative;\n",
              "  font-weight: normal;\n",
              "  right: .2ex;\n",
              "  padding: .5ex;\n",
              "  margin: .5ex;\n",
              "  width: min-content;\n",
              "  min-width: 20ex;\n",
              "  max-width: 50ex;\n",
              "  color: var(--sklearn-color-text);\n",
              "  box-shadow: 2pt 2pt 4pt #999;\n",
              "  /* unfitted */\n",
              "  background: var(--sklearn-color-unfitted-level-0);\n",
              "  border: .5pt solid var(--sklearn-color-unfitted-level-3);\n",
              "}\n",
              "\n",
              ".sk-estimator-doc-link.fitted span {\n",
              "  /* fitted */\n",
              "  background: var(--sklearn-color-fitted-level-0);\n",
              "  border: var(--sklearn-color-fitted-level-3);\n",
              "}\n",
              "\n",
              ".sk-estimator-doc-link:hover span {\n",
              "  display: block;\n",
              "}\n",
              "\n",
              "/* \"?\"-specific style due to the `<a>` HTML tag */\n",
              "\n",
              "#sk-container-id-1 a.estimator_doc_link {\n",
              "  float: right;\n",
              "  font-size: 1rem;\n",
              "  line-height: 1em;\n",
              "  font-family: monospace;\n",
              "  background-color: var(--sklearn-color-background);\n",
              "  border-radius: 1rem;\n",
              "  height: 1rem;\n",
              "  width: 1rem;\n",
              "  text-decoration: none;\n",
              "  /* unfitted */\n",
              "  color: var(--sklearn-color-unfitted-level-1);\n",
              "  border: var(--sklearn-color-unfitted-level-1) 1pt solid;\n",
              "}\n",
              "\n",
              "#sk-container-id-1 a.estimator_doc_link.fitted {\n",
              "  /* fitted */\n",
              "  border: var(--sklearn-color-fitted-level-1) 1pt solid;\n",
              "  color: var(--sklearn-color-fitted-level-1);\n",
              "}\n",
              "\n",
              "/* On hover */\n",
              "#sk-container-id-1 a.estimator_doc_link:hover {\n",
              "  /* unfitted */\n",
              "  background-color: var(--sklearn-color-unfitted-level-3);\n",
              "  color: var(--sklearn-color-background);\n",
              "  text-decoration: none;\n",
              "}\n",
              "\n",
              "#sk-container-id-1 a.estimator_doc_link.fitted:hover {\n",
              "  /* fitted */\n",
              "  background-color: var(--sklearn-color-fitted-level-3);\n",
              "}\n",
              "</style><div id=\"sk-container-id-1\" class=\"sk-top-container\"><div class=\"sk-text-repr-fallback\"><pre>LinearRegression()</pre><b>In a Jupyter environment, please rerun this cell to show the HTML representation or trust the notebook. <br />On GitHub, the HTML representation is unable to render, please try loading this page with nbviewer.org.</b></div><div class=\"sk-container\" hidden><div class=\"sk-item\"><div class=\"sk-estimator fitted sk-toggleable\"><input class=\"sk-toggleable__control sk-hidden--visually\" id=\"sk-estimator-id-1\" type=\"checkbox\" checked><label for=\"sk-estimator-id-1\" class=\"sk-toggleable__label fitted sk-toggleable__label-arrow\"><div><div>LinearRegression</div></div><div><a class=\"sk-estimator-doc-link fitted\" rel=\"noreferrer\" target=\"_blank\" href=\"https://scikit-learn.org/1.6/modules/generated/sklearn.linear_model.LinearRegression.html\">?<span>Documentation for LinearRegression</span></a><span class=\"sk-estimator-doc-link fitted\">i<span>Fitted</span></span></div></label><div class=\"sk-toggleable__content fitted\"><pre>LinearRegression()</pre></div> </div></div></div></div>"
            ]
          },
          "metadata": {},
          "execution_count": 103
        }
      ]
    },
    {
      "cell_type": "markdown",
      "source": [
        "##Make Predictions"
      ],
      "metadata": {
        "id": "MfDSlDtwNx_q"
      }
    },
    {
      "cell_type": "code",
      "source": [
        "y_pred=model.predict(X_test)"
      ],
      "metadata": {
        "id": "SgKnWO6-N1ox"
      },
      "execution_count": null,
      "outputs": []
    },
    {
      "cell_type": "markdown",
      "source": [
        "##Evaluate Models"
      ],
      "metadata": {
        "id": "xp1HbltTOg5x"
      }
    },
    {
      "cell_type": "code",
      "source": [
        "from sklearn.metrics import mean_squared_error,r2_score\n",
        "import numpy as np\n",
        "mse=mean_squared_error(y_test,y_pred)\n",
        "rmse=np.sqrt(mse)\n",
        "\n",
        "print(f\"Mean Squared Error: {mse}\")\n",
        "print(f\"Root Mean Squared Error: {rmse}\")\n",
        "print(\"r2 score:\" ,r2_score(y_test,y_pred))"
      ],
      "metadata": {
        "colab": {
          "base_uri": "https://localhost:8080/"
        },
        "id": "LNP2MYoiOkxg",
        "outputId": "d9148693-a320-4413-f108-156c03432f02"
      },
      "execution_count": null,
      "outputs": [
        {
          "output_type": "stream",
          "name": "stdout",
          "text": [
            "Mean Squared Error: 33596915.85136148\n",
            "Root Mean Squared Error: 5796.284659276275\n",
            "r2 score: 0.7835929767120722\n"
          ]
        }
      ]
    },
    {
      "cell_type": "markdown",
      "source": [
        "##actual  And Predicted Charges"
      ],
      "metadata": {
        "id": "f7xVgnQHO0x5"
      }
    },
    {
      "cell_type": "code",
      "source": [
        "import matplotlib.pyplot as plt\n",
        "plt.scatter(y_test,y_pred,color='blue')\n",
        "plt.plot([y_test.min(),y_test.max()],[y_test.min(),y_test.max()],'r--')\n",
        "plt.xlabel(\"Actual Charges\")\n",
        "plt.ylabel(\"Predicted Charges\")\n",
        "plt.title(\"Actual vs Predicted Charges\")\n",
        "plt.grid(True)\n",
        "plt.show()"
      ],
      "metadata": {
        "colab": {
          "base_uri": "https://localhost:8080/",
          "height": 472
        },
        "id": "ON_FoDfGPD7J",
        "outputId": "e9470451-cad9-4469-a9b4-d3ee51d639b7"
      },
      "execution_count": null,
      "outputs": [
        {
          "output_type": "display_data",
          "data": {
            "text/plain": [
              "<Figure size 640x480 with 1 Axes>"
            ],
            "image/png": "[encoded data removed]"
          },
          "metadata": {}
        }
      ]
    },
    {
      "cell_type": "markdown",
      "source": [
        "#"
      ],
      "metadata": {
        "id": "jblIh0v_U9_T"
      }
    }
  ]
}